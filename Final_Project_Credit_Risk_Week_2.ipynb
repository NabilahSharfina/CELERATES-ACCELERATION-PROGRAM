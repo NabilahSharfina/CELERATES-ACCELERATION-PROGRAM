{
  "cells": [
    {
      "cell_type": "markdown",
      "metadata": {
        "id": "view-in-github",
        "colab_type": "text"
      },
      "source": [
        "<a href=\"https://colab.research.google.com/github/NabilahSharfina/CELERATES-ACCELERATION-PROGRAM/blob/main/Final_Project_Credit_Risk_Week_2.ipynb\" target=\"_parent\"><img src=\"https://colab.research.google.com/assets/colab-badge.svg\" alt=\"Open In Colab\"/></a>"
      ]
    },
    {
      "cell_type": "markdown",
      "source": [
        "<h1><center><bold>FINAL PROJECT</bold></center><h1>\n",
        "<h1><center><bold>BIG DATA AND BUSINESS INTELLIGENCE</bold></center><h1>\n",
        "<h1><center><bold>KAMPUS MERDEKA</bold></center><h1>\n",
        "<h2><center><bold>CREDIT RISK ANALYSIS</bold></center><h2>\n",
        "\n",
        "---\n",
        "\n"
      ],
      "metadata": {
        "id": "NzhyuDaw1P8p"
      }
    },
    {
      "cell_type": "markdown",
      "metadata": {
        "id": "kNOnzqtyX28K"
      },
      "source": [
        "# **WEEK 2 - PREDICT DATA & MODELLING**"
      ]
    },
    {
      "cell_type": "markdown",
      "metadata": {
        "id": "hMllNyv1k-Ol"
      },
      "source": [
        "## Connect Google Drive"
      ]
    },
    {
      "cell_type": "code",
      "execution_count": 2,
      "metadata": {
        "id": "oxgQKZQM5v2a",
        "colab": {
          "base_uri": "https://localhost:8080/"
        },
        "outputId": "1a8ca734-cf93-44d9-f08e-e3bd9286b6d4"
      },
      "outputs": [
        {
          "output_type": "stream",
          "name": "stdout",
          "text": [
            "Mounted at /content/drive\n"
          ]
        }
      ],
      "source": [
        "# Load data from google drive\n",
        "from google.colab import drive\n",
        "drive.mount('/content/drive')"
      ]
    },
    {
      "cell_type": "markdown",
      "metadata": {
        "id": "xrQRQBkPk1sg"
      },
      "source": [
        "## Import Library"
      ]
    },
    {
      "cell_type": "code",
      "execution_count": 3,
      "metadata": {
        "id": "2OlweU5Q7MT8"
      },
      "outputs": [],
      "source": [
        "import math\n",
        "from collections import Counter, defaultdict\n",
        "from pprint import pprint\n",
        "\n",
        "import pandas as pd # for handling and cleaning the dataset\n",
        "import numpy as np # for performing mathematical calculations behind ML algorithms\n",
        "import matplotlib.pyplot as plt # for visualization\n",
        "import seaborn as sns # for visualization\n",
        "\n",
        "from sklearn.model_selection import train_test_split\n",
        "from sklearn.pipeline import Pipeline\n",
        "\n",
        "from imblearn.over_sampling import SMOTE\n",
        "from collections import Counter\n",
        "\n",
        "from sklearn.linear_model import LogisticRegression\n",
        "from sklearn.svm import SVC\n",
        "from sklearn.neighbors import KNeighborsClassifier\n",
        "from sklearn.tree import DecisionTreeClassifier\n",
        "\n",
        "import sklearn.metrics as metrics\n",
        "from sklearn.metrics import confusion_matrix\n",
        "from sklearn.metrics import ConfusionMatrixDisplay\n",
        "from sklearn.metrics import classification_report"
      ]
    },
    {
      "cell_type": "markdown",
      "source": [
        "## 2.1 EDA"
      ],
      "metadata": {
        "id": "6-HyZDpEjln5"
      }
    },
    {
      "cell_type": "code",
      "source": [
        "df = pd.read_csv('/content/drive/MyDrive/KAMPUS MERDEKA /Celerates Acceleration Program /FINAL PROJECT/Dataset/Demo/credit_risk.csv')\n",
        "df"
      ],
      "metadata": {
        "colab": {
          "base_uri": "https://localhost:8080/",
          "height": 574
        },
        "id": "-ShITlRIipLB",
        "outputId": "656b52fa-0fe0-4e32-b012-23a0c98bf505"
      },
      "execution_count": 4,
      "outputs": [
        {
          "output_type": "execute_result",
          "data": {
            "text/plain": [
              "       Unnamed: 0  Id_customer JenisKelamin KepemilikanMobil  \\\n",
              "0               0      5008808    Perempuan            Tidak   \n",
              "1               1      5008809    Perempuan            Tidak   \n",
              "2               2      5008810    Perempuan            Tidak   \n",
              "3               3      5008811    Perempuan            Tidak   \n",
              "4               4      5008812    Perempuan            Tidak   \n",
              "...           ...          ...          ...              ...   \n",
              "36252       36252      5149158    Laki-laki               Ya   \n",
              "36253       36253      5149190    Laki-laki               Ya   \n",
              "36254       36254      5149729    Laki-laki               Ya   \n",
              "36255       36255      5149828    Laki-laki               Ya   \n",
              "36256       36256      5150337    Laki-laki            Tidak   \n",
              "\n",
              "      KepemilikanProperti  JmlAnak  Pendapatan      TipePendapatan  \\\n",
              "0                      Ya        0    270000.0  Asosiasi komersial   \n",
              "1                      Ya        0    270000.0  Asosiasi komersial   \n",
              "2                      Ya        0    270000.0  Asosiasi komersial   \n",
              "3                      Ya        0    270000.0  Asosiasi komersial   \n",
              "4                      Ya        0    283500.0           Pensioner   \n",
              "...                   ...      ...         ...                 ...   \n",
              "36252                  Ya        0    247500.0             Bekerja   \n",
              "36253               Tidak        1    450000.0             Bekerja   \n",
              "36254                  Ya        0     90000.0             Bekerja   \n",
              "36255                  Ya        0    315000.0             Bekerja   \n",
              "36256                  Ya        0    112500.0             Bekerja   \n",
              "\n",
              "      TingkatPendidikan StatusKeluarga  ... FlagMobile  FlagWorkPhone  \\\n",
              "0              Graduate  Belum Menikah  ...          1              0   \n",
              "1              Graduate  Belum Menikah  ...          1              0   \n",
              "2              Graduate  Belum Menikah  ...          1              0   \n",
              "3              Graduate  Belum Menikah  ...          1              0   \n",
              "4         Post Graduate          Cerai  ...          1              0   \n",
              "...                 ...            ...  ...        ...            ...   \n",
              "36252          Graduate        Menikah  ...          1              1   \n",
              "36253     Post Graduate        Menikah  ...          1              0   \n",
              "36254          Graduate        Menikah  ...          1              0   \n",
              "36255          Graduate        Menikah  ...          1              0   \n",
              "36256          Graduate  Belum Menikah  ...          1              0   \n",
              "\n",
              "       FlagPhone  Email  JmlAnggotaKeluarga  Usia  Pengalaman  Overdue  \\\n",
              "0              1      1                   1    52           8        0   \n",
              "1              1      1                   1    52           8       -1   \n",
              "2              1      1                   1    52           8        0   \n",
              "3              1      1                   1    52           8        0   \n",
              "4              0      0                   1    62        1001        0   \n",
              "...          ...    ...                 ...   ...         ...      ...   \n",
              "36252          0      0                   2    30          10        2   \n",
              "36253          1      1                   3    27           1        5   \n",
              "36254          0      0                   2    52           5        2   \n",
              "36255          0      0                   2    48           7        5   \n",
              "36256          0      0                   1    25           3        2   \n",
              "\n",
              "       CreditStatus  KategoriUsia  \n",
              "0                 0        lansia  \n",
              "1                 0        lansia  \n",
              "2                 0        lansia  \n",
              "3                 0        lansia  \n",
              "4                 0        lansia  \n",
              "...             ...           ...  \n",
              "36252             1        dewasa  \n",
              "36253             1        dewasa  \n",
              "36254             1        lansia  \n",
              "36255             1        lansia  \n",
              "36256             1        remaja  \n",
              "\n",
              "[36257 rows x 21 columns]"
            ],
            "text/html": [
              "\n",
              "  <div id=\"df-ecc49de6-629e-45b1-a67d-8fb440dd83cd\">\n",
              "    <div class=\"colab-df-container\">\n",
              "      <div>\n",
              "<style scoped>\n",
              "    .dataframe tbody tr th:only-of-type {\n",
              "        vertical-align: middle;\n",
              "    }\n",
              "\n",
              "    .dataframe tbody tr th {\n",
              "        vertical-align: top;\n",
              "    }\n",
              "\n",
              "    .dataframe thead th {\n",
              "        text-align: right;\n",
              "    }\n",
              "</style>\n",
              "<table border=\"1\" class=\"dataframe\">\n",
              "  <thead>\n",
              "    <tr style=\"text-align: right;\">\n",
              "      <th></th>\n",
              "      <th>Unnamed: 0</th>\n",
              "      <th>Id_customer</th>\n",
              "      <th>JenisKelamin</th>\n",
              "      <th>KepemilikanMobil</th>\n",
              "      <th>KepemilikanProperti</th>\n",
              "      <th>JmlAnak</th>\n",
              "      <th>Pendapatan</th>\n",
              "      <th>TipePendapatan</th>\n",
              "      <th>TingkatPendidikan</th>\n",
              "      <th>StatusKeluarga</th>\n",
              "      <th>...</th>\n",
              "      <th>FlagMobile</th>\n",
              "      <th>FlagWorkPhone</th>\n",
              "      <th>FlagPhone</th>\n",
              "      <th>Email</th>\n",
              "      <th>JmlAnggotaKeluarga</th>\n",
              "      <th>Usia</th>\n",
              "      <th>Pengalaman</th>\n",
              "      <th>Overdue</th>\n",
              "      <th>CreditStatus</th>\n",
              "      <th>KategoriUsia</th>\n",
              "    </tr>\n",
              "  </thead>\n",
              "  <tbody>\n",
              "    <tr>\n",
              "      <th>0</th>\n",
              "      <td>0</td>\n",
              "      <td>5008808</td>\n",
              "      <td>Perempuan</td>\n",
              "      <td>Tidak</td>\n",
              "      <td>Ya</td>\n",
              "      <td>0</td>\n",
              "      <td>270000.0</td>\n",
              "      <td>Asosiasi komersial</td>\n",
              "      <td>Graduate</td>\n",
              "      <td>Belum Menikah</td>\n",
              "      <td>...</td>\n",
              "      <td>1</td>\n",
              "      <td>0</td>\n",
              "      <td>1</td>\n",
              "      <td>1</td>\n",
              "      <td>1</td>\n",
              "      <td>52</td>\n",
              "      <td>8</td>\n",
              "      <td>0</td>\n",
              "      <td>0</td>\n",
              "      <td>lansia</td>\n",
              "    </tr>\n",
              "    <tr>\n",
              "      <th>1</th>\n",
              "      <td>1</td>\n",
              "      <td>5008809</td>\n",
              "      <td>Perempuan</td>\n",
              "      <td>Tidak</td>\n",
              "      <td>Ya</td>\n",
              "      <td>0</td>\n",
              "      <td>270000.0</td>\n",
              "      <td>Asosiasi komersial</td>\n",
              "      <td>Graduate</td>\n",
              "      <td>Belum Menikah</td>\n",
              "      <td>...</td>\n",
              "      <td>1</td>\n",
              "      <td>0</td>\n",
              "      <td>1</td>\n",
              "      <td>1</td>\n",
              "      <td>1</td>\n",
              "      <td>52</td>\n",
              "      <td>8</td>\n",
              "      <td>-1</td>\n",
              "      <td>0</td>\n",
              "      <td>lansia</td>\n",
              "    </tr>\n",
              "    <tr>\n",
              "      <th>2</th>\n",
              "      <td>2</td>\n",
              "      <td>5008810</td>\n",
              "      <td>Perempuan</td>\n",
              "      <td>Tidak</td>\n",
              "      <td>Ya</td>\n",
              "      <td>0</td>\n",
              "      <td>270000.0</td>\n",
              "      <td>Asosiasi komersial</td>\n",
              "      <td>Graduate</td>\n",
              "      <td>Belum Menikah</td>\n",
              "      <td>...</td>\n",
              "      <td>1</td>\n",
              "      <td>0</td>\n",
              "      <td>1</td>\n",
              "      <td>1</td>\n",
              "      <td>1</td>\n",
              "      <td>52</td>\n",
              "      <td>8</td>\n",
              "      <td>0</td>\n",
              "      <td>0</td>\n",
              "      <td>lansia</td>\n",
              "    </tr>\n",
              "    <tr>\n",
              "      <th>3</th>\n",
              "      <td>3</td>\n",
              "      <td>5008811</td>\n",
              "      <td>Perempuan</td>\n",
              "      <td>Tidak</td>\n",
              "      <td>Ya</td>\n",
              "      <td>0</td>\n",
              "      <td>270000.0</td>\n",
              "      <td>Asosiasi komersial</td>\n",
              "      <td>Graduate</td>\n",
              "      <td>Belum Menikah</td>\n",
              "      <td>...</td>\n",
              "      <td>1</td>\n",
              "      <td>0</td>\n",
              "      <td>1</td>\n",
              "      <td>1</td>\n",
              "      <td>1</td>\n",
              "      <td>52</td>\n",
              "      <td>8</td>\n",
              "      <td>0</td>\n",
              "      <td>0</td>\n",
              "      <td>lansia</td>\n",
              "    </tr>\n",
              "    <tr>\n",
              "      <th>4</th>\n",
              "      <td>4</td>\n",
              "      <td>5008812</td>\n",
              "      <td>Perempuan</td>\n",
              "      <td>Tidak</td>\n",
              "      <td>Ya</td>\n",
              "      <td>0</td>\n",
              "      <td>283500.0</td>\n",
              "      <td>Pensioner</td>\n",
              "      <td>Post Graduate</td>\n",
              "      <td>Cerai</td>\n",
              "      <td>...</td>\n",
              "      <td>1</td>\n",
              "      <td>0</td>\n",
              "      <td>0</td>\n",
              "      <td>0</td>\n",
              "      <td>1</td>\n",
              "      <td>62</td>\n",
              "      <td>1001</td>\n",
              "      <td>0</td>\n",
              "      <td>0</td>\n",
              "      <td>lansia</td>\n",
              "    </tr>\n",
              "    <tr>\n",
              "      <th>...</th>\n",
              "      <td>...</td>\n",
              "      <td>...</td>\n",
              "      <td>...</td>\n",
              "      <td>...</td>\n",
              "      <td>...</td>\n",
              "      <td>...</td>\n",
              "      <td>...</td>\n",
              "      <td>...</td>\n",
              "      <td>...</td>\n",
              "      <td>...</td>\n",
              "      <td>...</td>\n",
              "      <td>...</td>\n",
              "      <td>...</td>\n",
              "      <td>...</td>\n",
              "      <td>...</td>\n",
              "      <td>...</td>\n",
              "      <td>...</td>\n",
              "      <td>...</td>\n",
              "      <td>...</td>\n",
              "      <td>...</td>\n",
              "      <td>...</td>\n",
              "    </tr>\n",
              "    <tr>\n",
              "      <th>36252</th>\n",
              "      <td>36252</td>\n",
              "      <td>5149158</td>\n",
              "      <td>Laki-laki</td>\n",
              "      <td>Ya</td>\n",
              "      <td>Ya</td>\n",
              "      <td>0</td>\n",
              "      <td>247500.0</td>\n",
              "      <td>Bekerja</td>\n",
              "      <td>Graduate</td>\n",
              "      <td>Menikah</td>\n",
              "      <td>...</td>\n",
              "      <td>1</td>\n",
              "      <td>1</td>\n",
              "      <td>0</td>\n",
              "      <td>0</td>\n",
              "      <td>2</td>\n",
              "      <td>30</td>\n",
              "      <td>10</td>\n",
              "      <td>2</td>\n",
              "      <td>1</td>\n",
              "      <td>dewasa</td>\n",
              "    </tr>\n",
              "    <tr>\n",
              "      <th>36253</th>\n",
              "      <td>36253</td>\n",
              "      <td>5149190</td>\n",
              "      <td>Laki-laki</td>\n",
              "      <td>Ya</td>\n",
              "      <td>Tidak</td>\n",
              "      <td>1</td>\n",
              "      <td>450000.0</td>\n",
              "      <td>Bekerja</td>\n",
              "      <td>Post Graduate</td>\n",
              "      <td>Menikah</td>\n",
              "      <td>...</td>\n",
              "      <td>1</td>\n",
              "      <td>0</td>\n",
              "      <td>1</td>\n",
              "      <td>1</td>\n",
              "      <td>3</td>\n",
              "      <td>27</td>\n",
              "      <td>1</td>\n",
              "      <td>5</td>\n",
              "      <td>1</td>\n",
              "      <td>dewasa</td>\n",
              "    </tr>\n",
              "    <tr>\n",
              "      <th>36254</th>\n",
              "      <td>36254</td>\n",
              "      <td>5149729</td>\n",
              "      <td>Laki-laki</td>\n",
              "      <td>Ya</td>\n",
              "      <td>Ya</td>\n",
              "      <td>0</td>\n",
              "      <td>90000.0</td>\n",
              "      <td>Bekerja</td>\n",
              "      <td>Graduate</td>\n",
              "      <td>Menikah</td>\n",
              "      <td>...</td>\n",
              "      <td>1</td>\n",
              "      <td>0</td>\n",
              "      <td>0</td>\n",
              "      <td>0</td>\n",
              "      <td>2</td>\n",
              "      <td>52</td>\n",
              "      <td>5</td>\n",
              "      <td>2</td>\n",
              "      <td>1</td>\n",
              "      <td>lansia</td>\n",
              "    </tr>\n",
              "    <tr>\n",
              "      <th>36255</th>\n",
              "      <td>36255</td>\n",
              "      <td>5149828</td>\n",
              "      <td>Laki-laki</td>\n",
              "      <td>Ya</td>\n",
              "      <td>Ya</td>\n",
              "      <td>0</td>\n",
              "      <td>315000.0</td>\n",
              "      <td>Bekerja</td>\n",
              "      <td>Graduate</td>\n",
              "      <td>Menikah</td>\n",
              "      <td>...</td>\n",
              "      <td>1</td>\n",
              "      <td>0</td>\n",
              "      <td>0</td>\n",
              "      <td>0</td>\n",
              "      <td>2</td>\n",
              "      <td>48</td>\n",
              "      <td>7</td>\n",
              "      <td>5</td>\n",
              "      <td>1</td>\n",
              "      <td>lansia</td>\n",
              "    </tr>\n",
              "    <tr>\n",
              "      <th>36256</th>\n",
              "      <td>36256</td>\n",
              "      <td>5150337</td>\n",
              "      <td>Laki-laki</td>\n",
              "      <td>Tidak</td>\n",
              "      <td>Ya</td>\n",
              "      <td>0</td>\n",
              "      <td>112500.0</td>\n",
              "      <td>Bekerja</td>\n",
              "      <td>Graduate</td>\n",
              "      <td>Belum Menikah</td>\n",
              "      <td>...</td>\n",
              "      <td>1</td>\n",
              "      <td>0</td>\n",
              "      <td>0</td>\n",
              "      <td>0</td>\n",
              "      <td>1</td>\n",
              "      <td>25</td>\n",
              "      <td>3</td>\n",
              "      <td>2</td>\n",
              "      <td>1</td>\n",
              "      <td>remaja</td>\n",
              "    </tr>\n",
              "  </tbody>\n",
              "</table>\n",
              "<p>36257 rows × 21 columns</p>\n",
              "</div>\n",
              "      <button class=\"colab-df-convert\" onclick=\"convertToInteractive('df-ecc49de6-629e-45b1-a67d-8fb440dd83cd')\"\n",
              "              title=\"Convert this dataframe to an interactive table.\"\n",
              "              style=\"display:none;\">\n",
              "        \n",
              "  <svg xmlns=\"http://www.w3.org/2000/svg\" height=\"24px\"viewBox=\"0 0 24 24\"\n",
              "       width=\"24px\">\n",
              "    <path d=\"M0 0h24v24H0V0z\" fill=\"none\"/>\n",
              "    <path d=\"M18.56 5.44l.94 2.06.94-2.06 2.06-.94-2.06-.94-.94-2.06-.94 2.06-2.06.94zm-11 1L8.5 8.5l.94-2.06 2.06-.94-2.06-.94L8.5 2.5l-.94 2.06-2.06.94zm10 10l.94 2.06.94-2.06 2.06-.94-2.06-.94-.94-2.06-.94 2.06-2.06.94z\"/><path d=\"M17.41 7.96l-1.37-1.37c-.4-.4-.92-.59-1.43-.59-.52 0-1.04.2-1.43.59L10.3 9.45l-7.72 7.72c-.78.78-.78 2.05 0 2.83L4 21.41c.39.39.9.59 1.41.59.51 0 1.02-.2 1.41-.59l7.78-7.78 2.81-2.81c.8-.78.8-2.07 0-2.86zM5.41 20L4 18.59l7.72-7.72 1.47 1.35L5.41 20z\"/>\n",
              "  </svg>\n",
              "      </button>\n",
              "      \n",
              "  <style>\n",
              "    .colab-df-container {\n",
              "      display:flex;\n",
              "      flex-wrap:wrap;\n",
              "      gap: 12px;\n",
              "    }\n",
              "\n",
              "    .colab-df-convert {\n",
              "      background-color: #E8F0FE;\n",
              "      border: none;\n",
              "      border-radius: 50%;\n",
              "      cursor: pointer;\n",
              "      display: none;\n",
              "      fill: #1967D2;\n",
              "      height: 32px;\n",
              "      padding: 0 0 0 0;\n",
              "      width: 32px;\n",
              "    }\n",
              "\n",
              "    .colab-df-convert:hover {\n",
              "      background-color: #E2EBFA;\n",
              "      box-shadow: 0px 1px 2px rgba(60, 64, 67, 0.3), 0px 1px 3px 1px rgba(60, 64, 67, 0.15);\n",
              "      fill: #174EA6;\n",
              "    }\n",
              "\n",
              "    [theme=dark] .colab-df-convert {\n",
              "      background-color: #3B4455;\n",
              "      fill: #D2E3FC;\n",
              "    }\n",
              "\n",
              "    [theme=dark] .colab-df-convert:hover {\n",
              "      background-color: #434B5C;\n",
              "      box-shadow: 0px 1px 3px 1px rgba(0, 0, 0, 0.15);\n",
              "      filter: drop-shadow(0px 1px 2px rgba(0, 0, 0, 0.3));\n",
              "      fill: #FFFFFF;\n",
              "    }\n",
              "  </style>\n",
              "\n",
              "      <script>\n",
              "        const buttonEl =\n",
              "          document.querySelector('#df-ecc49de6-629e-45b1-a67d-8fb440dd83cd button.colab-df-convert');\n",
              "        buttonEl.style.display =\n",
              "          google.colab.kernel.accessAllowed ? 'block' : 'none';\n",
              "\n",
              "        async function convertToInteractive(key) {\n",
              "          const element = document.querySelector('#df-ecc49de6-629e-45b1-a67d-8fb440dd83cd');\n",
              "          const dataTable =\n",
              "            await google.colab.kernel.invokeFunction('convertToInteractive',\n",
              "                                                     [key], {});\n",
              "          if (!dataTable) return;\n",
              "\n",
              "          const docLinkHtml = 'Like what you see? Visit the ' +\n",
              "            '<a target=\"_blank\" href=https://colab.research.google.com/notebooks/data_table.ipynb>data table notebook</a>'\n",
              "            + ' to learn more about interactive tables.';\n",
              "          element.innerHTML = '';\n",
              "          dataTable['output_type'] = 'display_data';\n",
              "          await google.colab.output.renderOutput(dataTable, element);\n",
              "          const docLink = document.createElement('div');\n",
              "          docLink.innerHTML = docLinkHtml;\n",
              "          element.appendChild(docLink);\n",
              "        }\n",
              "      </script>\n",
              "    </div>\n",
              "  </div>\n",
              "  "
            ]
          },
          "metadata": {},
          "execution_count": 4
        }
      ]
    },
    {
      "cell_type": "code",
      "source": [
        "df.info()"
      ],
      "metadata": {
        "colab": {
          "base_uri": "https://localhost:8080/"
        },
        "id": "7HFhJpA7kDII",
        "outputId": "57f6295d-16da-4da8-dcb3-84a603a1549a"
      },
      "execution_count": 4,
      "outputs": [
        {
          "output_type": "stream",
          "name": "stdout",
          "text": [
            "<class 'pandas.core.frame.DataFrame'>\n",
            "RangeIndex: 36257 entries, 0 to 36256\n",
            "Data columns (total 21 columns):\n",
            " #   Column               Non-Null Count  Dtype  \n",
            "---  ------               --------------  -----  \n",
            " 0   Unnamed: 0           36257 non-null  int64  \n",
            " 1   Id_customer          36257 non-null  int64  \n",
            " 2   JenisKelamin         36257 non-null  object \n",
            " 3   KepemilikanMobil     36257 non-null  object \n",
            " 4   KepemilikanProperti  36257 non-null  object \n",
            " 5   JmlAnak              36257 non-null  int64  \n",
            " 6   Pendapatan           36257 non-null  float64\n",
            " 7   TipePendapatan       36257 non-null  object \n",
            " 8   TingkatPendidikan    36257 non-null  object \n",
            " 9   StatusKeluarga       36257 non-null  object \n",
            " 10  TipeRumah            36257 non-null  object \n",
            " 11  FlagMobile           36257 non-null  int64  \n",
            " 12  FlagWorkPhone        36257 non-null  int64  \n",
            " 13  FlagPhone            36257 non-null  int64  \n",
            " 14  Email                36257 non-null  int64  \n",
            " 15  JmlAnggotaKeluarga   36257 non-null  int64  \n",
            " 16  Usia                 36257 non-null  int64  \n",
            " 17  Pengalaman           36257 non-null  int64  \n",
            " 18  Overdue              36257 non-null  int64  \n",
            " 19  CreditStatus         36257 non-null  int64  \n",
            " 20  KategoriUsia         36257 non-null  object \n",
            "dtypes: float64(1), int64(12), object(8)\n",
            "memory usage: 5.8+ MB\n"
          ]
        }
      ]
    },
    {
      "cell_type": "markdown",
      "source": [
        "### 2.1.1 Missing Value"
      ],
      "metadata": {
        "id": "d7BocSyo2VLl"
      }
    },
    {
      "cell_type": "code",
      "source": [
        "# Melihat apakah ada missing value dari dataset\n",
        "df.isna().sum()"
      ],
      "metadata": {
        "colab": {
          "base_uri": "https://localhost:8080/"
        },
        "id": "v-F8aRC9mI8c",
        "outputId": "7ba5c10f-579b-4d0f-9430-14bca36eaa13"
      },
      "execution_count": 5,
      "outputs": [
        {
          "output_type": "execute_result",
          "data": {
            "text/plain": [
              "Unnamed: 0             0\n",
              "Id_customer            0\n",
              "JenisKelamin           0\n",
              "KepemilikanMobil       0\n",
              "KepemilikanProperti    0\n",
              "JmlAnak                0\n",
              "Pendapatan             0\n",
              "TipePendapatan         0\n",
              "TingkatPendidikan      0\n",
              "StatusKeluarga         0\n",
              "TipeRumah              0\n",
              "FlagMobile             0\n",
              "FlagWorkPhone          0\n",
              "FlagPhone              0\n",
              "Email                  0\n",
              "JmlAnggotaKeluarga     0\n",
              "Usia                   0\n",
              "Pengalaman             0\n",
              "Overdue                0\n",
              "CreditStatus           0\n",
              "KategoriUsia           0\n",
              "dtype: int64"
            ]
          },
          "metadata": {},
          "execution_count": 5
        }
      ]
    },
    {
      "cell_type": "markdown",
      "source": [
        "### 2.1.2 Unique Value"
      ],
      "metadata": {
        "id": "ttzoGgbq2RwT"
      }
    },
    {
      "cell_type": "code",
      "source": [
        "# Melihat data unique dari setiap fitur dalam tabel\n",
        "for feature in df.columns:\n",
        "    print(\n",
        "        f\"- Jumlah unique value pada kolom `{feature}`:\",\n",
        "        df[feature].nunique()\n",
        "    )"
      ],
      "metadata": {
        "colab": {
          "base_uri": "https://localhost:8080/"
        },
        "id": "_SyLEYwQmXuG",
        "outputId": "9ddd979f-c7cc-4476-bae6-5711bf6b7821"
      },
      "execution_count": 6,
      "outputs": [
        {
          "output_type": "stream",
          "name": "stdout",
          "text": [
            "- Jumlah unique value pada kolom `Unnamed: 0`: 36257\n",
            "- Jumlah unique value pada kolom `Id_customer`: 36257\n",
            "- Jumlah unique value pada kolom `JenisKelamin`: 2\n",
            "- Jumlah unique value pada kolom `KepemilikanMobil`: 2\n",
            "- Jumlah unique value pada kolom `KepemilikanProperti`: 2\n",
            "- Jumlah unique value pada kolom `JmlAnak`: 9\n",
            "- Jumlah unique value pada kolom `Pendapatan`: 265\n",
            "- Jumlah unique value pada kolom `TipePendapatan`: 5\n",
            "- Jumlah unique value pada kolom `TingkatPendidikan`: 3\n",
            "- Jumlah unique value pada kolom `StatusKeluarga`: 3\n",
            "- Jumlah unique value pada kolom `TipeRumah`: 5\n",
            "- Jumlah unique value pada kolom `FlagMobile`: 1\n",
            "- Jumlah unique value pada kolom `FlagWorkPhone`: 2\n",
            "- Jumlah unique value pada kolom `FlagPhone`: 2\n",
            "- Jumlah unique value pada kolom `Email`: 2\n",
            "- Jumlah unique value pada kolom `JmlAnggotaKeluarga`: 10\n",
            "- Jumlah unique value pada kolom `Usia`: 49\n",
            "- Jumlah unique value pada kolom `Pengalaman`: 45\n",
            "- Jumlah unique value pada kolom `Overdue`: 7\n",
            "- Jumlah unique value pada kolom `CreditStatus`: 2\n",
            "- Jumlah unique value pada kolom `KategoriUsia`: 4\n"
          ]
        }
      ]
    },
    {
      "cell_type": "markdown",
      "source": [
        "### 2.1.3 Duplicate Data"
      ],
      "metadata": {
        "id": "3PyVyOIr2g3X"
      }
    },
    {
      "cell_type": "code",
      "source": [
        "# Mengecek baris yang duplikat\n",
        "df[df['Id_customer'].duplicated()]"
      ],
      "metadata": {
        "colab": {
          "base_uri": "https://localhost:8080/",
          "height": 160
        },
        "id": "SVWcYYBEmj9C",
        "outputId": "a5b171c3-0b09-4c27-b014-5d4e440600cb"
      },
      "execution_count": 7,
      "outputs": [
        {
          "output_type": "execute_result",
          "data": {
            "text/plain": [
              "Empty DataFrame\n",
              "Columns: [Unnamed: 0, Id_customer, JenisKelamin, KepemilikanMobil, KepemilikanProperti, JmlAnak, Pendapatan, TipePendapatan, TingkatPendidikan, StatusKeluarga, TipeRumah, FlagMobile, FlagWorkPhone, FlagPhone, Email, JmlAnggotaKeluarga, Usia, Pengalaman, Overdue, CreditStatus, KategoriUsia]\n",
              "Index: []\n",
              "\n",
              "[0 rows x 21 columns]"
            ],
            "text/html": [
              "\n",
              "  <div id=\"df-810ce86b-4299-4cba-ad1c-1b69fb99686e\">\n",
              "    <div class=\"colab-df-container\">\n",
              "      <div>\n",
              "<style scoped>\n",
              "    .dataframe tbody tr th:only-of-type {\n",
              "        vertical-align: middle;\n",
              "    }\n",
              "\n",
              "    .dataframe tbody tr th {\n",
              "        vertical-align: top;\n",
              "    }\n",
              "\n",
              "    .dataframe thead th {\n",
              "        text-align: right;\n",
              "    }\n",
              "</style>\n",
              "<table border=\"1\" class=\"dataframe\">\n",
              "  <thead>\n",
              "    <tr style=\"text-align: right;\">\n",
              "      <th></th>\n",
              "      <th>Unnamed: 0</th>\n",
              "      <th>Id_customer</th>\n",
              "      <th>JenisKelamin</th>\n",
              "      <th>KepemilikanMobil</th>\n",
              "      <th>KepemilikanProperti</th>\n",
              "      <th>JmlAnak</th>\n",
              "      <th>Pendapatan</th>\n",
              "      <th>TipePendapatan</th>\n",
              "      <th>TingkatPendidikan</th>\n",
              "      <th>StatusKeluarga</th>\n",
              "      <th>...</th>\n",
              "      <th>FlagMobile</th>\n",
              "      <th>FlagWorkPhone</th>\n",
              "      <th>FlagPhone</th>\n",
              "      <th>Email</th>\n",
              "      <th>JmlAnggotaKeluarga</th>\n",
              "      <th>Usia</th>\n",
              "      <th>Pengalaman</th>\n",
              "      <th>Overdue</th>\n",
              "      <th>CreditStatus</th>\n",
              "      <th>KategoriUsia</th>\n",
              "    </tr>\n",
              "  </thead>\n",
              "  <tbody>\n",
              "  </tbody>\n",
              "</table>\n",
              "<p>0 rows × 21 columns</p>\n",
              "</div>\n",
              "      <button class=\"colab-df-convert\" onclick=\"convertToInteractive('df-810ce86b-4299-4cba-ad1c-1b69fb99686e')\"\n",
              "              title=\"Convert this dataframe to an interactive table.\"\n",
              "              style=\"display:none;\">\n",
              "        \n",
              "  <svg xmlns=\"http://www.w3.org/2000/svg\" height=\"24px\"viewBox=\"0 0 24 24\"\n",
              "       width=\"24px\">\n",
              "    <path d=\"M0 0h24v24H0V0z\" fill=\"none\"/>\n",
              "    <path d=\"M18.56 5.44l.94 2.06.94-2.06 2.06-.94-2.06-.94-.94-2.06-.94 2.06-2.06.94zm-11 1L8.5 8.5l.94-2.06 2.06-.94-2.06-.94L8.5 2.5l-.94 2.06-2.06.94zm10 10l.94 2.06.94-2.06 2.06-.94-2.06-.94-.94-2.06-.94 2.06-2.06.94z\"/><path d=\"M17.41 7.96l-1.37-1.37c-.4-.4-.92-.59-1.43-.59-.52 0-1.04.2-1.43.59L10.3 9.45l-7.72 7.72c-.78.78-.78 2.05 0 2.83L4 21.41c.39.39.9.59 1.41.59.51 0 1.02-.2 1.41-.59l7.78-7.78 2.81-2.81c.8-.78.8-2.07 0-2.86zM5.41 20L4 18.59l7.72-7.72 1.47 1.35L5.41 20z\"/>\n",
              "  </svg>\n",
              "      </button>\n",
              "      \n",
              "  <style>\n",
              "    .colab-df-container {\n",
              "      display:flex;\n",
              "      flex-wrap:wrap;\n",
              "      gap: 12px;\n",
              "    }\n",
              "\n",
              "    .colab-df-convert {\n",
              "      background-color: #E8F0FE;\n",
              "      border: none;\n",
              "      border-radius: 50%;\n",
              "      cursor: pointer;\n",
              "      display: none;\n",
              "      fill: #1967D2;\n",
              "      height: 32px;\n",
              "      padding: 0 0 0 0;\n",
              "      width: 32px;\n",
              "    }\n",
              "\n",
              "    .colab-df-convert:hover {\n",
              "      background-color: #E2EBFA;\n",
              "      box-shadow: 0px 1px 2px rgba(60, 64, 67, 0.3), 0px 1px 3px 1px rgba(60, 64, 67, 0.15);\n",
              "      fill: #174EA6;\n",
              "    }\n",
              "\n",
              "    [theme=dark] .colab-df-convert {\n",
              "      background-color: #3B4455;\n",
              "      fill: #D2E3FC;\n",
              "    }\n",
              "\n",
              "    [theme=dark] .colab-df-convert:hover {\n",
              "      background-color: #434B5C;\n",
              "      box-shadow: 0px 1px 3px 1px rgba(0, 0, 0, 0.15);\n",
              "      filter: drop-shadow(0px 1px 2px rgba(0, 0, 0, 0.3));\n",
              "      fill: #FFFFFF;\n",
              "    }\n",
              "  </style>\n",
              "\n",
              "      <script>\n",
              "        const buttonEl =\n",
              "          document.querySelector('#df-810ce86b-4299-4cba-ad1c-1b69fb99686e button.colab-df-convert');\n",
              "        buttonEl.style.display =\n",
              "          google.colab.kernel.accessAllowed ? 'block' : 'none';\n",
              "\n",
              "        async function convertToInteractive(key) {\n",
              "          const element = document.querySelector('#df-810ce86b-4299-4cba-ad1c-1b69fb99686e');\n",
              "          const dataTable =\n",
              "            await google.colab.kernel.invokeFunction('convertToInteractive',\n",
              "                                                     [key], {});\n",
              "          if (!dataTable) return;\n",
              "\n",
              "          const docLinkHtml = 'Like what you see? Visit the ' +\n",
              "            '<a target=\"_blank\" href=https://colab.research.google.com/notebooks/data_table.ipynb>data table notebook</a>'\n",
              "            + ' to learn more about interactive tables.';\n",
              "          element.innerHTML = '';\n",
              "          dataTable['output_type'] = 'display_data';\n",
              "          await google.colab.output.renderOutput(dataTable, element);\n",
              "          const docLink = document.createElement('div');\n",
              "          docLink.innerHTML = docLinkHtml;\n",
              "          element.appendChild(docLink);\n",
              "        }\n",
              "      </script>\n",
              "    </div>\n",
              "  </div>\n",
              "  "
            ]
          },
          "metadata": {},
          "execution_count": 7
        }
      ]
    },
    {
      "cell_type": "markdown",
      "source": [
        "### 2.1.4 Data Cleaning"
      ],
      "metadata": {
        "id": "iLDolufWvw2s"
      }
    },
    {
      "cell_type": "code",
      "source": [
        "# Menghapus kolom yang tidak digunakan\n",
        "df = df.drop(columns=['Unnamed: 0', 'Id_customer', 'FlagMobile', 'FlagWorkPhone', 'Email', 'Usia', 'Overdue'])\n",
        "df"
      ],
      "metadata": {
        "colab": {
          "base_uri": "https://localhost:8080/",
          "height": 661
        },
        "id": "DbrxAxfEvxIM",
        "outputId": "bb3928d3-171c-4411-da9b-d75c3c3e61c2"
      },
      "execution_count": 5,
      "outputs": [
        {
          "output_type": "execute_result",
          "data": {
            "text/plain": [
              "      JenisKelamin KepemilikanMobil KepemilikanProperti  JmlAnak  Pendapatan  \\\n",
              "0        Perempuan            Tidak                  Ya        0    270000.0   \n",
              "1        Perempuan            Tidak                  Ya        0    270000.0   \n",
              "2        Perempuan            Tidak                  Ya        0    270000.0   \n",
              "3        Perempuan            Tidak                  Ya        0    270000.0   \n",
              "4        Perempuan            Tidak                  Ya        0    283500.0   \n",
              "...            ...              ...                 ...      ...         ...   \n",
              "36252    Laki-laki               Ya                  Ya        0    247500.0   \n",
              "36253    Laki-laki               Ya               Tidak        1    450000.0   \n",
              "36254    Laki-laki               Ya                  Ya        0     90000.0   \n",
              "36255    Laki-laki               Ya                  Ya        0    315000.0   \n",
              "36256    Laki-laki            Tidak                  Ya        0    112500.0   \n",
              "\n",
              "           TipePendapatan TingkatPendidikan StatusKeluarga       TipeRumah  \\\n",
              "0      Asosiasi komersial          Graduate  Belum Menikah   Rumah Pribadi   \n",
              "1      Asosiasi komersial          Graduate  Belum Menikah   Rumah Pribadi   \n",
              "2      Asosiasi komersial          Graduate  Belum Menikah   Rumah Pribadi   \n",
              "3      Asosiasi komersial          Graduate  Belum Menikah   Rumah Pribadi   \n",
              "4               Pensioner     Post Graduate          Cerai   Rumah Pribadi   \n",
              "...                   ...               ...            ...             ...   \n",
              "36252             Bekerja          Graduate        Menikah   Rumah Pribadi   \n",
              "36253             Bekerja     Post Graduate        Menikah   Rumah Pribadi   \n",
              "36254             Bekerja          Graduate        Menikah   Rumah Pribadi   \n",
              "36255             Bekerja          Graduate        Menikah   Rumah Pribadi   \n",
              "36256             Bekerja          Graduate  Belum Menikah  Sewa Apartment   \n",
              "\n",
              "       FlagPhone  JmlAnggotaKeluarga  Pengalaman  CreditStatus KategoriUsia  \n",
              "0              1                   1           8             0       lansia  \n",
              "1              1                   1           8             0       lansia  \n",
              "2              1                   1           8             0       lansia  \n",
              "3              1                   1           8             0       lansia  \n",
              "4              0                   1        1001             0       lansia  \n",
              "...          ...                 ...         ...           ...          ...  \n",
              "36252          0                   2          10             1       dewasa  \n",
              "36253          1                   3           1             1       dewasa  \n",
              "36254          0                   2           5             1       lansia  \n",
              "36255          0                   2           7             1       lansia  \n",
              "36256          0                   1           3             1       remaja  \n",
              "\n",
              "[36257 rows x 14 columns]"
            ],
            "text/html": [
              "\n",
              "  <div id=\"df-a8b84573-f2d7-4bea-bcaf-8344c502baaa\">\n",
              "    <div class=\"colab-df-container\">\n",
              "      <div>\n",
              "<style scoped>\n",
              "    .dataframe tbody tr th:only-of-type {\n",
              "        vertical-align: middle;\n",
              "    }\n",
              "\n",
              "    .dataframe tbody tr th {\n",
              "        vertical-align: top;\n",
              "    }\n",
              "\n",
              "    .dataframe thead th {\n",
              "        text-align: right;\n",
              "    }\n",
              "</style>\n",
              "<table border=\"1\" class=\"dataframe\">\n",
              "  <thead>\n",
              "    <tr style=\"text-align: right;\">\n",
              "      <th></th>\n",
              "      <th>JenisKelamin</th>\n",
              "      <th>KepemilikanMobil</th>\n",
              "      <th>KepemilikanProperti</th>\n",
              "      <th>JmlAnak</th>\n",
              "      <th>Pendapatan</th>\n",
              "      <th>TipePendapatan</th>\n",
              "      <th>TingkatPendidikan</th>\n",
              "      <th>StatusKeluarga</th>\n",
              "      <th>TipeRumah</th>\n",
              "      <th>FlagPhone</th>\n",
              "      <th>JmlAnggotaKeluarga</th>\n",
              "      <th>Pengalaman</th>\n",
              "      <th>CreditStatus</th>\n",
              "      <th>KategoriUsia</th>\n",
              "    </tr>\n",
              "  </thead>\n",
              "  <tbody>\n",
              "    <tr>\n",
              "      <th>0</th>\n",
              "      <td>Perempuan</td>\n",
              "      <td>Tidak</td>\n",
              "      <td>Ya</td>\n",
              "      <td>0</td>\n",
              "      <td>270000.0</td>\n",
              "      <td>Asosiasi komersial</td>\n",
              "      <td>Graduate</td>\n",
              "      <td>Belum Menikah</td>\n",
              "      <td>Rumah Pribadi</td>\n",
              "      <td>1</td>\n",
              "      <td>1</td>\n",
              "      <td>8</td>\n",
              "      <td>0</td>\n",
              "      <td>lansia</td>\n",
              "    </tr>\n",
              "    <tr>\n",
              "      <th>1</th>\n",
              "      <td>Perempuan</td>\n",
              "      <td>Tidak</td>\n",
              "      <td>Ya</td>\n",
              "      <td>0</td>\n",
              "      <td>270000.0</td>\n",
              "      <td>Asosiasi komersial</td>\n",
              "      <td>Graduate</td>\n",
              "      <td>Belum Menikah</td>\n",
              "      <td>Rumah Pribadi</td>\n",
              "      <td>1</td>\n",
              "      <td>1</td>\n",
              "      <td>8</td>\n",
              "      <td>0</td>\n",
              "      <td>lansia</td>\n",
              "    </tr>\n",
              "    <tr>\n",
              "      <th>2</th>\n",
              "      <td>Perempuan</td>\n",
              "      <td>Tidak</td>\n",
              "      <td>Ya</td>\n",
              "      <td>0</td>\n",
              "      <td>270000.0</td>\n",
              "      <td>Asosiasi komersial</td>\n",
              "      <td>Graduate</td>\n",
              "      <td>Belum Menikah</td>\n",
              "      <td>Rumah Pribadi</td>\n",
              "      <td>1</td>\n",
              "      <td>1</td>\n",
              "      <td>8</td>\n",
              "      <td>0</td>\n",
              "      <td>lansia</td>\n",
              "    </tr>\n",
              "    <tr>\n",
              "      <th>3</th>\n",
              "      <td>Perempuan</td>\n",
              "      <td>Tidak</td>\n",
              "      <td>Ya</td>\n",
              "      <td>0</td>\n",
              "      <td>270000.0</td>\n",
              "      <td>Asosiasi komersial</td>\n",
              "      <td>Graduate</td>\n",
              "      <td>Belum Menikah</td>\n",
              "      <td>Rumah Pribadi</td>\n",
              "      <td>1</td>\n",
              "      <td>1</td>\n",
              "      <td>8</td>\n",
              "      <td>0</td>\n",
              "      <td>lansia</td>\n",
              "    </tr>\n",
              "    <tr>\n",
              "      <th>4</th>\n",
              "      <td>Perempuan</td>\n",
              "      <td>Tidak</td>\n",
              "      <td>Ya</td>\n",
              "      <td>0</td>\n",
              "      <td>283500.0</td>\n",
              "      <td>Pensioner</td>\n",
              "      <td>Post Graduate</td>\n",
              "      <td>Cerai</td>\n",
              "      <td>Rumah Pribadi</td>\n",
              "      <td>0</td>\n",
              "      <td>1</td>\n",
              "      <td>1001</td>\n",
              "      <td>0</td>\n",
              "      <td>lansia</td>\n",
              "    </tr>\n",
              "    <tr>\n",
              "      <th>...</th>\n",
              "      <td>...</td>\n",
              "      <td>...</td>\n",
              "      <td>...</td>\n",
              "      <td>...</td>\n",
              "      <td>...</td>\n",
              "      <td>...</td>\n",
              "      <td>...</td>\n",
              "      <td>...</td>\n",
              "      <td>...</td>\n",
              "      <td>...</td>\n",
              "      <td>...</td>\n",
              "      <td>...</td>\n",
              "      <td>...</td>\n",
              "      <td>...</td>\n",
              "    </tr>\n",
              "    <tr>\n",
              "      <th>36252</th>\n",
              "      <td>Laki-laki</td>\n",
              "      <td>Ya</td>\n",
              "      <td>Ya</td>\n",
              "      <td>0</td>\n",
              "      <td>247500.0</td>\n",
              "      <td>Bekerja</td>\n",
              "      <td>Graduate</td>\n",
              "      <td>Menikah</td>\n",
              "      <td>Rumah Pribadi</td>\n",
              "      <td>0</td>\n",
              "      <td>2</td>\n",
              "      <td>10</td>\n",
              "      <td>1</td>\n",
              "      <td>dewasa</td>\n",
              "    </tr>\n",
              "    <tr>\n",
              "      <th>36253</th>\n",
              "      <td>Laki-laki</td>\n",
              "      <td>Ya</td>\n",
              "      <td>Tidak</td>\n",
              "      <td>1</td>\n",
              "      <td>450000.0</td>\n",
              "      <td>Bekerja</td>\n",
              "      <td>Post Graduate</td>\n",
              "      <td>Menikah</td>\n",
              "      <td>Rumah Pribadi</td>\n",
              "      <td>1</td>\n",
              "      <td>3</td>\n",
              "      <td>1</td>\n",
              "      <td>1</td>\n",
              "      <td>dewasa</td>\n",
              "    </tr>\n",
              "    <tr>\n",
              "      <th>36254</th>\n",
              "      <td>Laki-laki</td>\n",
              "      <td>Ya</td>\n",
              "      <td>Ya</td>\n",
              "      <td>0</td>\n",
              "      <td>90000.0</td>\n",
              "      <td>Bekerja</td>\n",
              "      <td>Graduate</td>\n",
              "      <td>Menikah</td>\n",
              "      <td>Rumah Pribadi</td>\n",
              "      <td>0</td>\n",
              "      <td>2</td>\n",
              "      <td>5</td>\n",
              "      <td>1</td>\n",
              "      <td>lansia</td>\n",
              "    </tr>\n",
              "    <tr>\n",
              "      <th>36255</th>\n",
              "      <td>Laki-laki</td>\n",
              "      <td>Ya</td>\n",
              "      <td>Ya</td>\n",
              "      <td>0</td>\n",
              "      <td>315000.0</td>\n",
              "      <td>Bekerja</td>\n",
              "      <td>Graduate</td>\n",
              "      <td>Menikah</td>\n",
              "      <td>Rumah Pribadi</td>\n",
              "      <td>0</td>\n",
              "      <td>2</td>\n",
              "      <td>7</td>\n",
              "      <td>1</td>\n",
              "      <td>lansia</td>\n",
              "    </tr>\n",
              "    <tr>\n",
              "      <th>36256</th>\n",
              "      <td>Laki-laki</td>\n",
              "      <td>Tidak</td>\n",
              "      <td>Ya</td>\n",
              "      <td>0</td>\n",
              "      <td>112500.0</td>\n",
              "      <td>Bekerja</td>\n",
              "      <td>Graduate</td>\n",
              "      <td>Belum Menikah</td>\n",
              "      <td>Sewa Apartment</td>\n",
              "      <td>0</td>\n",
              "      <td>1</td>\n",
              "      <td>3</td>\n",
              "      <td>1</td>\n",
              "      <td>remaja</td>\n",
              "    </tr>\n",
              "  </tbody>\n",
              "</table>\n",
              "<p>36257 rows × 14 columns</p>\n",
              "</div>\n",
              "      <button class=\"colab-df-convert\" onclick=\"convertToInteractive('df-a8b84573-f2d7-4bea-bcaf-8344c502baaa')\"\n",
              "              title=\"Convert this dataframe to an interactive table.\"\n",
              "              style=\"display:none;\">\n",
              "        \n",
              "  <svg xmlns=\"http://www.w3.org/2000/svg\" height=\"24px\"viewBox=\"0 0 24 24\"\n",
              "       width=\"24px\">\n",
              "    <path d=\"M0 0h24v24H0V0z\" fill=\"none\"/>\n",
              "    <path d=\"M18.56 5.44l.94 2.06.94-2.06 2.06-.94-2.06-.94-.94-2.06-.94 2.06-2.06.94zm-11 1L8.5 8.5l.94-2.06 2.06-.94-2.06-.94L8.5 2.5l-.94 2.06-2.06.94zm10 10l.94 2.06.94-2.06 2.06-.94-2.06-.94-.94-2.06-.94 2.06-2.06.94z\"/><path d=\"M17.41 7.96l-1.37-1.37c-.4-.4-.92-.59-1.43-.59-.52 0-1.04.2-1.43.59L10.3 9.45l-7.72 7.72c-.78.78-.78 2.05 0 2.83L4 21.41c.39.39.9.59 1.41.59.51 0 1.02-.2 1.41-.59l7.78-7.78 2.81-2.81c.8-.78.8-2.07 0-2.86zM5.41 20L4 18.59l7.72-7.72 1.47 1.35L5.41 20z\"/>\n",
              "  </svg>\n",
              "      </button>\n",
              "      \n",
              "  <style>\n",
              "    .colab-df-container {\n",
              "      display:flex;\n",
              "      flex-wrap:wrap;\n",
              "      gap: 12px;\n",
              "    }\n",
              "\n",
              "    .colab-df-convert {\n",
              "      background-color: #E8F0FE;\n",
              "      border: none;\n",
              "      border-radius: 50%;\n",
              "      cursor: pointer;\n",
              "      display: none;\n",
              "      fill: #1967D2;\n",
              "      height: 32px;\n",
              "      padding: 0 0 0 0;\n",
              "      width: 32px;\n",
              "    }\n",
              "\n",
              "    .colab-df-convert:hover {\n",
              "      background-color: #E2EBFA;\n",
              "      box-shadow: 0px 1px 2px rgba(60, 64, 67, 0.3), 0px 1px 3px 1px rgba(60, 64, 67, 0.15);\n",
              "      fill: #174EA6;\n",
              "    }\n",
              "\n",
              "    [theme=dark] .colab-df-convert {\n",
              "      background-color: #3B4455;\n",
              "      fill: #D2E3FC;\n",
              "    }\n",
              "\n",
              "    [theme=dark] .colab-df-convert:hover {\n",
              "      background-color: #434B5C;\n",
              "      box-shadow: 0px 1px 3px 1px rgba(0, 0, 0, 0.15);\n",
              "      filter: drop-shadow(0px 1px 2px rgba(0, 0, 0, 0.3));\n",
              "      fill: #FFFFFF;\n",
              "    }\n",
              "  </style>\n",
              "\n",
              "      <script>\n",
              "        const buttonEl =\n",
              "          document.querySelector('#df-a8b84573-f2d7-4bea-bcaf-8344c502baaa button.colab-df-convert');\n",
              "        buttonEl.style.display =\n",
              "          google.colab.kernel.accessAllowed ? 'block' : 'none';\n",
              "\n",
              "        async function convertToInteractive(key) {\n",
              "          const element = document.querySelector('#df-a8b84573-f2d7-4bea-bcaf-8344c502baaa');\n",
              "          const dataTable =\n",
              "            await google.colab.kernel.invokeFunction('convertToInteractive',\n",
              "                                                     [key], {});\n",
              "          if (!dataTable) return;\n",
              "\n",
              "          const docLinkHtml = 'Like what you see? Visit the ' +\n",
              "            '<a target=\"_blank\" href=https://colab.research.google.com/notebooks/data_table.ipynb>data table notebook</a>'\n",
              "            + ' to learn more about interactive tables.';\n",
              "          element.innerHTML = '';\n",
              "          dataTable['output_type'] = 'display_data';\n",
              "          await google.colab.output.renderOutput(dataTable, element);\n",
              "          const docLink = document.createElement('div');\n",
              "          docLink.innerHTML = docLinkHtml;\n",
              "          element.appendChild(docLink);\n",
              "        }\n",
              "      </script>\n",
              "    </div>\n",
              "  </div>\n",
              "  "
            ]
          },
          "metadata": {},
          "execution_count": 5
        }
      ]
    },
    {
      "cell_type": "code",
      "source": [
        "df.info()"
      ],
      "metadata": {
        "colab": {
          "base_uri": "https://localhost:8080/"
        },
        "id": "lip5ELQLwd6b",
        "outputId": "fd85b69c-d5a6-4340-eeb5-50383780637e"
      },
      "execution_count": 9,
      "outputs": [
        {
          "output_type": "stream",
          "name": "stdout",
          "text": [
            "<class 'pandas.core.frame.DataFrame'>\n",
            "RangeIndex: 36257 entries, 0 to 36256\n",
            "Data columns (total 14 columns):\n",
            " #   Column               Non-Null Count  Dtype  \n",
            "---  ------               --------------  -----  \n",
            " 0   JenisKelamin         36257 non-null  object \n",
            " 1   KepemilikanMobil     36257 non-null  object \n",
            " 2   KepemilikanProperti  36257 non-null  object \n",
            " 3   JmlAnak              36257 non-null  int64  \n",
            " 4   Pendapatan           36257 non-null  float64\n",
            " 5   TipePendapatan       36257 non-null  object \n",
            " 6   TingkatPendidikan    36257 non-null  object \n",
            " 7   StatusKeluarga       36257 non-null  object \n",
            " 8   TipeRumah            36257 non-null  object \n",
            " 9   FlagPhone            36257 non-null  int64  \n",
            " 10  JmlAnggotaKeluarga   36257 non-null  int64  \n",
            " 11  Pengalaman           36257 non-null  int64  \n",
            " 12  CreditStatus         36257 non-null  int64  \n",
            " 13  KategoriUsia         36257 non-null  object \n",
            "dtypes: float64(1), int64(5), object(8)\n",
            "memory usage: 3.9+ MB\n"
          ]
        }
      ]
    },
    {
      "cell_type": "markdown",
      "source": [
        "### 2.1.5 Feature Category"
      ],
      "metadata": {
        "id": "8lBfp6ci2lsZ"
      }
    },
    {
      "cell_type": "code",
      "source": [
        "# Mengetahui kolom apa saja yang termasuk fitur (variabel) numerik/kategoris\n",
        "numerical_features = df.select_dtypes(include=\"number\").columns.tolist()\n",
        "categorical_features = df.select_dtypes(include=\"object\").columns.tolist()\n",
        "\n",
        "print(\"Numerical features:\")\n",
        "pprint(numerical_features)\n",
        "print(\"\\nCategorical features:\")\n",
        "pprint(categorical_features, compact=True)"
      ],
      "metadata": {
        "colab": {
          "base_uri": "https://localhost:8080/"
        },
        "id": "mjVAxJcl0R-k",
        "outputId": "810c080e-ddfe-4749-8eee-746c5f1fb0ad"
      },
      "execution_count": 6,
      "outputs": [
        {
          "output_type": "stream",
          "name": "stdout",
          "text": [
            "Numerical features:\n",
            "['JmlAnak',\n",
            " 'Pendapatan',\n",
            " 'FlagPhone',\n",
            " 'JmlAnggotaKeluarga',\n",
            " 'Pengalaman',\n",
            " 'CreditStatus']\n",
            "\n",
            "Categorical features:\n",
            "['JenisKelamin', 'KepemilikanMobil', 'KepemilikanProperti', 'TipePendapatan',\n",
            " 'TingkatPendidikan', 'StatusKeluarga', 'TipeRumah', 'KategoriUsia']\n"
          ]
        }
      ]
    },
    {
      "cell_type": "markdown",
      "source": [
        "### 2.1.6 Statistic Summary"
      ],
      "metadata": {
        "id": "LoQ2PozEs93-"
      }
    },
    {
      "cell_type": "code",
      "source": [
        "# Memahami karakteristik data melalui fitur-fitur numerik dengan function describe(). T=Transpose\n",
        "df[numerical_features].describe().T"
      ],
      "metadata": {
        "colab": {
          "base_uri": "https://localhost:8080/",
          "height": 238
        },
        "id": "mxE5B7jUsKcE",
        "outputId": "1ddbed10-9134-4ec1-dbe0-0edb42d64f7b"
      },
      "execution_count": 11,
      "outputs": [
        {
          "output_type": "execute_result",
          "data": {
            "text/plain": [
              "                      count           mean            std      min       25%  \\\n",
              "JmlAnak             36257.0       0.430427       0.742474      0.0       0.0   \n",
              "Pendapatan          36257.0  186625.534421  101548.649430  27000.0  121500.0   \n",
              "FlagPhone           36257.0       0.294812       0.455965      0.0       0.0   \n",
              "JmlAnggotaKeluarga  36257.0       2.198720       0.911781      1.0       2.0   \n",
              "Pengalaman          36257.0     174.416058     371.770973      0.0       3.0   \n",
              "CreditStatus        36257.0       0.116226       0.320500      0.0       0.0   \n",
              "\n",
              "                         50%       75%        max  \n",
              "JmlAnak                  0.0       1.0       19.0  \n",
              "Pendapatan          157500.0  225000.0  1575000.0  \n",
              "FlagPhone                0.0       1.0        1.0  \n",
              "JmlAnggotaKeluarga       2.0       3.0       20.0  \n",
              "Pengalaman               7.0      16.0     1001.0  \n",
              "CreditStatus             0.0       0.0        1.0  "
            ],
            "text/html": [
              "\n",
              "  <div id=\"df-c28b71eb-02cd-4153-8b8c-6c815ed68d3c\">\n",
              "    <div class=\"colab-df-container\">\n",
              "      <div>\n",
              "<style scoped>\n",
              "    .dataframe tbody tr th:only-of-type {\n",
              "        vertical-align: middle;\n",
              "    }\n",
              "\n",
              "    .dataframe tbody tr th {\n",
              "        vertical-align: top;\n",
              "    }\n",
              "\n",
              "    .dataframe thead th {\n",
              "        text-align: right;\n",
              "    }\n",
              "</style>\n",
              "<table border=\"1\" class=\"dataframe\">\n",
              "  <thead>\n",
              "    <tr style=\"text-align: right;\">\n",
              "      <th></th>\n",
              "      <th>count</th>\n",
              "      <th>mean</th>\n",
              "      <th>std</th>\n",
              "      <th>min</th>\n",
              "      <th>25%</th>\n",
              "      <th>50%</th>\n",
              "      <th>75%</th>\n",
              "      <th>max</th>\n",
              "    </tr>\n",
              "  </thead>\n",
              "  <tbody>\n",
              "    <tr>\n",
              "      <th>JmlAnak</th>\n",
              "      <td>36257.0</td>\n",
              "      <td>0.430427</td>\n",
              "      <td>0.742474</td>\n",
              "      <td>0.0</td>\n",
              "      <td>0.0</td>\n",
              "      <td>0.0</td>\n",
              "      <td>1.0</td>\n",
              "      <td>19.0</td>\n",
              "    </tr>\n",
              "    <tr>\n",
              "      <th>Pendapatan</th>\n",
              "      <td>36257.0</td>\n",
              "      <td>186625.534421</td>\n",
              "      <td>101548.649430</td>\n",
              "      <td>27000.0</td>\n",
              "      <td>121500.0</td>\n",
              "      <td>157500.0</td>\n",
              "      <td>225000.0</td>\n",
              "      <td>1575000.0</td>\n",
              "    </tr>\n",
              "    <tr>\n",
              "      <th>FlagPhone</th>\n",
              "      <td>36257.0</td>\n",
              "      <td>0.294812</td>\n",
              "      <td>0.455965</td>\n",
              "      <td>0.0</td>\n",
              "      <td>0.0</td>\n",
              "      <td>0.0</td>\n",
              "      <td>1.0</td>\n",
              "      <td>1.0</td>\n",
              "    </tr>\n",
              "    <tr>\n",
              "      <th>JmlAnggotaKeluarga</th>\n",
              "      <td>36257.0</td>\n",
              "      <td>2.198720</td>\n",
              "      <td>0.911781</td>\n",
              "      <td>1.0</td>\n",
              "      <td>2.0</td>\n",
              "      <td>2.0</td>\n",
              "      <td>3.0</td>\n",
              "      <td>20.0</td>\n",
              "    </tr>\n",
              "    <tr>\n",
              "      <th>Pengalaman</th>\n",
              "      <td>36257.0</td>\n",
              "      <td>174.416058</td>\n",
              "      <td>371.770973</td>\n",
              "      <td>0.0</td>\n",
              "      <td>3.0</td>\n",
              "      <td>7.0</td>\n",
              "      <td>16.0</td>\n",
              "      <td>1001.0</td>\n",
              "    </tr>\n",
              "    <tr>\n",
              "      <th>CreditStatus</th>\n",
              "      <td>36257.0</td>\n",
              "      <td>0.116226</td>\n",
              "      <td>0.320500</td>\n",
              "      <td>0.0</td>\n",
              "      <td>0.0</td>\n",
              "      <td>0.0</td>\n",
              "      <td>0.0</td>\n",
              "      <td>1.0</td>\n",
              "    </tr>\n",
              "  </tbody>\n",
              "</table>\n",
              "</div>\n",
              "      <button class=\"colab-df-convert\" onclick=\"convertToInteractive('df-c28b71eb-02cd-4153-8b8c-6c815ed68d3c')\"\n",
              "              title=\"Convert this dataframe to an interactive table.\"\n",
              "              style=\"display:none;\">\n",
              "        \n",
              "  <svg xmlns=\"http://www.w3.org/2000/svg\" height=\"24px\"viewBox=\"0 0 24 24\"\n",
              "       width=\"24px\">\n",
              "    <path d=\"M0 0h24v24H0V0z\" fill=\"none\"/>\n",
              "    <path d=\"M18.56 5.44l.94 2.06.94-2.06 2.06-.94-2.06-.94-.94-2.06-.94 2.06-2.06.94zm-11 1L8.5 8.5l.94-2.06 2.06-.94-2.06-.94L8.5 2.5l-.94 2.06-2.06.94zm10 10l.94 2.06.94-2.06 2.06-.94-2.06-.94-.94-2.06-.94 2.06-2.06.94z\"/><path d=\"M17.41 7.96l-1.37-1.37c-.4-.4-.92-.59-1.43-.59-.52 0-1.04.2-1.43.59L10.3 9.45l-7.72 7.72c-.78.78-.78 2.05 0 2.83L4 21.41c.39.39.9.59 1.41.59.51 0 1.02-.2 1.41-.59l7.78-7.78 2.81-2.81c.8-.78.8-2.07 0-2.86zM5.41 20L4 18.59l7.72-7.72 1.47 1.35L5.41 20z\"/>\n",
              "  </svg>\n",
              "      </button>\n",
              "      \n",
              "  <style>\n",
              "    .colab-df-container {\n",
              "      display:flex;\n",
              "      flex-wrap:wrap;\n",
              "      gap: 12px;\n",
              "    }\n",
              "\n",
              "    .colab-df-convert {\n",
              "      background-color: #E8F0FE;\n",
              "      border: none;\n",
              "      border-radius: 50%;\n",
              "      cursor: pointer;\n",
              "      display: none;\n",
              "      fill: #1967D2;\n",
              "      height: 32px;\n",
              "      padding: 0 0 0 0;\n",
              "      width: 32px;\n",
              "    }\n",
              "\n",
              "    .colab-df-convert:hover {\n",
              "      background-color: #E2EBFA;\n",
              "      box-shadow: 0px 1px 2px rgba(60, 64, 67, 0.3), 0px 1px 3px 1px rgba(60, 64, 67, 0.15);\n",
              "      fill: #174EA6;\n",
              "    }\n",
              "\n",
              "    [theme=dark] .colab-df-convert {\n",
              "      background-color: #3B4455;\n",
              "      fill: #D2E3FC;\n",
              "    }\n",
              "\n",
              "    [theme=dark] .colab-df-convert:hover {\n",
              "      background-color: #434B5C;\n",
              "      box-shadow: 0px 1px 3px 1px rgba(0, 0, 0, 0.15);\n",
              "      filter: drop-shadow(0px 1px 2px rgba(0, 0, 0, 0.3));\n",
              "      fill: #FFFFFF;\n",
              "    }\n",
              "  </style>\n",
              "\n",
              "      <script>\n",
              "        const buttonEl =\n",
              "          document.querySelector('#df-c28b71eb-02cd-4153-8b8c-6c815ed68d3c button.colab-df-convert');\n",
              "        buttonEl.style.display =\n",
              "          google.colab.kernel.accessAllowed ? 'block' : 'none';\n",
              "\n",
              "        async function convertToInteractive(key) {\n",
              "          const element = document.querySelector('#df-c28b71eb-02cd-4153-8b8c-6c815ed68d3c');\n",
              "          const dataTable =\n",
              "            await google.colab.kernel.invokeFunction('convertToInteractive',\n",
              "                                                     [key], {});\n",
              "          if (!dataTable) return;\n",
              "\n",
              "          const docLinkHtml = 'Like what you see? Visit the ' +\n",
              "            '<a target=\"_blank\" href=https://colab.research.google.com/notebooks/data_table.ipynb>data table notebook</a>'\n",
              "            + ' to learn more about interactive tables.';\n",
              "          element.innerHTML = '';\n",
              "          dataTable['output_type'] = 'display_data';\n",
              "          await google.colab.output.renderOutput(dataTable, element);\n",
              "          const docLink = document.createElement('div');\n",
              "          docLink.innerHTML = docLinkHtml;\n",
              "          element.appendChild(docLink);\n",
              "        }\n",
              "      </script>\n",
              "    </div>\n",
              "  </div>\n",
              "  "
            ]
          },
          "metadata": {},
          "execution_count": 11
        }
      ]
    },
    {
      "cell_type": "code",
      "source": [
        "# Memahami karakteristik data melalui fitur-fitur kategoris dengan function describe()\n",
        "df[categorical_features].describe().T"
      ],
      "metadata": {
        "colab": {
          "base_uri": "https://localhost:8080/",
          "height": 300
        },
        "id": "Onf8NcqVtBUz",
        "outputId": "6ab15f75-dea5-4e07-a11f-f63b1238cd86"
      },
      "execution_count": 12,
      "outputs": [
        {
          "output_type": "execute_result",
          "data": {
            "text/plain": [
              "                     count unique            top   freq\n",
              "JenisKelamin         36257      2      Perempuan  24279\n",
              "KepemilikanMobil     36257      2          Tidak  22476\n",
              "KepemilikanProperti  36257      2             Ya  24367\n",
              "TipePendapatan       36257      5        Bekerja  18708\n",
              "TingkatPendidikan    36257      3       Graduate  26046\n",
              "StatusKeluarga       36257      3        Menikah  27845\n",
              "TipeRumah            36257      5  Rumah Pribadi  32367\n",
              "KategoriUsia         36257      4         dewasa  19853"
            ],
            "text/html": [
              "\n",
              "  <div id=\"df-cb610fd5-9155-4195-84b2-5a28c58d2285\">\n",
              "    <div class=\"colab-df-container\">\n",
              "      <div>\n",
              "<style scoped>\n",
              "    .dataframe tbody tr th:only-of-type {\n",
              "        vertical-align: middle;\n",
              "    }\n",
              "\n",
              "    .dataframe tbody tr th {\n",
              "        vertical-align: top;\n",
              "    }\n",
              "\n",
              "    .dataframe thead th {\n",
              "        text-align: right;\n",
              "    }\n",
              "</style>\n",
              "<table border=\"1\" class=\"dataframe\">\n",
              "  <thead>\n",
              "    <tr style=\"text-align: right;\">\n",
              "      <th></th>\n",
              "      <th>count</th>\n",
              "      <th>unique</th>\n",
              "      <th>top</th>\n",
              "      <th>freq</th>\n",
              "    </tr>\n",
              "  </thead>\n",
              "  <tbody>\n",
              "    <tr>\n",
              "      <th>JenisKelamin</th>\n",
              "      <td>36257</td>\n",
              "      <td>2</td>\n",
              "      <td>Perempuan</td>\n",
              "      <td>24279</td>\n",
              "    </tr>\n",
              "    <tr>\n",
              "      <th>KepemilikanMobil</th>\n",
              "      <td>36257</td>\n",
              "      <td>2</td>\n",
              "      <td>Tidak</td>\n",
              "      <td>22476</td>\n",
              "    </tr>\n",
              "    <tr>\n",
              "      <th>KepemilikanProperti</th>\n",
              "      <td>36257</td>\n",
              "      <td>2</td>\n",
              "      <td>Ya</td>\n",
              "      <td>24367</td>\n",
              "    </tr>\n",
              "    <tr>\n",
              "      <th>TipePendapatan</th>\n",
              "      <td>36257</td>\n",
              "      <td>5</td>\n",
              "      <td>Bekerja</td>\n",
              "      <td>18708</td>\n",
              "    </tr>\n",
              "    <tr>\n",
              "      <th>TingkatPendidikan</th>\n",
              "      <td>36257</td>\n",
              "      <td>3</td>\n",
              "      <td>Graduate</td>\n",
              "      <td>26046</td>\n",
              "    </tr>\n",
              "    <tr>\n",
              "      <th>StatusKeluarga</th>\n",
              "      <td>36257</td>\n",
              "      <td>3</td>\n",
              "      <td>Menikah</td>\n",
              "      <td>27845</td>\n",
              "    </tr>\n",
              "    <tr>\n",
              "      <th>TipeRumah</th>\n",
              "      <td>36257</td>\n",
              "      <td>5</td>\n",
              "      <td>Rumah Pribadi</td>\n",
              "      <td>32367</td>\n",
              "    </tr>\n",
              "    <tr>\n",
              "      <th>KategoriUsia</th>\n",
              "      <td>36257</td>\n",
              "      <td>4</td>\n",
              "      <td>dewasa</td>\n",
              "      <td>19853</td>\n",
              "    </tr>\n",
              "  </tbody>\n",
              "</table>\n",
              "</div>\n",
              "      <button class=\"colab-df-convert\" onclick=\"convertToInteractive('df-cb610fd5-9155-4195-84b2-5a28c58d2285')\"\n",
              "              title=\"Convert this dataframe to an interactive table.\"\n",
              "              style=\"display:none;\">\n",
              "        \n",
              "  <svg xmlns=\"http://www.w3.org/2000/svg\" height=\"24px\"viewBox=\"0 0 24 24\"\n",
              "       width=\"24px\">\n",
              "    <path d=\"M0 0h24v24H0V0z\" fill=\"none\"/>\n",
              "    <path d=\"M18.56 5.44l.94 2.06.94-2.06 2.06-.94-2.06-.94-.94-2.06-.94 2.06-2.06.94zm-11 1L8.5 8.5l.94-2.06 2.06-.94-2.06-.94L8.5 2.5l-.94 2.06-2.06.94zm10 10l.94 2.06.94-2.06 2.06-.94-2.06-.94-.94-2.06-.94 2.06-2.06.94z\"/><path d=\"M17.41 7.96l-1.37-1.37c-.4-.4-.92-.59-1.43-.59-.52 0-1.04.2-1.43.59L10.3 9.45l-7.72 7.72c-.78.78-.78 2.05 0 2.83L4 21.41c.39.39.9.59 1.41.59.51 0 1.02-.2 1.41-.59l7.78-7.78 2.81-2.81c.8-.78.8-2.07 0-2.86zM5.41 20L4 18.59l7.72-7.72 1.47 1.35L5.41 20z\"/>\n",
              "  </svg>\n",
              "      </button>\n",
              "      \n",
              "  <style>\n",
              "    .colab-df-container {\n",
              "      display:flex;\n",
              "      flex-wrap:wrap;\n",
              "      gap: 12px;\n",
              "    }\n",
              "\n",
              "    .colab-df-convert {\n",
              "      background-color: #E8F0FE;\n",
              "      border: none;\n",
              "      border-radius: 50%;\n",
              "      cursor: pointer;\n",
              "      display: none;\n",
              "      fill: #1967D2;\n",
              "      height: 32px;\n",
              "      padding: 0 0 0 0;\n",
              "      width: 32px;\n",
              "    }\n",
              "\n",
              "    .colab-df-convert:hover {\n",
              "      background-color: #E2EBFA;\n",
              "      box-shadow: 0px 1px 2px rgba(60, 64, 67, 0.3), 0px 1px 3px 1px rgba(60, 64, 67, 0.15);\n",
              "      fill: #174EA6;\n",
              "    }\n",
              "\n",
              "    [theme=dark] .colab-df-convert {\n",
              "      background-color: #3B4455;\n",
              "      fill: #D2E3FC;\n",
              "    }\n",
              "\n",
              "    [theme=dark] .colab-df-convert:hover {\n",
              "      background-color: #434B5C;\n",
              "      box-shadow: 0px 1px 3px 1px rgba(0, 0, 0, 0.15);\n",
              "      filter: drop-shadow(0px 1px 2px rgba(0, 0, 0, 0.3));\n",
              "      fill: #FFFFFF;\n",
              "    }\n",
              "  </style>\n",
              "\n",
              "      <script>\n",
              "        const buttonEl =\n",
              "          document.querySelector('#df-cb610fd5-9155-4195-84b2-5a28c58d2285 button.colab-df-convert');\n",
              "        buttonEl.style.display =\n",
              "          google.colab.kernel.accessAllowed ? 'block' : 'none';\n",
              "\n",
              "        async function convertToInteractive(key) {\n",
              "          const element = document.querySelector('#df-cb610fd5-9155-4195-84b2-5a28c58d2285');\n",
              "          const dataTable =\n",
              "            await google.colab.kernel.invokeFunction('convertToInteractive',\n",
              "                                                     [key], {});\n",
              "          if (!dataTable) return;\n",
              "\n",
              "          const docLinkHtml = 'Like what you see? Visit the ' +\n",
              "            '<a target=\"_blank\" href=https://colab.research.google.com/notebooks/data_table.ipynb>data table notebook</a>'\n",
              "            + ' to learn more about interactive tables.';\n",
              "          element.innerHTML = '';\n",
              "          dataTable['output_type'] = 'display_data';\n",
              "          await google.colab.output.renderOutput(dataTable, element);\n",
              "          const docLink = document.createElement('div');\n",
              "          docLink.innerHTML = docLinkHtml;\n",
              "          element.appendChild(docLink);\n",
              "        }\n",
              "      </script>\n",
              "    </div>\n",
              "  </div>\n",
              "  "
            ]
          },
          "metadata": {},
          "execution_count": 12
        }
      ]
    },
    {
      "cell_type": "code",
      "source": [
        "# Visualisasikan fitur-fitur numerik ke Boxplot untuk melihat bagaimana data tersebar\n",
        "df[numerical_features].plot(kind=\"box\", figsize=(12, 9))\n",
        "plt.grid(False)\n",
        "plt.show()"
      ],
      "metadata": {
        "colab": {
          "base_uri": "https://localhost:8080/",
          "height": 548
        },
        "id": "KRs08l8r3PUl",
        "outputId": "d78a80e6-abf9-43ea-f312-d3c796a5c0e9"
      },
      "execution_count": 13,
      "outputs": [
        {
          "output_type": "display_data",
          "data": {
            "text/plain": [
              "<Figure size 864x648 with 1 Axes>"
            ],
            "image/png": "[encoded data removed]"
          },
          "metadata": {
            "needs_background": "light"
          }
        }
      ]
    },
    {
      "cell_type": "markdown",
      "source": [
        "### 2.1.7 Data Correlation"
      ],
      "metadata": {
        "id": "3Lly3hMvuyAF"
      }
    },
    {
      "cell_type": "code",
      "source": [
        "# Melihat hubungan dari fitur numerik menggunakan correlation \n",
        "df.corr()"
      ],
      "metadata": {
        "colab": {
          "base_uri": "https://localhost:8080/",
          "height": 238
        },
        "id": "2YedyEJj5fWD",
        "outputId": "e4ed3c2a-b605-4b4c-cff0-078a5410c3d7"
      },
      "execution_count": 14,
      "outputs": [
        {
          "output_type": "execute_result",
          "data": {
            "text/plain": [
              "                     JmlAnak  Pendapatan  FlagPhone  JmlAnggotaKeluarga  \\\n",
              "JmlAnak             1.000000    0.033966  -0.016770            0.889197   \n",
              "Pendapatan          0.033966    1.000000   0.018073            0.024134   \n",
              "FlagPhone          -0.016770    0.018073   1.000000           -0.004652   \n",
              "JmlAnggotaKeluarga  0.889197    0.024134  -0.004652            1.000000   \n",
              "Pengalaman         -0.231313   -0.169050  -0.005600           -0.223191   \n",
              "CreditStatus        0.011496    0.023706  -0.006858            0.009117   \n",
              "\n",
              "                    Pengalaman  CreditStatus  \n",
              "JmlAnak              -0.231313      0.011496  \n",
              "Pendapatan           -0.169050      0.023706  \n",
              "FlagPhone            -0.005600     -0.006858  \n",
              "JmlAnggotaKeluarga   -0.223191      0.009117  \n",
              "Pengalaman            1.000000     -0.022593  \n",
              "CreditStatus         -0.022593      1.000000  "
            ],
            "text/html": [
              "\n",
              "  <div id=\"df-f0bccc8a-ddcd-41cb-a185-ae3bcc8caa85\">\n",
              "    <div class=\"colab-df-container\">\n",
              "      <div>\n",
              "<style scoped>\n",
              "    .dataframe tbody tr th:only-of-type {\n",
              "        vertical-align: middle;\n",
              "    }\n",
              "\n",
              "    .dataframe tbody tr th {\n",
              "        vertical-align: top;\n",
              "    }\n",
              "\n",
              "    .dataframe thead th {\n",
              "        text-align: right;\n",
              "    }\n",
              "</style>\n",
              "<table border=\"1\" class=\"dataframe\">\n",
              "  <thead>\n",
              "    <tr style=\"text-align: right;\">\n",
              "      <th></th>\n",
              "      <th>JmlAnak</th>\n",
              "      <th>Pendapatan</th>\n",
              "      <th>FlagPhone</th>\n",
              "      <th>JmlAnggotaKeluarga</th>\n",
              "      <th>Pengalaman</th>\n",
              "      <th>CreditStatus</th>\n",
              "    </tr>\n",
              "  </thead>\n",
              "  <tbody>\n",
              "    <tr>\n",
              "      <th>JmlAnak</th>\n",
              "      <td>1.000000</td>\n",
              "      <td>0.033966</td>\n",
              "      <td>-0.016770</td>\n",
              "      <td>0.889197</td>\n",
              "      <td>-0.231313</td>\n",
              "      <td>0.011496</td>\n",
              "    </tr>\n",
              "    <tr>\n",
              "      <th>Pendapatan</th>\n",
              "      <td>0.033966</td>\n",
              "      <td>1.000000</td>\n",
              "      <td>0.018073</td>\n",
              "      <td>0.024134</td>\n",
              "      <td>-0.169050</td>\n",
              "      <td>0.023706</td>\n",
              "    </tr>\n",
              "    <tr>\n",
              "      <th>FlagPhone</th>\n",
              "      <td>-0.016770</td>\n",
              "      <td>0.018073</td>\n",
              "      <td>1.000000</td>\n",
              "      <td>-0.004652</td>\n",
              "      <td>-0.005600</td>\n",
              "      <td>-0.006858</td>\n",
              "    </tr>\n",
              "    <tr>\n",
              "      <th>JmlAnggotaKeluarga</th>\n",
              "      <td>0.889197</td>\n",
              "      <td>0.024134</td>\n",
              "      <td>-0.004652</td>\n",
              "      <td>1.000000</td>\n",
              "      <td>-0.223191</td>\n",
              "      <td>0.009117</td>\n",
              "    </tr>\n",
              "    <tr>\n",
              "      <th>Pengalaman</th>\n",
              "      <td>-0.231313</td>\n",
              "      <td>-0.169050</td>\n",
              "      <td>-0.005600</td>\n",
              "      <td>-0.223191</td>\n",
              "      <td>1.000000</td>\n",
              "      <td>-0.022593</td>\n",
              "    </tr>\n",
              "    <tr>\n",
              "      <th>CreditStatus</th>\n",
              "      <td>0.011496</td>\n",
              "      <td>0.023706</td>\n",
              "      <td>-0.006858</td>\n",
              "      <td>0.009117</td>\n",
              "      <td>-0.022593</td>\n",
              "      <td>1.000000</td>\n",
              "    </tr>\n",
              "  </tbody>\n",
              "</table>\n",
              "</div>\n",
              "      <button class=\"colab-df-convert\" onclick=\"convertToInteractive('df-f0bccc8a-ddcd-41cb-a185-ae3bcc8caa85')\"\n",
              "              title=\"Convert this dataframe to an interactive table.\"\n",
              "              style=\"display:none;\">\n",
              "        \n",
              "  <svg xmlns=\"http://www.w3.org/2000/svg\" height=\"24px\"viewBox=\"0 0 24 24\"\n",
              "       width=\"24px\">\n",
              "    <path d=\"M0 0h24v24H0V0z\" fill=\"none\"/>\n",
              "    <path d=\"M18.56 5.44l.94 2.06.94-2.06 2.06-.94-2.06-.94-.94-2.06-.94 2.06-2.06.94zm-11 1L8.5 8.5l.94-2.06 2.06-.94-2.06-.94L8.5 2.5l-.94 2.06-2.06.94zm10 10l.94 2.06.94-2.06 2.06-.94-2.06-.94-.94-2.06-.94 2.06-2.06.94z\"/><path d=\"M17.41 7.96l-1.37-1.37c-.4-.4-.92-.59-1.43-.59-.52 0-1.04.2-1.43.59L10.3 9.45l-7.72 7.72c-.78.78-.78 2.05 0 2.83L4 21.41c.39.39.9.59 1.41.59.51 0 1.02-.2 1.41-.59l7.78-7.78 2.81-2.81c.8-.78.8-2.07 0-2.86zM5.41 20L4 18.59l7.72-7.72 1.47 1.35L5.41 20z\"/>\n",
              "  </svg>\n",
              "      </button>\n",
              "      \n",
              "  <style>\n",
              "    .colab-df-container {\n",
              "      display:flex;\n",
              "      flex-wrap:wrap;\n",
              "      gap: 12px;\n",
              "    }\n",
              "\n",
              "    .colab-df-convert {\n",
              "      background-color: #E8F0FE;\n",
              "      border: none;\n",
              "      border-radius: 50%;\n",
              "      cursor: pointer;\n",
              "      display: none;\n",
              "      fill: #1967D2;\n",
              "      height: 32px;\n",
              "      padding: 0 0 0 0;\n",
              "      width: 32px;\n",
              "    }\n",
              "\n",
              "    .colab-df-convert:hover {\n",
              "      background-color: #E2EBFA;\n",
              "      box-shadow: 0px 1px 2px rgba(60, 64, 67, 0.3), 0px 1px 3px 1px rgba(60, 64, 67, 0.15);\n",
              "      fill: #174EA6;\n",
              "    }\n",
              "\n",
              "    [theme=dark] .colab-df-convert {\n",
              "      background-color: #3B4455;\n",
              "      fill: #D2E3FC;\n",
              "    }\n",
              "\n",
              "    [theme=dark] .colab-df-convert:hover {\n",
              "      background-color: #434B5C;\n",
              "      box-shadow: 0px 1px 3px 1px rgba(0, 0, 0, 0.15);\n",
              "      filter: drop-shadow(0px 1px 2px rgba(0, 0, 0, 0.3));\n",
              "      fill: #FFFFFF;\n",
              "    }\n",
              "  </style>\n",
              "\n",
              "      <script>\n",
              "        const buttonEl =\n",
              "          document.querySelector('#df-f0bccc8a-ddcd-41cb-a185-ae3bcc8caa85 button.colab-df-convert');\n",
              "        buttonEl.style.display =\n",
              "          google.colab.kernel.accessAllowed ? 'block' : 'none';\n",
              "\n",
              "        async function convertToInteractive(key) {\n",
              "          const element = document.querySelector('#df-f0bccc8a-ddcd-41cb-a185-ae3bcc8caa85');\n",
              "          const dataTable =\n",
              "            await google.colab.kernel.invokeFunction('convertToInteractive',\n",
              "                                                     [key], {});\n",
              "          if (!dataTable) return;\n",
              "\n",
              "          const docLinkHtml = 'Like what you see? Visit the ' +\n",
              "            '<a target=\"_blank\" href=https://colab.research.google.com/notebooks/data_table.ipynb>data table notebook</a>'\n",
              "            + ' to learn more about interactive tables.';\n",
              "          element.innerHTML = '';\n",
              "          dataTable['output_type'] = 'display_data';\n",
              "          await google.colab.output.renderOutput(dataTable, element);\n",
              "          const docLink = document.createElement('div');\n",
              "          docLink.innerHTML = docLinkHtml;\n",
              "          element.appendChild(docLink);\n",
              "        }\n",
              "      </script>\n",
              "    </div>\n",
              "  </div>\n",
              "  "
            ]
          },
          "metadata": {},
          "execution_count": 14
        }
      ]
    },
    {
      "cell_type": "markdown",
      "source": [
        "> Untuk lebih jelas dalam mengetahui pasangan fitur mana yang memiliki koefisien korelasi yang kuat (mendekati 1 atau mendekati -1), kita bisa buat plot heatmap berikut."
      ],
      "metadata": {
        "id": "BynaGAli5oXM"
      }
    },
    {
      "cell_type": "code",
      "source": [
        "plt.figure(figsize=(25, 12))\n",
        "heatmap = sns.heatmap(df.corr(), vmin=-1, vmax=1, annot=True, cmap='BrBG')\n",
        "heatmap.set_title('Correlation Heatmap', fontdict={'fontsize':20}, pad=12);"
      ],
      "metadata": {
        "colab": {
          "base_uri": "https://localhost:8080/",
          "height": 537
        },
        "id": "oNogUIgMtDf5",
        "outputId": "c88e9dc5-8200-4dd2-c182-1ca9f5b7b368"
      },
      "execution_count": 15,
      "outputs": [
        {
          "output_type": "display_data",
          "data": {
            "text/plain": [
              "<Figure size 1800x864 with 2 Axes>"
            ],
            "image/png": "[encoded data removed]"
          },
          "metadata": {
            "needs_background": "light"
          }
        }
      ]
    },
    {
      "cell_type": "markdown",
      "source": [
        "### 2.1.8 Handling Outlier"
      ],
      "metadata": {
        "id": "rjWNjKHO-i8g"
      }
    },
    {
      "cell_type": "code",
      "source": [
        "# Numerical Features\n",
        "num_feature = [fea for fea in df.describe().columns]\n",
        "num_feature\n",
        "\n",
        "plt.figure(figsize=(15, 9), facecolor='white')\n",
        "plotnumber = 1\n",
        "    \n",
        "for feature in num_feature:\n",
        "    ax = plt.subplot(4,4, plotnumber)\n",
        "    sns.boxplot(x=feature, data=df);\n",
        "    plt.title(feature, fontsize=12)\n",
        "    plt.xlabel(None)\n",
        "    plt.tight_layout()\n",
        "    plotnumber += 1"
      ],
      "metadata": {
        "colab": {
          "base_uri": "https://localhost:8080/",
          "height": 302
        },
        "id": "B7BqNNGfRhgM",
        "outputId": "b49ea7a0-c8d3-44d2-edba-eade3d4782a3"
      },
      "execution_count": 7,
      "outputs": [
        {
          "output_type": "display_data",
          "data": {
            "text/plain": [
              "<Figure size 1080x648 with 6 Axes>"
            ],
            "image/png": "[encoded data removed]"
          },
          "metadata": {}
        }
      ]
    },
    {
      "cell_type": "markdown",
      "source": [
        "> Ada beberapa cara untuk menghilangkan outliers.\n",
        "* Mengganti nilai outliers menggunakan nilai lower bound dan upper bound.\n",
        "* Capping menggunakan nilai median\n",
        "* Capping menggunakan nilai mean\n",
        "* Capping menggunakan nilai modus\n",
        "\n",
        "> **Referensi:** [handling outlier](https://blog.sanbercode.com/docs/materi-eda/data-type-missing-value-outlier/)"
      ],
      "metadata": {
        "id": "RJOA9h7sgX3G"
      }
    },
    {
      "cell_type": "code",
      "source": [
        "# Membuat function IQR Detection\n",
        "def outlier(data):\n",
        "    q1 = data.quantile(0.25)\n",
        "    q3 = data.quantile(0.75)\n",
        "    iqr = q3 - q1\n",
        "    limit = iqr * 1.5\n",
        "    print(f'IQR: {iqr}')\n",
        "    upperlimit = q3 + limit\n",
        "    lowerlimit = q1 - limit\n",
        "    print(f'Upper Limit: {upperlimit}')\n",
        "    print(f'Lower Limit: {lowerlimit}')\n",
        "\n",
        "# Buang Outlier\n",
        "outlier_fea_1 = ['JmlAnak', \n",
        "                 'Pendapatan', \n",
        "                 'JmlAnggotaKeluarga', \n",
        "                 'Pengalaman'\n",
        "                 ]\n",
        "\n",
        "for i in outlier_fea_1:\n",
        "    print(i)\n",
        "    outlier(df[i])\n",
        "    print()\n",
        "\n",
        "df = df[(df['JmlAnak'] < 2.5) & \n",
        "        (df['Pendapatan'] < 380250.0) & \n",
        "        (df['JmlAnggotaKeluarga'] < 4.5) & \n",
        "        (df['Pengalaman'] < 35.5)\n",
        "        ]"
      ],
      "metadata": {
        "colab": {
          "base_uri": "https://localhost:8080/"
        },
        "id": "KEDfYGTVRr5Y",
        "outputId": "2afe6db9-51b8-46dc-ff5d-e281cca602ce"
      },
      "execution_count": 8,
      "outputs": [
        {
          "output_type": "stream",
          "name": "stdout",
          "text": [
            "JmlAnak\n",
            "IQR: 1.0\n",
            "Upper Limit: 2.5\n",
            "Lower Limit: -1.5\n",
            "\n",
            "Pendapatan\n",
            "IQR: 103500.0\n",
            "Upper Limit: 380250.0\n",
            "Lower Limit: -33750.0\n",
            "\n",
            "JmlAnggotaKeluarga\n",
            "IQR: 1.0\n",
            "Upper Limit: 4.5\n",
            "Lower Limit: 0.5\n",
            "\n",
            "Pengalaman\n",
            "IQR: 13.0\n",
            "Upper Limit: 35.5\n",
            "Lower Limit: -16.5\n",
            "\n"
          ]
        }
      ]
    },
    {
      "cell_type": "code",
      "source": [
        "# Clean dataframe from outlier\n",
        "credit_risk_df = df.drop_duplicates()\n",
        "credit_risk_df.info()"
      ],
      "metadata": {
        "colab": {
          "base_uri": "https://localhost:8080/"
        },
        "id": "2xigv_paTdp9",
        "outputId": "6adf1410-fd06-4311-a290-443680e23ae8"
      },
      "execution_count": 9,
      "outputs": [
        {
          "output_type": "stream",
          "name": "stdout",
          "text": [
            "<class 'pandas.core.frame.DataFrame'>\n",
            "Int64Index: 8396 entries, 0 to 36256\n",
            "Data columns (total 14 columns):\n",
            " #   Column               Non-Null Count  Dtype  \n",
            "---  ------               --------------  -----  \n",
            " 0   JenisKelamin         8396 non-null   object \n",
            " 1   KepemilikanMobil     8396 non-null   object \n",
            " 2   KepemilikanProperti  8396 non-null   object \n",
            " 3   JmlAnak              8396 non-null   int64  \n",
            " 4   Pendapatan           8396 non-null   float64\n",
            " 5   TipePendapatan       8396 non-null   object \n",
            " 6   TingkatPendidikan    8396 non-null   object \n",
            " 7   StatusKeluarga       8396 non-null   object \n",
            " 8   TipeRumah            8396 non-null   object \n",
            " 9   FlagPhone            8396 non-null   int64  \n",
            " 10  JmlAnggotaKeluarga   8396 non-null   int64  \n",
            " 11  Pengalaman           8396 non-null   int64  \n",
            " 12  CreditStatus         8396 non-null   int64  \n",
            " 13  KategoriUsia         8396 non-null   object \n",
            "dtypes: float64(1), int64(5), object(8)\n",
            "memory usage: 983.9+ KB\n"
          ]
        }
      ]
    },
    {
      "cell_type": "code",
      "source": [
        "credit_risk_df.value_counts('CreditStatus')"
      ],
      "metadata": {
        "colab": {
          "base_uri": "https://localhost:8080/"
        },
        "id": "BRn9iNmR43MU",
        "outputId": "b41f5582-3f17-43ce-db27-050284a9bbb9"
      },
      "execution_count": 20,
      "outputs": [
        {
          "output_type": "execute_result",
          "data": {
            "text/plain": [
              "CreditStatus\n",
              "0    6550\n",
              "1    1846\n",
              "dtype: int64"
            ]
          },
          "metadata": {},
          "execution_count": 20
        }
      ]
    },
    {
      "cell_type": "markdown",
      "source": [
        "### 2.1.9 Visualization"
      ],
      "metadata": {
        "id": "dK1dUH73kK_j"
      }
    },
    {
      "cell_type": "code",
      "source": [
        "# Visualisasi kolom status untuk melihat jumlah data\n",
        "def plot_count(data, x=None, y=None, palette=None, figsize=(12, 3), **kwargs):\n",
        "    column_order = data[x or y].value_counts().index\n",
        "\n",
        "    plt.figure(figsize=figsize)\n",
        "    sns.countplot(\n",
        "        x=x, y=y, data=data, order=column_order,\n",
        "        palette=palette, **kwargs\n",
        "    )\n",
        "    plt.grid(False)\n",
        "\n",
        "MAIN_COLOR = [\"#29B5BF\"] \n",
        "OTHER_COLOR = [\"#777777\"]"
      ],
      "metadata": {
        "id": "6ToUfnWJneSD"
      },
      "execution_count": 22,
      "outputs": []
    },
    {
      "cell_type": "markdown",
      "source": [
        "#### 2.9.1 Jenis Kelamin"
      ],
      "metadata": {
        "id": "_-YDhwiD0pns"
      }
    },
    {
      "cell_type": "code",
      "source": [
        "# Show visualization 'JenisKelamin'\n",
        "plot_count(x=\"JenisKelamin\", data=df)"
      ],
      "metadata": {
        "colab": {
          "base_uri": "https://localhost:8080/",
          "height": 225
        },
        "id": "v-tYdv9Co4Du",
        "outputId": "8833b19d-b6c4-4bf6-9f47-9736d9ddda91"
      },
      "execution_count": 23,
      "outputs": [
        {
          "output_type": "display_data",
          "data": {
            "text/plain": [
              "<Figure size 864x216 with 1 Axes>"
            ],
            "image/png": "[encoded data removed]"
          },
          "metadata": {
            "needs_background": "light"
          }
        }
      ]
    },
    {
      "cell_type": "code",
      "source": [
        "# Show visualization 'CreditStatus' terhadap 'JenisKelamin'\n",
        "plot_count(x=\"CreditStatus\", hue=\"JenisKelamin\", data=df, figsize=(15, 6))\n",
        "plt.legend(loc=\"upper right\")\n",
        "plt.show()"
      ],
      "metadata": {
        "colab": {
          "base_uri": "https://localhost:8080/",
          "height": 388
        },
        "id": "hnLWvGELsolD",
        "outputId": "4516bfc1-78d1-45a9-c866-feaf5b2bef7c"
      },
      "execution_count": 24,
      "outputs": [
        {
          "output_type": "display_data",
          "data": {
            "text/plain": [
              "<Figure size 1080x432 with 1 Axes>"
            ],
            "image/png": "[encoded data removed]"
          },
          "metadata": {
            "needs_background": "light"
          }
        }
      ]
    },
    {
      "cell_type": "markdown",
      "source": [
        "#### 2.9.2 Kepemilikan"
      ],
      "metadata": {
        "id": "WBkX2NNn1NEQ"
      }
    },
    {
      "cell_type": "code",
      "source": [
        "# Show visualization 'KepemilikanMobil'\n",
        "plot_count(x=\"KepemilikanMobil\", data=df)"
      ],
      "metadata": {
        "colab": {
          "base_uri": "https://localhost:8080/",
          "height": 228
        },
        "id": "h64P_bbTo4jR",
        "outputId": "a1cff4f0-f040-4a79-867a-b4d1ebd4aa0b"
      },
      "execution_count": 25,
      "outputs": [
        {
          "output_type": "display_data",
          "data": {
            "text/plain": [
              "<Figure size 864x216 with 1 Axes>"
            ],
            "image/png": "[encoded data removed]"
          },
          "metadata": {
            "needs_background": "light"
          }
        }
      ]
    },
    {
      "cell_type": "code",
      "source": [
        "# Show visualization 'CreditStatus' terhadap 'KepemilikanMobil'\n",
        "plot_count(x=\"CreditStatus\", hue=\"KepemilikanMobil\", data=df, figsize=(15, 6))\n",
        "plt.legend(loc=\"upper right\")\n",
        "plt.show()"
      ],
      "metadata": {
        "colab": {
          "base_uri": "https://localhost:8080/",
          "height": 388
        },
        "id": "shkqzOwu7zUq",
        "outputId": "287f6f79-5cfe-41f4-cd8a-042e149d9c9d"
      },
      "execution_count": 26,
      "outputs": [
        {
          "output_type": "display_data",
          "data": {
            "text/plain": [
              "<Figure size 1080x432 with 1 Axes>"
            ],
            "image/png": "[encoded data removed]"
          },
          "metadata": {
            "needs_background": "light"
          }
        }
      ]
    },
    {
      "cell_type": "code",
      "source": [
        "# Show visualization 'KepemilikanProperti'\n",
        "plot_count(x=\"KepemilikanProperti\", data=df)"
      ],
      "metadata": {
        "colab": {
          "base_uri": "https://localhost:8080/",
          "height": 225
        },
        "id": "OJ8bGq4JrxEr",
        "outputId": "f8ab2cd1-ce5e-4f0a-97c3-6a48191782b8"
      },
      "execution_count": 27,
      "outputs": [
        {
          "output_type": "display_data",
          "data": {
            "text/plain": [
              "<Figure size 864x216 with 1 Axes>"
            ],
            "image/png": "[encoded data removed]"
          },
          "metadata": {
            "needs_background": "light"
          }
        }
      ]
    },
    {
      "cell_type": "code",
      "source": [
        "# Show visualization 'CreditStatus' terhadap 'KepemilikanProperti'\n",
        "plot_count(x=\"CreditStatus\", hue=\"KepemilikanProperti\", data=df, figsize=(15, 6))\n",
        "plt.legend(loc=\"upper right\")\n",
        "plt.show()"
      ],
      "metadata": {
        "colab": {
          "base_uri": "https://localhost:8080/",
          "height": 388
        },
        "id": "Hb0Rr1MJ709P",
        "outputId": "5b720587-f692-47e0-b00a-b1730583844a"
      },
      "execution_count": 28,
      "outputs": [
        {
          "output_type": "display_data",
          "data": {
            "text/plain": [
              "<Figure size 1080x432 with 1 Axes>"
            ],
            "image/png": "[encoded data removed]"
          },
          "metadata": {
            "needs_background": "light"
          }
        }
      ]
    },
    {
      "cell_type": "markdown",
      "source": [
        "#### 2.9.3 Credit Status"
      ],
      "metadata": {
        "id": "dkJ3Tl121Tzj"
      }
    },
    {
      "cell_type": "code",
      "source": [
        "# Show visualization 'CreditStatus'\n",
        "plot_count(x=\"CreditStatus\", data=df)"
      ],
      "metadata": {
        "colab": {
          "base_uri": "https://localhost:8080/",
          "height": 225
        },
        "id": "Hh4gsNu_rTsi",
        "outputId": "3c8fa158-622c-49a7-90e9-5f4fa6c41a05"
      },
      "execution_count": 29,
      "outputs": [
        {
          "output_type": "display_data",
          "data": {
            "text/plain": [
              "<Figure size 864x216 with 1 Axes>"
            ],
            "image/png": "[encoded data removed]"
          },
          "metadata": {
            "needs_background": "light"
          }
        }
      ]
    },
    {
      "cell_type": "code",
      "source": [
        "# Show visualization 'CreditStatus' terhadap 'TipePendapatan'\n",
        "plot_count(x=\"CreditStatus\", hue=\"TipePendapatan\", data=df, figsize=(15, 6))\n",
        "plt.legend(loc=\"upper right\")\n",
        "plt.show()"
      ],
      "metadata": {
        "colab": {
          "base_uri": "https://localhost:8080/",
          "height": 388
        },
        "id": "XYQim0Ddry3y",
        "outputId": "8f63c95f-8e21-4e3e-baf3-f4cdc0bc13ef"
      },
      "execution_count": 30,
      "outputs": [
        {
          "output_type": "display_data",
          "data": {
            "text/plain": [
              "<Figure size 1080x432 with 1 Axes>"
            ],
            "image/png": "[encoded data removed]"
          },
          "metadata": {
            "needs_background": "light"
          }
        }
      ]
    },
    {
      "cell_type": "code",
      "source": [
        "# Show visualization 'CreditStatus' terhadap 'StatusKeluarga'\n",
        "plot_count(x=\"CreditStatus\", hue=\"StatusKeluarga\", data=df, figsize=(15, 6))\n",
        "plt.legend(loc=\"upper right\")\n",
        "plt.show()"
      ],
      "metadata": {
        "colab": {
          "base_uri": "https://localhost:8080/",
          "height": 388
        },
        "id": "Sgw8Vt3wr7IZ",
        "outputId": "26e2040d-f7b6-4aae-ca0c-e266089f2bd8"
      },
      "execution_count": 31,
      "outputs": [
        {
          "output_type": "display_data",
          "data": {
            "text/plain": [
              "<Figure size 1080x432 with 1 Axes>"
            ],
            "image/png": "[encoded data removed]"
          },
          "metadata": {
            "needs_background": "light"
          }
        }
      ]
    },
    {
      "cell_type": "markdown",
      "source": [
        "#### 2.9.4 Kategori Usia"
      ],
      "metadata": {
        "id": "5ZYZpWEs6hts"
      }
    },
    {
      "cell_type": "code",
      "source": [
        "age_category = df.KategoriUsia.value_counts().index\n",
        "\n",
        "plt.figure(figsize=(12, 6))\n",
        "sns.countplot(\n",
        "    x=\"KategoriUsia\",\n",
        "    data=df,\n",
        "    order=age_category,\n",
        "    palette=[\"#29B5BF\"] + (len(age_category)-1)*[\"#777777\"]\n",
        ")\n",
        "plt.grid(False)\n",
        "\n",
        "plt.show()"
      ],
      "metadata": {
        "colab": {
          "base_uri": "https://localhost:8080/",
          "height": 388
        },
        "id": "XqBv7el56Nge",
        "outputId": "b99e80c5-aa76-406b-c469-f63c5211cf8f"
      },
      "execution_count": 32,
      "outputs": [
        {
          "output_type": "display_data",
          "data": {
            "text/plain": [
              "<Figure size 864x432 with 1 Axes>"
            ],
            "image/png": "[encoded data removed]"
          },
          "metadata": {
            "needs_background": "light"
          }
        }
      ]
    },
    {
      "cell_type": "markdown",
      "source": [
        "> **Insights:** \n",
        "\n",
        "> * Dari visualisasi di atas, terlihat bahwa mayoritas adalah kategori **Dewasa**.\n",
        "> * Lalu, bagaimana distribusi kategori umur pada masing-masing responden yang memiliki sakit jantung maupun tidak? Mari kita buat visualisasinya."
      ],
      "metadata": {
        "id": "3XcshtEb61sy"
      }
    },
    {
      "cell_type": "code",
      "source": [
        "# Show visualization 'CreditStatus' terhadap 'KategoriUsia'\n",
        "plot_count(x=\"CreditStatus\", hue=\"KategoriUsia\", data=df, figsize=(15, 6))\n",
        "plt.legend(loc=\"upper right\")\n",
        "plt.show()"
      ],
      "metadata": {
        "colab": {
          "base_uri": "https://localhost:8080/",
          "height": 388
        },
        "id": "zYiHw-1l6NzT",
        "outputId": "4fc0d580-9466-4fce-ba80-9fb6182da79a"
      },
      "execution_count": 33,
      "outputs": [
        {
          "output_type": "display_data",
          "data": {
            "text/plain": [
              "<Figure size 1080x432 with 1 Axes>"
            ],
            "image/png": "[encoded data removed]"
          },
          "metadata": {
            "needs_background": "light"
          }
        }
      ]
    },
    {
      "cell_type": "markdown",
      "source": [
        "## 2.2 Modelling"
      ],
      "metadata": {
        "id": "weXswO0T7m3P"
      }
    },
    {
      "cell_type": "code",
      "source": [
        "credit_risk_df.head()"
      ],
      "metadata": {
        "colab": {
          "base_uri": "https://localhost:8080/",
          "height": 357
        },
        "id": "FKzyQSPuYZib",
        "outputId": "bbfaf289-463f-4e9d-90dd-e935f1a1f176"
      },
      "execution_count": 10,
      "outputs": [
        {
          "output_type": "execute_result",
          "data": {
            "text/plain": [
              "   JenisKelamin KepemilikanMobil KepemilikanProperti  JmlAnak  Pendapatan  \\\n",
              "0     Perempuan            Tidak                  Ya        0    270000.0   \n",
              "7     Perempuan               Ya               Tidak        0    130500.0   \n",
              "9     Perempuan            Tidak                  Ya        0    157500.0   \n",
              "12    Perempuan            Tidak                  Ya        1    112500.0   \n",
              "14    Perempuan               Ya                  Ya        2    135000.0   \n",
              "\n",
              "        TipePendapatan TingkatPendidikan StatusKeluarga      TipeRumah  \\\n",
              "0   Asosiasi komersial          Graduate  Belum Menikah  Rumah Pribadi   \n",
              "7              Bekerja          Graduate        Menikah  Rumah Pribadi   \n",
              "9              Bekerja          Graduate        Menikah  Rumah Pribadi   \n",
              "12             Bekerja          Graduate  Belum Menikah  Rumah Pribadi   \n",
              "14             Bekerja          Graduate        Menikah  Rumah Pribadi   \n",
              "\n",
              "    FlagPhone  JmlAnggotaKeluarga  Pengalaman  CreditStatus KategoriUsia  \n",
              "0           1                   1           8             0       lansia  \n",
              "7           0                   2           3             1       dewasa  \n",
              "9           1                   2           4             1       dewasa  \n",
              "12          0                   2           4             0       dewasa  \n",
              "14          0                   4           9             0       dewasa  "
            ],
            "text/html": [
              "\n",
              "  <div id=\"df-cd9a60bb-c57d-4104-866d-b514f1ee4634\">\n",
              "    <div class=\"colab-df-container\">\n",
              "      <div>\n",
              "<style scoped>\n",
              "    .dataframe tbody tr th:only-of-type {\n",
              "        vertical-align: middle;\n",
              "    }\n",
              "\n",
              "    .dataframe tbody tr th {\n",
              "        vertical-align: top;\n",
              "    }\n",
              "\n",
              "    .dataframe thead th {\n",
              "        text-align: right;\n",
              "    }\n",
              "</style>\n",
              "<table border=\"1\" class=\"dataframe\">\n",
              "  <thead>\n",
              "    <tr style=\"text-align: right;\">\n",
              "      <th></th>\n",
              "      <th>JenisKelamin</th>\n",
              "      <th>KepemilikanMobil</th>\n",
              "      <th>KepemilikanProperti</th>\n",
              "      <th>JmlAnak</th>\n",
              "      <th>Pendapatan</th>\n",
              "      <th>TipePendapatan</th>\n",
              "      <th>TingkatPendidikan</th>\n",
              "      <th>StatusKeluarga</th>\n",
              "      <th>TipeRumah</th>\n",
              "      <th>FlagPhone</th>\n",
              "      <th>JmlAnggotaKeluarga</th>\n",
              "      <th>Pengalaman</th>\n",
              "      <th>CreditStatus</th>\n",
              "      <th>KategoriUsia</th>\n",
              "    </tr>\n",
              "  </thead>\n",
              "  <tbody>\n",
              "    <tr>\n",
              "      <th>0</th>\n",
              "      <td>Perempuan</td>\n",
              "      <td>Tidak</td>\n",
              "      <td>Ya</td>\n",
              "      <td>0</td>\n",
              "      <td>270000.0</td>\n",
              "      <td>Asosiasi komersial</td>\n",
              "      <td>Graduate</td>\n",
              "      <td>Belum Menikah</td>\n",
              "      <td>Rumah Pribadi</td>\n",
              "      <td>1</td>\n",
              "      <td>1</td>\n",
              "      <td>8</td>\n",
              "      <td>0</td>\n",
              "      <td>lansia</td>\n",
              "    </tr>\n",
              "    <tr>\n",
              "      <th>7</th>\n",
              "      <td>Perempuan</td>\n",
              "      <td>Ya</td>\n",
              "      <td>Tidak</td>\n",
              "      <td>0</td>\n",
              "      <td>130500.0</td>\n",
              "      <td>Bekerja</td>\n",
              "      <td>Graduate</td>\n",
              "      <td>Menikah</td>\n",
              "      <td>Rumah Pribadi</td>\n",
              "      <td>0</td>\n",
              "      <td>2</td>\n",
              "      <td>3</td>\n",
              "      <td>1</td>\n",
              "      <td>dewasa</td>\n",
              "    </tr>\n",
              "    <tr>\n",
              "      <th>9</th>\n",
              "      <td>Perempuan</td>\n",
              "      <td>Tidak</td>\n",
              "      <td>Ya</td>\n",
              "      <td>0</td>\n",
              "      <td>157500.0</td>\n",
              "      <td>Bekerja</td>\n",
              "      <td>Graduate</td>\n",
              "      <td>Menikah</td>\n",
              "      <td>Rumah Pribadi</td>\n",
              "      <td>1</td>\n",
              "      <td>2</td>\n",
              "      <td>4</td>\n",
              "      <td>1</td>\n",
              "      <td>dewasa</td>\n",
              "    </tr>\n",
              "    <tr>\n",
              "      <th>12</th>\n",
              "      <td>Perempuan</td>\n",
              "      <td>Tidak</td>\n",
              "      <td>Ya</td>\n",
              "      <td>1</td>\n",
              "      <td>112500.0</td>\n",
              "      <td>Bekerja</td>\n",
              "      <td>Graduate</td>\n",
              "      <td>Belum Menikah</td>\n",
              "      <td>Rumah Pribadi</td>\n",
              "      <td>0</td>\n",
              "      <td>2</td>\n",
              "      <td>4</td>\n",
              "      <td>0</td>\n",
              "      <td>dewasa</td>\n",
              "    </tr>\n",
              "    <tr>\n",
              "      <th>14</th>\n",
              "      <td>Perempuan</td>\n",
              "      <td>Ya</td>\n",
              "      <td>Ya</td>\n",
              "      <td>2</td>\n",
              "      <td>135000.0</td>\n",
              "      <td>Bekerja</td>\n",
              "      <td>Graduate</td>\n",
              "      <td>Menikah</td>\n",
              "      <td>Rumah Pribadi</td>\n",
              "      <td>0</td>\n",
              "      <td>4</td>\n",
              "      <td>9</td>\n",
              "      <td>0</td>\n",
              "      <td>dewasa</td>\n",
              "    </tr>\n",
              "  </tbody>\n",
              "</table>\n",
              "</div>\n",
              "      <button class=\"colab-df-convert\" onclick=\"convertToInteractive('df-cd9a60bb-c57d-4104-866d-b514f1ee4634')\"\n",
              "              title=\"Convert this dataframe to an interactive table.\"\n",
              "              style=\"display:none;\">\n",
              "        \n",
              "  <svg xmlns=\"http://www.w3.org/2000/svg\" height=\"24px\"viewBox=\"0 0 24 24\"\n",
              "       width=\"24px\">\n",
              "    <path d=\"M0 0h24v24H0V0z\" fill=\"none\"/>\n",
              "    <path d=\"M18.56 5.44l.94 2.06.94-2.06 2.06-.94-2.06-.94-.94-2.06-.94 2.06-2.06.94zm-11 1L8.5 8.5l.94-2.06 2.06-.94-2.06-.94L8.5 2.5l-.94 2.06-2.06.94zm10 10l.94 2.06.94-2.06 2.06-.94-2.06-.94-.94-2.06-.94 2.06-2.06.94z\"/><path d=\"M17.41 7.96l-1.37-1.37c-.4-.4-.92-.59-1.43-.59-.52 0-1.04.2-1.43.59L10.3 9.45l-7.72 7.72c-.78.78-.78 2.05 0 2.83L4 21.41c.39.39.9.59 1.41.59.51 0 1.02-.2 1.41-.59l7.78-7.78 2.81-2.81c.8-.78.8-2.07 0-2.86zM5.41 20L4 18.59l7.72-7.72 1.47 1.35L5.41 20z\"/>\n",
              "  </svg>\n",
              "      </button>\n",
              "      \n",
              "  <style>\n",
              "    .colab-df-container {\n",
              "      display:flex;\n",
              "      flex-wrap:wrap;\n",
              "      gap: 12px;\n",
              "    }\n",
              "\n",
              "    .colab-df-convert {\n",
              "      background-color: #E8F0FE;\n",
              "      border: none;\n",
              "      border-radius: 50%;\n",
              "      cursor: pointer;\n",
              "      display: none;\n",
              "      fill: #1967D2;\n",
              "      height: 32px;\n",
              "      padding: 0 0 0 0;\n",
              "      width: 32px;\n",
              "    }\n",
              "\n",
              "    .colab-df-convert:hover {\n",
              "      background-color: #E2EBFA;\n",
              "      box-shadow: 0px 1px 2px rgba(60, 64, 67, 0.3), 0px 1px 3px 1px rgba(60, 64, 67, 0.15);\n",
              "      fill: #174EA6;\n",
              "    }\n",
              "\n",
              "    [theme=dark] .colab-df-convert {\n",
              "      background-color: #3B4455;\n",
              "      fill: #D2E3FC;\n",
              "    }\n",
              "\n",
              "    [theme=dark] .colab-df-convert:hover {\n",
              "      background-color: #434B5C;\n",
              "      box-shadow: 0px 1px 3px 1px rgba(0, 0, 0, 0.15);\n",
              "      filter: drop-shadow(0px 1px 2px rgba(0, 0, 0, 0.3));\n",
              "      fill: #FFFFFF;\n",
              "    }\n",
              "  </style>\n",
              "\n",
              "      <script>\n",
              "        const buttonEl =\n",
              "          document.querySelector('#df-cd9a60bb-c57d-4104-866d-b514f1ee4634 button.colab-df-convert');\n",
              "        buttonEl.style.display =\n",
              "          google.colab.kernel.accessAllowed ? 'block' : 'none';\n",
              "\n",
              "        async function convertToInteractive(key) {\n",
              "          const element = document.querySelector('#df-cd9a60bb-c57d-4104-866d-b514f1ee4634');\n",
              "          const dataTable =\n",
              "            await google.colab.kernel.invokeFunction('convertToInteractive',\n",
              "                                                     [key], {});\n",
              "          if (!dataTable) return;\n",
              "\n",
              "          const docLinkHtml = 'Like what you see? Visit the ' +\n",
              "            '<a target=\"_blank\" href=https://colab.research.google.com/notebooks/data_table.ipynb>data table notebook</a>'\n",
              "            + ' to learn more about interactive tables.';\n",
              "          element.innerHTML = '';\n",
              "          dataTable['output_type'] = 'display_data';\n",
              "          await google.colab.output.renderOutput(dataTable, element);\n",
              "          const docLink = document.createElement('div');\n",
              "          docLink.innerHTML = docLinkHtml;\n",
              "          element.appendChild(docLink);\n",
              "        }\n",
              "      </script>\n",
              "    </div>\n",
              "  </div>\n",
              "  "
            ]
          },
          "metadata": {},
          "execution_count": 10
        }
      ]
    },
    {
      "cell_type": "markdown",
      "source": [
        "> **Note:** Jenis-Jenis Tipe Data\n",
        "![Data Types.png](data:image/png;base64,iVBORw0KGgoAAAANSUhEUgAABQAAAALQCAMAAAD4oy1kAAAAAXNSR0IArs4c6QAAAARnQU1BAACxjwv8YQUAAALBUExURf///1Jwoy9Sj7TH51BZZwAAACktNWBqe62/3rHE4zY8RggJCqW31AQFBWNtf297jjg+SFpjc6CwzU1VY3aCl6Kz0Gt2iSQoLiwxOZalwI6dtiMnLa7B4BUXGzI3QBwfJHJ+kwwND1Vebldgb4qYsZ2tyYKQpy0yOkhQXERMWCAjKZiow0JJVGdyhIWTqztCTHyJn0VMWae41jtcljJWljhgpkNvwDtlrjNYmejt+K3B5WeNz1yEzJaw3snV7qG44eLp9tzk9GGIzae845y14O3y+VZ/ynOW07PF59Dc8JCs3H+e17nK6fP2+8TT7Iun24Wj2b7O6vn7/VB7yNbg8m2R0crX7nma1Up2xlNwoUJuvkBsujBTkTZdoT1nskNwwcnJyai0yLm+ycDDyJ+ux7W1tcHBwa+vrw0NDT8/P7KyslZWViAgIElJSaenp5qamgkJCbi4uMPDwz09PSMjI3x8fGRkZC4uLsbGxgUFBZ6enicnJxgYGICAgKmpqUBAQISEhHNzc19fXzIyMlpaWpWVlWtrazg4OJGRkSgoKFBQUEZGRlRUVIqKim5uboyMjExMTDw8PJiYmKGhoaSkpHd3d7q6uk1NTXqWxqy2yLS7yGGFxYOcx8XHyYqfxl2DxTtclTRanD1msTVbnjpkqzNXmD9ruFRxozdeozBUkjFVlD9rt9bc5dHZ5LHC3V+GyrbF3pat1mmNzMjS4ai72sHGz87T3LrAxw4PD0NFSCorLc/V3kFCRSYnKMTK0oSHjWtucqSorwkJCr7Dy1teYjU2Oa+zuxkaG7K3vjEyNFJVWNPZ4amttUtNUFZYXCssLoyQliIjJIiMkZqfpXt+g8DGzp+jqjw9QDY3OU5QVGZobX+CiGdqbrG2vWBiZnJ1enB0eHV4faittFpcYJWaoFFUV73CypOXnXV5fquwtwAAABUJ91MAAADrdFJOU////////////////////////////////////////////////////////////////////////////////////////////////////////////////////////////////////////////////////////////////////////////////////////////////////////////////////////////////////////////////////////////////////////////////////////////////////////////////////////wAv6Y2UAAAACXBIWXMAAA7DAAAOwwHHb6hkAAAwvUlEQVR4Xu3dz2sc2b338TzS1FwYEENIMovx2L6+YDJczM2ErKzbMp2mG54mKO1+1ELexRgy8aAEbRRn5hJEuLokJMLczWOhCyHP4k7yZMALLxrToG2WswgJyrMYBvKnPOdXndOyW9UlVZ2qU3XeLydW9Q+1Pccffc+3TlVXfwUAAAAAAAAAAAAAAAAAAAAAAAAAAAAAAAAAAAAAAAAAAAAAAAAAAAAAAAAAAAAAAAAAAAAAAAAAAAAAAAAAAAAAAAAAAAAAAAAAAAAAAAAAAAAAAAAAAAAAAAAAAAAAAAAAAAAAAAAAAAAAAAAAAAAAAAAAAAAAAAAAAAAAAAAAAAAAAAAAAAAAAAAAAAAAAAAAAAAAAAAAAAAAAAAAAAAAAAAAAAAAAAAA0AL/dwWp/2HGBEAkVsar/DK/VsyYAIjEyur6Kv+T/1tdpQACkVmRP/lQKIBAZCiADgUQiAwF0KEAApGhADoUQCAyFECHAghEhgLoUACByFAAHQogEBkKoEMBBCJDAXQogEBkKIAOBRCIDAXQoQACkaEAOhRAIDIUQIcCCESGAuhQAIHIUAAdCiAQGQqgQwEEIkMBdCiAQGQogA4FEIgMBdChAAKRoQA6FEAgMhRAhwIIRIYC6FAAgchQAB0KIBAZCqBDAQQiQwF0KIBAZCiADgUQiAwF0KEAApGhADoUQCAyFECHAghEhgLoUACByFAAHQogEBkKoEMBBCJDAXQogEBkKIAOBRCIDAXQoQACkaEAOhRAIDIUQIcCCESGAuhQAIHIUAAdCiAQGQqgQwEEIkMBdCiAQGQogA4FEIgMBdChAAKRoQA6FEAgMhRAhwIIRIYC6FAAgchQAB0KIBCZUgvg1xLl2len5o48pt/U36Vd5jvLRgEEIlN2AXzz2jVZx75q7pn3TvJNs3XO+IaqfMY3zL11oAACkSm5AH51PB6v9t9fWAHfSW6MzeZ5Y/FLPii+Ln5CRSiAQGTKLIBjUQDV1/HbSfK2umve28kNs/WadfEdFz5YGQogEJmyO0Dx+7r4/w3d7d1+56bYrb12W9z1jt7FTd49d6/1TvKW/IZ3kpt6FVB0hKvTW8n09ptJct0U06l8DXNj+rU1sf2G2i4LBRCITMkF8J/M1rtJ0heVThSpm3JNUFS9f3lT3Hjz2pvvnrvXMh3gN9bMvTdkLb2e/ONaclM8XRc6UQvff1/cIUrk+vXk5vvvX7tW6jETCiAQmdLXAHVbJ4rc18frt699Xa4J6nZQ7uXKW6vy3lV1r3qqJjpA9VUVPvEcUR7H6zPZJ6odalEVpzfEU8Q3qmeYJUP1LaWhAAKRKXkNMO0AZfMmfhcVShTEd/V+rV3m03Xr3WSuf7NrgG8n+/q58sHryTVZT3XNE02ler58tXS1sVwUQCAyHtYApeks+brZlO3gmi5q39K3tduJuldZFw+qNUD5XNHtrd8QDeSq6ADfVSVUVMX1dJVQv9rbyc1zS4iloAACkfG0BiiaN1UA12+/c+fOHd272Q5wffy7d74t7+3r25J98FuiiI5v31KPXTcLgu8m/yybvpvim+58+84tea/YO/6WfrA8FEAgMr7WAOUa3urqB2uJYjpA3cLZe29NX6jbklwgVBvvum5v6gqgqKDufGn1avJdJzd/Z/64clAAgch4WgP8R9nerYvC9dXpeNyfnesA1b2r42/cmn/fm2sPZdUTe8By2xRA8TrX9LKfPO6RHvsYvy3qaKlvHKEAApHxswYoj9iKMiU7QnHrtuj1xBfRAaoH03v1yqDhFgjFw+ah6UyuB6q7RHuofpuzLo8Su4XGElAAgcj4WQN8Q5/kd0Pfvp12gP+sdlj1vWNzr2E7QHmUNz0n5npyQz1lJgurPrVw3vgNe9ClFBRAIDIe1gDXP3hT7OTKbk00baLk3Tardul5LObetbmjwKoAmv5uOksSeQxY9HjyPMD11enX9DNv6DePrL/zxur6jbf1S9ABAri6ktcAU2/LAiYP5l6/881kX1e+9euinonO0Nx7c/FR4NXxP4nv149cX7sjv0XUQ3lrupYk16+J326oK8hcEy+Qfk85KIBAZEruAJU3PzDHKVb7h+Lmt6fXda8n39crz29O703OHQU2h4hVY6e3xTNuf/BN8Xq3zUPvyGL4zQ/Erf4bohDeVH1ieSiAQGRKLYCifZO/XFkyN+Wv9ObcvXNPlHda6dkvckM9V11fQXLfJL/Of3sZKIBAZEougBdJK9jF3DP+JbmmN6aztBJWgwIIRKaiAngZ5noIgm0Fq0EBBCITXgG8vSYvBCO3pteTct/qsQQFEIhMeAVQXwhGoQME4FOAu8BzxzbKPsyRjQIIRCbAAlgbCiAQGQqgQwEEIkMBdCiAQGQogA4FEIgMBdChAAKRoQA6FEAgMhRAhwIIRIYC6FAAgchQAB0KIBAZCqBDAQQiQwF0KIBAZCiADgUQiAwF0KEAApGhADoUQCAyFECHAghEhgLoUACByFAAHQogEBkKoEMBBCJDAXQogEBkKIAOBRCIDAXQoQACkaEAOhRAIDIUQIcCCESGAuhQAIHIUAAdCiAQGQqgQwEEIkMBdCiAQGQogA4FEIgMBdChAAKRoQA6FEAgMhRAhwIIRIYC6FAAgchQAB0KIBAZCqBDAQQiQwF0KIBAZCiADgUQiAwF0KEAApGhADoUQCAyFECHAghEhgLoUACByFAAHQogEBkKoEMBBCJDAXQogEBkPlsJwH//4dMQ/h6fmTEBgGp01zud0XD9X7f6XXMPAMSgO+10NnThG/Q7nf5AbQJA28nez1Q/rStq4JQaCKDt5nq/ed3R1vYqNRBAe73W+80bjh7sUAMBtJLc0b2w+mmiBo7Gm+YGALSDrH65DveOd0QNNNsA0Hi5q58ma+DQbANAg12y+imb421qIICGu0r10zZXe53Rlb4TAOp39eqnDVaXHjUBgAAVrX6afBVOkQbQJOVUP63b3+qtUwMBNEKZ1U/77ujB9pgaCCBw5Vc/Tb1NhFOkAQTLV/XT7okayNtEAISoO/JZ/bSxfKuc2QaAMAxF9avkQgabvE0EQEhE79er8FyVwXh7ixoIIACV9X7zBqs9TpEGUK+Ke795g8UXVgWAKsje7706z87jbSIAalFj7zevu9HhbSIAqlR77zdvONra4W0iACoRSO83b8wp0gD8C6r3mze+L2qg2QaA0gXY+827x6eJAPBjONrqBdn7zVvlbSIAyjYcPdhuxgkng9UT3iYCoDTD0Q9OmnQlqsF6z/tVGQDEQFS/7eZdh28gT5GmBgIooGm937zuBlfSB3BVzez95lEDAVxFk3u/eRN5ijQ1EEBuze/95o3lW+Va818DwKe29H7zxjtbnCINYIl29X5zuJI+gExt7P3mbK72tkYTcwMAnNb2fvMG416HGgjgnPH3Wt37zRtMeZsIAGs8enAS1REC3iYCQBn/LspLiXY3trY5RRqIWtQXUp6Ixrfyj/MEEIZIe795Q66kD8SID9EwuJI+EBl6v3PkKdLUQCAK9H6v420iQAzo/S4yWOUUaaDN6P2yiRq41acGAi1E75fHYNrp9Dk1BmiTzfHOD6h+OQ36W51mfP4dgKU2X3yPg5yX09140BvzVjmg6TbHVL8rmYy2dnibCNBgovf7AdXvyu6NHtzn00SARqL3K8H4vqiBZhtAQ9D7lWa88+A+p0gDjUHvV67N8TZvEwEagd7Ph8G4t7XBKdJA0Oj9/Bms9zq8TQQIFb2fb4ONXo8r6QPhoferRnej0+NK+kBI7r7ggnbV+e7owTanBwJhGIxPqH4VG8qrSFMDgZrdfU/0ft83N1AhdWkxsw2geqr34/y02vA2EaAu9H4B4Er6QA3o/YIxGG9v8U8BVIbeLzCD9d5Wn9MDAf/o/YIkr6S/QQ0EfKL3C1i3v8Up0oAv9H7B625QAwEP6P0aQl5Jn1OkgRJ16f2aRJ0iTQ0EytB9b3uL3q9hOEUaKMHgve0OvV8jySvpUwOBKxO9H3u+TcbKBXBF9H5tIK+kz78icDn0fu0xWO11eJsIkBe9X9sM+p0trqQPLEfv104DTpEGlqD3azPeJgJcjN6v/SacIg0sQO8Xi3vUQOAcer+4jO9v8SFWgNKdduj9YsOV9AFBVj/OEYvS5npvazQxN4D4qN6P6hcv9TYRaiBiRO8HYbDe62xwSARxofeD1Z1udXibCKJB74dXdDe2/pVTpBEBej8sNNl4cEINRKvR+yHDkFOk0V70fljq3n1RA8020Br0fshJXkn/ntkGWoDeD5ci3yZCDUQrdPv0frgseYr0BqdIo+GofriqwTo1EE1G9UMxA7lyzGFhNBDVD2UY9Lc6U2ogGoXqh/J0Nx70/ic1EA1B9UPZJhsPdnibCMJH9YMf90ZbvE0EQaP6wafx/Qf3eZsIwkT1g3/ybSJcSR+hofqhIoPxNjUQIaH6oVK8TQTBmFD9UD11JX1qIOo1HHV6VD/UYrDR63ElfdSmK6rfe3fNDaB63Y2tHqcHogai9+u8R/RQt++OHvQ4PRCVovdDQCbyKtLUQFRjOPo/9H4IC1fSb7/vrITgsz98+qnZrNF3zJggEPWH8/d//OMP/tts14tw+rHy8ccffviw5v89/K+zh8rHDz+uzcOHK2ZMEIiVSuMgcih/F0E459Hth49q//Ux4fRkxfwz18vUv5qRscCEEc4wEE4/yJhDxgJDOB3C6QcZsz4mY4FZeXV3NGKE0w8y5pCxwDA7W8zOnpAxi4yFhtnZIpyerHxoRhh0gKFhdnYIpx9kzGKSDQ0doEU4PSFjDhkLDLOzQzj9IGMWk2xomJ0twukJa4AOGQsMs7NDOP0gYxaTbGjoAC3C6QkZc8hYYJidHcLpBxmzmGRDw+xsEU5PWAN0yFhgmJ0dwukHGbOYZENDB2gRTk/ImEPGAsPs7BBOP8iYxSQbGmZni3B6whqgQ8YCw+zsEE4/yJjFJBsaOkCLcHpCxhwyFhhmZ4dw+kHGLCbZ0DA7W4TTE9YAHTIWGGZnh3D6QcYsJtnQ0AFahNMTMuaQscAwOzuE0w8yZjHJhobZ2SKcnrAG6JCxwDA7O4TTDzJmMcmGhg7QIpyekDGHjAWG2dkhnH6QMYtJNjTMzhbh9IQ1QIeMBYbZ2SGcfpAxi0k2NHSAFuH0hIw5ZCwwzM4O4fSDjFlMsqFhdrYIpyesATpkLDDMzg7h9IOMWUyyoaEDtAinJ2TMIWOBYXZ2CKcfZMxikg0Ns7NFOD1hDdAhY4FhdnYIpx9kzGKSDQ0doEU4PSFjDhkLDLOzQzj9IGMWk2xomJ0twukJa4AOGQsMs7NDOP0gYxaTbGjoAC3C6QkZc8hYYJidHcLpBxmzmGRDw+xsEU5PWAN0yFhgmJ0dwukHGbOYZENDB2gRTk/ImEPGAsPs7BBOP4LO2A+PzcbrDpJDs1UaJtnQBDs7/6jSYEqE05Py1wAPdpMkmR0dmJsF7CXJhUE7mB2ZrfKQscD4mJ2PD5OZTtWz5D/U18urOpgS4fSj9Iw9E+Vv/1D89kNzh3GY7Jmt3PaS/QtzdjyjA2w9Lx3gLDE92rPkifp6eRUHUyKcnpSdMTE5PpVfD47OR+Tjw+R/m81SHCR0gK3nZX1mtj9L1O7J1QtgFh/BlAinH2VnbKbr3+uOLt8BZqEDjICXDvDn+890A3f1XeAsdIDNUvIa4PmdA7UcuC8Ln9wQfiE2n+6LjSfqWcfmbhmZp3K3eV9NzQfJk4N98ULpZCq/Y/ZE/DC416MDjIGXNcDZ7PhQzdK6A9zTO8QHKrgyeSJjs4OHIoCJ2YlxgV0cTPET5DmYEuH0o+SM7c7vVuzNksNdUddEMPZEQo5+8xtR356JDXFD1Un5uMjQroijuls895m4+zg5miX7ybGZTOW37s5E8Zx7PZHjX8nHysQkGxo/HWByrKfptACqIP1oti8K2Y9mRyKOImJPkn2RTNMo2sAuDuZT38GUCKcn5WbsQz23GnvqUPBTPcUe6oWXg+Rn8suufJ5OoHpgL1EP68NrB4+TffkkPZmapnLv4Nzr0QFGwEcH+KHoAEXmRPLSAqiCdPCJjNzBJ+rWr0QFFF/UWuFB8mv5uAqseLiWYEqE04+SM3Y0XwA1MW3KL2YNUAVJzpMiLLvqrqdyx9jcrb8ez/RZBnqiTR9K6dfzsNTCJBsaXx2gTthPTQFUQTqeqRZP9YEikiqyP01+ej6wLpiyy6ssmBLh9KTcNcDzHaBIw9Oj3aPkI7lpOsDD5EjcJe4UU+muuuuZ/BbzqJ6V00n04LH8On/+jHu9g0/0c8pExgLjpwP8RER+V0TslQ5QNnomVXvqEf0EEdifpIFNQ6e/vh5MWRZ9BFMinH6Uvga4a7ak3URRU6LpAI/0XUmy/7FJoMqRmVrFXWqiVSXTTKY/Ng8Jc6/HGmAEvHSA+ypPYvc2LYAqnmkHqG6YAqhaRBdY0TiamVk/TbaShgmmjCRrgM1Scsae6UUSbVcd1dWnxn+sezzzRTsWtexoX4XqI3OW4PkOUH1136Ff74fqXh9LLWQsMD46wOPZJ7Ju/TQ5fGoKoAqSXupb2AG6wKbv8kg7wPPB/JG6lw6wWUrO2PFMHcfV9D6CmVXPrwEqH8mDavoEg13zbWoNMV1G0Z3grlyJUfTr/VDdmz6nREyyofHYAYoW8Ikqc8f6UEbaAar2bb4Azgf2+JM0mPJp7pH5oHsIpkQ4PSn7vcBiZ0DF4uDwwEyRcrlFfVH3pycK7h3IzImAP5e3xN3quU8TuQidTqK6yzNNpfiG9PVk+nxMtGQsMJ46QBX5fxO7rKoA6mO9M5Uys18xvwssAqueL/LnOkD1tJ+ao8D/9vBXc0GnA2yW0jP2RARrX546uifKWXIkl1DUlChPp/qZqIGiQv5sV9z7C5kj6dfqHIJ/l8995VQq2zsmR7+RZwimr6c7wNKXWphkQ+PtKLAkkqTKnAisSNW+Ov67oAOUgd2XgX1mAyk6QVXkRFzlGYJPzwWdDrBZys/YnshFsq+q2i9kKNJpUy4Uy4W+PVkdRX8o7xHJkmdC27vVd6XzsP2qrq8gszj3enSAEfDRAarzACUx/epdWBmvXx7P1BqgTty5AjgXWBtME75nn5hgPpNXWPAXTIlw+uEjY47ev72AWX4WuxL/rr7mkPl6RTHJhsZLB/g6r6kqCeH0xO9ngmQGOC2Ar55QmsHvDwQZC4zf2dmqpswWRDj9qChjC4n9hp/s/uQTc1ikdkyyoamoA2wCwulJnRk7fqJWV56GEnMyFpg6Z+fQEE4/yJjFJBsaOkCLcHridw2wWchYYJidHcLpBxmzmGRDQwdoEU5PyJhDxgLD7OwQTj/ImMUkGxpmZ4twesIaoEPGAsPs7BBOP8iYxSQbGjpAi3B6QsYcMhYYZmeHcPpBxiwm2dAwO1uE0xPWAB0yFhhmZ4dw+kHGLCbZ0NABWoTTEzLmkLHAMDs7hNMPMmZ9SMYCw+xs0QF6whqgQ8YCw+zsEE4/yJhDxgJDB2jRAXpCxiwyFhpmZ4dw+kHGHDIWGGZni9nZE9YALQ6ChIbZ2SGcfpAxh4wFhg7QogP0hIw5ZCwwzM4O4fSDjFnsAoeG2dmiA/SENUCHjAWG2dkhnH6QMYeMBYYO0KID9ISMWewCh4bZ2SGcfpAxh4wFhtnZogP0hDVAh4wFhtnZIZx+kDGLXeDQ0AFadICekDGHjAWG2dkhnH6QMYeMBYbZ2aID9IQ1QItd4NAwOzuE0w8y5pCxwNABWnSAnpAxh4wFhtnZIZx+kDGLXeDQMDtbdICesAbokLHAMDs7hNMPMuaQscDQAVp0gJ6QMYtd4NAwOzuE0w8y5pCxwDA7W3SAnrAG6JCxwDA7O4TTDzJmsQscGjpAiw7QEzLmkLHAMDs7hNMPMuaQscAwO1t0gJ6wBmixCxwaZmeHcPpBxhwyFhg6QIsO0BMy5pCxwIQyO598bjZqRDj9oAO02AUOTSiz86PObx+ZzbrQAXrCGqBDxgITzuz8budLs1UXwunHSgg++/3Kp5+Z7TqZMUEgzD9Lzf4of/vsD+pLjcyYoH3GO5tfGezsDMxNIByD7XW9sd7r6g2gVOs76su9zlR9BcIx6QzN1le6vb7ZAsoz2jAbmxu9idkEgjA9t1/S7901W0BJdub6vm5vg/1ghOP+yGwYE5pAlGrQs3sYyvSV20BtJr2x2XL6PaZolGbw2k7vYPuE3QyEYLjwqEd36/WqCFzJZNF0OuRgCAKwcWI2XnX/hCYQZbjXMxvnbfbZD0bdehdPw8OOOTMGKGCqT39ZYMLBENRq6M5+WWAwoglEUf1XjrCdM+2w0oLavFh2qGPYuWe2gKvYPMnejRic8M4Q1GPw6tkvCwxO7pNPXNnmztIOb7iVniENVGiw4OyXBcbspOCqutt5DnP0eWcIKjfO+57fwQ5NIK6kmzNj3d6IkwJRqf4ljm+MOV0BVzDe3jRbS71gPwMVuptx9ssCgx7LNLis8Unu+icXpLe5ChEqMrn0oss083wZ4DUbyw+xnTPc4p0hqMT0Cm/0pQnEpfzu8tfT6G8xy8I/e2G2y5lyrA553T25ypreoDfieBv8WnTtl3y6l1s4RLw2t79vti5pTMbg1bBIH8cJW8gj7+kvCwxGJ981m0DpLrz2Sz4TJmgsNSx0Mclhb8p+MLwYnBS+0jNXSsUSLy5z+ssiG5x3Ch8mZQRryCmryNL/ntm4ukHvPu8MQdnG5TRvgxFNIC40KuXjZMZckBzlGozum63CaAJxkZP3zEZRIw64oUTdkxIPXwy4XD4WuVvi6h0fTYjyDDvlnlxwj5P28Zq7nVLfz9u/8imrwDn9XsEDc6/hSql41bBTcsruEjKU4G6Zu7/WmCYQ876f/+pXuY357EwUNfF0JReaQMyZFjvH/gKD0dXfVQIISz/56OrGHKmDMbrk1a9y47MzUUR5Z78sMCCckDa/V9bpLwtwMUpcVdf3gTQukgX54ZdeYzbYOWE/GFcw7HgvTzSB6Hp/8y4HQ3AFG0Xflp7LdIcLGEVtUsXHeWywq4HLKeHaL/lMuFx+zC7x4W9FkDJcSinXfsmpz7kK0brUh78VMuUKCcgt9wefl4LpOVaX/fC3IgYnO6w3I48Sr/2SE1dKjdFmOVe/yu1ehyskYLmBlze/ZZt01s0WYnG1D38rYpODIVjqXsnXfsmJi2RFZnO7hjOUJ70NLheNLNPtmgrRcIsmMCLDmg598c4QZLh7UuPxiPusUkdjuF1XJzbY5p0huID/s/Iz3eNy+ZEo/OFvRQw5GIKFPF77JZ/ByYgmMAIlfPhbIf16J3oEaXNjx2zVaEwT2H4Vn/6yAAdD8Kq7PY8XJcpvsFPhybGowWZpH/5WxLT3wmwBwiSYU6TWOU7XZnfrOP1lgc0dTryCNS39k4+ubsBb49qr5A9/K2K4Rc6gDHbCigIna7VV6R/+VggHQyBNevfMVii6NIGt5OPD34ro9kYcDIneuBdgCLhcfgv5+fC3Ql5w2kHsRr81G2GZ9LiQect4+/C3IjZ3TphqI3a3F+xbcPs0gW3i9cPfihjymSHxGoZcZGgCW8Tzh78V0t/iYEicpoGfC7XBG9dboua3mS8x6N3npMD4hHb2ywJD1qhboZIPfytizN5GdLx/8HkZNu+H/qOD5Sr68LciBqMTPqE1KrVf+yWnYYd3bTZcdR/+VsSw12c/OB4hXPslpxFXSm20Kj/8rZAN3hkSi26jljzGndDeqoLcqv7wtyK6O7/lnSExCOfaL/kMTjhK11DVf/hbIWM+QD0C0/DXpF815lStRqrlw98KGXH+fds18pqjXC6/ier68LcihlyJo9UmTTj7ZZF1puamqe/D3wqZcvZpe91r4JxsDHobNIFNUuuHvxXBmnNrjcK7ItElcJGsJqn7w9+KGHOFhDYabDf8n3XQ4zOTmqJBp78ssDlq7q4SLjBswaXmp+SyEcL48LciJh1WXNqlKW9+yzbhIF0DhPLhb4Xw2TRtMrjflr3HPk1g6LrhfPhbEYMdrsfWFnebevbLApNeo5eX2m8Y0KesFsPBkJZ40a6uaYNPtQ5YaB/+VghXSGiDfnOu/ZIPH+QQrn6jT7V6DYvOjXe3hZe7HXCRrEA1+/SXRaZcIaHRmnbtl5xoAkO0ebJqtlpk84TZtrmm2y39xxuMuD5CaDa329ks3etw3K2hgvw46pKMedd6WLqtPUNpc4O3YTbRpNfqT9TgIllBaW/9Eya9DS4X3TRNvB7b5dAEhmPcmtP/FuOdIU2z0dTrEV2CaALNFuo1btfpLwsMTviQ1gYZnMSxcLvOxByCNi82W0MOhjTGMJpT2Lucqlq7zVEkJyX1mW6bYdqKa7/kxOpMzRr24W9FcDCkCQajuJqiLtdHqFMrrn6V27TT6lMr2uDudgvPx8/G5fLrM4zs2MDmDhfjCNq9ToTFYNLCdzw3Q0M//K2I4RbLzuHq98xGZPo0gXV4L4KTrV7HwZBQ3T2JthOiCaxBP9LzMO/2RhwMCVBjP/i8FBtcw7xiv4v36NML3oUUntZe+yWnIaGsVHxH2+Zs7pyw6BKWKE7Hz7R5n7crVeZu7NeLH3amMS6Ahiru3d8UTWBVWn31l5w4GBKOIUdBFS6XX41hj6MAchbgYEgYNlp/NY7cxp17ZgvejLfNRuzGnHwQgMEJp2Y6g5P7NIF+TZlvU4MRJx/ULZ5rv+Q03mJAfNrgMoxzhr0NJtw6jVmOfpVoicmkL6388LdC+nQg9RmM7pstzFmP8S3RlWjrh78VMdj+LQdD6jE4ec9s4ZwBOyZecPrLQmM+QL0W9zgT6UJcJMsD6t9FRsStetNtzkW/mGgCzRZK0vYPfytiSNwqdpezX5bo06+Uqv0f/lbIlPchVanb+77ZwkUmzMol4t3mS3AKaoVexPTJR1dHE1iWaD78rYhxh0GqxObGjtlCthZcKfU7KyH49LPPzFadvmPGZKEQBurTT81GzTIHqqj6B/rTP5qNugUfyJWV35uv9SoQyJXnpyGYTE4np6f1/l2er5gxWWjleV1/u+fq1+R0+Fz839xXq+yBKmpFBKFO060Xk+diqPWvOjO5JJCT2v5uKpHa5HkAkSwSSPFzLf+56/6fGUzxv/p+LS2A80+u7pcbH0UNUs3/81sA6/2P3OilP9uKurOuX8sCOffUan+dN/9IHb8KBVIOI7SleYNy6r0A1mfyX2YjBAQyl0mRQK6cm+/iRt5y8lsASWSKQOZUpACal8CSxoafS6vNHWBQKID50AGWg7zl5LcAkshUdiAZJ6tIATQvAQpgXnSA1ViyS2KeBTrAkmTnjYGy/BZABjpFAcypSAE0LwEm3LzoACtCIPOhAyxHdt4YKMtvAWSgjSUzMuNkFSmA5iVAB5gXHWBFCGQ+dIDlyM4bA2X5LYAMdIoCmFORAmheAnSAedEBVmNJIJkoUnSA5SBvOfktgAx0KjuQ5kmgAywHHWBOdIDVIJA50QGWIztvDJTltwAy0CkCmVORAmheAky4edEBVoRA5kMHWI7svDFQlt8CyEAbS2ZkxskqUgDNS4AOMC86wIoQyHzoAMuRnTcGyvJbABnoFAUwpyIF0LwE6ADzogOsxpJAMlGk6ADLQd5y8lsAGehUdiDNk0AHWA46wJzoAKtBIHOiAyxHdt4YKMtvAWSgUwQypyIF0LwEmHDzogOsCIHMhw6wHNl5Y6AsvwWQgTaWzMiMk1WkAJqXAB1gXnSAFSGQ+dABliM7bwyU5bcAMtApCmBORQqgeQnQAeZFB1iNJYFkokjRAZaDvOXktwAy0KnsQJongQ6wHHSAOdEBVoNA5kQHWI7svDFQlt8CyECnCGRORQqgeQkw4eZFB1gRApkPHWA5svPGQFl+CyADbSyZkRknq0gBNC8BOsC86AArQiDzoQMsR3beGCjLbwFkoFMUwJyKFEDzEqADzIsOsBpLAslEkaIDLAd5y8lvAWSgU9mBNE8CHWA56ABzogOsBoHMiQ6wHNl5Y6AsvwWQgU4RyJyKFEDzEmDCzYsOsCIEMh86wHJk542BsvwWQAbaWDIjM05WkQJoXgJ0gHnRAVaEQOZDB1iO7LwxUJbfAshApyiAORUpgOYlQAeYFx1gNZYEkokiRQdYDvKWk98CyECnsgNpngQ6wHLQAeZEB1gNApkTHWA5svPGQFl+CyADnSKQORUpgOYlgnD20GwsdJb8ymz5EfiEe5bsy+FZNkaHZssjOsCKBjrsQJ6XnUu/Qu0ATw/Fz6x6/S+SJxN1V6a/JcnLjL/O8a2jHC9SQHbeqphwj3cT4fBzc/Oc47XD08nSMZp5HiPFbwH0PNAvHycl/KxWMdBLZuQqApkSg6aS+aW5/Zq/ZufSsyIF0LyEF7MkeUttPE2eqK+ZJgfJftYYns0+Mlt+1N4Bnj6VGTsUv72/4Ef0bLb/8vlzMUbi9wudrR2ZLY+a3QGe7idnZtM6TA7MVl6VDHTdgZwzS+7svrGfJE/NbUsPnfzZzcqlX8F2gLP9WaLmjC+Sv6t7lphkTaqnZ0nLO8AvkuQvYggme7eSfzB3zXmUHIq/gnjY3F7o0Rod4BIvZ8mrf8LpUfL5JYetkoEOpwCezmYvRfTEDP1KnyeHTm1k/uz6VqQAmpfw4XT/11+oiUEMXI4OcJnWd4AzUf/kVzGdLthL0x3gEr7HSGl8B/ja4B4F2QEuCaT/GXmOHrTJ7LWBuvzQlS/cDnDt5VvJX8TWF6al2ZP7d3oh4Th5crabJD8+Pv3wZ0lyJP8ax4kM1XHyS/nAvh7XsyfyO9T2se9Jt+a8icnCbIlU/VmN0KOfyVXU02diDJ58uSY7wHSM1OCZMXpU4Rgpfgug54E+nd0SXcz8CKqFV713pwL6dznRmNH/u5m6n8mvcwP96HFUu8Bp2/yR2qNz42CHTufy3E94hYoUQPMSPsi5Vq8NmA5QdNB3dsUIyaidPX7/cSJvPEv239hXRzj1rCoeWEveEA+IAT79Uozm7g29fXbLb+bq7gCf2B1f0TGL/1Q1Qm8mDycibnIM1EjqQVAPmTF6fvDYjpF52LNmd4DPbyZnzydzIzg5eGNN5HL3y4lchP3JG2KgZRj16H9u+u7rycHk3ECbH3if6g7kHNM2P5rJ9dPPP0nHYXKwe0sPnf7ZlQNof8KrE24HeOvl8CN5APipWgP8W5I8mkwme2oH73hNRGgiep3kH0TPMku+nJjDvPoBWQPEjYP3j7vptvfMZefNdwd4+v+SPbMpmkHxHywGYl8MhNwhPu1OHs6SN8Vf4ZEaivNjdMeNkRhC8xI++S2AngdaNzPHt+ZGUKTwS7mGdbx2Ta6xPkn+nI6+fEiucf1NPk+EUfxz2IGW3+hXvYGc91K1zY8Ok2fiv9qNw+nzyWEibqTjIaJqfsKrPSRcpACal/DhVM61Z7Pk4VB3gCJY8m7R0fxFTMEzechXDqO8689yzjibyRP9xAPyWWe31GlvytnaW+LV2t4BHtl5U9S8QzlCerHqT2r2kAOWdoBm8NIxUj+JZ7ND+YAcKd+a3QGqo8CvjKBeyBLB/E/5Rc20ZvRFQHV05UqOHmgdRpVVz2oO5JzJTO3qmoS6wD2fmKFT4zH5k/0Jr7QFDLcDXBOv/icxU3yR/F0M2qE+JCz6QbGvZ6bQv+n9PnXXo7Wj7qls9OQDp7M35QPPz/be391Vd33Y7jXA00PZeGi6A7x1pytvHOpDlMe3ZAeoF/nM4L20Y7S7e0eNUSWNSbM7QHlA85URFEOvknmYiKwJ8nSsR4+P1Og/SkTvcyq6Rvl0OdA6jFUcBV4yI/sO5DzRNu+KXdt9sZ8mPRTj8L7+ORVDJ7+o8Tz9yBwSVj/OFSpSAM1L+KAXDuSRIzWNpoffxKT6kZxIVet3kPxS3qeeILob8Y96NtON3s9lwzMxq6ziG7xPujV3gGLaVAulkto8e6yP6JrjbKpn0TOtGTwxtGqByoyRvOtsjaPAy1xPHp7qLi8dQdPGiJE2xEin+xvisaeTz/WzXRjtw17VG8hzxM/uZPK3RJ9CORc4M3Ri90yOys/nf8KrE24HKCZPuQB49HU1I/zKdIDqrEDzM3yQPJET7VPZIoruRnSA5kDm6Uwe9BST8aOJmW7Fd+j5x5fsvHmfcM16lHD6ll6F0reP9LAd35JLA7pzMf1LDWOk+C2AngdaHwU2HZweQZlMeUuuZ4n9u4leDzQjeSB+0HdVc24GWrfaVQx0OAVQrwGKKMp3dM2PQ/pDrcbzVK6lylvpWR9VKVIAzUv4oNYAxXxwPXkm+7x0ZUAMk1zwUwVwKAqgfIruAGdvyR7HzK2qA1RL0JOH6rmmZHpTcwco/vt0HyJLoVygMgMx+ZMatlO1BmiOtun5VszL8i69TK/PAOQ8wOVUKtOU/XiuA5xfuhKttllNFXswZzfVgmE60OI7xcP+B3pJID1PFOfoH2X5fg/R4s0HztzQuysmqvInXC6mVibcDlCuAapjQ2odXx4jEl/2kv2hXUQ50O8RMU3hT3QHKO9Rc7NohcT8cvofarL50HMBrLsDFDu+yZ74U+Rpf7LhEG2eulu/Q/BRoo4C2w5QPvJSHi/SYySmZXlXJY1JszvAlyqVJkwvZ7+WX3SHJ0b6mvrD947nR/JJsqtCKvsb8cUMtPnH8So7kOZJlZCLoPLLkRwovWKq10LTodPDJX7CxdDJn3Dxe4WKFEDzEj6o423y61Gi+zzxE34kzxKSc4bu6kwHqNYARY+j1rd0tE7lrCs6Q/Eda2q5QTzs9whn3R3g86FcgzrcF789kzfPHuv/Xnm3GLVfH6q2UB+D1A+dqg5QjZFZkqEDXEouRU/SUwrMGuBf5Ag/VQE93P2NOthpR1KehqQbxDSMcuzTfxyfag+kY9bvxRAcqdFSgZMDlA6dHs9zP+HVCbcDfCzX6J9Pjm/pN3lN9q6Jcds9ltumAzRHgdVh4g9VB+iOAsu/2tNb8sRydekNsfcnHvYoO29e/2jjr+p85/fVAKUjJIZCxCr5YnIkp1XRJcvf0zFSK1hPZ2KM9OVJKmlMmt0B6jVAM4Iv9QjK5lu1NX+V08+hHH83+qLF3tebKoxmoG2D6FH9gUzpQZPjJWvbX1zgzNBNzH6bHsDdR/7H5pwiBdC8hA9yQVn9K8kNRS8x6385dZKBe0AMcve5fEh8UdQX/Q16Wzzg9d88gAlX/eeKX5oZCHH3ZCK39f3q9/Sh9C7xDP1u9PR7fWp2B6jHN03Z/AiqDbk1lFt29M13mA39T/Fc/+5Z/YG05LiYr/J38VVv6W05nulN+0B1Qu0As73+B5t7FvyNqvlLZuet+oHK+BOr/8vM81sAq/lvW/qnXPgE/UAFf8slM3I145RbnX+dIgXQvARC6ACbodkdYIMQyHya2QGGJztvDJTltwAy0CkKYE5FCqB5CdAB5kUHWI0lgWSiSNEBloO85eS3ADLQqexAmieBDrAcdIA50QFWg0DmRAdYjuy8MVCW3wLIQKcIZE5FCqB5CTDh5kUHWBECmQ8dYDmy88ZAWX4LIANtLJmRGSerSAE0LwE6wLzoACtCIPOhAyxHdt4YKMtvAWSgUxTAnIoUQPMSoAPMiw6wGksCyUSRogMsB3nLyW8BZKBT2YE0TwIdYDnoAHOiA6wGgcyJDrAc2XljoCy/BZCBThHInIoUQPMSYMLNiw6wIgQyHzrAcmTnjYGy/BZABtpYMiMzTlaRAmheAnSAedEBVoRA5kMHWI7svDFQlt8CyECnKIA5FSmA5iVAB5gXHWA1lgSSiSJFB1gO8paT3wLIQKeyA2meBDrActAB5kQHWA0CmRMdYDmy88ZAWX4LIAOdIpA5FSmA5iXAhJsXHWBFCGQ+dIDlyM4bA2X5LYAMtLFkRmacrCIF0LwE6ADzogOsCIHMhw6wHNl5Y6AsvwWQgU5RAHMqUgDNS4AOMC86wGosCSQTRYoOsBzkLSe/BZCBTmUH0jwJdIDloAPMiQ6wGgQyJzrAcmTnjYGy/BZABjpFIHMqUgDNS4AJNy86wIoQyHzoAMuRnTcGyvJbABloY8mMzDhZRQqgeQnQAeZFB1gRApkPHWA5svPGQFl+CyADnaIA5lSkAJqXAB1gXnSA1VgSSCaKFB1gOchbTn4LIAOdyg6keRLoAMtBB5gTHWA1CGROdIDlyM4bA2X5LYAMdIpA5lSkAJqXABNuXnSAFSGQ+dABliM7bwyU5bcAMtDGkhmZcbKKFEDzEqADzIsOsCIEMh86wHJk542BsvwWQAY6RQHMqUgBNC8BOsC86ACrsSSQTBQpOsBykLec/BZABjqVHUjzJNABloMOMCc6wGoQyJzoAMuRnTcGyvJbABnoFIHMqUgBNC8BJty86AArQiDzoQMsR3beGCjLbwFkoI0lMzLjZBUpgHDMmCxkngLJjIkX5o+AYIZkIfMUSGZMivhfMTNjsJx5frTMMFTB/ImRMoOwlHl6vMw4AAAAAAAAAAAAAAAAAAAAAAAAAAAAAAAAAAAAAAAAAAAAAAAAAAAAAAAAAAAAAAAAAAAAAAAAAAAAAAAAAAAAAAAAAAAAAAAAAAAAAAAAAAAAAAAAAAAAAAAAAAAAAAAAAAAAAAAAAAAAAAAAAAAAIGpf+cr/BwIneik8KubzAAAAAElFTkSuQmCC)"
      ],
      "metadata": {
        "id": "_qx0UOHKe41S"
      }
    },
    {
      "cell_type": "code",
      "source": [
        "# Mengetahui kolom yang termasuk fitur numerical dan categorical\n",
        "numerical_features = credit_risk_df.select_dtypes(include=\"number\").columns.tolist()\n",
        "categorical_features = credit_risk_df.select_dtypes(include=\"object\").columns.tolist()\n",
        "\n",
        "print(\"Numerical features:\")\n",
        "pprint(numerical_features)\n",
        "print(\"\\nCategorical features:\")\n",
        "pprint(categorical_features, compact=True)"
      ],
      "metadata": {
        "colab": {
          "base_uri": "https://localhost:8080/"
        },
        "id": "FNqaVV12cYg4",
        "outputId": "352b3719-2f63-433e-f2d4-9b4e39a59f3f"
      },
      "execution_count": 11,
      "outputs": [
        {
          "output_type": "stream",
          "name": "stdout",
          "text": [
            "Numerical features:\n",
            "['JmlAnak',\n",
            " 'Pendapatan',\n",
            " 'FlagPhone',\n",
            " 'JmlAnggotaKeluarga',\n",
            " 'Pengalaman',\n",
            " 'CreditStatus']\n",
            "\n",
            "Categorical features:\n",
            "['JenisKelamin', 'KepemilikanMobil', 'KepemilikanProperti', 'TipePendapatan',\n",
            " 'TingkatPendidikan', 'StatusKeluarga', 'TipeRumah', 'KategoriUsia']\n"
          ]
        }
      ]
    },
    {
      "cell_type": "markdown",
      "source": [
        "#### Rows dan unique value"
      ],
      "metadata": {
        "id": "a6AluoMalwvD"
      }
    },
    {
      "cell_type": "code",
      "source": [
        "# Melihat isi data dari setiap kolom\n",
        "for feature in df.columns:\n",
        "    print(\n",
        "        f\"- Rows value pada kolom `{feature}`:\",\n",
        "        credit_risk_df[feature].unique()\n",
        "    )"
      ],
      "metadata": {
        "colab": {
          "base_uri": "https://localhost:8080/"
        },
        "id": "a_Zj6XH7npId",
        "outputId": "be53e479-489c-4536-f189-92153cd1ad4e"
      },
      "execution_count": 19,
      "outputs": [
        {
          "output_type": "stream",
          "name": "stdout",
          "text": [
            "- Rows value pada kolom `JenisKelamin`: ['Perempuan' 'Laki-laki']\n",
            "- Rows value pada kolom `KepemilikanMobil`: ['Tidak' 'Ya']\n",
            "- Rows value pada kolom `KepemilikanProperti`: ['Ya' 'Tidak']\n",
            "- Rows value pada kolom `JmlAnak`: [0 1 2]\n",
            "- Rows value pada kolom `Pendapatan`: [270000.  130500.  157500.  112500.  135000.  211500.  126000.  247500.\n",
            " 297000.  216000.  225000.  315000.  148500.  202500.  180000.  292500.\n",
            "  74250.  144000.  193500.  139500.   76500.   67500.   90000.   81000.\n",
            " 198000.   45000.  238500.   99000.  360000.  279000.  306000.  189000.\n",
            " 328500.  310500.  171000.  121500.   72000.  184500.   94500.  256500.\n",
            " 166500.  196650.   40500.  243000.  162000.  103500.  257625.   58500.\n",
            " 207000.   54000.  234000.  117000.  261000.  175500.  337500.  119250.\n",
            "  63000.  274500.   85500.  108000.  145350.  173250.   36000.  118350.\n",
            " 153000.  123750.  252000.  220500.  133650.  265500.  227250.   51750.\n",
            "  69750.  288000.  234135.   74061.  175950.  364500.  240750.  333000.\n",
            " 342000.  115200.  120150.  229500.  191250.  159750.  132750.   91530.\n",
            "  97731.  170302.5 160200.  134419.5  38700.  324000.   62653.5 351000.\n",
            " 215550.  122400.   60376.5 110250.  369000.  185400.  129150.   31500.\n",
            "  69372.  134995.5 346500.  164250.   60750.   49500.  171261.  128542.5\n",
            "  73350.  124200.  178200.   82350.   78750.  360450.  373500.  143100.\n",
            "  87750.  283500.  204750.  187650.   32400.  147150.  119700.   27000.\n",
            " 355500.  140850.  101250.  105750.  114750.   95850.   47250.  155250.\n",
            " 267750.   83250.   90900.  116653.5 378000.  168750.  176400.  146250.\n",
            " 213750.  231750.  132372.  265581.  184135.5 191700.  253800.  176175.\n",
            " 190399.5 222750.  254700.  179100.  301500.  151200.   36900.  195750.\n",
            "  87448.5 326250.  116100.  215100.  179271. ]\n",
            "- Rows value pada kolom `TipePendapatan`: ['Asosiasi komersial' 'Bekerja' 'PNS' 'Mahasiswa/Murid' 'Pensioner']\n",
            "- Rows value pada kolom `TingkatPendidikan`: ['Graduate' 'Post Graduate' 'Under Graduate']\n",
            "- Rows value pada kolom `StatusKeluarga`: ['Belum Menikah' 'Menikah' 'Cerai']\n",
            "- Rows value pada kolom `TipeRumah`: ['Rumah Pribadi' 'Sewa Apartment' 'Apartment Pribadi' 'Rumah Orang Tua'\n",
            " 'Apartment Kantor']\n",
            "- Rows value pada kolom `FlagPhone`: [1 0]\n",
            "- Rows value pada kolom `JmlAnggotaKeluarga`: [1 2 4 3]\n",
            "- Rows value pada kolom `Pengalaman`: [ 8  3  4  9 19  5 13  2 30  6 12  1 16 24 14 25 27  7 10 20 15 11 23 21\n",
            " 22 17  0 18 28 32 33 26 31 29 35 34]\n",
            "- Rows value pada kolom `CreditStatus`: [0 1]\n",
            "- Rows value pada kolom `KategoriUsia`: ['lansia' 'dewasa' 'remaja' 'manula']\n"
          ]
        }
      ]
    },
    {
      "cell_type": "markdown",
      "source": [
        "### 2.2.1 Encoding"
      ],
      "metadata": {
        "id": "UYvsjYGRgDEo"
      }
    },
    {
      "cell_type": "markdown",
      "source": [
        "#### 2.2.1.1 Label Encoding"
      ],
      "metadata": {
        "id": "DQs5WR6nzJfD"
      }
    },
    {
      "cell_type": "code",
      "source": [
        "# Label Encoding: digunakan untuk tipe data ordinal\n",
        "\n",
        "from sklearn.preprocessing import LabelEncoder\n",
        "\n",
        "# Creating initial\n",
        "cols = [\n",
        "        'TipePendapatan',\n",
        "        'TingkatPendidikan',  \n",
        "        'StatusKeluarga',\n",
        "        'TipeRumah',\n",
        "        'KategoriUsia'\n",
        "        ]\n",
        "\n",
        "# Creating instance of labelencoder\n",
        "labelencoder = LabelEncoder()\n",
        "\n",
        "# Assigning numerical values and storing in another column\n",
        "for col in cols:\n",
        "    credit_risk_df[col] = labelencoder.fit_transform(credit_risk_df[col])"
      ],
      "metadata": {
        "colab": {
          "base_uri": "https://localhost:8080/"
        },
        "id": "noLUc0UefJBf",
        "outputId": "61fcfccb-be4c-455d-d295-564eeb1f3148"
      },
      "execution_count": 50,
      "outputs": [
        {
          "output_type": "stream",
          "name": "stderr",
          "text": [
            "<ipython-input-50-375d00a2854a>:13: SettingWithCopyWarning: \n",
            "A value is trying to be set on a copy of a slice from a DataFrame.\n",
            "Try using .loc[row_indexer,col_indexer] = value instead\n",
            "\n",
            "See the caveats in the documentation: https://pandas.pydata.org/pandas-docs/stable/user_guide/indexing.html#returning-a-view-versus-a-copy\n",
            "  df_drop_duplicate[col] = le.fit_transform(df_drop_duplicate[col])\n"
          ]
        }
      ]
    },
    {
      "cell_type": "code",
      "source": [
        "credit_risk_df.head()"
      ],
      "metadata": {
        "colab": {
          "base_uri": "https://localhost:8080/",
          "height": 270
        },
        "id": "-UKBRiFCf2FE",
        "outputId": "73d37c6c-8af9-4649-e287-461e0bb65336"
      },
      "execution_count": 51,
      "outputs": [
        {
          "output_type": "execute_result",
          "data": {
            "text/plain": [
              "    JenisKelamin  KepemilikanMobil  KepemilikanProperti  JmlAnak  Pendapatan  \\\n",
              "0              1                 0                    1        0    270000.0   \n",
              "7              1                 1                    0        0    130500.0   \n",
              "9              1                 0                    1        0    157500.0   \n",
              "12             1                 0                    1        1    112500.0   \n",
              "14             1                 1                    1        2    135000.0   \n",
              "\n",
              "    TipePendapatan  TingkatPendidikan  StatusKeluarga  TipeRumah  FlagPhone  \\\n",
              "0                0                  0               0          3          1   \n",
              "7                1                  0               2          3          0   \n",
              "9                1                  0               2          3          1   \n",
              "12               1                  0               0          3          0   \n",
              "14               1                  0               2          3          0   \n",
              "\n",
              "    JmlAnggotaKeluarga  Pengalaman  CreditStatus  KategoriUsia  \n",
              "0                    1           8             0             1  \n",
              "7                    2           3             1             0  \n",
              "9                    2           4             1             0  \n",
              "12                   2           4             0             0  \n",
              "14                   4           9             0             0  "
            ],
            "text/html": [
              "\n",
              "  <div id=\"df-ad0e59e7-9f51-41d1-adad-181a5eb57a35\">\n",
              "    <div class=\"colab-df-container\">\n",
              "      <div>\n",
              "<style scoped>\n",
              "    .dataframe tbody tr th:only-of-type {\n",
              "        vertical-align: middle;\n",
              "    }\n",
              "\n",
              "    .dataframe tbody tr th {\n",
              "        vertical-align: top;\n",
              "    }\n",
              "\n",
              "    .dataframe thead th {\n",
              "        text-align: right;\n",
              "    }\n",
              "</style>\n",
              "<table border=\"1\" class=\"dataframe\">\n",
              "  <thead>\n",
              "    <tr style=\"text-align: right;\">\n",
              "      <th></th>\n",
              "      <th>JenisKelamin</th>\n",
              "      <th>KepemilikanMobil</th>\n",
              "      <th>KepemilikanProperti</th>\n",
              "      <th>JmlAnak</th>\n",
              "      <th>Pendapatan</th>\n",
              "      <th>TipePendapatan</th>\n",
              "      <th>TingkatPendidikan</th>\n",
              "      <th>StatusKeluarga</th>\n",
              "      <th>TipeRumah</th>\n",
              "      <th>FlagPhone</th>\n",
              "      <th>JmlAnggotaKeluarga</th>\n",
              "      <th>Pengalaman</th>\n",
              "      <th>CreditStatus</th>\n",
              "      <th>KategoriUsia</th>\n",
              "    </tr>\n",
              "  </thead>\n",
              "  <tbody>\n",
              "    <tr>\n",
              "      <th>0</th>\n",
              "      <td>1</td>\n",
              "      <td>0</td>\n",
              "      <td>1</td>\n",
              "      <td>0</td>\n",
              "      <td>270000.0</td>\n",
              "      <td>0</td>\n",
              "      <td>0</td>\n",
              "      <td>0</td>\n",
              "      <td>3</td>\n",
              "      <td>1</td>\n",
              "      <td>1</td>\n",
              "      <td>8</td>\n",
              "      <td>0</td>\n",
              "      <td>1</td>\n",
              "    </tr>\n",
              "    <tr>\n",
              "      <th>7</th>\n",
              "      <td>1</td>\n",
              "      <td>1</td>\n",
              "      <td>0</td>\n",
              "      <td>0</td>\n",
              "      <td>130500.0</td>\n",
              "      <td>1</td>\n",
              "      <td>0</td>\n",
              "      <td>2</td>\n",
              "      <td>3</td>\n",
              "      <td>0</td>\n",
              "      <td>2</td>\n",
              "      <td>3</td>\n",
              "      <td>1</td>\n",
              "      <td>0</td>\n",
              "    </tr>\n",
              "    <tr>\n",
              "      <th>9</th>\n",
              "      <td>1</td>\n",
              "      <td>0</td>\n",
              "      <td>1</td>\n",
              "      <td>0</td>\n",
              "      <td>157500.0</td>\n",
              "      <td>1</td>\n",
              "      <td>0</td>\n",
              "      <td>2</td>\n",
              "      <td>3</td>\n",
              "      <td>1</td>\n",
              "      <td>2</td>\n",
              "      <td>4</td>\n",
              "      <td>1</td>\n",
              "      <td>0</td>\n",
              "    </tr>\n",
              "    <tr>\n",
              "      <th>12</th>\n",
              "      <td>1</td>\n",
              "      <td>0</td>\n",
              "      <td>1</td>\n",
              "      <td>1</td>\n",
              "      <td>112500.0</td>\n",
              "      <td>1</td>\n",
              "      <td>0</td>\n",
              "      <td>0</td>\n",
              "      <td>3</td>\n",
              "      <td>0</td>\n",
              "      <td>2</td>\n",
              "      <td>4</td>\n",
              "      <td>0</td>\n",
              "      <td>0</td>\n",
              "    </tr>\n",
              "    <tr>\n",
              "      <th>14</th>\n",
              "      <td>1</td>\n",
              "      <td>1</td>\n",
              "      <td>1</td>\n",
              "      <td>2</td>\n",
              "      <td>135000.0</td>\n",
              "      <td>1</td>\n",
              "      <td>0</td>\n",
              "      <td>2</td>\n",
              "      <td>3</td>\n",
              "      <td>0</td>\n",
              "      <td>4</td>\n",
              "      <td>9</td>\n",
              "      <td>0</td>\n",
              "      <td>0</td>\n",
              "    </tr>\n",
              "  </tbody>\n",
              "</table>\n",
              "</div>\n",
              "      <button class=\"colab-df-convert\" onclick=\"convertToInteractive('df-ad0e59e7-9f51-41d1-adad-181a5eb57a35')\"\n",
              "              title=\"Convert this dataframe to an interactive table.\"\n",
              "              style=\"display:none;\">\n",
              "        \n",
              "  <svg xmlns=\"http://www.w3.org/2000/svg\" height=\"24px\"viewBox=\"0 0 24 24\"\n",
              "       width=\"24px\">\n",
              "    <path d=\"M0 0h24v24H0V0z\" fill=\"none\"/>\n",
              "    <path d=\"M18.56 5.44l.94 2.06.94-2.06 2.06-.94-2.06-.94-.94-2.06-.94 2.06-2.06.94zm-11 1L8.5 8.5l.94-2.06 2.06-.94-2.06-.94L8.5 2.5l-.94 2.06-2.06.94zm10 10l.94 2.06.94-2.06 2.06-.94-2.06-.94-.94-2.06-.94 2.06-2.06.94z\"/><path d=\"M17.41 7.96l-1.37-1.37c-.4-.4-.92-.59-1.43-.59-.52 0-1.04.2-1.43.59L10.3 9.45l-7.72 7.72c-.78.78-.78 2.05 0 2.83L4 21.41c.39.39.9.59 1.41.59.51 0 1.02-.2 1.41-.59l7.78-7.78 2.81-2.81c.8-.78.8-2.07 0-2.86zM5.41 20L4 18.59l7.72-7.72 1.47 1.35L5.41 20z\"/>\n",
              "  </svg>\n",
              "      </button>\n",
              "      \n",
              "  <style>\n",
              "    .colab-df-container {\n",
              "      display:flex;\n",
              "      flex-wrap:wrap;\n",
              "      gap: 12px;\n",
              "    }\n",
              "\n",
              "    .colab-df-convert {\n",
              "      background-color: #E8F0FE;\n",
              "      border: none;\n",
              "      border-radius: 50%;\n",
              "      cursor: pointer;\n",
              "      display: none;\n",
              "      fill: #1967D2;\n",
              "      height: 32px;\n",
              "      padding: 0 0 0 0;\n",
              "      width: 32px;\n",
              "    }\n",
              "\n",
              "    .colab-df-convert:hover {\n",
              "      background-color: #E2EBFA;\n",
              "      box-shadow: 0px 1px 2px rgba(60, 64, 67, 0.3), 0px 1px 3px 1px rgba(60, 64, 67, 0.15);\n",
              "      fill: #174EA6;\n",
              "    }\n",
              "\n",
              "    [theme=dark] .colab-df-convert {\n",
              "      background-color: #3B4455;\n",
              "      fill: #D2E3FC;\n",
              "    }\n",
              "\n",
              "    [theme=dark] .colab-df-convert:hover {\n",
              "      background-color: #434B5C;\n",
              "      box-shadow: 0px 1px 3px 1px rgba(0, 0, 0, 0.15);\n",
              "      filter: drop-shadow(0px 1px 2px rgba(0, 0, 0, 0.3));\n",
              "      fill: #FFFFFF;\n",
              "    }\n",
              "  </style>\n",
              "\n",
              "      <script>\n",
              "        const buttonEl =\n",
              "          document.querySelector('#df-ad0e59e7-9f51-41d1-adad-181a5eb57a35 button.colab-df-convert');\n",
              "        buttonEl.style.display =\n",
              "          google.colab.kernel.accessAllowed ? 'block' : 'none';\n",
              "\n",
              "        async function convertToInteractive(key) {\n",
              "          const element = document.querySelector('#df-ad0e59e7-9f51-41d1-adad-181a5eb57a35');\n",
              "          const dataTable =\n",
              "            await google.colab.kernel.invokeFunction('convertToInteractive',\n",
              "                                                     [key], {});\n",
              "          if (!dataTable) return;\n",
              "\n",
              "          const docLinkHtml = 'Like what you see? Visit the ' +\n",
              "            '<a target=\"_blank\" href=https://colab.research.google.com/notebooks/data_table.ipynb>data table notebook</a>'\n",
              "            + ' to learn more about interactive tables.';\n",
              "          element.innerHTML = '';\n",
              "          dataTable['output_type'] = 'display_data';\n",
              "          await google.colab.output.renderOutput(dataTable, element);\n",
              "          const docLink = document.createElement('div');\n",
              "          docLink.innerHTML = docLinkHtml;\n",
              "          element.appendChild(docLink);\n",
              "        }\n",
              "      </script>\n",
              "    </div>\n",
              "  </div>\n",
              "  "
            ]
          },
          "metadata": {},
          "execution_count": 51
        }
      ]
    },
    {
      "cell_type": "markdown",
      "source": [
        "#### 2.2.1.2 One Hot Encoding"
      ],
      "metadata": {
        "id": "VcYT-YWezdcH"
      }
    },
    {
      "cell_type": "code",
      "source": [
        "# One Hot Encoding: digunakan untuk bukan tipe data ordinal, misal nominal, interval, dan ratio\n"
      ],
      "metadata": {
        "id": "dlb0e3COzccK"
      },
      "execution_count": null,
      "outputs": []
    },
    {
      "cell_type": "markdown",
      "source": [
        "### 2.2.2 Data Splitting"
      ],
      "metadata": {
        "id": "vNb-ayF-9NYN"
      }
    },
    {
      "cell_type": "markdown",
      "source": [
        "> Pada tahap ini, kita akan membagi dataset menjadi 3 set yaitu: \n",
        "> * **training**, dan\n",
        "> * **testing** \n",
        "\n",
        "> Dengan proporsi **80% : 20%**"
      ],
      "metadata": {
        "id": "WLNvHYJz9aKX"
      }
    },
    {
      "cell_type": "code",
      "source": [
        "# Specify input and output attributes\n",
        "X = df_drop_duplicate.drop(columns=['CreditStatus'], axis=1)\n",
        "y = df_drop_duplicate['CreditStatus']"
      ],
      "metadata": {
        "id": "jicEVUqE9SSX"
      },
      "execution_count": 52,
      "outputs": []
    },
    {
      "cell_type": "code",
      "source": [
        "x_train, x_test, y_train, y_test = train_test_split(X, y, test_size=0.25, random_state=42)"
      ],
      "metadata": {
        "id": "cy23sHKJIRuX"
      },
      "execution_count": 53,
      "outputs": []
    },
    {
      "cell_type": "code",
      "source": [
        "# Handle imbalance dataset\n",
        "sm = SMOTE(sampling_strategy='auto')\n",
        "x_r, y_r= sm.fit_resample(x_train, y_train)\n",
        "\n",
        "print('Original dataset shape is ', Counter(y_train))\n",
        "print('Resample dataset shape is ', Counter(y_r))"
      ],
      "metadata": {
        "colab": {
          "base_uri": "https://localhost:8080/"
        },
        "id": "9HR6N6Eyiitx",
        "outputId": "6bf03738-e1b2-418e-d17a-97928ebd6a67"
      },
      "execution_count": 54,
      "outputs": [
        {
          "output_type": "stream",
          "name": "stdout",
          "text": [
            "Original dataset shape is  Counter({0: 4939, 1: 1358})\n",
            "Resample dataset shape is  Counter({0: 4939, 1: 4939})\n"
          ]
        }
      ]
    },
    {
      "cell_type": "code",
      "source": [
        "# Membuat model machine learning\n",
        "pipeline = []\n",
        "pipeline.append(SVC())\n",
        "pipeline.append(KNeighborsClassifier())\n",
        "pipeline.append(DecisionTreeClassifier())"
      ],
      "metadata": {
        "id": "7pSUdpWKir2n"
      },
      "execution_count": 55,
      "outputs": []
    },
    {
      "cell_type": "code",
      "source": [
        "# Memasukkan model machine learning yang telah dibuat kedalam sebuah list\n",
        "model_list = ['SVM', 'KNN', 'Decision']\n",
        "acc_list = []\n",
        "auc_list = []\n",
        "cm_list = []\n",
        "report = []"
      ],
      "metadata": {
        "id": "bt2Mrq2MixP8"
      },
      "execution_count": 56,
      "outputs": []
    },
    {
      "cell_type": "code",
      "source": [
        "for model in pipeline:\n",
        "  model.fit(x_r, y_r)\n",
        "  y_pred = model.predict(x_test)\n",
        "  acc_list.append(metrics.accuracy_score(y_test, y_pred))\n",
        "  fpr, tpr, _thresholds = metrics.roc_curve(y_test, y_pred)\n",
        "  auc_list.append(round(metrics.auc(fpr,tpr), 2))\n",
        "  cm_list.append(confusion_matrix(y_test, y_pred))"
      ],
      "metadata": {
        "id": "w6tA7XIYi1_Q"
      },
      "execution_count": 57,
      "outputs": []
    },
    {
      "cell_type": "code",
      "source": [
        "# Membuat dataframe terkait informasi model\n",
        "result = pd.DataFrame({'Model' :model_list,\n",
        "                       'Accuracy' : acc_list,\n",
        "                       'AUC' : auc_list})\n",
        "result"
      ],
      "metadata": {
        "colab": {
          "base_uri": "https://localhost:8080/",
          "height": 143
        },
        "id": "I3npZWeXjAsi",
        "outputId": "eb78d6d1-3edc-4cd3-dbe1-a8fb33d846e0"
      },
      "execution_count": 58,
      "outputs": [
        {
          "output_type": "execute_result",
          "data": {
            "text/plain": [
              "      Model  Accuracy   AUC\n",
              "0       SVM  0.476894  0.50\n",
              "1       KNN  0.540734  0.42\n",
              "2  Decision  0.501191  0.37"
            ],
            "text/html": [
              "\n",
              "  <div id=\"df-010e448d-bd76-4999-b2b5-87905b80a5f0\">\n",
              "    <div class=\"colab-df-container\">\n",
              "      <div>\n",
              "<style scoped>\n",
              "    .dataframe tbody tr th:only-of-type {\n",
              "        vertical-align: middle;\n",
              "    }\n",
              "\n",
              "    .dataframe tbody tr th {\n",
              "        vertical-align: top;\n",
              "    }\n",
              "\n",
              "    .dataframe thead th {\n",
              "        text-align: right;\n",
              "    }\n",
              "</style>\n",
              "<table border=\"1\" class=\"dataframe\">\n",
              "  <thead>\n",
              "    <tr style=\"text-align: right;\">\n",
              "      <th></th>\n",
              "      <th>Model</th>\n",
              "      <th>Accuracy</th>\n",
              "      <th>AUC</th>\n",
              "    </tr>\n",
              "  </thead>\n",
              "  <tbody>\n",
              "    <tr>\n",
              "      <th>0</th>\n",
              "      <td>SVM</td>\n",
              "      <td>0.476894</td>\n",
              "      <td>0.50</td>\n",
              "    </tr>\n",
              "    <tr>\n",
              "      <th>1</th>\n",
              "      <td>KNN</td>\n",
              "      <td>0.540734</td>\n",
              "      <td>0.42</td>\n",
              "    </tr>\n",
              "    <tr>\n",
              "      <th>2</th>\n",
              "      <td>Decision</td>\n",
              "      <td>0.501191</td>\n",
              "      <td>0.37</td>\n",
              "    </tr>\n",
              "  </tbody>\n",
              "</table>\n",
              "</div>\n",
              "      <button class=\"colab-df-convert\" onclick=\"convertToInteractive('df-010e448d-bd76-4999-b2b5-87905b80a5f0')\"\n",
              "              title=\"Convert this dataframe to an interactive table.\"\n",
              "              style=\"display:none;\">\n",
              "        \n",
              "  <svg xmlns=\"http://www.w3.org/2000/svg\" height=\"24px\"viewBox=\"0 0 24 24\"\n",
              "       width=\"24px\">\n",
              "    <path d=\"M0 0h24v24H0V0z\" fill=\"none\"/>\n",
              "    <path d=\"M18.56 5.44l.94 2.06.94-2.06 2.06-.94-2.06-.94-.94-2.06-.94 2.06-2.06.94zm-11 1L8.5 8.5l.94-2.06 2.06-.94-2.06-.94L8.5 2.5l-.94 2.06-2.06.94zm10 10l.94 2.06.94-2.06 2.06-.94-2.06-.94-.94-2.06-.94 2.06-2.06.94z\"/><path d=\"M17.41 7.96l-1.37-1.37c-.4-.4-.92-.59-1.43-.59-.52 0-1.04.2-1.43.59L10.3 9.45l-7.72 7.72c-.78.78-.78 2.05 0 2.83L4 21.41c.39.39.9.59 1.41.59.51 0 1.02-.2 1.41-.59l7.78-7.78 2.81-2.81c.8-.78.8-2.07 0-2.86zM5.41 20L4 18.59l7.72-7.72 1.47 1.35L5.41 20z\"/>\n",
              "  </svg>\n",
              "      </button>\n",
              "      \n",
              "  <style>\n",
              "    .colab-df-container {\n",
              "      display:flex;\n",
              "      flex-wrap:wrap;\n",
              "      gap: 12px;\n",
              "    }\n",
              "\n",
              "    .colab-df-convert {\n",
              "      background-color: #E8F0FE;\n",
              "      border: none;\n",
              "      border-radius: 50%;\n",
              "      cursor: pointer;\n",
              "      display: none;\n",
              "      fill: #1967D2;\n",
              "      height: 32px;\n",
              "      padding: 0 0 0 0;\n",
              "      width: 32px;\n",
              "    }\n",
              "\n",
              "    .colab-df-convert:hover {\n",
              "      background-color: #E2EBFA;\n",
              "      box-shadow: 0px 1px 2px rgba(60, 64, 67, 0.3), 0px 1px 3px 1px rgba(60, 64, 67, 0.15);\n",
              "      fill: #174EA6;\n",
              "    }\n",
              "\n",
              "    [theme=dark] .colab-df-convert {\n",
              "      background-color: #3B4455;\n",
              "      fill: #D2E3FC;\n",
              "    }\n",
              "\n",
              "    [theme=dark] .colab-df-convert:hover {\n",
              "      background-color: #434B5C;\n",
              "      box-shadow: 0px 1px 3px 1px rgba(0, 0, 0, 0.15);\n",
              "      filter: drop-shadow(0px 1px 2px rgba(0, 0, 0, 0.3));\n",
              "      fill: #FFFFFF;\n",
              "    }\n",
              "  </style>\n",
              "\n",
              "      <script>\n",
              "        const buttonEl =\n",
              "          document.querySelector('#df-010e448d-bd76-4999-b2b5-87905b80a5f0 button.colab-df-convert');\n",
              "        buttonEl.style.display =\n",
              "          google.colab.kernel.accessAllowed ? 'block' : 'none';\n",
              "\n",
              "        async function convertToInteractive(key) {\n",
              "          const element = document.querySelector('#df-010e448d-bd76-4999-b2b5-87905b80a5f0');\n",
              "          const dataTable =\n",
              "            await google.colab.kernel.invokeFunction('convertToInteractive',\n",
              "                                                     [key], {});\n",
              "          if (!dataTable) return;\n",
              "\n",
              "          const docLinkHtml = 'Like what you see? Visit the ' +\n",
              "            '<a target=\"_blank\" href=https://colab.research.google.com/notebooks/data_table.ipynb>data table notebook</a>'\n",
              "            + ' to learn more about interactive tables.';\n",
              "          element.innerHTML = '';\n",
              "          dataTable['output_type'] = 'display_data';\n",
              "          await google.colab.output.renderOutput(dataTable, element);\n",
              "          const docLink = document.createElement('div');\n",
              "          docLink.innerHTML = docLinkHtml;\n",
              "          element.appendChild(docLink);\n",
              "        }\n",
              "      </script>\n",
              "    </div>\n",
              "  </div>\n",
              "  "
            ]
          },
          "metadata": {},
          "execution_count": 58
        }
      ]
    },
    {
      "cell_type": "code",
      "source": [
        "# Visualisasi hasil klasifikasi\n",
        "for model in cm_list:\n",
        "  f, ax = plt.subplots(figsize=(8,5))\n",
        "  sns.heatmap(model, annot=True, fmt=\".0f\", ax=ax)\n",
        "  plt.xlabel(\"Predicted Label\")\n",
        "  plt.ylabel(\"True Label\")\n",
        "  plt.show()"
      ],
      "metadata": {
        "colab": {
          "base_uri": "https://localhost:8080/",
          "height": 968
        },
        "id": "n96LjV1WkAIv",
        "outputId": "d54f29e8-73c4-4da7-9d27-85f7d8576530"
      },
      "execution_count": 59,
      "outputs": [
        {
          "output_type": "display_data",
          "data": {
            "text/plain": [
              "<Figure size 576x360 with 2 Axes>"
            ],
            "image/png": "[encoded data removed]"
          },
          "metadata": {
            "needs_background": "light"
          }
        },
        {
          "output_type": "display_data",
          "data": {
            "text/plain": [
              "<Figure size 576x360 with 2 Axes>"
            ],
            "image/png": "[encoded data removed]"
          },
          "metadata": {
            "needs_background": "light"
          }
        },
        {
          "output_type": "display_data",
          "data": {
            "text/plain": [
              "<Figure size 576x360 with 2 Axes>"
            ],
            "image/png": "[encoded data removed]"
          },
          "metadata": {
            "needs_background": "light"
          }
        }
      ]
    },
    {
      "cell_type": "markdown",
      "source": [
        "### 2.2.3 Model Training"
      ],
      "metadata": {
        "id": "nLX92zdBgezg"
      }
    },
    {
      "cell_type": "code",
      "source": [
        "from sklearn.model_selection import cross_val_score\n",
        "\n",
        "def classify(model, x, y):\n",
        "    x_train, x_test, y_train, y_test = train_test_split(X, y, test_size=0.25, random_state=42)\n",
        "    model.fit(x_train, y_train)\n",
        "    print(\"Accuracy is\", model.score(x_test, y_test)*100)\n",
        "    # cross validation - it is used for better validation of model\n",
        "    # eg: cv-5, train-4, test-1\n",
        "    score = cross_val_score(model, x, y, cv=5)\n",
        "    print(\"Cross validation is\",np.mean(score)*100)"
      ],
      "metadata": {
        "id": "vSNTHht9bMkN"
      },
      "execution_count": null,
      "outputs": []
    },
    {
      "cell_type": "code",
      "source": [
        "from sklearn.linear_model import LogisticRegression\n",
        "\n",
        "model = LogisticRegression()\n",
        "classify(model, X, y)"
      ],
      "metadata": {
        "colab": {
          "base_uri": "https://localhost:8080/"
        },
        "id": "FOw5U0WpgmX6",
        "outputId": "6e6282a6-8859-471b-ca27-be2398bfc7e3"
      },
      "execution_count": null,
      "outputs": [
        {
          "output_type": "stream",
          "name": "stdout",
          "text": [
            "Accuracy is 88.69639307015052\n",
            "Cross validation is 88.14967405485741\n"
          ]
        }
      ]
    },
    {
      "cell_type": "code",
      "source": [
        "from sklearn.tree import DecisionTreeClassifier\n",
        "\n",
        "model = DecisionTreeClassifier()\n",
        "classify(model, X, y)"
      ],
      "metadata": {
        "colab": {
          "base_uri": "https://localhost:8080/"
        },
        "id": "PYbvFJJdgtAe",
        "outputId": "20103ce6-7ee0-4564-bcf4-82028bfdf7a3"
      },
      "execution_count": null,
      "outputs": [
        {
          "output_type": "stream",
          "name": "stdout",
          "text": [
            "Accuracy is 88.38398182334564\n",
            "Cross validation is 73.89945564580546\n"
          ]
        }
      ]
    },
    {
      "cell_type": "code",
      "source": [
        "from sklearn.ensemble import RandomForestClassifier,ExtraTreesClassifier\n",
        "\n",
        "model = RandomForestClassifier()\n",
        "classify(model, X, y)"
      ],
      "metadata": {
        "colab": {
          "base_uri": "https://localhost:8080/"
        },
        "id": "hCNbI4ZqgtDl",
        "outputId": "290c65e0-b999-44db-dd6d-1d59d7b7233b"
      },
      "execution_count": null,
      "outputs": [
        {
          "output_type": "stream",
          "name": "stdout",
          "text": [
            "Accuracy is 88.75319511502414\n",
            "Cross validation is 83.36054316565102\n"
          ]
        }
      ]
    },
    {
      "cell_type": "markdown",
      "source": [
        "### 2.2.4 Hyperparameter Tuning"
      ],
      "metadata": {
        "id": "rh52sLLZg0gI"
      }
    },
    {
      "cell_type": "code",
      "source": [
        "model = RandomForestClassifier(n_estimators=100, min_samples_split=25, max_depth=7, max_features=1)\n",
        "classify(model, X, y)"
      ],
      "metadata": {
        "colab": {
          "base_uri": "https://localhost:8080/"
        },
        "id": "Q4jhy3Aag41X",
        "outputId": "23570c86-82d6-4526-f4c4-4e66ab917ad0"
      },
      "execution_count": null,
      "outputs": [
        {
          "output_type": "stream",
          "name": "stdout",
          "text": [
            "Accuracy is 88.69639307015052\n",
            "Cross validation is 88.14967405485741\n"
          ]
        }
      ]
    },
    {
      "cell_type": "markdown",
      "source": [
        "### 2.2.5 Confusion Matrix"
      ],
      "metadata": {
        "id": "Up0-_trvg62k"
      }
    },
    {
      "cell_type": "code",
      "source": [
        "model = RandomForestClassifier()\n",
        "model.fit(x_train, y_train)"
      ],
      "metadata": {
        "colab": {
          "base_uri": "https://localhost:8080/"
        },
        "id": "uYxNpg3Vg7Gk",
        "outputId": "a026c5cd-eb89-4787-8447-e83e90847a8b"
      },
      "execution_count": null,
      "outputs": [
        {
          "output_type": "execute_result",
          "data": {
            "text/plain": [
              "RandomForestClassifier()"
            ]
          },
          "metadata": {},
          "execution_count": 27
        }
      ]
    },
    {
      "cell_type": "code",
      "source": [
        "from sklearn.metrics import confusion_matrix\n",
        "\n",
        "y_pred = model.predict(x_test)\n",
        "cm = confusion_matrix(y_test, y_pred)\n",
        "cm"
      ],
      "metadata": {
        "colab": {
          "base_uri": "https://localhost:8080/"
        },
        "id": "2HsiEYBehBQF",
        "outputId": "7492452d-69fa-4f79-c716-91fb0c67286e"
      },
      "execution_count": null,
      "outputs": [
        {
          "output_type": "execute_result",
          "data": {
            "text/plain": [
              "array([[6022,  224],\n",
              "       [ 559,  237]])"
            ]
          },
          "metadata": {},
          "execution_count": 28
        }
      ]
    },
    {
      "cell_type": "code",
      "source": [
        "sns.heatmap(cm, annot=True)"
      ],
      "metadata": {
        "colab": {
          "base_uri": "https://localhost:8080/",
          "height": 287
        },
        "id": "aN62fPxHhBTc",
        "outputId": "3247a3bd-1271-4536-e6ed-baa3e96840a6"
      },
      "execution_count": null,
      "outputs": [
        {
          "output_type": "execute_result",
          "data": {
            "text/plain": [
              "<matplotlib.axes._subplots.AxesSubplot at 0x7f7316c664c0>"
            ]
          },
          "metadata": {},
          "execution_count": 29
        },
        {
          "output_type": "display_data",
          "data": {
            "text/plain": [
              "<Figure size 432x288 with 2 Axes>"
            ],
            "image/png": "[encoded data removed]"
          },
          "metadata": {
            "needs_background": "light"
          }
        }
      ]
    }
  ],
  "metadata": {
    "colab": {
      "provenance": [],
      "collapsed_sections": [
        "dK1dUH73kK_j",
        "nLX92zdBgezg"
      ],
      "toc_visible": true,
      "mount_file_id": "11mRHLZBO0h9xjt9JlnR8UpepV4mHBSAw",
      "authorship_tag": "ABX9TyOMt+EG1RGDxplovTQ4Y9fa",
      "include_colab_link": true
    },
    "kernelspec": {
      "display_name": "Python 3",
      "name": "python3"
    },
    "language_info": {
      "name": "python"
    }
  },
  "nbformat": 4,
  "nbformat_minor": 0
}