{
  "cells": [
    {
      "cell_type": "markdown",
      "metadata": {
        "id": "view-in-github",
        "colab_type": "text"
      },
      "source": [
        "<a href=\"https://colab.research.google.com/github/NabilahSharfina/CELERATES-ACCELERATION-PROGRAM/blob/main/Final_Project_Credit_Risk_Week_2.ipynb\" target=\"_parent\"><img src=\"https://colab.research.google.com/assets/colab-badge.svg\" alt=\"Open In Colab\"/></a>"
      ]
    },
    {
      "cell_type": "markdown",
      "source": [
        "<h1><center><bold>FINAL PROJECT</bold></center><h1>\n",
        "<h1><center><bold>BIG DATA AND BUSINESS INTELLIGENCE</bold></center><h1>\n",
        "<h1><center><bold>KAMPUS MERDEKA</bold></center><h1>\n",
        "<h2><center><bold>CREDIT RISK ANALYSIS</bold></center><h2>\n",
        "\n",
        "---\n",
        "\n"
      ],
      "metadata": {
        "id": "NzhyuDaw1P8p"
      }
    },
    {
      "cell_type": "markdown",
      "metadata": {
        "id": "kNOnzqtyX28K"
      },
      "source": [
        "# **WEEK 2 - PREDICT DATA & MODELLING**"
      ]
    },
    {
      "cell_type": "markdown",
      "metadata": {
        "id": "hMllNyv1k-Ol"
      },
      "source": [
        "## Connect Google Drive"
      ]
    },
    {
      "cell_type": "code",
      "execution_count": 1,
      "metadata": {
        "id": "oxgQKZQM5v2a",
        "colab": {
          "base_uri": "https://localhost:8080/"
        },
        "outputId": "7c28f7e0-a6af-4fa1-f316-b4e8e084fbaf"
      },
      "outputs": [
        {
          "metadata": {
            "tags": null
          },
          "name": "stdout",
          "output_type": "stream",
          "text": [
            "Mounted at /content/drive\n"
          ]
        }
      ],
      "source": [
        "# Load data from google drive\n",
        "from google.colab import drive\n",
        "drive.mount('/content/drive')"
      ]
    },
    {
      "cell_type": "markdown",
      "metadata": {
        "id": "xrQRQBkPk1sg"
      },
      "source": [
        "## Import Library"
      ]
    },
    {
      "cell_type": "code",
      "execution_count": 1,
      "metadata": {
        "id": "2OlweU5Q7MT8"
      },
      "outputs": [],
      "source": [
        "import pandas as pd # for handling and cleaning the dataset\n",
        "import numpy as np # for performing mathematical calculations behind ML algorithms\n",
        "import matplotlib.pyplot as plt # for visualization\n",
        "import seaborn as sns # for visualization"
      ]
    },
    {
      "cell_type": "markdown",
      "source": [
        "## 2.1 EDA"
      ],
      "metadata": {
        "id": "6-HyZDpEjln5"
      }
    },
    {
      "cell_type": "code",
      "source": [
        "df = pd.read_csv('/content/drive/MyDrive/KAMPUS MERDEKA /Celerates Acceleration Program /FINAL PROJECT/Dataset/Demo/credit_risk.csv')\n",
        "df"
      ],
      "metadata": {
        "colab": {
          "base_uri": "https://localhost:8080/",
          "height": 574
        },
        "id": "-ShITlRIipLB",
        "outputId": "8aefe0bd-433c-4e1d-f5cd-6f022e914950"
      },
      "execution_count": 2,
      "outputs": [
        {
          "output_type": "execute_result",
          "data": {
            "text/plain": [
              "       Unnamed: 0  Id_customer JenisKelamin KepemilikanMobil  \\\n",
              "0               0      5008808    Perempuan            Tidak   \n",
              "1               1      5008809    Perempuan            Tidak   \n",
              "2               2      5008810    Perempuan            Tidak   \n",
              "3               3      5008811    Perempuan            Tidak   \n",
              "4               4      5008812    Perempuan            Tidak   \n",
              "...           ...          ...          ...              ...   \n",
              "36252       36252      5149158    Laki-laki               Ya   \n",
              "36253       36253      5149190    Laki-laki               Ya   \n",
              "36254       36254      5149729    Laki-laki               Ya   \n",
              "36255       36255      5149828    Laki-laki               Ya   \n",
              "36256       36256      5150337    Laki-laki            Tidak   \n",
              "\n",
              "      KepemilikanProperti  JmlAnak  Pendapatan      TipePendapatan  \\\n",
              "0                      Ya        0    270000.0  Asosiasi komersial   \n",
              "1                      Ya        0    270000.0  Asosiasi komersial   \n",
              "2                      Ya        0    270000.0  Asosiasi komersial   \n",
              "3                      Ya        0    270000.0  Asosiasi komersial   \n",
              "4                      Ya        0    283500.0           Pensioner   \n",
              "...                   ...      ...         ...                 ...   \n",
              "36252                  Ya        0    247500.0             Bekerja   \n",
              "36253               Tidak        1    450000.0             Bekerja   \n",
              "36254                  Ya        0     90000.0             Bekerja   \n",
              "36255                  Ya        0    315000.0             Bekerja   \n",
              "36256                  Ya        0    112500.0             Bekerja   \n",
              "\n",
              "      TingkatPendidikan StatusKeluarga  ... FlagMobile  FlagWorkPhone  \\\n",
              "0              Graduate  Belum Menikah  ...          1              0   \n",
              "1              Graduate  Belum Menikah  ...          1              0   \n",
              "2              Graduate  Belum Menikah  ...          1              0   \n",
              "3              Graduate  Belum Menikah  ...          1              0   \n",
              "4         Post Graduate          Cerai  ...          1              0   \n",
              "...                 ...            ...  ...        ...            ...   \n",
              "36252          Graduate        Menikah  ...          1              1   \n",
              "36253     Post Graduate        Menikah  ...          1              0   \n",
              "36254          Graduate        Menikah  ...          1              0   \n",
              "36255          Graduate        Menikah  ...          1              0   \n",
              "36256          Graduate  Belum Menikah  ...          1              0   \n",
              "\n",
              "       FlagPhone  Email  JmlAnggotaKeluarga  Usia  Pengalaman  Overdue  \\\n",
              "0              1      1                   1    52           8        0   \n",
              "1              1      1                   1    52           8       -1   \n",
              "2              1      1                   1    52           8        0   \n",
              "3              1      1                   1    52           8        0   \n",
              "4              0      0                   1    62        1001        0   \n",
              "...          ...    ...                 ...   ...         ...      ...   \n",
              "36252          0      0                   2    30          10        2   \n",
              "36253          1      1                   3    27           1        5   \n",
              "36254          0      0                   2    52           5        2   \n",
              "36255          0      0                   2    48           7        5   \n",
              "36256          0      0                   1    25           3        2   \n",
              "\n",
              "       CreditStatus  Age_Bins  \n",
              "0                 0    lansia  \n",
              "1                 0    lansia  \n",
              "2                 0    lansia  \n",
              "3                 0    lansia  \n",
              "4                 0    lansia  \n",
              "...             ...       ...  \n",
              "36252             1    dewasa  \n",
              "36253             1    dewasa  \n",
              "36254             1    lansia  \n",
              "36255             1    lansia  \n",
              "36256             1    remaja  \n",
              "\n",
              "[36257 rows x 21 columns]"
            ],
            "text/html": [
              "\n",
              "  <div id=\"df-3ed0bfb5-9f23-4584-bcaa-513d30d1b3c4\">\n",
              "    <div class=\"colab-df-container\">\n",
              "      <div>\n",
              "<style scoped>\n",
              "    .dataframe tbody tr th:only-of-type {\n",
              "        vertical-align: middle;\n",
              "    }\n",
              "\n",
              "    .dataframe tbody tr th {\n",
              "        vertical-align: top;\n",
              "    }\n",
              "\n",
              "    .dataframe thead th {\n",
              "        text-align: right;\n",
              "    }\n",
              "</style>\n",
              "<table border=\"1\" class=\"dataframe\">\n",
              "  <thead>\n",
              "    <tr style=\"text-align: right;\">\n",
              "      <th></th>\n",
              "      <th>Unnamed: 0</th>\n",
              "      <th>Id_customer</th>\n",
              "      <th>JenisKelamin</th>\n",
              "      <th>KepemilikanMobil</th>\n",
              "      <th>KepemilikanProperti</th>\n",
              "      <th>JmlAnak</th>\n",
              "      <th>Pendapatan</th>\n",
              "      <th>TipePendapatan</th>\n",
              "      <th>TingkatPendidikan</th>\n",
              "      <th>StatusKeluarga</th>\n",
              "      <th>...</th>\n",
              "      <th>FlagMobile</th>\n",
              "      <th>FlagWorkPhone</th>\n",
              "      <th>FlagPhone</th>\n",
              "      <th>Email</th>\n",
              "      <th>JmlAnggotaKeluarga</th>\n",
              "      <th>Usia</th>\n",
              "      <th>Pengalaman</th>\n",
              "      <th>Overdue</th>\n",
              "      <th>CreditStatus</th>\n",
              "      <th>Age_Bins</th>\n",
              "    </tr>\n",
              "  </thead>\n",
              "  <tbody>\n",
              "    <tr>\n",
              "      <th>0</th>\n",
              "      <td>0</td>\n",
              "      <td>5008808</td>\n",
              "      <td>Perempuan</td>\n",
              "      <td>Tidak</td>\n",
              "      <td>Ya</td>\n",
              "      <td>0</td>\n",
              "      <td>270000.0</td>\n",
              "      <td>Asosiasi komersial</td>\n",
              "      <td>Graduate</td>\n",
              "      <td>Belum Menikah</td>\n",
              "      <td>...</td>\n",
              "      <td>1</td>\n",
              "      <td>0</td>\n",
              "      <td>1</td>\n",
              "      <td>1</td>\n",
              "      <td>1</td>\n",
              "      <td>52</td>\n",
              "      <td>8</td>\n",
              "      <td>0</td>\n",
              "      <td>0</td>\n",
              "      <td>lansia</td>\n",
              "    </tr>\n",
              "    <tr>\n",
              "      <th>1</th>\n",
              "      <td>1</td>\n",
              "      <td>5008809</td>\n",
              "      <td>Perempuan</td>\n",
              "      <td>Tidak</td>\n",
              "      <td>Ya</td>\n",
              "      <td>0</td>\n",
              "      <td>270000.0</td>\n",
              "      <td>Asosiasi komersial</td>\n",
              "      <td>Graduate</td>\n",
              "      <td>Belum Menikah</td>\n",
              "      <td>...</td>\n",
              "      <td>1</td>\n",
              "      <td>0</td>\n",
              "      <td>1</td>\n",
              "      <td>1</td>\n",
              "      <td>1</td>\n",
              "      <td>52</td>\n",
              "      <td>8</td>\n",
              "      <td>-1</td>\n",
              "      <td>0</td>\n",
              "      <td>lansia</td>\n",
              "    </tr>\n",
              "    <tr>\n",
              "      <th>2</th>\n",
              "      <td>2</td>\n",
              "      <td>5008810</td>\n",
              "      <td>Perempuan</td>\n",
              "      <td>Tidak</td>\n",
              "      <td>Ya</td>\n",
              "      <td>0</td>\n",
              "      <td>270000.0</td>\n",
              "      <td>Asosiasi komersial</td>\n",
              "      <td>Graduate</td>\n",
              "      <td>Belum Menikah</td>\n",
              "      <td>...</td>\n",
              "      <td>1</td>\n",
              "      <td>0</td>\n",
              "      <td>1</td>\n",
              "      <td>1</td>\n",
              "      <td>1</td>\n",
              "      <td>52</td>\n",
              "      <td>8</td>\n",
              "      <td>0</td>\n",
              "      <td>0</td>\n",
              "      <td>lansia</td>\n",
              "    </tr>\n",
              "    <tr>\n",
              "      <th>3</th>\n",
              "      <td>3</td>\n",
              "      <td>5008811</td>\n",
              "      <td>Perempuan</td>\n",
              "      <td>Tidak</td>\n",
              "      <td>Ya</td>\n",
              "      <td>0</td>\n",
              "      <td>270000.0</td>\n",
              "      <td>Asosiasi komersial</td>\n",
              "      <td>Graduate</td>\n",
              "      <td>Belum Menikah</td>\n",
              "      <td>...</td>\n",
              "      <td>1</td>\n",
              "      <td>0</td>\n",
              "      <td>1</td>\n",
              "      <td>1</td>\n",
              "      <td>1</td>\n",
              "      <td>52</td>\n",
              "      <td>8</td>\n",
              "      <td>0</td>\n",
              "      <td>0</td>\n",
              "      <td>lansia</td>\n",
              "    </tr>\n",
              "    <tr>\n",
              "      <th>4</th>\n",
              "      <td>4</td>\n",
              "      <td>5008812</td>\n",
              "      <td>Perempuan</td>\n",
              "      <td>Tidak</td>\n",
              "      <td>Ya</td>\n",
              "      <td>0</td>\n",
              "      <td>283500.0</td>\n",
              "      <td>Pensioner</td>\n",
              "      <td>Post Graduate</td>\n",
              "      <td>Cerai</td>\n",
              "      <td>...</td>\n",
              "      <td>1</td>\n",
              "      <td>0</td>\n",
              "      <td>0</td>\n",
              "      <td>0</td>\n",
              "      <td>1</td>\n",
              "      <td>62</td>\n",
              "      <td>1001</td>\n",
              "      <td>0</td>\n",
              "      <td>0</td>\n",
              "      <td>lansia</td>\n",
              "    </tr>\n",
              "    <tr>\n",
              "      <th>...</th>\n",
              "      <td>...</td>\n",
              "      <td>...</td>\n",
              "      <td>...</td>\n",
              "      <td>...</td>\n",
              "      <td>...</td>\n",
              "      <td>...</td>\n",
              "      <td>...</td>\n",
              "      <td>...</td>\n",
              "      <td>...</td>\n",
              "      <td>...</td>\n",
              "      <td>...</td>\n",
              "      <td>...</td>\n",
              "      <td>...</td>\n",
              "      <td>...</td>\n",
              "      <td>...</td>\n",
              "      <td>...</td>\n",
              "      <td>...</td>\n",
              "      <td>...</td>\n",
              "      <td>...</td>\n",
              "      <td>...</td>\n",
              "      <td>...</td>\n",
              "    </tr>\n",
              "    <tr>\n",
              "      <th>36252</th>\n",
              "      <td>36252</td>\n",
              "      <td>5149158</td>\n",
              "      <td>Laki-laki</td>\n",
              "      <td>Ya</td>\n",
              "      <td>Ya</td>\n",
              "      <td>0</td>\n",
              "      <td>247500.0</td>\n",
              "      <td>Bekerja</td>\n",
              "      <td>Graduate</td>\n",
              "      <td>Menikah</td>\n",
              "      <td>...</td>\n",
              "      <td>1</td>\n",
              "      <td>1</td>\n",
              "      <td>0</td>\n",
              "      <td>0</td>\n",
              "      <td>2</td>\n",
              "      <td>30</td>\n",
              "      <td>10</td>\n",
              "      <td>2</td>\n",
              "      <td>1</td>\n",
              "      <td>dewasa</td>\n",
              "    </tr>\n",
              "    <tr>\n",
              "      <th>36253</th>\n",
              "      <td>36253</td>\n",
              "      <td>5149190</td>\n",
              "      <td>Laki-laki</td>\n",
              "      <td>Ya</td>\n",
              "      <td>Tidak</td>\n",
              "      <td>1</td>\n",
              "      <td>450000.0</td>\n",
              "      <td>Bekerja</td>\n",
              "      <td>Post Graduate</td>\n",
              "      <td>Menikah</td>\n",
              "      <td>...</td>\n",
              "      <td>1</td>\n",
              "      <td>0</td>\n",
              "      <td>1</td>\n",
              "      <td>1</td>\n",
              "      <td>3</td>\n",
              "      <td>27</td>\n",
              "      <td>1</td>\n",
              "      <td>5</td>\n",
              "      <td>1</td>\n",
              "      <td>dewasa</td>\n",
              "    </tr>\n",
              "    <tr>\n",
              "      <th>36254</th>\n",
              "      <td>36254</td>\n",
              "      <td>5149729</td>\n",
              "      <td>Laki-laki</td>\n",
              "      <td>Ya</td>\n",
              "      <td>Ya</td>\n",
              "      <td>0</td>\n",
              "      <td>90000.0</td>\n",
              "      <td>Bekerja</td>\n",
              "      <td>Graduate</td>\n",
              "      <td>Menikah</td>\n",
              "      <td>...</td>\n",
              "      <td>1</td>\n",
              "      <td>0</td>\n",
              "      <td>0</td>\n",
              "      <td>0</td>\n",
              "      <td>2</td>\n",
              "      <td>52</td>\n",
              "      <td>5</td>\n",
              "      <td>2</td>\n",
              "      <td>1</td>\n",
              "      <td>lansia</td>\n",
              "    </tr>\n",
              "    <tr>\n",
              "      <th>36255</th>\n",
              "      <td>36255</td>\n",
              "      <td>5149828</td>\n",
              "      <td>Laki-laki</td>\n",
              "      <td>Ya</td>\n",
              "      <td>Ya</td>\n",
              "      <td>0</td>\n",
              "      <td>315000.0</td>\n",
              "      <td>Bekerja</td>\n",
              "      <td>Graduate</td>\n",
              "      <td>Menikah</td>\n",
              "      <td>...</td>\n",
              "      <td>1</td>\n",
              "      <td>0</td>\n",
              "      <td>0</td>\n",
              "      <td>0</td>\n",
              "      <td>2</td>\n",
              "      <td>48</td>\n",
              "      <td>7</td>\n",
              "      <td>5</td>\n",
              "      <td>1</td>\n",
              "      <td>lansia</td>\n",
              "    </tr>\n",
              "    <tr>\n",
              "      <th>36256</th>\n",
              "      <td>36256</td>\n",
              "      <td>5150337</td>\n",
              "      <td>Laki-laki</td>\n",
              "      <td>Tidak</td>\n",
              "      <td>Ya</td>\n",
              "      <td>0</td>\n",
              "      <td>112500.0</td>\n",
              "      <td>Bekerja</td>\n",
              "      <td>Graduate</td>\n",
              "      <td>Belum Menikah</td>\n",
              "      <td>...</td>\n",
              "      <td>1</td>\n",
              "      <td>0</td>\n",
              "      <td>0</td>\n",
              "      <td>0</td>\n",
              "      <td>1</td>\n",
              "      <td>25</td>\n",
              "      <td>3</td>\n",
              "      <td>2</td>\n",
              "      <td>1</td>\n",
              "      <td>remaja</td>\n",
              "    </tr>\n",
              "  </tbody>\n",
              "</table>\n",
              "<p>36257 rows × 21 columns</p>\n",
              "</div>\n",
              "      <button class=\"colab-df-convert\" onclick=\"convertToInteractive('df-3ed0bfb5-9f23-4584-bcaa-513d30d1b3c4')\"\n",
              "              title=\"Convert this dataframe to an interactive table.\"\n",
              "              style=\"display:none;\">\n",
              "        \n",
              "  <svg xmlns=\"http://www.w3.org/2000/svg\" height=\"24px\"viewBox=\"0 0 24 24\"\n",
              "       width=\"24px\">\n",
              "    <path d=\"M0 0h24v24H0V0z\" fill=\"none\"/>\n",
              "    <path d=\"M18.56 5.44l.94 2.06.94-2.06 2.06-.94-2.06-.94-.94-2.06-.94 2.06-2.06.94zm-11 1L8.5 8.5l.94-2.06 2.06-.94-2.06-.94L8.5 2.5l-.94 2.06-2.06.94zm10 10l.94 2.06.94-2.06 2.06-.94-2.06-.94-.94-2.06-.94 2.06-2.06.94z\"/><path d=\"M17.41 7.96l-1.37-1.37c-.4-.4-.92-.59-1.43-.59-.52 0-1.04.2-1.43.59L10.3 9.45l-7.72 7.72c-.78.78-.78 2.05 0 2.83L4 21.41c.39.39.9.59 1.41.59.51 0 1.02-.2 1.41-.59l7.78-7.78 2.81-2.81c.8-.78.8-2.07 0-2.86zM5.41 20L4 18.59l7.72-7.72 1.47 1.35L5.41 20z\"/>\n",
              "  </svg>\n",
              "      </button>\n",
              "      \n",
              "  <style>\n",
              "    .colab-df-container {\n",
              "      display:flex;\n",
              "      flex-wrap:wrap;\n",
              "      gap: 12px;\n",
              "    }\n",
              "\n",
              "    .colab-df-convert {\n",
              "      background-color: #E8F0FE;\n",
              "      border: none;\n",
              "      border-radius: 50%;\n",
              "      cursor: pointer;\n",
              "      display: none;\n",
              "      fill: #1967D2;\n",
              "      height: 32px;\n",
              "      padding: 0 0 0 0;\n",
              "      width: 32px;\n",
              "    }\n",
              "\n",
              "    .colab-df-convert:hover {\n",
              "      background-color: #E2EBFA;\n",
              "      box-shadow: 0px 1px 2px rgba(60, 64, 67, 0.3), 0px 1px 3px 1px rgba(60, 64, 67, 0.15);\n",
              "      fill: #174EA6;\n",
              "    }\n",
              "\n",
              "    [theme=dark] .colab-df-convert {\n",
              "      background-color: #3B4455;\n",
              "      fill: #D2E3FC;\n",
              "    }\n",
              "\n",
              "    [theme=dark] .colab-df-convert:hover {\n",
              "      background-color: #434B5C;\n",
              "      box-shadow: 0px 1px 3px 1px rgba(0, 0, 0, 0.15);\n",
              "      filter: drop-shadow(0px 1px 2px rgba(0, 0, 0, 0.3));\n",
              "      fill: #FFFFFF;\n",
              "    }\n",
              "  </style>\n",
              "\n",
              "      <script>\n",
              "        const buttonEl =\n",
              "          document.querySelector('#df-3ed0bfb5-9f23-4584-bcaa-513d30d1b3c4 button.colab-df-convert');\n",
              "        buttonEl.style.display =\n",
              "          google.colab.kernel.accessAllowed ? 'block' : 'none';\n",
              "\n",
              "        async function convertToInteractive(key) {\n",
              "          const element = document.querySelector('#df-3ed0bfb5-9f23-4584-bcaa-513d30d1b3c4');\n",
              "          const dataTable =\n",
              "            await google.colab.kernel.invokeFunction('convertToInteractive',\n",
              "                                                     [key], {});\n",
              "          if (!dataTable) return;\n",
              "\n",
              "          const docLinkHtml = 'Like what you see? Visit the ' +\n",
              "            '<a target=\"_blank\" href=https://colab.research.google.com/notebooks/data_table.ipynb>data table notebook</a>'\n",
              "            + ' to learn more about interactive tables.';\n",
              "          element.innerHTML = '';\n",
              "          dataTable['output_type'] = 'display_data';\n",
              "          await google.colab.output.renderOutput(dataTable, element);\n",
              "          const docLink = document.createElement('div');\n",
              "          docLink.innerHTML = docLinkHtml;\n",
              "          element.appendChild(docLink);\n",
              "        }\n",
              "      </script>\n",
              "    </div>\n",
              "  </div>\n",
              "  "
            ]
          },
          "metadata": {},
          "execution_count": 2
        }
      ]
    },
    {
      "cell_type": "code",
      "source": [
        "df.info()"
      ],
      "metadata": {
        "colab": {
          "base_uri": "https://localhost:8080/"
        },
        "id": "7HFhJpA7kDII",
        "outputId": "75a207d0-0bd0-4f0a-960c-fbe78bf5aa89"
      },
      "execution_count": 3,
      "outputs": [
        {
          "output_type": "stream",
          "name": "stdout",
          "text": [
            "<class 'pandas.core.frame.DataFrame'>\n",
            "RangeIndex: 36257 entries, 0 to 36256\n",
            "Data columns (total 21 columns):\n",
            " #   Column               Non-Null Count  Dtype  \n",
            "---  ------               --------------  -----  \n",
            " 0   Unnamed: 0           36257 non-null  int64  \n",
            " 1   Id_customer          36257 non-null  int64  \n",
            " 2   JenisKelamin         36257 non-null  object \n",
            " 3   KepemilikanMobil     36257 non-null  object \n",
            " 4   KepemilikanProperti  36257 non-null  object \n",
            " 5   JmlAnak              36257 non-null  int64  \n",
            " 6   Pendapatan           36257 non-null  float64\n",
            " 7   TipePendapatan       36257 non-null  object \n",
            " 8   TingkatPendidikan    36257 non-null  object \n",
            " 9   StatusKeluarga       36257 non-null  object \n",
            " 10  TipeRumah            36257 non-null  object \n",
            " 11  FlagMobile           36257 non-null  int64  \n",
            " 12  FlagWorkPhone        36257 non-null  int64  \n",
            " 13  FlagPhone            36257 non-null  int64  \n",
            " 14  Email                36257 non-null  int64  \n",
            " 15  JmlAnggotaKeluarga   36257 non-null  int64  \n",
            " 16  Usia                 36257 non-null  int64  \n",
            " 17  Pengalaman           36257 non-null  int64  \n",
            " 18  Overdue              36257 non-null  int64  \n",
            " 19  CreditStatus         36257 non-null  int64  \n",
            " 20  Age_Bins             36257 non-null  object \n",
            "dtypes: float64(1), int64(12), object(8)\n",
            "memory usage: 5.8+ MB\n"
          ]
        }
      ]
    },
    {
      "cell_type": "markdown",
      "source": [
        "### 2.1.1 Missing Value"
      ],
      "metadata": {
        "id": "d7BocSyo2VLl"
      }
    },
    {
      "cell_type": "code",
      "source": [
        "# Melihat apakah ada missing value dari dataset\n",
        "df.isna().sum()"
      ],
      "metadata": {
        "colab": {
          "base_uri": "https://localhost:8080/"
        },
        "id": "v-F8aRC9mI8c",
        "outputId": "506ca9fb-16d5-43a2-a19a-18c917f8c4aa"
      },
      "execution_count": 4,
      "outputs": [
        {
          "output_type": "execute_result",
          "data": {
            "text/plain": [
              "Unnamed: 0             0\n",
              "Id_customer            0\n",
              "JenisKelamin           0\n",
              "KepemilikanMobil       0\n",
              "KepemilikanProperti    0\n",
              "JmlAnak                0\n",
              "Pendapatan             0\n",
              "TipePendapatan         0\n",
              "TingkatPendidikan      0\n",
              "StatusKeluarga         0\n",
              "TipeRumah              0\n",
              "FlagMobile             0\n",
              "FlagWorkPhone          0\n",
              "FlagPhone              0\n",
              "Email                  0\n",
              "JmlAnggotaKeluarga     0\n",
              "Usia                   0\n",
              "Pengalaman             0\n",
              "Overdue                0\n",
              "CreditStatus           0\n",
              "Age_Bins               0\n",
              "dtype: int64"
            ]
          },
          "metadata": {},
          "execution_count": 4
        }
      ]
    },
    {
      "cell_type": "markdown",
      "source": [
        "### 2.1.2 Unique Value"
      ],
      "metadata": {
        "id": "ttzoGgbq2RwT"
      }
    },
    {
      "cell_type": "code",
      "source": [
        "# Melihat data unique dari setiap fitur dalam tabel\n",
        "for feature in df.columns:\n",
        "    print(\n",
        "        f\"- Jumlah unique value pada kolom `{feature}`:\",\n",
        "        df[feature].nunique()\n",
        "    )"
      ],
      "metadata": {
        "colab": {
          "base_uri": "https://localhost:8080/"
        },
        "id": "_SyLEYwQmXuG",
        "outputId": "8f1b3aa7-5365-4bc5-b76c-eb7cdef7b51b"
      },
      "execution_count": 5,
      "outputs": [
        {
          "output_type": "stream",
          "name": "stdout",
          "text": [
            "- Jumlah unique value pada kolom `Unnamed: 0`: 36257\n",
            "- Jumlah unique value pada kolom `Id_customer`: 36257\n",
            "- Jumlah unique value pada kolom `JenisKelamin`: 2\n",
            "- Jumlah unique value pada kolom `KepemilikanMobil`: 2\n",
            "- Jumlah unique value pada kolom `KepemilikanProperti`: 2\n",
            "- Jumlah unique value pada kolom `JmlAnak`: 9\n",
            "- Jumlah unique value pada kolom `Pendapatan`: 265\n",
            "- Jumlah unique value pada kolom `TipePendapatan`: 5\n",
            "- Jumlah unique value pada kolom `TingkatPendidikan`: 3\n",
            "- Jumlah unique value pada kolom `StatusKeluarga`: 3\n",
            "- Jumlah unique value pada kolom `TipeRumah`: 5\n",
            "- Jumlah unique value pada kolom `FlagMobile`: 1\n",
            "- Jumlah unique value pada kolom `FlagWorkPhone`: 2\n",
            "- Jumlah unique value pada kolom `FlagPhone`: 2\n",
            "- Jumlah unique value pada kolom `Email`: 2\n",
            "- Jumlah unique value pada kolom `JmlAnggotaKeluarga`: 10\n",
            "- Jumlah unique value pada kolom `Usia`: 49\n",
            "- Jumlah unique value pada kolom `Pengalaman`: 45\n",
            "- Jumlah unique value pada kolom `Overdue`: 7\n",
            "- Jumlah unique value pada kolom `CreditStatus`: 2\n",
            "- Jumlah unique value pada kolom `Age_Bins`: 4\n"
          ]
        }
      ]
    },
    {
      "cell_type": "markdown",
      "source": [
        "### 2.1.3 Duplicate Data"
      ],
      "metadata": {
        "id": "3PyVyOIr2g3X"
      }
    },
    {
      "cell_type": "code",
      "source": [
        "# Mengecek baris yang duplikat\n",
        "df[df['Id_customer'].duplicated()]"
      ],
      "metadata": {
        "colab": {
          "base_uri": "https://localhost:8080/",
          "height": 160
        },
        "id": "SVWcYYBEmj9C",
        "outputId": "74af1298-dfbd-41b7-eb9f-926d43282a75"
      },
      "execution_count": 6,
      "outputs": [
        {
          "output_type": "execute_result",
          "data": {
            "text/plain": [
              "Empty DataFrame\n",
              "Columns: [Unnamed: 0, Id_customer, JenisKelamin, KepemilikanMobil, KepemilikanProperti, JmlAnak, Pendapatan, TipePendapatan, TingkatPendidikan, StatusKeluarga, TipeRumah, FlagMobile, FlagWorkPhone, FlagPhone, Email, JmlAnggotaKeluarga, Usia, Pengalaman, Overdue, CreditStatus, Age_Bins]\n",
              "Index: []\n",
              "\n",
              "[0 rows x 21 columns]"
            ],
            "text/html": [
              "\n",
              "  <div id=\"df-9ba56e94-f4d8-427c-884e-bf52959ab1d3\">\n",
              "    <div class=\"colab-df-container\">\n",
              "      <div>\n",
              "<style scoped>\n",
              "    .dataframe tbody tr th:only-of-type {\n",
              "        vertical-align: middle;\n",
              "    }\n",
              "\n",
              "    .dataframe tbody tr th {\n",
              "        vertical-align: top;\n",
              "    }\n",
              "\n",
              "    .dataframe thead th {\n",
              "        text-align: right;\n",
              "    }\n",
              "</style>\n",
              "<table border=\"1\" class=\"dataframe\">\n",
              "  <thead>\n",
              "    <tr style=\"text-align: right;\">\n",
              "      <th></th>\n",
              "      <th>Unnamed: 0</th>\n",
              "      <th>Id_customer</th>\n",
              "      <th>JenisKelamin</th>\n",
              "      <th>KepemilikanMobil</th>\n",
              "      <th>KepemilikanProperti</th>\n",
              "      <th>JmlAnak</th>\n",
              "      <th>Pendapatan</th>\n",
              "      <th>TipePendapatan</th>\n",
              "      <th>TingkatPendidikan</th>\n",
              "      <th>StatusKeluarga</th>\n",
              "      <th>...</th>\n",
              "      <th>FlagMobile</th>\n",
              "      <th>FlagWorkPhone</th>\n",
              "      <th>FlagPhone</th>\n",
              "      <th>Email</th>\n",
              "      <th>JmlAnggotaKeluarga</th>\n",
              "      <th>Usia</th>\n",
              "      <th>Pengalaman</th>\n",
              "      <th>Overdue</th>\n",
              "      <th>CreditStatus</th>\n",
              "      <th>Age_Bins</th>\n",
              "    </tr>\n",
              "  </thead>\n",
              "  <tbody>\n",
              "  </tbody>\n",
              "</table>\n",
              "<p>0 rows × 21 columns</p>\n",
              "</div>\n",
              "      <button class=\"colab-df-convert\" onclick=\"convertToInteractive('df-9ba56e94-f4d8-427c-884e-bf52959ab1d3')\"\n",
              "              title=\"Convert this dataframe to an interactive table.\"\n",
              "              style=\"display:none;\">\n",
              "        \n",
              "  <svg xmlns=\"http://www.w3.org/2000/svg\" height=\"24px\"viewBox=\"0 0 24 24\"\n",
              "       width=\"24px\">\n",
              "    <path d=\"M0 0h24v24H0V0z\" fill=\"none\"/>\n",
              "    <path d=\"M18.56 5.44l.94 2.06.94-2.06 2.06-.94-2.06-.94-.94-2.06-.94 2.06-2.06.94zm-11 1L8.5 8.5l.94-2.06 2.06-.94-2.06-.94L8.5 2.5l-.94 2.06-2.06.94zm10 10l.94 2.06.94-2.06 2.06-.94-2.06-.94-.94-2.06-.94 2.06-2.06.94z\"/><path d=\"M17.41 7.96l-1.37-1.37c-.4-.4-.92-.59-1.43-.59-.52 0-1.04.2-1.43.59L10.3 9.45l-7.72 7.72c-.78.78-.78 2.05 0 2.83L4 21.41c.39.39.9.59 1.41.59.51 0 1.02-.2 1.41-.59l7.78-7.78 2.81-2.81c.8-.78.8-2.07 0-2.86zM5.41 20L4 18.59l7.72-7.72 1.47 1.35L5.41 20z\"/>\n",
              "  </svg>\n",
              "      </button>\n",
              "      \n",
              "  <style>\n",
              "    .colab-df-container {\n",
              "      display:flex;\n",
              "      flex-wrap:wrap;\n",
              "      gap: 12px;\n",
              "    }\n",
              "\n",
              "    .colab-df-convert {\n",
              "      background-color: #E8F0FE;\n",
              "      border: none;\n",
              "      border-radius: 50%;\n",
              "      cursor: pointer;\n",
              "      display: none;\n",
              "      fill: #1967D2;\n",
              "      height: 32px;\n",
              "      padding: 0 0 0 0;\n",
              "      width: 32px;\n",
              "    }\n",
              "\n",
              "    .colab-df-convert:hover {\n",
              "      background-color: #E2EBFA;\n",
              "      box-shadow: 0px 1px 2px rgba(60, 64, 67, 0.3), 0px 1px 3px 1px rgba(60, 64, 67, 0.15);\n",
              "      fill: #174EA6;\n",
              "    }\n",
              "\n",
              "    [theme=dark] .colab-df-convert {\n",
              "      background-color: #3B4455;\n",
              "      fill: #D2E3FC;\n",
              "    }\n",
              "\n",
              "    [theme=dark] .colab-df-convert:hover {\n",
              "      background-color: #434B5C;\n",
              "      box-shadow: 0px 1px 3px 1px rgba(0, 0, 0, 0.15);\n",
              "      filter: drop-shadow(0px 1px 2px rgba(0, 0, 0, 0.3));\n",
              "      fill: #FFFFFF;\n",
              "    }\n",
              "  </style>\n",
              "\n",
              "      <script>\n",
              "        const buttonEl =\n",
              "          document.querySelector('#df-9ba56e94-f4d8-427c-884e-bf52959ab1d3 button.colab-df-convert');\n",
              "        buttonEl.style.display =\n",
              "          google.colab.kernel.accessAllowed ? 'block' : 'none';\n",
              "\n",
              "        async function convertToInteractive(key) {\n",
              "          const element = document.querySelector('#df-9ba56e94-f4d8-427c-884e-bf52959ab1d3');\n",
              "          const dataTable =\n",
              "            await google.colab.kernel.invokeFunction('convertToInteractive',\n",
              "                                                     [key], {});\n",
              "          if (!dataTable) return;\n",
              "\n",
              "          const docLinkHtml = 'Like what you see? Visit the ' +\n",
              "            '<a target=\"_blank\" href=https://colab.research.google.com/notebooks/data_table.ipynb>data table notebook</a>'\n",
              "            + ' to learn more about interactive tables.';\n",
              "          element.innerHTML = '';\n",
              "          dataTable['output_type'] = 'display_data';\n",
              "          await google.colab.output.renderOutput(dataTable, element);\n",
              "          const docLink = document.createElement('div');\n",
              "          docLink.innerHTML = docLinkHtml;\n",
              "          element.appendChild(docLink);\n",
              "        }\n",
              "      </script>\n",
              "    </div>\n",
              "  </div>\n",
              "  "
            ]
          },
          "metadata": {},
          "execution_count": 6
        }
      ]
    },
    {
      "cell_type": "markdown",
      "source": [
        "### 2.1.4 Data Cleaning"
      ],
      "metadata": {
        "id": "iLDolufWvw2s"
      }
    },
    {
      "cell_type": "code",
      "source": [
        "# Menghapus kolom yang tidak digunakan\n",
        "df = df.drop(columns=['Unnamed: 0', 'Id_customer', 'FlagMobile', 'FlagWorkPhone', 'Email', 'Pengalaman', 'Overdue'])\n",
        "df"
      ],
      "metadata": {
        "colab": {
          "base_uri": "https://localhost:8080/",
          "height": 661
        },
        "id": "DbrxAxfEvxIM",
        "outputId": "4e513206-412a-410e-8c56-5490f4c692c3"
      },
      "execution_count": 4,
      "outputs": [
        {
          "output_type": "execute_result",
          "data": {
            "text/plain": [
              "      JenisKelamin KepemilikanMobil KepemilikanProperti  JmlAnak  Pendapatan  \\\n",
              "0        Perempuan            Tidak                  Ya        0    270000.0   \n",
              "1        Perempuan            Tidak                  Ya        0    270000.0   \n",
              "2        Perempuan            Tidak                  Ya        0    270000.0   \n",
              "3        Perempuan            Tidak                  Ya        0    270000.0   \n",
              "4        Perempuan            Tidak                  Ya        0    283500.0   \n",
              "...            ...              ...                 ...      ...         ...   \n",
              "36252    Laki-laki               Ya                  Ya        0    247500.0   \n",
              "36253    Laki-laki               Ya               Tidak        1    450000.0   \n",
              "36254    Laki-laki               Ya                  Ya        0     90000.0   \n",
              "36255    Laki-laki               Ya                  Ya        0    315000.0   \n",
              "36256    Laki-laki            Tidak                  Ya        0    112500.0   \n",
              "\n",
              "           TipePendapatan TingkatPendidikan StatusKeluarga       TipeRumah  \\\n",
              "0      Asosiasi komersial          Graduate  Belum Menikah   Rumah Pribadi   \n",
              "1      Asosiasi komersial          Graduate  Belum Menikah   Rumah Pribadi   \n",
              "2      Asosiasi komersial          Graduate  Belum Menikah   Rumah Pribadi   \n",
              "3      Asosiasi komersial          Graduate  Belum Menikah   Rumah Pribadi   \n",
              "4               Pensioner     Post Graduate          Cerai   Rumah Pribadi   \n",
              "...                   ...               ...            ...             ...   \n",
              "36252             Bekerja          Graduate        Menikah   Rumah Pribadi   \n",
              "36253             Bekerja     Post Graduate        Menikah   Rumah Pribadi   \n",
              "36254             Bekerja          Graduate        Menikah   Rumah Pribadi   \n",
              "36255             Bekerja          Graduate        Menikah   Rumah Pribadi   \n",
              "36256             Bekerja          Graduate  Belum Menikah  Sewa Apartment   \n",
              "\n",
              "       FlagPhone  JmlAnggotaKeluarga  Usia  CreditStatus Age_Bins  \n",
              "0              1                   1    52             0   lansia  \n",
              "1              1                   1    52             0   lansia  \n",
              "2              1                   1    52             0   lansia  \n",
              "3              1                   1    52             0   lansia  \n",
              "4              0                   1    62             0   lansia  \n",
              "...          ...                 ...   ...           ...      ...  \n",
              "36252          0                   2    30             1   dewasa  \n",
              "36253          1                   3    27             1   dewasa  \n",
              "36254          0                   2    52             1   lansia  \n",
              "36255          0                   2    48             1   lansia  \n",
              "36256          0                   1    25             1   remaja  \n",
              "\n",
              "[36257 rows x 14 columns]"
            ],
            "text/html": [
              "\n",
              "  <div id=\"df-7cbb2548-cd0c-4068-93d4-3081817f69b1\">\n",
              "    <div class=\"colab-df-container\">\n",
              "      <div>\n",
              "<style scoped>\n",
              "    .dataframe tbody tr th:only-of-type {\n",
              "        vertical-align: middle;\n",
              "    }\n",
              "\n",
              "    .dataframe tbody tr th {\n",
              "        vertical-align: top;\n",
              "    }\n",
              "\n",
              "    .dataframe thead th {\n",
              "        text-align: right;\n",
              "    }\n",
              "</style>\n",
              "<table border=\"1\" class=\"dataframe\">\n",
              "  <thead>\n",
              "    <tr style=\"text-align: right;\">\n",
              "      <th></th>\n",
              "      <th>JenisKelamin</th>\n",
              "      <th>KepemilikanMobil</th>\n",
              "      <th>KepemilikanProperti</th>\n",
              "      <th>JmlAnak</th>\n",
              "      <th>Pendapatan</th>\n",
              "      <th>TipePendapatan</th>\n",
              "      <th>TingkatPendidikan</th>\n",
              "      <th>StatusKeluarga</th>\n",
              "      <th>TipeRumah</th>\n",
              "      <th>FlagPhone</th>\n",
              "      <th>JmlAnggotaKeluarga</th>\n",
              "      <th>Usia</th>\n",
              "      <th>CreditStatus</th>\n",
              "      <th>Age_Bins</th>\n",
              "    </tr>\n",
              "  </thead>\n",
              "  <tbody>\n",
              "    <tr>\n",
              "      <th>0</th>\n",
              "      <td>Perempuan</td>\n",
              "      <td>Tidak</td>\n",
              "      <td>Ya</td>\n",
              "      <td>0</td>\n",
              "      <td>270000.0</td>\n",
              "      <td>Asosiasi komersial</td>\n",
              "      <td>Graduate</td>\n",
              "      <td>Belum Menikah</td>\n",
              "      <td>Rumah Pribadi</td>\n",
              "      <td>1</td>\n",
              "      <td>1</td>\n",
              "      <td>52</td>\n",
              "      <td>0</td>\n",
              "      <td>lansia</td>\n",
              "    </tr>\n",
              "    <tr>\n",
              "      <th>1</th>\n",
              "      <td>Perempuan</td>\n",
              "      <td>Tidak</td>\n",
              "      <td>Ya</td>\n",
              "      <td>0</td>\n",
              "      <td>270000.0</td>\n",
              "      <td>Asosiasi komersial</td>\n",
              "      <td>Graduate</td>\n",
              "      <td>Belum Menikah</td>\n",
              "      <td>Rumah Pribadi</td>\n",
              "      <td>1</td>\n",
              "      <td>1</td>\n",
              "      <td>52</td>\n",
              "      <td>0</td>\n",
              "      <td>lansia</td>\n",
              "    </tr>\n",
              "    <tr>\n",
              "      <th>2</th>\n",
              "      <td>Perempuan</td>\n",
              "      <td>Tidak</td>\n",
              "      <td>Ya</td>\n",
              "      <td>0</td>\n",
              "      <td>270000.0</td>\n",
              "      <td>Asosiasi komersial</td>\n",
              "      <td>Graduate</td>\n",
              "      <td>Belum Menikah</td>\n",
              "      <td>Rumah Pribadi</td>\n",
              "      <td>1</td>\n",
              "      <td>1</td>\n",
              "      <td>52</td>\n",
              "      <td>0</td>\n",
              "      <td>lansia</td>\n",
              "    </tr>\n",
              "    <tr>\n",
              "      <th>3</th>\n",
              "      <td>Perempuan</td>\n",
              "      <td>Tidak</td>\n",
              "      <td>Ya</td>\n",
              "      <td>0</td>\n",
              "      <td>270000.0</td>\n",
              "      <td>Asosiasi komersial</td>\n",
              "      <td>Graduate</td>\n",
              "      <td>Belum Menikah</td>\n",
              "      <td>Rumah Pribadi</td>\n",
              "      <td>1</td>\n",
              "      <td>1</td>\n",
              "      <td>52</td>\n",
              "      <td>0</td>\n",
              "      <td>lansia</td>\n",
              "    </tr>\n",
              "    <tr>\n",
              "      <th>4</th>\n",
              "      <td>Perempuan</td>\n",
              "      <td>Tidak</td>\n",
              "      <td>Ya</td>\n",
              "      <td>0</td>\n",
              "      <td>283500.0</td>\n",
              "      <td>Pensioner</td>\n",
              "      <td>Post Graduate</td>\n",
              "      <td>Cerai</td>\n",
              "      <td>Rumah Pribadi</td>\n",
              "      <td>0</td>\n",
              "      <td>1</td>\n",
              "      <td>62</td>\n",
              "      <td>0</td>\n",
              "      <td>lansia</td>\n",
              "    </tr>\n",
              "    <tr>\n",
              "      <th>...</th>\n",
              "      <td>...</td>\n",
              "      <td>...</td>\n",
              "      <td>...</td>\n",
              "      <td>...</td>\n",
              "      <td>...</td>\n",
              "      <td>...</td>\n",
              "      <td>...</td>\n",
              "      <td>...</td>\n",
              "      <td>...</td>\n",
              "      <td>...</td>\n",
              "      <td>...</td>\n",
              "      <td>...</td>\n",
              "      <td>...</td>\n",
              "      <td>...</td>\n",
              "    </tr>\n",
              "    <tr>\n",
              "      <th>36252</th>\n",
              "      <td>Laki-laki</td>\n",
              "      <td>Ya</td>\n",
              "      <td>Ya</td>\n",
              "      <td>0</td>\n",
              "      <td>247500.0</td>\n",
              "      <td>Bekerja</td>\n",
              "      <td>Graduate</td>\n",
              "      <td>Menikah</td>\n",
              "      <td>Rumah Pribadi</td>\n",
              "      <td>0</td>\n",
              "      <td>2</td>\n",
              "      <td>30</td>\n",
              "      <td>1</td>\n",
              "      <td>dewasa</td>\n",
              "    </tr>\n",
              "    <tr>\n",
              "      <th>36253</th>\n",
              "      <td>Laki-laki</td>\n",
              "      <td>Ya</td>\n",
              "      <td>Tidak</td>\n",
              "      <td>1</td>\n",
              "      <td>450000.0</td>\n",
              "      <td>Bekerja</td>\n",
              "      <td>Post Graduate</td>\n",
              "      <td>Menikah</td>\n",
              "      <td>Rumah Pribadi</td>\n",
              "      <td>1</td>\n",
              "      <td>3</td>\n",
              "      <td>27</td>\n",
              "      <td>1</td>\n",
              "      <td>dewasa</td>\n",
              "    </tr>\n",
              "    <tr>\n",
              "      <th>36254</th>\n",
              "      <td>Laki-laki</td>\n",
              "      <td>Ya</td>\n",
              "      <td>Ya</td>\n",
              "      <td>0</td>\n",
              "      <td>90000.0</td>\n",
              "      <td>Bekerja</td>\n",
              "      <td>Graduate</td>\n",
              "      <td>Menikah</td>\n",
              "      <td>Rumah Pribadi</td>\n",
              "      <td>0</td>\n",
              "      <td>2</td>\n",
              "      <td>52</td>\n",
              "      <td>1</td>\n",
              "      <td>lansia</td>\n",
              "    </tr>\n",
              "    <tr>\n",
              "      <th>36255</th>\n",
              "      <td>Laki-laki</td>\n",
              "      <td>Ya</td>\n",
              "      <td>Ya</td>\n",
              "      <td>0</td>\n",
              "      <td>315000.0</td>\n",
              "      <td>Bekerja</td>\n",
              "      <td>Graduate</td>\n",
              "      <td>Menikah</td>\n",
              "      <td>Rumah Pribadi</td>\n",
              "      <td>0</td>\n",
              "      <td>2</td>\n",
              "      <td>48</td>\n",
              "      <td>1</td>\n",
              "      <td>lansia</td>\n",
              "    </tr>\n",
              "    <tr>\n",
              "      <th>36256</th>\n",
              "      <td>Laki-laki</td>\n",
              "      <td>Tidak</td>\n",
              "      <td>Ya</td>\n",
              "      <td>0</td>\n",
              "      <td>112500.0</td>\n",
              "      <td>Bekerja</td>\n",
              "      <td>Graduate</td>\n",
              "      <td>Belum Menikah</td>\n",
              "      <td>Sewa Apartment</td>\n",
              "      <td>0</td>\n",
              "      <td>1</td>\n",
              "      <td>25</td>\n",
              "      <td>1</td>\n",
              "      <td>remaja</td>\n",
              "    </tr>\n",
              "  </tbody>\n",
              "</table>\n",
              "<p>36257 rows × 14 columns</p>\n",
              "</div>\n",
              "      <button class=\"colab-df-convert\" onclick=\"convertToInteractive('df-7cbb2548-cd0c-4068-93d4-3081817f69b1')\"\n",
              "              title=\"Convert this dataframe to an interactive table.\"\n",
              "              style=\"display:none;\">\n",
              "        \n",
              "  <svg xmlns=\"http://www.w3.org/2000/svg\" height=\"24px\"viewBox=\"0 0 24 24\"\n",
              "       width=\"24px\">\n",
              "    <path d=\"M0 0h24v24H0V0z\" fill=\"none\"/>\n",
              "    <path d=\"M18.56 5.44l.94 2.06.94-2.06 2.06-.94-2.06-.94-.94-2.06-.94 2.06-2.06.94zm-11 1L8.5 8.5l.94-2.06 2.06-.94-2.06-.94L8.5 2.5l-.94 2.06-2.06.94zm10 10l.94 2.06.94-2.06 2.06-.94-2.06-.94-.94-2.06-.94 2.06-2.06.94z\"/><path d=\"M17.41 7.96l-1.37-1.37c-.4-.4-.92-.59-1.43-.59-.52 0-1.04.2-1.43.59L10.3 9.45l-7.72 7.72c-.78.78-.78 2.05 0 2.83L4 21.41c.39.39.9.59 1.41.59.51 0 1.02-.2 1.41-.59l7.78-7.78 2.81-2.81c.8-.78.8-2.07 0-2.86zM5.41 20L4 18.59l7.72-7.72 1.47 1.35L5.41 20z\"/>\n",
              "  </svg>\n",
              "      </button>\n",
              "      \n",
              "  <style>\n",
              "    .colab-df-container {\n",
              "      display:flex;\n",
              "      flex-wrap:wrap;\n",
              "      gap: 12px;\n",
              "    }\n",
              "\n",
              "    .colab-df-convert {\n",
              "      background-color: #E8F0FE;\n",
              "      border: none;\n",
              "      border-radius: 50%;\n",
              "      cursor: pointer;\n",
              "      display: none;\n",
              "      fill: #1967D2;\n",
              "      height: 32px;\n",
              "      padding: 0 0 0 0;\n",
              "      width: 32px;\n",
              "    }\n",
              "\n",
              "    .colab-df-convert:hover {\n",
              "      background-color: #E2EBFA;\n",
              "      box-shadow: 0px 1px 2px rgba(60, 64, 67, 0.3), 0px 1px 3px 1px rgba(60, 64, 67, 0.15);\n",
              "      fill: #174EA6;\n",
              "    }\n",
              "\n",
              "    [theme=dark] .colab-df-convert {\n",
              "      background-color: #3B4455;\n",
              "      fill: #D2E3FC;\n",
              "    }\n",
              "\n",
              "    [theme=dark] .colab-df-convert:hover {\n",
              "      background-color: #434B5C;\n",
              "      box-shadow: 0px 1px 3px 1px rgba(0, 0, 0, 0.15);\n",
              "      filter: drop-shadow(0px 1px 2px rgba(0, 0, 0, 0.3));\n",
              "      fill: #FFFFFF;\n",
              "    }\n",
              "  </style>\n",
              "\n",
              "      <script>\n",
              "        const buttonEl =\n",
              "          document.querySelector('#df-7cbb2548-cd0c-4068-93d4-3081817f69b1 button.colab-df-convert');\n",
              "        buttonEl.style.display =\n",
              "          google.colab.kernel.accessAllowed ? 'block' : 'none';\n",
              "\n",
              "        async function convertToInteractive(key) {\n",
              "          const element = document.querySelector('#df-7cbb2548-cd0c-4068-93d4-3081817f69b1');\n",
              "          const dataTable =\n",
              "            await google.colab.kernel.invokeFunction('convertToInteractive',\n",
              "                                                     [key], {});\n",
              "          if (!dataTable) return;\n",
              "\n",
              "          const docLinkHtml = 'Like what you see? Visit the ' +\n",
              "            '<a target=\"_blank\" href=https://colab.research.google.com/notebooks/data_table.ipynb>data table notebook</a>'\n",
              "            + ' to learn more about interactive tables.';\n",
              "          element.innerHTML = '';\n",
              "          dataTable['output_type'] = 'display_data';\n",
              "          await google.colab.output.renderOutput(dataTable, element);\n",
              "          const docLink = document.createElement('div');\n",
              "          docLink.innerHTML = docLinkHtml;\n",
              "          element.appendChild(docLink);\n",
              "        }\n",
              "      </script>\n",
              "    </div>\n",
              "  </div>\n",
              "  "
            ]
          },
          "metadata": {},
          "execution_count": 4
        }
      ]
    },
    {
      "cell_type": "code",
      "source": [
        "# Rename column name\n",
        "df.rename(columns={'Age_Bins': 'KategoriUsia'}, inplace=True)"
      ],
      "metadata": {
        "id": "OFfiJ2pT4M_x"
      },
      "execution_count": 9,
      "outputs": []
    },
    {
      "cell_type": "code",
      "source": [
        "df.info()"
      ],
      "metadata": {
        "colab": {
          "base_uri": "https://localhost:8080/"
        },
        "id": "lip5ELQLwd6b",
        "outputId": "6a409eb8-40c8-4dab-bd03-f06be9c8ec37"
      },
      "execution_count": 10,
      "outputs": [
        {
          "output_type": "stream",
          "name": "stdout",
          "text": [
            "<class 'pandas.core.frame.DataFrame'>\n",
            "RangeIndex: 36257 entries, 0 to 36256\n",
            "Data columns (total 14 columns):\n",
            " #   Column               Non-Null Count  Dtype  \n",
            "---  ------               --------------  -----  \n",
            " 0   JenisKelamin         36257 non-null  object \n",
            " 1   KepemilikanMobil     36257 non-null  object \n",
            " 2   KepemilikanProperti  36257 non-null  object \n",
            " 3   JmlAnak              36257 non-null  int64  \n",
            " 4   Pendapatan           36257 non-null  float64\n",
            " 5   TipePendapatan       36257 non-null  object \n",
            " 6   TingkatPendidikan    36257 non-null  object \n",
            " 7   StatusKeluarga       36257 non-null  object \n",
            " 8   TipeRumah            36257 non-null  object \n",
            " 9   FlagPhone            36257 non-null  int64  \n",
            " 10  JmlAnggotaKeluarga   36257 non-null  int64  \n",
            " 11  Usia                 36257 non-null  int64  \n",
            " 12  CreditStatus         36257 non-null  int64  \n",
            " 13  KategoriUsia         36257 non-null  object \n",
            "dtypes: float64(1), int64(5), object(8)\n",
            "memory usage: 3.9+ MB\n"
          ]
        }
      ]
    },
    {
      "cell_type": "markdown",
      "source": [
        "### 2.1.5 Feature Category"
      ],
      "metadata": {
        "id": "8lBfp6ci2lsZ"
      }
    },
    {
      "cell_type": "code",
      "source": [
        "# Mengetahui kolom apa saja yang termasuk fitur (variabel) numerik/kategoris\n",
        "numerical_features = df.select_dtypes(include=\"number\").columns.tolist()\n",
        "categorical_features = df.select_dtypes(include=\"object\").columns.tolist()"
      ],
      "metadata": {
        "id": "mjVAxJcl0R-k"
      },
      "execution_count": 11,
      "outputs": []
    },
    {
      "cell_type": "code",
      "source": [
        "print(\"Numerical features:\")\n",
        "numerical_features"
      ],
      "metadata": {
        "colab": {
          "base_uri": "https://localhost:8080/"
        },
        "id": "BtkLYj8i0h1m",
        "outputId": "012c9a29-becb-4249-d64a-2c8cd5a94a67"
      },
      "execution_count": 12,
      "outputs": [
        {
          "output_type": "stream",
          "name": "stdout",
          "text": [
            "Numerical features:\n"
          ]
        },
        {
          "output_type": "execute_result",
          "data": {
            "text/plain": [
              "['JmlAnak',\n",
              " 'Pendapatan',\n",
              " 'FlagPhone',\n",
              " 'JmlAnggotaKeluarga',\n",
              " 'Usia',\n",
              " 'CreditStatus']"
            ]
          },
          "metadata": {},
          "execution_count": 12
        }
      ]
    },
    {
      "cell_type": "code",
      "source": [
        "print(\"Categorical features:\")\n",
        "categorical_features"
      ],
      "metadata": {
        "colab": {
          "base_uri": "https://localhost:8080/"
        },
        "id": "zVCvaVM60iSz",
        "outputId": "49fed618-bcbf-4ce5-c35f-89b643103966"
      },
      "execution_count": 13,
      "outputs": [
        {
          "output_type": "stream",
          "name": "stdout",
          "text": [
            "Categorical features:\n"
          ]
        },
        {
          "output_type": "execute_result",
          "data": {
            "text/plain": [
              "['JenisKelamin',\n",
              " 'KepemilikanMobil',\n",
              " 'KepemilikanProperti',\n",
              " 'TipePendapatan',\n",
              " 'TingkatPendidikan',\n",
              " 'StatusKeluarga',\n",
              " 'TipeRumah',\n",
              " 'KategoriUsia']"
            ]
          },
          "metadata": {},
          "execution_count": 13
        }
      ]
    },
    {
      "cell_type": "markdown",
      "source": [
        "### 2.1.6 Statistic Summary"
      ],
      "metadata": {
        "id": "LoQ2PozEs93-"
      }
    },
    {
      "cell_type": "code",
      "source": [
        "# Memahami karakteristik data melalui fitur-fitur numerik dengan function describe(). T=Transpose\n",
        "df[numerical_features].describe().T"
      ],
      "metadata": {
        "colab": {
          "base_uri": "https://localhost:8080/",
          "height": 301
        },
        "id": "mxE5B7jUsKcE",
        "outputId": "12cb0369-0dbc-420c-9e62-86939e51c64f"
      },
      "execution_count": 17,
      "outputs": [
        {
          "output_type": "execute_result",
          "data": {
            "text/plain": [
              "                      count           mean            std      min       25%  \\\n",
              "JmlAnak             36257.0       0.430427       0.742474      0.0       0.0   \n",
              "Pendapatan          36257.0  186625.534421  101548.649430  27000.0  121500.0   \n",
              "FlagPhone           36257.0       0.294812       0.455965      0.0       0.0   \n",
              "JmlAnggotaKeluarga  36257.0       2.198720       0.911781      1.0       2.0   \n",
              "Usia                36257.0      43.770720      11.521564     21.0      34.0   \n",
              "CreditStatus        36257.0       0.116226       0.320500      0.0       0.0   \n",
              "\n",
              "                         50%       75%        max  \n",
              "JmlAnak                  0.0       1.0       19.0  \n",
              "Pendapatan          157500.0  225000.0  1575000.0  \n",
              "FlagPhone                0.0       1.0        1.0  \n",
              "JmlAnggotaKeluarga       2.0       3.0       20.0  \n",
              "Usia                    43.0      53.0       69.0  \n",
              "CreditStatus             0.0       0.0        1.0  "
            ],
            "text/html": [
              "\n",
              "  <div id=\"df-efb75cec-2851-4d77-b512-372ab3e22a58\">\n",
              "    <div class=\"colab-df-container\">\n",
              "      <div>\n",
              "<style scoped>\n",
              "    .dataframe tbody tr th:only-of-type {\n",
              "        vertical-align: middle;\n",
              "    }\n",
              "\n",
              "    .dataframe tbody tr th {\n",
              "        vertical-align: top;\n",
              "    }\n",
              "\n",
              "    .dataframe thead th {\n",
              "        text-align: right;\n",
              "    }\n",
              "</style>\n",
              "<table border=\"1\" class=\"dataframe\">\n",
              "  <thead>\n",
              "    <tr style=\"text-align: right;\">\n",
              "      <th></th>\n",
              "      <th>count</th>\n",
              "      <th>mean</th>\n",
              "      <th>std</th>\n",
              "      <th>min</th>\n",
              "      <th>25%</th>\n",
              "      <th>50%</th>\n",
              "      <th>75%</th>\n",
              "      <th>max</th>\n",
              "    </tr>\n",
              "  </thead>\n",
              "  <tbody>\n",
              "    <tr>\n",
              "      <th>JmlAnak</th>\n",
              "      <td>36257.0</td>\n",
              "      <td>0.430427</td>\n",
              "      <td>0.742474</td>\n",
              "      <td>0.0</td>\n",
              "      <td>0.0</td>\n",
              "      <td>0.0</td>\n",
              "      <td>1.0</td>\n",
              "      <td>19.0</td>\n",
              "    </tr>\n",
              "    <tr>\n",
              "      <th>Pendapatan</th>\n",
              "      <td>36257.0</td>\n",
              "      <td>186625.534421</td>\n",
              "      <td>101548.649430</td>\n",
              "      <td>27000.0</td>\n",
              "      <td>121500.0</td>\n",
              "      <td>157500.0</td>\n",
              "      <td>225000.0</td>\n",
              "      <td>1575000.0</td>\n",
              "    </tr>\n",
              "    <tr>\n",
              "      <th>FlagPhone</th>\n",
              "      <td>36257.0</td>\n",
              "      <td>0.294812</td>\n",
              "      <td>0.455965</td>\n",
              "      <td>0.0</td>\n",
              "      <td>0.0</td>\n",
              "      <td>0.0</td>\n",
              "      <td>1.0</td>\n",
              "      <td>1.0</td>\n",
              "    </tr>\n",
              "    <tr>\n",
              "      <th>JmlAnggotaKeluarga</th>\n",
              "      <td>36257.0</td>\n",
              "      <td>2.198720</td>\n",
              "      <td>0.911781</td>\n",
              "      <td>1.0</td>\n",
              "      <td>2.0</td>\n",
              "      <td>2.0</td>\n",
              "      <td>3.0</td>\n",
              "      <td>20.0</td>\n",
              "    </tr>\n",
              "    <tr>\n",
              "      <th>Usia</th>\n",
              "      <td>36257.0</td>\n",
              "      <td>43.770720</td>\n",
              "      <td>11.521564</td>\n",
              "      <td>21.0</td>\n",
              "      <td>34.0</td>\n",
              "      <td>43.0</td>\n",
              "      <td>53.0</td>\n",
              "      <td>69.0</td>\n",
              "    </tr>\n",
              "    <tr>\n",
              "      <th>CreditStatus</th>\n",
              "      <td>36257.0</td>\n",
              "      <td>0.116226</td>\n",
              "      <td>0.320500</td>\n",
              "      <td>0.0</td>\n",
              "      <td>0.0</td>\n",
              "      <td>0.0</td>\n",
              "      <td>0.0</td>\n",
              "      <td>1.0</td>\n",
              "    </tr>\n",
              "  </tbody>\n",
              "</table>\n",
              "</div>\n",
              "      <button class=\"colab-df-convert\" onclick=\"convertToInteractive('df-efb75cec-2851-4d77-b512-372ab3e22a58')\"\n",
              "              title=\"Convert this dataframe to an interactive table.\"\n",
              "              style=\"display:none;\">\n",
              "        \n",
              "  <svg xmlns=\"http://www.w3.org/2000/svg\" height=\"24px\"viewBox=\"0 0 24 24\"\n",
              "       width=\"24px\">\n",
              "    <path d=\"M0 0h24v24H0V0z\" fill=\"none\"/>\n",
              "    <path d=\"M18.56 5.44l.94 2.06.94-2.06 2.06-.94-2.06-.94-.94-2.06-.94 2.06-2.06.94zm-11 1L8.5 8.5l.94-2.06 2.06-.94-2.06-.94L8.5 2.5l-.94 2.06-2.06.94zm10 10l.94 2.06.94-2.06 2.06-.94-2.06-.94-.94-2.06-.94 2.06-2.06.94z\"/><path d=\"M17.41 7.96l-1.37-1.37c-.4-.4-.92-.59-1.43-.59-.52 0-1.04.2-1.43.59L10.3 9.45l-7.72 7.72c-.78.78-.78 2.05 0 2.83L4 21.41c.39.39.9.59 1.41.59.51 0 1.02-.2 1.41-.59l7.78-7.78 2.81-2.81c.8-.78.8-2.07 0-2.86zM5.41 20L4 18.59l7.72-7.72 1.47 1.35L5.41 20z\"/>\n",
              "  </svg>\n",
              "      </button>\n",
              "      \n",
              "  <style>\n",
              "    .colab-df-container {\n",
              "      display:flex;\n",
              "      flex-wrap:wrap;\n",
              "      gap: 12px;\n",
              "    }\n",
              "\n",
              "    .colab-df-convert {\n",
              "      background-color: #E8F0FE;\n",
              "      border: none;\n",
              "      border-radius: 50%;\n",
              "      cursor: pointer;\n",
              "      display: none;\n",
              "      fill: #1967D2;\n",
              "      height: 32px;\n",
              "      padding: 0 0 0 0;\n",
              "      width: 32px;\n",
              "    }\n",
              "\n",
              "    .colab-df-convert:hover {\n",
              "      background-color: #E2EBFA;\n",
              "      box-shadow: 0px 1px 2px rgba(60, 64, 67, 0.3), 0px 1px 3px 1px rgba(60, 64, 67, 0.15);\n",
              "      fill: #174EA6;\n",
              "    }\n",
              "\n",
              "    [theme=dark] .colab-df-convert {\n",
              "      background-color: #3B4455;\n",
              "      fill: #D2E3FC;\n",
              "    }\n",
              "\n",
              "    [theme=dark] .colab-df-convert:hover {\n",
              "      background-color: #434B5C;\n",
              "      box-shadow: 0px 1px 3px 1px rgba(0, 0, 0, 0.15);\n",
              "      filter: drop-shadow(0px 1px 2px rgba(0, 0, 0, 0.3));\n",
              "      fill: #FFFFFF;\n",
              "    }\n",
              "  </style>\n",
              "\n",
              "      <script>\n",
              "        const buttonEl =\n",
              "          document.querySelector('#df-efb75cec-2851-4d77-b512-372ab3e22a58 button.colab-df-convert');\n",
              "        buttonEl.style.display =\n",
              "          google.colab.kernel.accessAllowed ? 'block' : 'none';\n",
              "\n",
              "        async function convertToInteractive(key) {\n",
              "          const element = document.querySelector('#df-efb75cec-2851-4d77-b512-372ab3e22a58');\n",
              "          const dataTable =\n",
              "            await google.colab.kernel.invokeFunction('convertToInteractive',\n",
              "                                                     [key], {});\n",
              "          if (!dataTable) return;\n",
              "\n",
              "          const docLinkHtml = 'Like what you see? Visit the ' +\n",
              "            '<a target=\"_blank\" href=https://colab.research.google.com/notebooks/data_table.ipynb>data table notebook</a>'\n",
              "            + ' to learn more about interactive tables.';\n",
              "          element.innerHTML = '';\n",
              "          dataTable['output_type'] = 'display_data';\n",
              "          await google.colab.output.renderOutput(dataTable, element);\n",
              "          const docLink = document.createElement('div');\n",
              "          docLink.innerHTML = docLinkHtml;\n",
              "          element.appendChild(docLink);\n",
              "        }\n",
              "      </script>\n",
              "    </div>\n",
              "  </div>\n",
              "  "
            ]
          },
          "metadata": {},
          "execution_count": 17
        }
      ]
    },
    {
      "cell_type": "code",
      "source": [
        "# Memahami karakteristik data melalui fitur-fitur kategoris dengan function describe()\n",
        "df[categorical_features].describe().T"
      ],
      "metadata": {
        "colab": {
          "base_uri": "https://localhost:8080/",
          "height": 300
        },
        "id": "Onf8NcqVtBUz",
        "outputId": "aa4daeb3-830d-4345-b16a-aaeb521c5d3a"
      },
      "execution_count": 18,
      "outputs": [
        {
          "output_type": "execute_result",
          "data": {
            "text/plain": [
              "                     count unique            top   freq\n",
              "JenisKelamin         36257      2      Perempuan  24279\n",
              "KepemilikanMobil     36257      2          Tidak  22476\n",
              "KepemilikanProperti  36257      2             Ya  24367\n",
              "TipePendapatan       36257      5        Bekerja  18708\n",
              "TingkatPendidikan    36257      3       Graduate  26046\n",
              "StatusKeluarga       36257      3        Menikah  27845\n",
              "TipeRumah            36257      5  Rumah Pribadi  32367\n",
              "KategoriUsia         36257      4         dewasa  19853"
            ],
            "text/html": [
              "\n",
              "  <div id=\"df-89f6a227-a9f5-4632-8306-58cd6b822909\">\n",
              "    <div class=\"colab-df-container\">\n",
              "      <div>\n",
              "<style scoped>\n",
              "    .dataframe tbody tr th:only-of-type {\n",
              "        vertical-align: middle;\n",
              "    }\n",
              "\n",
              "    .dataframe tbody tr th {\n",
              "        vertical-align: top;\n",
              "    }\n",
              "\n",
              "    .dataframe thead th {\n",
              "        text-align: right;\n",
              "    }\n",
              "</style>\n",
              "<table border=\"1\" class=\"dataframe\">\n",
              "  <thead>\n",
              "    <tr style=\"text-align: right;\">\n",
              "      <th></th>\n",
              "      <th>count</th>\n",
              "      <th>unique</th>\n",
              "      <th>top</th>\n",
              "      <th>freq</th>\n",
              "    </tr>\n",
              "  </thead>\n",
              "  <tbody>\n",
              "    <tr>\n",
              "      <th>JenisKelamin</th>\n",
              "      <td>36257</td>\n",
              "      <td>2</td>\n",
              "      <td>Perempuan</td>\n",
              "      <td>24279</td>\n",
              "    </tr>\n",
              "    <tr>\n",
              "      <th>KepemilikanMobil</th>\n",
              "      <td>36257</td>\n",
              "      <td>2</td>\n",
              "      <td>Tidak</td>\n",
              "      <td>22476</td>\n",
              "    </tr>\n",
              "    <tr>\n",
              "      <th>KepemilikanProperti</th>\n",
              "      <td>36257</td>\n",
              "      <td>2</td>\n",
              "      <td>Ya</td>\n",
              "      <td>24367</td>\n",
              "    </tr>\n",
              "    <tr>\n",
              "      <th>TipePendapatan</th>\n",
              "      <td>36257</td>\n",
              "      <td>5</td>\n",
              "      <td>Bekerja</td>\n",
              "      <td>18708</td>\n",
              "    </tr>\n",
              "    <tr>\n",
              "      <th>TingkatPendidikan</th>\n",
              "      <td>36257</td>\n",
              "      <td>3</td>\n",
              "      <td>Graduate</td>\n",
              "      <td>26046</td>\n",
              "    </tr>\n",
              "    <tr>\n",
              "      <th>StatusKeluarga</th>\n",
              "      <td>36257</td>\n",
              "      <td>3</td>\n",
              "      <td>Menikah</td>\n",
              "      <td>27845</td>\n",
              "    </tr>\n",
              "    <tr>\n",
              "      <th>TipeRumah</th>\n",
              "      <td>36257</td>\n",
              "      <td>5</td>\n",
              "      <td>Rumah Pribadi</td>\n",
              "      <td>32367</td>\n",
              "    </tr>\n",
              "    <tr>\n",
              "      <th>KategoriUsia</th>\n",
              "      <td>36257</td>\n",
              "      <td>4</td>\n",
              "      <td>dewasa</td>\n",
              "      <td>19853</td>\n",
              "    </tr>\n",
              "  </tbody>\n",
              "</table>\n",
              "</div>\n",
              "      <button class=\"colab-df-convert\" onclick=\"convertToInteractive('df-89f6a227-a9f5-4632-8306-58cd6b822909')\"\n",
              "              title=\"Convert this dataframe to an interactive table.\"\n",
              "              style=\"display:none;\">\n",
              "        \n",
              "  <svg xmlns=\"http://www.w3.org/2000/svg\" height=\"24px\"viewBox=\"0 0 24 24\"\n",
              "       width=\"24px\">\n",
              "    <path d=\"M0 0h24v24H0V0z\" fill=\"none\"/>\n",
              "    <path d=\"M18.56 5.44l.94 2.06.94-2.06 2.06-.94-2.06-.94-.94-2.06-.94 2.06-2.06.94zm-11 1L8.5 8.5l.94-2.06 2.06-.94-2.06-.94L8.5 2.5l-.94 2.06-2.06.94zm10 10l.94 2.06.94-2.06 2.06-.94-2.06-.94-.94-2.06-.94 2.06-2.06.94z\"/><path d=\"M17.41 7.96l-1.37-1.37c-.4-.4-.92-.59-1.43-.59-.52 0-1.04.2-1.43.59L10.3 9.45l-7.72 7.72c-.78.78-.78 2.05 0 2.83L4 21.41c.39.39.9.59 1.41.59.51 0 1.02-.2 1.41-.59l7.78-7.78 2.81-2.81c.8-.78.8-2.07 0-2.86zM5.41 20L4 18.59l7.72-7.72 1.47 1.35L5.41 20z\"/>\n",
              "  </svg>\n",
              "      </button>\n",
              "      \n",
              "  <style>\n",
              "    .colab-df-container {\n",
              "      display:flex;\n",
              "      flex-wrap:wrap;\n",
              "      gap: 12px;\n",
              "    }\n",
              "\n",
              "    .colab-df-convert {\n",
              "      background-color: #E8F0FE;\n",
              "      border: none;\n",
              "      border-radius: 50%;\n",
              "      cursor: pointer;\n",
              "      display: none;\n",
              "      fill: #1967D2;\n",
              "      height: 32px;\n",
              "      padding: 0 0 0 0;\n",
              "      width: 32px;\n",
              "    }\n",
              "\n",
              "    .colab-df-convert:hover {\n",
              "      background-color: #E2EBFA;\n",
              "      box-shadow: 0px 1px 2px rgba(60, 64, 67, 0.3), 0px 1px 3px 1px rgba(60, 64, 67, 0.15);\n",
              "      fill: #174EA6;\n",
              "    }\n",
              "\n",
              "    [theme=dark] .colab-df-convert {\n",
              "      background-color: #3B4455;\n",
              "      fill: #D2E3FC;\n",
              "    }\n",
              "\n",
              "    [theme=dark] .colab-df-convert:hover {\n",
              "      background-color: #434B5C;\n",
              "      box-shadow: 0px 1px 3px 1px rgba(0, 0, 0, 0.15);\n",
              "      filter: drop-shadow(0px 1px 2px rgba(0, 0, 0, 0.3));\n",
              "      fill: #FFFFFF;\n",
              "    }\n",
              "  </style>\n",
              "\n",
              "      <script>\n",
              "        const buttonEl =\n",
              "          document.querySelector('#df-89f6a227-a9f5-4632-8306-58cd6b822909 button.colab-df-convert');\n",
              "        buttonEl.style.display =\n",
              "          google.colab.kernel.accessAllowed ? 'block' : 'none';\n",
              "\n",
              "        async function convertToInteractive(key) {\n",
              "          const element = document.querySelector('#df-89f6a227-a9f5-4632-8306-58cd6b822909');\n",
              "          const dataTable =\n",
              "            await google.colab.kernel.invokeFunction('convertToInteractive',\n",
              "                                                     [key], {});\n",
              "          if (!dataTable) return;\n",
              "\n",
              "          const docLinkHtml = 'Like what you see? Visit the ' +\n",
              "            '<a target=\"_blank\" href=https://colab.research.google.com/notebooks/data_table.ipynb>data table notebook</a>'\n",
              "            + ' to learn more about interactive tables.';\n",
              "          element.innerHTML = '';\n",
              "          dataTable['output_type'] = 'display_data';\n",
              "          await google.colab.output.renderOutput(dataTable, element);\n",
              "          const docLink = document.createElement('div');\n",
              "          docLink.innerHTML = docLinkHtml;\n",
              "          element.appendChild(docLink);\n",
              "        }\n",
              "      </script>\n",
              "    </div>\n",
              "  </div>\n",
              "  "
            ]
          },
          "metadata": {},
          "execution_count": 18
        }
      ]
    },
    {
      "cell_type": "code",
      "source": [
        "# Visualisasikan fitur-fitur numerik ke Boxplot untuk melihat bagaimana data tersebar\n",
        "df[numerical_features].plot(kind=\"box\", figsize=(12, 9))\n",
        "plt.grid(False)\n",
        "plt.show()"
      ],
      "metadata": {
        "colab": {
          "base_uri": "https://localhost:8080/",
          "height": 496
        },
        "id": "KRs08l8r3PUl",
        "outputId": "da46ef1f-dbb6-44eb-98ed-07f875a6962a"
      },
      "execution_count": 16,
      "outputs": [
        {
          "output_type": "display_data",
          "data": {
            "text/plain": [
              "<Figure size 864x648 with 1 Axes>"
            ],
            "image/png": "[encoded data removed]"
          },
          "metadata": {
            "needs_background": "light"
          }
        }
      ]
    },
    {
      "cell_type": "markdown",
      "source": [
        "> **Insights:** \n",
        "\n",
        "> Dari visualisasi box plot di atas:\n",
        "* Semua distribusi `BMI`, `PhysicalHealth`, `MentalHealth`, `SleepTime` terlihat right-skewed\n",
        "* Meski begitu, nilai rata-rata dan median `BMI` dan `SleepTime` cenderung sama\n",
        "\n",
        "> Selain menggnakan boxplot seperti di atas, kita juga bisa menggunakan violin plot seperti di bawah ini untuk mengetahui bentuk kurva distribusi masing-masing fitur dengan lebih jelas."
      ],
      "metadata": {
        "id": "kN5wCrHv3d84"
      }
    },
    {
      "cell_type": "code",
      "source": [
        "# Visualisasikan fitur-fitur numerik ke Violin Plot untuk melihat bentuk kurva distribusi data\n",
        "plt.figure(figsize=(14, 9))\n",
        "sns.violinplot(data=df[numerical_features])\n",
        "plt.grid(False)\n",
        "plt.show()"
      ],
      "metadata": {
        "colab": {
          "base_uri": "https://localhost:8080/",
          "height": 431
        },
        "id": "JUtt7VyA3Pde",
        "outputId": "0f868da8-1c1a-4e01-b667-2b5740bbe8d7"
      },
      "execution_count": 19,
      "outputs": [
        {
          "output_type": "display_data",
          "data": {
            "text/plain": [
              "<Figure size 1008x648 with 1 Axes>"
            ],
            "image/png": "[encoded data removed]"
          },
          "metadata": {
            "needs_background": "light"
          }
        }
      ]
    },
    {
      "cell_type": "markdown",
      "source": [
        "> Berbeda dengan fitur numerik, ringkasan statistik untuk fitur-fitur kategorik terdiri dari jumlah baris pada data, jumlah nilai unik, nilai yang paling sering muncul (mode), dan frekuensinya."
      ],
      "metadata": {
        "id": "OAQTtYS33J08"
      }
    },
    {
      "cell_type": "markdown",
      "source": [
        "### 2.1.7 Data Correlation"
      ],
      "metadata": {
        "id": "3Lly3hMvuyAF"
      }
    },
    {
      "cell_type": "code",
      "source": [
        "# Melihat hubungan dari fitur numerik menggunakan correlation \n",
        "df.corr()"
      ],
      "metadata": {
        "colab": {
          "base_uri": "https://localhost:8080/",
          "height": 301
        },
        "id": "2YedyEJj5fWD",
        "outputId": "2d7aeb03-4a68-4303-ab1d-aba3d9c90775"
      },
      "execution_count": 20,
      "outputs": [
        {
          "output_type": "execute_result",
          "data": {
            "text/plain": [
              "                     JmlAnak  Pendapatan  FlagPhone  JmlAnggotaKeluarga  \\\n",
              "JmlAnak             1.000000    0.033966  -0.016770            0.889197   \n",
              "Pendapatan          0.033966    1.000000   0.018073            0.024134   \n",
              "FlagPhone          -0.016770    0.018073   1.000000           -0.004652   \n",
              "JmlAnggotaKeluarga  0.889197    0.024134  -0.004652            1.000000   \n",
              "Usia               -0.338590   -0.068255   0.028739           -0.303523   \n",
              "CreditStatus        0.011496    0.023706  -0.006858            0.009117   \n",
              "\n",
              "                        Usia  CreditStatus  \n",
              "JmlAnak            -0.338590      0.011496  \n",
              "Pendapatan         -0.068255      0.023706  \n",
              "FlagPhone           0.028739     -0.006858  \n",
              "JmlAnggotaKeluarga -0.303523      0.009117  \n",
              "Usia                1.000000     -0.029383  \n",
              "CreditStatus       -0.029383      1.000000  "
            ],
            "text/html": [
              "\n",
              "  <div id=\"df-1d3c5bd7-b0fc-49c6-8c24-60b10cb82e6d\">\n",
              "    <div class=\"colab-df-container\">\n",
              "      <div>\n",
              "<style scoped>\n",
              "    .dataframe tbody tr th:only-of-type {\n",
              "        vertical-align: middle;\n",
              "    }\n",
              "\n",
              "    .dataframe tbody tr th {\n",
              "        vertical-align: top;\n",
              "    }\n",
              "\n",
              "    .dataframe thead th {\n",
              "        text-align: right;\n",
              "    }\n",
              "</style>\n",
              "<table border=\"1\" class=\"dataframe\">\n",
              "  <thead>\n",
              "    <tr style=\"text-align: right;\">\n",
              "      <th></th>\n",
              "      <th>JmlAnak</th>\n",
              "      <th>Pendapatan</th>\n",
              "      <th>FlagPhone</th>\n",
              "      <th>JmlAnggotaKeluarga</th>\n",
              "      <th>Usia</th>\n",
              "      <th>CreditStatus</th>\n",
              "    </tr>\n",
              "  </thead>\n",
              "  <tbody>\n",
              "    <tr>\n",
              "      <th>JmlAnak</th>\n",
              "      <td>1.000000</td>\n",
              "      <td>0.033966</td>\n",
              "      <td>-0.016770</td>\n",
              "      <td>0.889197</td>\n",
              "      <td>-0.338590</td>\n",
              "      <td>0.011496</td>\n",
              "    </tr>\n",
              "    <tr>\n",
              "      <th>Pendapatan</th>\n",
              "      <td>0.033966</td>\n",
              "      <td>1.000000</td>\n",
              "      <td>0.018073</td>\n",
              "      <td>0.024134</td>\n",
              "      <td>-0.068255</td>\n",
              "      <td>0.023706</td>\n",
              "    </tr>\n",
              "    <tr>\n",
              "      <th>FlagPhone</th>\n",
              "      <td>-0.016770</td>\n",
              "      <td>0.018073</td>\n",
              "      <td>1.000000</td>\n",
              "      <td>-0.004652</td>\n",
              "      <td>0.028739</td>\n",
              "      <td>-0.006858</td>\n",
              "    </tr>\n",
              "    <tr>\n",
              "      <th>JmlAnggotaKeluarga</th>\n",
              "      <td>0.889197</td>\n",
              "      <td>0.024134</td>\n",
              "      <td>-0.004652</td>\n",
              "      <td>1.000000</td>\n",
              "      <td>-0.303523</td>\n",
              "      <td>0.009117</td>\n",
              "    </tr>\n",
              "    <tr>\n",
              "      <th>Usia</th>\n",
              "      <td>-0.338590</td>\n",
              "      <td>-0.068255</td>\n",
              "      <td>0.028739</td>\n",
              "      <td>-0.303523</td>\n",
              "      <td>1.000000</td>\n",
              "      <td>-0.029383</td>\n",
              "    </tr>\n",
              "    <tr>\n",
              "      <th>CreditStatus</th>\n",
              "      <td>0.011496</td>\n",
              "      <td>0.023706</td>\n",
              "      <td>-0.006858</td>\n",
              "      <td>0.009117</td>\n",
              "      <td>-0.029383</td>\n",
              "      <td>1.000000</td>\n",
              "    </tr>\n",
              "  </tbody>\n",
              "</table>\n",
              "</div>\n",
              "      <button class=\"colab-df-convert\" onclick=\"convertToInteractive('df-1d3c5bd7-b0fc-49c6-8c24-60b10cb82e6d')\"\n",
              "              title=\"Convert this dataframe to an interactive table.\"\n",
              "              style=\"display:none;\">\n",
              "        \n",
              "  <svg xmlns=\"http://www.w3.org/2000/svg\" height=\"24px\"viewBox=\"0 0 24 24\"\n",
              "       width=\"24px\">\n",
              "    <path d=\"M0 0h24v24H0V0z\" fill=\"none\"/>\n",
              "    <path d=\"M18.56 5.44l.94 2.06.94-2.06 2.06-.94-2.06-.94-.94-2.06-.94 2.06-2.06.94zm-11 1L8.5 8.5l.94-2.06 2.06-.94-2.06-.94L8.5 2.5l-.94 2.06-2.06.94zm10 10l.94 2.06.94-2.06 2.06-.94-2.06-.94-.94-2.06-.94 2.06-2.06.94z\"/><path d=\"M17.41 7.96l-1.37-1.37c-.4-.4-.92-.59-1.43-.59-.52 0-1.04.2-1.43.59L10.3 9.45l-7.72 7.72c-.78.78-.78 2.05 0 2.83L4 21.41c.39.39.9.59 1.41.59.51 0 1.02-.2 1.41-.59l7.78-7.78 2.81-2.81c.8-.78.8-2.07 0-2.86zM5.41 20L4 18.59l7.72-7.72 1.47 1.35L5.41 20z\"/>\n",
              "  </svg>\n",
              "      </button>\n",
              "      \n",
              "  <style>\n",
              "    .colab-df-container {\n",
              "      display:flex;\n",
              "      flex-wrap:wrap;\n",
              "      gap: 12px;\n",
              "    }\n",
              "\n",
              "    .colab-df-convert {\n",
              "      background-color: #E8F0FE;\n",
              "      border: none;\n",
              "      border-radius: 50%;\n",
              "      cursor: pointer;\n",
              "      display: none;\n",
              "      fill: #1967D2;\n",
              "      height: 32px;\n",
              "      padding: 0 0 0 0;\n",
              "      width: 32px;\n",
              "    }\n",
              "\n",
              "    .colab-df-convert:hover {\n",
              "      background-color: #E2EBFA;\n",
              "      box-shadow: 0px 1px 2px rgba(60, 64, 67, 0.3), 0px 1px 3px 1px rgba(60, 64, 67, 0.15);\n",
              "      fill: #174EA6;\n",
              "    }\n",
              "\n",
              "    [theme=dark] .colab-df-convert {\n",
              "      background-color: #3B4455;\n",
              "      fill: #D2E3FC;\n",
              "    }\n",
              "\n",
              "    [theme=dark] .colab-df-convert:hover {\n",
              "      background-color: #434B5C;\n",
              "      box-shadow: 0px 1px 3px 1px rgba(0, 0, 0, 0.15);\n",
              "      filter: drop-shadow(0px 1px 2px rgba(0, 0, 0, 0.3));\n",
              "      fill: #FFFFFF;\n",
              "    }\n",
              "  </style>\n",
              "\n",
              "      <script>\n",
              "        const buttonEl =\n",
              "          document.querySelector('#df-1d3c5bd7-b0fc-49c6-8c24-60b10cb82e6d button.colab-df-convert');\n",
              "        buttonEl.style.display =\n",
              "          google.colab.kernel.accessAllowed ? 'block' : 'none';\n",
              "\n",
              "        async function convertToInteractive(key) {\n",
              "          const element = document.querySelector('#df-1d3c5bd7-b0fc-49c6-8c24-60b10cb82e6d');\n",
              "          const dataTable =\n",
              "            await google.colab.kernel.invokeFunction('convertToInteractive',\n",
              "                                                     [key], {});\n",
              "          if (!dataTable) return;\n",
              "\n",
              "          const docLinkHtml = 'Like what you see? Visit the ' +\n",
              "            '<a target=\"_blank\" href=https://colab.research.google.com/notebooks/data_table.ipynb>data table notebook</a>'\n",
              "            + ' to learn more about interactive tables.';\n",
              "          element.innerHTML = '';\n",
              "          dataTable['output_type'] = 'display_data';\n",
              "          await google.colab.output.renderOutput(dataTable, element);\n",
              "          const docLink = document.createElement('div');\n",
              "          docLink.innerHTML = docLinkHtml;\n",
              "          element.appendChild(docLink);\n",
              "        }\n",
              "      </script>\n",
              "    </div>\n",
              "  </div>\n",
              "  "
            ]
          },
          "metadata": {},
          "execution_count": 20
        }
      ]
    },
    {
      "cell_type": "markdown",
      "source": [
        "> Untuk lebih jelas dalam mengetahui pasangan fitur mana yang memiliki koefisien korelasi yang kuat (mendekati 1 atau mendekati -1), kita bisa buat plot heatmap berikut."
      ],
      "metadata": {
        "id": "BynaGAli5oXM"
      }
    },
    {
      "cell_type": "code",
      "source": [
        "plt.figure(figsize=(25, 12))\n",
        "heatmap = sns.heatmap(df.corr(), vmin=-1, vmax=1, annot=True, cmap='BrBG')\n",
        "heatmap.set_title('Correlation Heatmap', fontdict={'fontsize':20}, pad=12);"
      ],
      "metadata": {
        "colab": {
          "base_uri": "https://localhost:8080/",
          "height": 369
        },
        "id": "oNogUIgMtDf5",
        "outputId": "c2c3b067-ddc8-4b1a-bd62-4089a67607b5"
      },
      "execution_count": 21,
      "outputs": [
        {
          "output_type": "display_data",
          "data": {
            "text/plain": [
              "<Figure size 1800x864 with 2 Axes>"
            ],
            "image/png": "[encoded data removed]"
          },
          "metadata": {
            "needs_background": "light"
          }
        }
      ]
    },
    {
      "cell_type": "markdown",
      "source": [
        "### 2.1.8 Handling Outlier"
      ],
      "metadata": {
        "id": "rjWNjKHO-i8g"
      }
    },
    {
      "cell_type": "markdown",
      "source": [
        "#### 2.1.8.1 Pendapatan"
      ],
      "metadata": {
        "id": "bJz-ZRIxAlca"
      }
    },
    {
      "cell_type": "code",
      "source": [
        "# Menghitung IQR, lower whisker dan upper whisker\n",
        "Q1 = df['Pendapatan'].quantile(0.25)\n",
        "Q3 = df['Pendapatan'].quantile(0.75)\n",
        "\n",
        "IQR = Q3-Q1\n",
        "print(Q1)\n",
        "print(Q3)\n",
        "print(IQR)\n",
        "\n",
        "Lower_Whisker = Q1 - 1.5*IQR\n",
        "Upper_Whisker = Q3 + 1.5*IQR\n",
        "print(Lower_Whisker, Upper_Whisker)"
      ],
      "metadata": {
        "colab": {
          "base_uri": "https://localhost:8080/"
        },
        "id": "IDflFou2-jQJ",
        "outputId": "2efd6614-1d7b-4f0f-e967-e39d223b2e25"
      },
      "execution_count": 33,
      "outputs": [
        {
          "output_type": "stream",
          "name": "stdout",
          "text": [
            "121500.0\n",
            "225000.0\n",
            "103500.0\n",
            "-33750.0 380250.0\n"
          ]
        }
      ]
    },
    {
      "cell_type": "code",
      "source": [
        "# Mengubah nilai pencilan 'Pendapatan'\n",
        "df = df[df['Pendapatan'] < Upper_Whisker]"
      ],
      "metadata": {
        "id": "UyMuJGuc_Jpv"
      },
      "execution_count": 34,
      "outputs": []
    },
    {
      "cell_type": "code",
      "source": [
        "# Visualisasi outlier di kolom 'Pendapatan'\n",
        "df['Pendapatan'].plot(kind=\"box\", figsize=(6, 6))\n",
        "plt.grid(False)\n",
        "plt.show()"
      ],
      "metadata": {
        "colab": {
          "base_uri": "https://localhost:8080/",
          "height": 374
        },
        "id": "dJW35LsW_Svc",
        "outputId": "f9c3302c-7e46-41b6-9140-3745c0a7a7fd"
      },
      "execution_count": 35,
      "outputs": [
        {
          "output_type": "display_data",
          "data": {
            "text/plain": [
              "<Figure size 432x432 with 1 Axes>"
            ],
            "image/png": "[encoded data removed]"
          },
          "metadata": {
            "needs_background": "light"
          }
        }
      ]
    },
    {
      "cell_type": "markdown",
      "source": [
        "#### 2.1.8.2 Jumlah Anak"
      ],
      "metadata": {
        "id": "eSwDoJm_Ar-M"
      }
    },
    {
      "cell_type": "code",
      "source": [
        "# Menghitung IQR, lower whisker dan upper whisker\n",
        "Q1 = df['JmlAnak'].quantile(0.25)\n",
        "Q3 = df['JmlAnak'].quantile(0.75)\n",
        "\n",
        "IQR = Q3 - Q1\n",
        "print(Q1)\n",
        "print(Q3)\n",
        "print(IQR)\n",
        "\n",
        "Lower_Whisker = Q1 - 1.5*IQR\n",
        "Upper_Whisker = Q3 + 1.5*IQR\n",
        "print(Lower_Whisker, Upper_Whisker)"
      ],
      "metadata": {
        "colab": {
          "base_uri": "https://localhost:8080/"
        },
        "id": "ndm0pusN_Xi1",
        "outputId": "bb84ac18-5969-4268-fd5f-483f65f3f780"
      },
      "execution_count": 36,
      "outputs": [
        {
          "output_type": "stream",
          "name": "stdout",
          "text": [
            "0.0\n",
            "1.0\n",
            "1.0\n",
            "-1.5 2.5\n"
          ]
        }
      ]
    },
    {
      "cell_type": "code",
      "source": [
        "# Mengubah nilai pencilan 'JmlAnak'\n",
        "df = df[df['JmlAnak'] > Lower_Whisker]"
      ],
      "metadata": {
        "id": "Hk_ctd5d_Xl9"
      },
      "execution_count": 43,
      "outputs": []
    },
    {
      "cell_type": "code",
      "source": [
        "# Visualisasi outlier di kolom 'JmlAnak'\n",
        "df['JmlAnak'].plot(kind=\"box\", figsize=(6, 6))\n",
        "plt.grid(False)\n",
        "plt.show()"
      ],
      "metadata": {
        "colab": {
          "base_uri": "https://localhost:8080/",
          "height": 374
        },
        "id": "hmy6tM8ZAZ1o",
        "outputId": "d9fa37ea-85c1-4ab8-a720-190ea0760fbc"
      },
      "execution_count": 44,
      "outputs": [
        {
          "output_type": "display_data",
          "data": {
            "text/plain": [
              "<Figure size 432x432 with 1 Axes>"
            ],
            "image/png": "[encoded data removed]"
          },
          "metadata": {
            "needs_background": "light"
          }
        }
      ]
    },
    {
      "cell_type": "markdown",
      "source": [
        "#### 2.1.8.3 Jumlah Anggota Keluarga"
      ],
      "metadata": {
        "id": "yX5CszcBAwTL"
      }
    },
    {
      "cell_type": "code",
      "source": [
        "# Menghitung IQR, lower whisker dan upper whisker\n",
        "Q1 = df['JmlAnggotaKeluarga'].quantile(0.25)\n",
        "Q3 = df['JmlAnggotaKeluarga'].quantile(0.75)\n",
        "\n",
        "IQR = Q3 - Q1\n",
        "print(Q1)\n",
        "print(Q3)\n",
        "print(IQR)\n",
        "\n",
        "Lower_Whisker = Q1 - 1.5*IQR\n",
        "Upper_Whisker = Q3 + 1.5*IQR\n",
        "print(Lower_Whisker, Upper_Whisker)"
      ],
      "metadata": {
        "colab": {
          "base_uri": "https://localhost:8080/"
        },
        "id": "oJLuci9uALta",
        "outputId": "84c254f6-1060-4343-f475-dbb9b8bfcf66"
      },
      "execution_count": 46,
      "outputs": [
        {
          "output_type": "stream",
          "name": "stdout",
          "text": [
            "2.0\n",
            "3.0\n",
            "1.0\n",
            "0.5 4.5\n"
          ]
        }
      ]
    },
    {
      "cell_type": "code",
      "source": [
        "# Mengubah nilai pencilan 'JmlAnggotaKeluarga'\n",
        "df = df[df['JmlAnggotaKeluarga'] < Upper_Whisker]"
      ],
      "metadata": {
        "id": "U_HF0oFNALwa"
      },
      "execution_count": 50,
      "outputs": []
    },
    {
      "cell_type": "code",
      "source": [
        "# Visualisasi outlier di kolom 'JmlAnggotaKeluarga'\n",
        "df['JmlAnggotaKeluarga'].plot(kind=\"box\", figsize=(6, 6))\n",
        "plt.grid(False)\n",
        "plt.show()"
      ],
      "metadata": {
        "colab": {
          "base_uri": "https://localhost:8080/",
          "height": 374
        },
        "id": "KL0UvECeA0xQ",
        "outputId": "b22ef608-c2f0-46ae-8835-0e1ee0b367e2"
      },
      "execution_count": 51,
      "outputs": [
        {
          "output_type": "display_data",
          "data": {
            "text/plain": [
              "<Figure size 432x432 with 1 Axes>"
            ],
            "image/png": "[encoded data removed]"
          },
          "metadata": {
            "needs_background": "light"
          }
        }
      ]
    },
    {
      "cell_type": "markdown",
      "source": [
        "### 2.1.9 Encoding"
      ],
      "metadata": {
        "id": "A_be5Hgv-o34"
      }
    },
    {
      "cell_type": "code",
      "source": [
        "# One hot encoder\n",
        "encoder = OneHotEncoder()\n",
        "encoder.fit(df.select_dtypes(include=\"object\"))\n",
        "X_onehot = pd.DataFrame(encoder.transform(df.select_dtypes(include=\"object\")).toarray(),columns=encoder.get_feature_names_out())\n",
        "\n",
        "X_preprocessed = pd.concat([df.select_dtypes(exclude=\"object\"), X_onehot],axis=1)\n",
        "\n",
        "scaler = StandardScaler()\n",
        "scaler.fit(X_preprocessed)\n",
        "X_scaled = pd.DataFrame(scaler.transform(X_preprocessed),columns=X_preprocessed.columns)\n",
        "\n",
        "X_scaled.head()"
      ],
      "metadata": {
        "id": "FprYGVTd-pBi"
      },
      "execution_count": null,
      "outputs": []
    },
    {
      "cell_type": "markdown",
      "source": [
        "### 2.1.10 Visualization"
      ],
      "metadata": {
        "id": "dK1dUH73kK_j"
      }
    },
    {
      "cell_type": "code",
      "source": [
        "# Melihat type kolom pada setiap dataset\n",
        "df.dtypes"
      ],
      "metadata": {
        "colab": {
          "base_uri": "https://localhost:8080/"
        },
        "id": "2xSY3Df2pUWF",
        "outputId": "0a2e4b2c-81b4-4c31-8fee-fcb8ae71b012"
      },
      "execution_count": 24,
      "outputs": [
        {
          "output_type": "execute_result",
          "data": {
            "text/plain": [
              "JenisKelamin            object\n",
              "KepemilikanMobil        object\n",
              "KepemilikanProperti     object\n",
              "JmlAnak                  int64\n",
              "Pendapatan             float64\n",
              "TipePendapatan          object\n",
              "TingkatPendidikan       object\n",
              "StatusKeluarga          object\n",
              "TipeRumah               object\n",
              "FlagPhone                int64\n",
              "JmlAnggotaKeluarga       int64\n",
              "Usia                     int64\n",
              "CreditStatus             int64\n",
              "KategoriUsia            object\n",
              "dtype: object"
            ]
          },
          "metadata": {},
          "execution_count": 24
        }
      ]
    },
    {
      "cell_type": "code",
      "source": [
        "# Visualisasi kolom status untuk melihat jumlah data\n",
        "def plot_count(data, x=None, y=None, palette=None, figsize=(12, 3), **kwargs):\n",
        "    column_order = data[x or y].value_counts().index\n",
        "\n",
        "    plt.figure(figsize=figsize)\n",
        "    sns.countplot(\n",
        "        x=x, y=y, data=data, order=column_order,\n",
        "        palette=palette, **kwargs\n",
        "    )\n",
        "    plt.grid(False)\n",
        "\n",
        "MAIN_COLOR = [\"#29B5BF\"] \n",
        "OTHER_COLOR = [\"#777777\"]"
      ],
      "metadata": {
        "id": "6ToUfnWJneSD"
      },
      "execution_count": 25,
      "outputs": []
    },
    {
      "cell_type": "markdown",
      "source": [
        "#### 2.8.1 Jenis Kelamin"
      ],
      "metadata": {
        "id": "_-YDhwiD0pns"
      }
    },
    {
      "cell_type": "code",
      "source": [
        "# Show visualization 'JenisKelamin'\n",
        "plot_count(x=\"JenisKelamin\", data=df)"
      ],
      "metadata": {
        "colab": {
          "base_uri": "https://localhost:8080/",
          "height": 226
        },
        "id": "v-tYdv9Co4Du",
        "outputId": "827457d1-5133-48b7-ea2a-1ae9b13b6867"
      },
      "execution_count": 26,
      "outputs": [
        {
          "output_type": "display_data",
          "data": {
            "text/plain": [
              "<Figure size 864x216 with 1 Axes>"
            ],
            "image/png": "[encoded data removed]"
          },
          "metadata": {
            "needs_background": "light"
          }
        }
      ]
    },
    {
      "cell_type": "code",
      "source": [
        "# Show visualization 'CreditStatus' terhadap 'JenisKelamin'\n",
        "plot_count(x=\"CreditStatus\", hue=\"JenisKelamin\", data=df, figsize=(15, 6))\n",
        "plt.legend(loc=\"upper right\")\n",
        "plt.show()"
      ],
      "metadata": {
        "colab": {
          "base_uri": "https://localhost:8080/",
          "height": 388
        },
        "id": "hnLWvGELsolD",
        "outputId": "de288a13-d7f4-4906-e1cb-03b659d79321"
      },
      "execution_count": 27,
      "outputs": [
        {
          "output_type": "display_data",
          "data": {
            "text/plain": [
              "<Figure size 1080x432 with 1 Axes>"
            ],
            "image/png": "[encoded data removed]"
          },
          "metadata": {
            "needs_background": "light"
          }
        }
      ]
    },
    {
      "cell_type": "markdown",
      "source": [
        "#### 2.8.2 Kepemilikan"
      ],
      "metadata": {
        "id": "WBkX2NNn1NEQ"
      }
    },
    {
      "cell_type": "code",
      "source": [
        "# Show visualization 'KepemilikanMobil'\n",
        "plot_count(x=\"KepemilikanMobil\", data=df)"
      ],
      "metadata": {
        "colab": {
          "base_uri": "https://localhost:8080/",
          "height": 225
        },
        "id": "h64P_bbTo4jR",
        "outputId": "089f5489-9294-4118-dde5-c058ded060e0"
      },
      "execution_count": 12,
      "outputs": [
        {
          "output_type": "display_data",
          "data": {
            "text/plain": [
              "<Figure size 864x216 with 1 Axes>"
            ],
            "image/png": "[encoded data removed]"
          },
          "metadata": {
            "needs_background": "light"
          }
        }
      ]
    },
    {
      "cell_type": "code",
      "source": [
        "# Show visualization 'CreditStatus' terhadap 'KepemilikanMobil'\n",
        "plot_count(x=\"CreditStatus\", hue=\"KepemilikanMobil\", data=df, figsize=(15, 6))\n",
        "plt.legend(loc=\"upper right\")\n",
        "plt.show()"
      ],
      "metadata": {
        "colab": {
          "base_uri": "https://localhost:8080/",
          "height": 388
        },
        "id": "shkqzOwu7zUq",
        "outputId": "3f7c927d-ca2f-4e7f-a709-711ed60d9559"
      },
      "execution_count": 29,
      "outputs": [
        {
          "output_type": "display_data",
          "data": {
            "text/plain": [
              "<Figure size 1080x432 with 1 Axes>"
            ],
            "image/png": "[encoded data removed]"
          },
          "metadata": {
            "needs_background": "light"
          }
        }
      ]
    },
    {
      "cell_type": "code",
      "source": [
        "# Show visualization 'KepemilikanProperti'\n",
        "plot_count(x=\"KepemilikanProperti\", data=df)"
      ],
      "metadata": {
        "colab": {
          "base_uri": "https://localhost:8080/",
          "height": 225
        },
        "id": "OJ8bGq4JrxEr",
        "outputId": "900964c8-150e-459e-c57e-8cbcd90bc938"
      },
      "execution_count": 19,
      "outputs": [
        {
          "output_type": "display_data",
          "data": {
            "text/plain": [
              "<Figure size 864x216 with 1 Axes>"
            ],
            "image/png": "[encoded data removed]"
          },
          "metadata": {
            "needs_background": "light"
          }
        }
      ]
    },
    {
      "cell_type": "code",
      "source": [
        "# Show visualization 'CreditStatus' terhadap 'KepemilikanProperti'\n",
        "plot_count(x=\"CreditStatus\", hue=\"KepemilikanProperti\", data=df, figsize=(15, 6))\n",
        "plt.legend(loc=\"upper right\")\n",
        "plt.show()"
      ],
      "metadata": {
        "colab": {
          "base_uri": "https://localhost:8080/",
          "height": 388
        },
        "id": "Hb0Rr1MJ709P",
        "outputId": "24be88a0-b690-43ce-c71c-739fe1653d06"
      },
      "execution_count": 30,
      "outputs": [
        {
          "output_type": "display_data",
          "data": {
            "text/plain": [
              "<Figure size 1080x432 with 1 Axes>"
            ],
            "image/png": "[encoded data removed]"
          },
          "metadata": {
            "needs_background": "light"
          }
        }
      ]
    },
    {
      "cell_type": "markdown",
      "source": [
        "#### 2.8.3 Credit Status"
      ],
      "metadata": {
        "id": "dkJ3Tl121Tzj"
      }
    },
    {
      "cell_type": "code",
      "source": [
        "# Show visualization 'CreditStatus'\n",
        "plot_count(x=\"CreditStatus\", data=df)"
      ],
      "metadata": {
        "colab": {
          "base_uri": "https://localhost:8080/",
          "height": 225
        },
        "id": "Hh4gsNu_rTsi",
        "outputId": "ff7214dc-715d-4053-a75c-a1452507cd96"
      },
      "execution_count": 16,
      "outputs": [
        {
          "output_type": "display_data",
          "data": {
            "text/plain": [
              "<Figure size 864x216 with 1 Axes>"
            ],
            "image/png": "[encoded data removed]"
          },
          "metadata": {
            "needs_background": "light"
          }
        }
      ]
    },
    {
      "cell_type": "code",
      "source": [
        "# Show visualization 'CreditStatus' terhadap 'TipePendapatan'\n",
        "plot_count(x=\"CreditStatus\", hue=\"TipePendapatan\", data=df, figsize=(15, 6))\n",
        "plt.legend(loc=\"upper right\")\n",
        "plt.show()"
      ],
      "metadata": {
        "colab": {
          "base_uri": "https://localhost:8080/",
          "height": 388
        },
        "id": "XYQim0Ddry3y",
        "outputId": "60879c78-4462-43ff-fc4f-c715c1cfd28e"
      },
      "execution_count": 17,
      "outputs": [
        {
          "output_type": "display_data",
          "data": {
            "text/plain": [
              "<Figure size 1080x432 with 1 Axes>"
            ],
            "image/png": "[encoded data removed]"
          },
          "metadata": {
            "needs_background": "light"
          }
        }
      ]
    },
    {
      "cell_type": "code",
      "source": [
        "# Show visualization 'CreditStatus' terhadap 'StatusKeluarga'\n",
        "plot_count(x=\"CreditStatus\", hue=\"StatusKeluarga\", data=df, figsize=(15, 6))\n",
        "plt.legend(loc=\"upper right\")\n",
        "plt.show()"
      ],
      "metadata": {
        "colab": {
          "base_uri": "https://localhost:8080/",
          "height": 388
        },
        "id": "Sgw8Vt3wr7IZ",
        "outputId": "043a12df-796a-4447-e315-b68b64ef20bb"
      },
      "execution_count": 18,
      "outputs": [
        {
          "output_type": "display_data",
          "data": {
            "text/plain": [
              "<Figure size 1080x432 with 1 Axes>"
            ],
            "image/png": "[encoded data removed]"
          },
          "metadata": {
            "needs_background": "light"
          }
        }
      ]
    },
    {
      "cell_type": "markdown",
      "source": [
        "#### 2.8.4 Kategori Usia"
      ],
      "metadata": {
        "id": "5ZYZpWEs6hts"
      }
    },
    {
      "cell_type": "code",
      "source": [
        "age_category = df.KategoriUsia.value_counts().index\n",
        "\n",
        "plt.figure(figsize=(12, 6))\n",
        "sns.countplot(\n",
        "    x=\"KategoriUsia\",\n",
        "    data=df,\n",
        "    order=age_category,\n",
        "    palette=[\"#29B5BF\"] + (len(age_category)-1)*[\"#777777\"]\n",
        ")\n",
        "plt.grid(False)\n",
        "\n",
        "plt.show()"
      ],
      "metadata": {
        "colab": {
          "base_uri": "https://localhost:8080/",
          "height": 388
        },
        "id": "XqBv7el56Nge",
        "outputId": "16f03ec6-97df-40e5-80e5-a004cfbcd892"
      },
      "execution_count": 22,
      "outputs": [
        {
          "output_type": "display_data",
          "data": {
            "text/plain": [
              "<Figure size 864x432 with 1 Axes>"
            ],
            "image/png": "[encoded data removed]"
          },
          "metadata": {
            "needs_background": "light"
          }
        }
      ]
    },
    {
      "cell_type": "markdown",
      "source": [
        "> **Insights:** \n",
        "\n",
        "> * Dari visualisasi di atas, terlihat bahwa mayoritas adalah kategori **Dewasa**.\n",
        "> * Lalu, bagaimana distribusi kategori umur pada masing-masing responden yang memiliki sakit jantung maupun tidak? Mari kita buat visualisasinya."
      ],
      "metadata": {
        "id": "3XcshtEb61sy"
      }
    },
    {
      "cell_type": "code",
      "source": [
        "# Show visualization 'CreditStatus' terhadap 'KategoriUsia'\n",
        "plot_count(x=\"CreditStatus\", hue=\"KategoriUsia\", data=df, figsize=(15, 6))\n",
        "plt.legend(loc=\"upper right\")\n",
        "plt.show()"
      ],
      "metadata": {
        "colab": {
          "base_uri": "https://localhost:8080/",
          "height": 388
        },
        "id": "zYiHw-1l6NzT",
        "outputId": "586b3c1d-a2f2-4847-cf70-00128b5e6dd5"
      },
      "execution_count": 28,
      "outputs": [
        {
          "output_type": "display_data",
          "data": {
            "text/plain": [
              "<Figure size 1080x432 with 1 Axes>"
            ],
            "image/png": "[encoded data removed]"
          },
          "metadata": {
            "needs_background": "light"
          }
        }
      ]
    },
    {
      "cell_type": "markdown",
      "source": [
        "## 2.2 Modelling"
      ],
      "metadata": {
        "id": "weXswO0T7m3P"
      }
    },
    {
      "cell_type": "code",
      "source": [],
      "metadata": {
        "id": "W3Rp-RXi7nAj"
      },
      "execution_count": null,
      "outputs": []
    },
    {
      "cell_type": "markdown",
      "source": [
        "### 2.2.1 Data Splitting"
      ],
      "metadata": {
        "id": "vNb-ayF-9NYN"
      }
    },
    {
      "cell_type": "markdown",
      "source": [
        "> Pada tahap ini, kita akan membagi dataset menjadi 3 set yaitu: \n",
        "> * **training**, \n",
        "> * **dev**, dan \n",
        "> * **test** set \n",
        "\n",
        "> Dengan proporsi **80% : 10% : 10%**"
      ],
      "metadata": {
        "id": "WLNvHYJz9aKX"
      }
    },
    {
      "cell_type": "code",
      "source": [],
      "metadata": {
        "id": "jicEVUqE9SSX"
      },
      "execution_count": null,
      "outputs": []
    }
  ],
  "metadata": {
    "colab": {
      "provenance": [],
      "collapsed_sections": [
        "dK1dUH73kK_j",
        "weXswO0T7m3P"
      ],
      "mount_file_id": "11mRHLZBO0h9xjt9JlnR8UpepV4mHBSAw",
      "authorship_tag": "ABX9TyNquWaDdLRgEChoXOup2QH+",
      "include_colab_link": true
    },
    "kernelspec": {
      "display_name": "Python 3",
      "name": "python3"
    },
    "language_info": {
      "name": "python"
    }
  },
  "nbformat": 4,
  "nbformat_minor": 0
}