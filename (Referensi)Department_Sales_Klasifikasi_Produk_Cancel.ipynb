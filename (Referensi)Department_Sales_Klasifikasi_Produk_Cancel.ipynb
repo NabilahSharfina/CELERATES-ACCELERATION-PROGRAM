{
  "cells": [
    {
      "cell_type": "markdown",
      "metadata": {
        "id": "7RIMnzukmc8u"
      },
      "source": [
        "#1. Introduction"
      ]
    },
    {
      "cell_type": "code",
      "execution_count": null,
      "metadata": {
        "id": "der2JiILmg5c"
      },
      "outputs": [],
      "source": [
        "#import library\n",
        "\n",
        "import pandas as pd\n",
        "import numpy as np\n",
        "\n",
        "import matplotlib.pyplot as plt\n",
        "import seaborn as sns\n",
        "%matplotlib inline\n",
        "\n",
        "from sklearn.preprocessing import LabelEncoder\n",
        "from sklearn.preprocessing import OneHotEncoder\n",
        "from sklearn.preprocessing import StandardScaler\n",
        "\n",
        "from sklearn.model_selection import train_test_split\n",
        "from sklearn.pipeline import Pipeline\n",
        "\n",
        "from imblearn.over_sampling import SMOTE\n",
        "from collections import Counter\n",
        "\n",
        "from sklearn.linear_model import LogisticRegression\n",
        "from sklearn.svm import SVC\n",
        "from sklearn.neighbors import KNeighborsClassifier\n",
        "from sklearn.tree import DecisionTreeClassifier\n",
        "\n",
        "import sklearn.metrics as metrics\n",
        "from sklearn.metrics import confusion_matrix\n",
        "from sklearn.metrics import ConfusionMatrixDisplay\n",
        "from sklearn.metrics import classification_report"
      ]
    },
    {
      "cell_type": "code",
      "execution_count": null,
      "metadata": {
        "colab": {
          "base_uri": "https://localhost:8080/"
        },
        "id": "tPFjCFWvmtFz",
        "outputId": "0b9d4d01-92a6-48ae-f337-76053c6d9768"
      },
      "outputs": [
        {
          "output_type": "stream",
          "name": "stdout",
          "text": [
            "Drive already mounted at /content/drive; to attempt to forcibly remount, call drive.mount(\"/content/drive\", force_remount=True).\n"
          ]
        }
      ],
      "source": [
        "#Menghubungkan drive dengan google colab\n",
        "from google.colab import drive\n",
        "drive.mount('/content/drive')"
      ]
    },
    {
      "cell_type": "code",
      "source": [
        "#Import Dataset \n",
        "df = pd.read_csv('/content/drive/MyDrive/Ruangguru/Final project/Data LEFT UDAH BENER.csv')\n",
        "user = pd.read_csv(\"users.csv\")[['id','age','gender','state','city','country','traffic_source']]\n",
        "order = pd.read_csv(\"orders.csv\")[['order_id','user_id','num_of_item']]\n",
        "\n",
        "#Process Dataset\n",
        "col = ['order_id','status','created_at','cost','sale_price']\n",
        "data = df[df['status'].isin(['Complete','Cancelled'])][col].drop_duplicates()\n",
        "data = data[col]\n",
        "\n",
        "data = data \\\n",
        "      .groupby(['order_id','status','created_at']) \\\n",
        "      .agg({'cost':'sum', 'sale_price':'sum'}) \\\n",
        "      .reset_index() \\\n",
        "      .drop_duplicates(['order_id','status'])\n",
        "\n",
        "#Join Dataset\n",
        "data = data \\\n",
        "        .merge(order, how='inner', left_on='order_id', right_on='order_id') \\\n",
        "        .merge(user, how='inner', left_on='user_id', right_on='id') \\\n",
        "        .drop(['user_id','id'], axis=1)\n",
        "\n",
        "#data.to_csv('order_status_dataset.csv', index=False)"
      ],
      "metadata": {
        "id": "m6o2tPp2Zajn"
      },
      "execution_count": null,
      "outputs": []
    },
    {
      "cell_type": "code",
      "execution_count": null,
      "metadata": {
        "id": "S0_kkfELnWZX"
      },
      "outputs": [],
      "source": [
        "#Import Dataset \n",
        "df = pd.read_csv('/content/drive/MyDrive/Ruangguru/Final project/order_status_dataset.csv')"
      ]
    },
    {
      "cell_type": "code",
      "execution_count": null,
      "metadata": {
        "colab": {
          "base_uri": "https://localhost:8080/",
          "height": 143
        },
        "id": "rPbpQjWRPwxY",
        "outputId": "48d319e6-c2c3-4d0d-db01-a55becc6311f"
      },
      "outputs": [
        {
          "output_type": "execute_result",
          "data": {
            "text/plain": [
              "   order_id     status  created_at       cost  sale_price  num_of_item  age  \\\n",
              "0         1   Complete  2019-07-19  28.294341   49.990002            4   30   \n",
              "1         4  Cancelled  2020-02-10  40.023121   77.040001            2   30   \n",
              "2         5  Cancelled  2021-09-07   7.076460   19.990000            1   48   \n",
              "\n",
              "  gender        state            city      country traffic_source  \n",
              "0      M  Gyeonggi-do  Namyangju City  South Korea         Search  \n",
              "1      M  Gyeonggi-do  Namyangju City  South Korea         Search  \n",
              "2      M      Jiangsu       Guangzhou        China         Search  "
            ],
            "text/html": [
              "\n",
              "  <div id=\"df-5542876d-07dc-4fd6-b52b-c5510907a81c\">\n",
              "    <div class=\"colab-df-container\">\n",
              "      <div>\n",
              "<style scoped>\n",
              "    .dataframe tbody tr th:only-of-type {\n",
              "        vertical-align: middle;\n",
              "    }\n",
              "\n",
              "    .dataframe tbody tr th {\n",
              "        vertical-align: top;\n",
              "    }\n",
              "\n",
              "    .dataframe thead th {\n",
              "        text-align: right;\n",
              "    }\n",
              "</style>\n",
              "<table border=\"1\" class=\"dataframe\">\n",
              "  <thead>\n",
              "    <tr style=\"text-align: right;\">\n",
              "      <th></th>\n",
              "      <th>order_id</th>\n",
              "      <th>status</th>\n",
              "      <th>created_at</th>\n",
              "      <th>cost</th>\n",
              "      <th>sale_price</th>\n",
              "      <th>num_of_item</th>\n",
              "      <th>age</th>\n",
              "      <th>gender</th>\n",
              "      <th>state</th>\n",
              "      <th>city</th>\n",
              "      <th>country</th>\n",
              "      <th>traffic_source</th>\n",
              "    </tr>\n",
              "  </thead>\n",
              "  <tbody>\n",
              "    <tr>\n",
              "      <th>0</th>\n",
              "      <td>1</td>\n",
              "      <td>Complete</td>\n",
              "      <td>2019-07-19</td>\n",
              "      <td>28.294341</td>\n",
              "      <td>49.990002</td>\n",
              "      <td>4</td>\n",
              "      <td>30</td>\n",
              "      <td>M</td>\n",
              "      <td>Gyeonggi-do</td>\n",
              "      <td>Namyangju City</td>\n",
              "      <td>South Korea</td>\n",
              "      <td>Search</td>\n",
              "    </tr>\n",
              "    <tr>\n",
              "      <th>1</th>\n",
              "      <td>4</td>\n",
              "      <td>Cancelled</td>\n",
              "      <td>2020-02-10</td>\n",
              "      <td>40.023121</td>\n",
              "      <td>77.040001</td>\n",
              "      <td>2</td>\n",
              "      <td>30</td>\n",
              "      <td>M</td>\n",
              "      <td>Gyeonggi-do</td>\n",
              "      <td>Namyangju City</td>\n",
              "      <td>South Korea</td>\n",
              "      <td>Search</td>\n",
              "    </tr>\n",
              "    <tr>\n",
              "      <th>2</th>\n",
              "      <td>5</td>\n",
              "      <td>Cancelled</td>\n",
              "      <td>2021-09-07</td>\n",
              "      <td>7.076460</td>\n",
              "      <td>19.990000</td>\n",
              "      <td>1</td>\n",
              "      <td>48</td>\n",
              "      <td>M</td>\n",
              "      <td>Jiangsu</td>\n",
              "      <td>Guangzhou</td>\n",
              "      <td>China</td>\n",
              "      <td>Search</td>\n",
              "    </tr>\n",
              "  </tbody>\n",
              "</table>\n",
              "</div>\n",
              "      <button class=\"colab-df-convert\" onclick=\"convertToInteractive('df-5542876d-07dc-4fd6-b52b-c5510907a81c')\"\n",
              "              title=\"Convert this dataframe to an interactive table.\"\n",
              "              style=\"display:none;\">\n",
              "        \n",
              "  <svg xmlns=\"http://www.w3.org/2000/svg\" height=\"24px\"viewBox=\"0 0 24 24\"\n",
              "       width=\"24px\">\n",
              "    <path d=\"M0 0h24v24H0V0z\" fill=\"none\"/>\n",
              "    <path d=\"M18.56 5.44l.94 2.06.94-2.06 2.06-.94-2.06-.94-.94-2.06-.94 2.06-2.06.94zm-11 1L8.5 8.5l.94-2.06 2.06-.94-2.06-.94L8.5 2.5l-.94 2.06-2.06.94zm10 10l.94 2.06.94-2.06 2.06-.94-2.06-.94-.94-2.06-.94 2.06-2.06.94z\"/><path d=\"M17.41 7.96l-1.37-1.37c-.4-.4-.92-.59-1.43-.59-.52 0-1.04.2-1.43.59L10.3 9.45l-7.72 7.72c-.78.78-.78 2.05 0 2.83L4 21.41c.39.39.9.59 1.41.59.51 0 1.02-.2 1.41-.59l7.78-7.78 2.81-2.81c.8-.78.8-2.07 0-2.86zM5.41 20L4 18.59l7.72-7.72 1.47 1.35L5.41 20z\"/>\n",
              "  </svg>\n",
              "      </button>\n",
              "      \n",
              "  <style>\n",
              "    .colab-df-container {\n",
              "      display:flex;\n",
              "      flex-wrap:wrap;\n",
              "      gap: 12px;\n",
              "    }\n",
              "\n",
              "    .colab-df-convert {\n",
              "      background-color: #E8F0FE;\n",
              "      border: none;\n",
              "      border-radius: 50%;\n",
              "      cursor: pointer;\n",
              "      display: none;\n",
              "      fill: #1967D2;\n",
              "      height: 32px;\n",
              "      padding: 0 0 0 0;\n",
              "      width: 32px;\n",
              "    }\n",
              "\n",
              "    .colab-df-convert:hover {\n",
              "      background-color: #E2EBFA;\n",
              "      box-shadow: 0px 1px 2px rgba(60, 64, 67, 0.3), 0px 1px 3px 1px rgba(60, 64, 67, 0.15);\n",
              "      fill: #174EA6;\n",
              "    }\n",
              "\n",
              "    [theme=dark] .colab-df-convert {\n",
              "      background-color: #3B4455;\n",
              "      fill: #D2E3FC;\n",
              "    }\n",
              "\n",
              "    [theme=dark] .colab-df-convert:hover {\n",
              "      background-color: #434B5C;\n",
              "      box-shadow: 0px 1px 3px 1px rgba(0, 0, 0, 0.15);\n",
              "      filter: drop-shadow(0px 1px 2px rgba(0, 0, 0, 0.3));\n",
              "      fill: #FFFFFF;\n",
              "    }\n",
              "  </style>\n",
              "\n",
              "      <script>\n",
              "        const buttonEl =\n",
              "          document.querySelector('#df-5542876d-07dc-4fd6-b52b-c5510907a81c button.colab-df-convert');\n",
              "        buttonEl.style.display =\n",
              "          google.colab.kernel.accessAllowed ? 'block' : 'none';\n",
              "\n",
              "        async function convertToInteractive(key) {\n",
              "          const element = document.querySelector('#df-5542876d-07dc-4fd6-b52b-c5510907a81c');\n",
              "          const dataTable =\n",
              "            await google.colab.kernel.invokeFunction('convertToInteractive',\n",
              "                                                     [key], {});\n",
              "          if (!dataTable) return;\n",
              "\n",
              "          const docLinkHtml = 'Like what you see? Visit the ' +\n",
              "            '<a target=\"_blank\" href=https://colab.research.google.com/notebooks/data_table.ipynb>data table notebook</a>'\n",
              "            + ' to learn more about interactive tables.';\n",
              "          element.innerHTML = '';\n",
              "          dataTable['output_type'] = 'display_data';\n",
              "          await google.colab.output.renderOutput(dataTable, element);\n",
              "          const docLink = document.createElement('div');\n",
              "          docLink.innerHTML = docLinkHtml;\n",
              "          element.appendChild(docLink);\n",
              "        }\n",
              "      </script>\n",
              "    </div>\n",
              "  </div>\n",
              "  "
            ]
          },
          "metadata": {},
          "execution_count": 4
        }
      ],
      "source": [
        "df.head(3)"
      ]
    },
    {
      "cell_type": "markdown",
      "source": [
        "** Insight **\n",
        "- Pada data \"left udah bener\" terdapat data yang duplikat dan tiap row belum mewakili satu user maka dilakukan pemprosesan dataset\n"
      ],
      "metadata": {
        "id": "OUXG9gonay3l"
      }
    },
    {
      "cell_type": "markdown",
      "metadata": {
        "id": "QMlP_i2zp9ra"
      },
      "source": [
        "#2. Data Understanding"
      ]
    },
    {
      "cell_type": "code",
      "execution_count": null,
      "metadata": {
        "colab": {
          "base_uri": "https://localhost:8080/"
        },
        "id": "rZAe8s_0qDtG",
        "outputId": "cd8c894a-55f8-4b92-f504-bcc1dff3c9e0"
      },
      "outputs": [
        {
          "output_type": "stream",
          "name": "stdout",
          "text": [
            "<class 'pandas.core.frame.DataFrame'>\n",
            "RangeIndex: 49787 entries, 0 to 49786\n",
            "Data columns (total 12 columns):\n",
            " #   Column          Non-Null Count  Dtype  \n",
            "---  ------          --------------  -----  \n",
            " 0   order_id        49787 non-null  int64  \n",
            " 1   status          49787 non-null  object \n",
            " 2   created_at      49787 non-null  object \n",
            " 3   cost            49787 non-null  float64\n",
            " 4   sale_price      49787 non-null  float64\n",
            " 5   num_of_item     49787 non-null  int64  \n",
            " 6   age             49787 non-null  int64  \n",
            " 7   gender          49787 non-null  object \n",
            " 8   state           49787 non-null  object \n",
            " 9   city            49267 non-null  object \n",
            " 10  country         49787 non-null  object \n",
            " 11  traffic_source  49787 non-null  object \n",
            "dtypes: float64(2), int64(3), object(7)\n",
            "memory usage: 4.6+ MB\n"
          ]
        }
      ],
      "source": [
        "#Menampilkan informasi terkait data colomn\n",
        "df.info()"
      ]
    },
    {
      "cell_type": "code",
      "execution_count": null,
      "metadata": {
        "colab": {
          "base_uri": "https://localhost:8080/"
        },
        "id": "D3eWn0k-qGvI",
        "outputId": "2f4d41fb-c5c1-49f2-fe23-9d0eefa209a2"
      },
      "outputs": [
        {
          "output_type": "execute_result",
          "data": {
            "text/plain": [
              "(49787, 12)"
            ]
          },
          "metadata": {},
          "execution_count": 16
        }
      ],
      "source": [
        "#Menampilkan jumlah baris dan kolom dalam dataset\n",
        "df.shape"
      ]
    },
    {
      "cell_type": "code",
      "execution_count": null,
      "metadata": {
        "colab": {
          "base_uri": "https://localhost:8080/"
        },
        "id": "cMWsrdmsqXtj",
        "outputId": "cc1ea6ca-1a3d-4a42-afea-cf71fbe8cef0"
      },
      "outputs": [
        {
          "output_type": "execute_result",
          "data": {
            "text/plain": [
              "array(['order_id', 'status', 'created_at', 'cost', 'sale_price',\n",
              "       'num_of_item', 'age', 'gender', 'state', 'city', 'country',\n",
              "       'traffic_source'], dtype=object)"
            ]
          },
          "metadata": {},
          "execution_count": 17
        }
      ],
      "source": [
        "#Menampilkan seluruh nama kolom\n",
        "df.columns.values"
      ]
    },
    {
      "cell_type": "code",
      "execution_count": null,
      "metadata": {
        "colab": {
          "base_uri": "https://localhost:8080/"
        },
        "id": "bTKOXXN-qZ_Q",
        "outputId": "eef314ec-3dcb-4bf2-b030-8e6b436c3102"
      },
      "outputs": [
        {
          "output_type": "execute_result",
          "data": {
            "text/plain": [
              "order_id            0\n",
              "status              0\n",
              "created_at          0\n",
              "cost                0\n",
              "sale_price          0\n",
              "num_of_item         0\n",
              "age                 0\n",
              "gender              0\n",
              "state               0\n",
              "city              520\n",
              "country             0\n",
              "traffic_source      0\n",
              "dtype: int64"
            ]
          },
          "metadata": {},
          "execution_count": 18
        }
      ],
      "source": [
        "#Melihat apakah ada missing value dari dataset\n",
        "df.isna().sum()"
      ]
    },
    {
      "cell_type": "markdown",
      "metadata": {
        "id": "RDM8QFQASl42"
      },
      "source": [
        "**Insight**\n",
        "\n",
        "*    terdapat 12 fitur yang merupakan gabungan dari dataset sales, users, order, product\n",
        "*   Terdapat 49787 baris dengan 12 kolom data\n",
        "*   kolom yang memiliki missing value adalah city\n",
        "\n"
      ]
    },
    {
      "cell_type": "markdown",
      "metadata": {
        "id": "sn7D1mlfTPfM"
      },
      "source": [
        "![download (4).png](data:image/png;base64,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)![download (5).png](data:image/png;base64,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)![download (6).png](data:image/png;base64,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)![download (3).png](data:image/png;base64,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)\n",
        "\n",
        "- selalu ada cancel product tiap tahunnya"
      ]
    },
    {
      "cell_type": "code",
      "execution_count": null,
      "metadata": {
        "colab": {
          "base_uri": "https://localhost:8080/"
        },
        "id": "H4zAA77rKKOn",
        "outputId": "155be38c-260b-4a91-f35a-0732d8ab91b6"
      },
      "outputs": [
        {
          "output_type": "stream",
          "name": "stdout",
          "text": [
            "- jumlah nilai unique pada kolom `order_id`: 49787\n",
            "- jumlah nilai unique pada kolom `status`: 2\n",
            "- jumlah nilai unique pada kolom `created_at`: 1216\n",
            "- jumlah nilai unique pada kolom `cost`: 24809\n",
            "- jumlah nilai unique pada kolom `sale_price`: 6038\n",
            "- jumlah nilai unique pada kolom `num_of_item`: 4\n",
            "- jumlah nilai unique pada kolom `age`: 59\n",
            "- jumlah nilai unique pada kolom `gender`: 2\n",
            "- jumlah nilai unique pada kolom `state`: 224\n",
            "- jumlah nilai unique pada kolom `city`: 6396\n",
            "- jumlah nilai unique pada kolom `country`: 15\n",
            "- jumlah nilai unique pada kolom `traffic_source`: 5\n"
          ]
        }
      ],
      "source": [
        "# Melihat data unique dari setiap fitur dalam tabel\n",
        "for feature in df.columns:\n",
        "    print(\n",
        "        f\"- jumlah nilai unique pada kolom `{feature}`:\",\n",
        "        df[feature].nunique()\n",
        "    )"
      ]
    },
    {
      "cell_type": "code",
      "execution_count": null,
      "metadata": {
        "colab": {
          "base_uri": "https://localhost:8080/",
          "height": 49
        },
        "id": "mYsSG0M8KiUe",
        "outputId": "61eb8189-a8e9-4fee-c53c-90c88e47fb25"
      },
      "outputs": [
        {
          "output_type": "execute_result",
          "data": {
            "text/plain": [
              "Empty DataFrame\n",
              "Columns: [order_id, status, created_at, cost, sale_price, num_of_item, age, gender, state, city, country, traffic_source]\n",
              "Index: []"
            ],
            "text/html": [
              "\n",
              "  <div id=\"df-20592572-7692-45c3-aa4b-aa265cd5ab6b\">\n",
              "    <div class=\"colab-df-container\">\n",
              "      <div>\n",
              "<style scoped>\n",
              "    .dataframe tbody tr th:only-of-type {\n",
              "        vertical-align: middle;\n",
              "    }\n",
              "\n",
              "    .dataframe tbody tr th {\n",
              "        vertical-align: top;\n",
              "    }\n",
              "\n",
              "    .dataframe thead th {\n",
              "        text-align: right;\n",
              "    }\n",
              "</style>\n",
              "<table border=\"1\" class=\"dataframe\">\n",
              "  <thead>\n",
              "    <tr style=\"text-align: right;\">\n",
              "      <th></th>\n",
              "      <th>order_id</th>\n",
              "      <th>status</th>\n",
              "      <th>created_at</th>\n",
              "      <th>cost</th>\n",
              "      <th>sale_price</th>\n",
              "      <th>num_of_item</th>\n",
              "      <th>age</th>\n",
              "      <th>gender</th>\n",
              "      <th>state</th>\n",
              "      <th>city</th>\n",
              "      <th>country</th>\n",
              "      <th>traffic_source</th>\n",
              "    </tr>\n",
              "  </thead>\n",
              "  <tbody>\n",
              "  </tbody>\n",
              "</table>\n",
              "</div>\n",
              "      <button class=\"colab-df-convert\" onclick=\"convertToInteractive('df-20592572-7692-45c3-aa4b-aa265cd5ab6b')\"\n",
              "              title=\"Convert this dataframe to an interactive table.\"\n",
              "              style=\"display:none;\">\n",
              "        \n",
              "  <svg xmlns=\"http://www.w3.org/2000/svg\" height=\"24px\"viewBox=\"0 0 24 24\"\n",
              "       width=\"24px\">\n",
              "    <path d=\"M0 0h24v24H0V0z\" fill=\"none\"/>\n",
              "    <path d=\"M18.56 5.44l.94 2.06.94-2.06 2.06-.94-2.06-.94-.94-2.06-.94 2.06-2.06.94zm-11 1L8.5 8.5l.94-2.06 2.06-.94-2.06-.94L8.5 2.5l-.94 2.06-2.06.94zm10 10l.94 2.06.94-2.06 2.06-.94-2.06-.94-.94-2.06-.94 2.06-2.06.94z\"/><path d=\"M17.41 7.96l-1.37-1.37c-.4-.4-.92-.59-1.43-.59-.52 0-1.04.2-1.43.59L10.3 9.45l-7.72 7.72c-.78.78-.78 2.05 0 2.83L4 21.41c.39.39.9.59 1.41.59.51 0 1.02-.2 1.41-.59l7.78-7.78 2.81-2.81c.8-.78.8-2.07 0-2.86zM5.41 20L4 18.59l7.72-7.72 1.47 1.35L5.41 20z\"/>\n",
              "  </svg>\n",
              "      </button>\n",
              "      \n",
              "  <style>\n",
              "    .colab-df-container {\n",
              "      display:flex;\n",
              "      flex-wrap:wrap;\n",
              "      gap: 12px;\n",
              "    }\n",
              "\n",
              "    .colab-df-convert {\n",
              "      background-color: #E8F0FE;\n",
              "      border: none;\n",
              "      border-radius: 50%;\n",
              "      cursor: pointer;\n",
              "      display: none;\n",
              "      fill: #1967D2;\n",
              "      height: 32px;\n",
              "      padding: 0 0 0 0;\n",
              "      width: 32px;\n",
              "    }\n",
              "\n",
              "    .colab-df-convert:hover {\n",
              "      background-color: #E2EBFA;\n",
              "      box-shadow: 0px 1px 2px rgba(60, 64, 67, 0.3), 0px 1px 3px 1px rgba(60, 64, 67, 0.15);\n",
              "      fill: #174EA6;\n",
              "    }\n",
              "\n",
              "    [theme=dark] .colab-df-convert {\n",
              "      background-color: #3B4455;\n",
              "      fill: #D2E3FC;\n",
              "    }\n",
              "\n",
              "    [theme=dark] .colab-df-convert:hover {\n",
              "      background-color: #434B5C;\n",
              "      box-shadow: 0px 1px 3px 1px rgba(0, 0, 0, 0.15);\n",
              "      filter: drop-shadow(0px 1px 2px rgba(0, 0, 0, 0.3));\n",
              "      fill: #FFFFFF;\n",
              "    }\n",
              "  </style>\n",
              "\n",
              "      <script>\n",
              "        const buttonEl =\n",
              "          document.querySelector('#df-20592572-7692-45c3-aa4b-aa265cd5ab6b button.colab-df-convert');\n",
              "        buttonEl.style.display =\n",
              "          google.colab.kernel.accessAllowed ? 'block' : 'none';\n",
              "\n",
              "        async function convertToInteractive(key) {\n",
              "          const element = document.querySelector('#df-20592572-7692-45c3-aa4b-aa265cd5ab6b');\n",
              "          const dataTable =\n",
              "            await google.colab.kernel.invokeFunction('convertToInteractive',\n",
              "                                                     [key], {});\n",
              "          if (!dataTable) return;\n",
              "\n",
              "          const docLinkHtml = 'Like what you see? Visit the ' +\n",
              "            '<a target=\"_blank\" href=https://colab.research.google.com/notebooks/data_table.ipynb>data table notebook</a>'\n",
              "            + ' to learn more about interactive tables.';\n",
              "          element.innerHTML = '';\n",
              "          dataTable['output_type'] = 'display_data';\n",
              "          await google.colab.output.renderOutput(dataTable, element);\n",
              "          const docLink = document.createElement('div');\n",
              "          docLink.innerHTML = docLinkHtml;\n",
              "          element.appendChild(docLink);\n",
              "        }\n",
              "      </script>\n",
              "    </div>\n",
              "  </div>\n",
              "  "
            ]
          },
          "metadata": {},
          "execution_count": 20
        }
      ],
      "source": [
        "#mengecek baris yang duplikat\n",
        "df[df['order_id'].duplicated()]"
      ]
    },
    {
      "cell_type": "markdown",
      "metadata": {
        "id": "A89koB28iHoj"
      },
      "source": [
        "**Insight** \n",
        "\n",
        "*  Setiap kolom mempunyai nilai unik, nilai unik yang paling sedikit adalah gender dan yang paling banyak adalah id karena id merupakan primary key\n",
        "*   Tidak ada data yang duplikat\n",
        "\n"
      ]
    },
    {
      "cell_type": "markdown",
      "metadata": {
        "id": "DbxIWmQPYbs2"
      },
      "source": [
        "# 3. Exploratory Data Analysis"
      ]
    },
    {
      "cell_type": "code",
      "execution_count": null,
      "metadata": {
        "colab": {
          "base_uri": "https://localhost:8080/"
        },
        "id": "LN8oCg74Za02",
        "outputId": "41a323ab-0720-48c0-8a51-42f62f571c43"
      },
      "outputs": [
        {
          "output_type": "execute_result",
          "data": {
            "text/plain": [
              "order_id            int64\n",
              "status             object\n",
              "created_at         object\n",
              "cost              float64\n",
              "sale_price        float64\n",
              "num_of_item         int64\n",
              "age                 int64\n",
              "gender             object\n",
              "state              object\n",
              "city               object\n",
              "country            object\n",
              "traffic_source     object\n",
              "dtype: object"
            ]
          },
          "metadata": {},
          "execution_count": 21
        }
      ],
      "source": [
        "#melihat type kolom pada setiap dataset\n",
        "df.dtypes"
      ]
    },
    {
      "cell_type": "code",
      "execution_count": null,
      "metadata": {
        "id": "xbrdFYFyOX5d"
      },
      "outputs": [],
      "source": [
        "#visualisasi kolom status untuk melihat jumlah data\n",
        "def plot_count(data, x=None, y=None, palette=None, figsize=(12, 3), **kwargs):\n",
        "    column_order = data[x or y].value_counts().index\n",
        "\n",
        "    plt.figure(figsize=figsize)\n",
        "    sns.countplot(\n",
        "        x=x, y=y, data=data, order=column_order,\n",
        "        palette=palette, **kwargs\n",
        "    )\n",
        "    plt.grid(False)\n",
        "\n",
        "MAIN_COLOR = [\"#29B5BF\"] \n",
        "OTHER_COLOR = [\"#777777\"]"
      ]
    },
    {
      "cell_type": "code",
      "execution_count": null,
      "metadata": {
        "colab": {
          "base_uri": "https://localhost:8080/",
          "height": 225
        },
        "id": "eT50QFVqkx2U",
        "outputId": "e305a0ae-4242-4d9b-c689-8ba2b9147ff5"
      },
      "outputs": [
        {
          "output_type": "display_data",
          "data": {
            "text/plain": [
              "<Figure size 864x216 with 1 Axes>"
            ],
            "image/png": "[encoded data removed]"
          },
          "metadata": {
            "needs_background": "light"
          }
        }
      ],
      "source": [
        "plot_count(x=\"status\", data=df)"
      ]
    },
    {
      "cell_type": "code",
      "execution_count": null,
      "metadata": {
        "colab": {
          "base_uri": "https://localhost:8080/",
          "height": 226
        },
        "id": "Xs-bmORDkvVe",
        "outputId": "63e769d0-a206-49dd-ab22-e8bc1fbb2fc8"
      },
      "outputs": [
        {
          "output_type": "display_data",
          "data": {
            "text/plain": [
              "<Figure size 864x216 with 1 Axes>"
            ],
            "image/png": "[encoded data removed]"
          },
          "metadata": {
            "needs_background": "light"
          }
        }
      ],
      "source": [
        "plot_count(x=\"country\", data=df)"
      ]
    },
    {
      "cell_type": "code",
      "execution_count": null,
      "metadata": {
        "colab": {
          "base_uri": "https://localhost:8080/",
          "height": 388
        },
        "id": "FQjeowZrsHh8",
        "outputId": "b0ac0358-0706-41b1-dc4f-1dd653c1d9cd"
      },
      "outputs": [
        {
          "output_type": "display_data",
          "data": {
            "text/plain": [
              "<Figure size 1080x432 with 1 Axes>"
            ],
            "image/png": "[encoded data removed]"
          },
          "metadata": {
            "needs_background": "light"
          }
        }
      ],
      "source": [
        "plot_count(x=\"status\", hue=\"country\",data=df, figsize=(15, 6))\n",
        "plt.legend(loc=\"upper right\")\n",
        "plt.show()"
      ]
    },
    {
      "cell_type": "code",
      "execution_count": null,
      "metadata": {
        "colab": {
          "base_uri": "https://localhost:8080/",
          "height": 225
        },
        "id": "qKqKy8DdhoAi",
        "outputId": "ef247d87-3614-4f16-e91d-da49e8af1ec0"
      },
      "outputs": [
        {
          "output_type": "display_data",
          "data": {
            "text/plain": [
              "<Figure size 864x216 with 1 Axes>"
            ],
            "image/png": "[encoded data removed]"
          },
          "metadata": {
            "needs_background": "light"
          }
        }
      ],
      "source": [
        "plot_count(x=\"gender\", data=df)"
      ]
    },
    {
      "cell_type": "code",
      "execution_count": null,
      "metadata": {
        "colab": {
          "base_uri": "https://localhost:8080/",
          "height": 388
        },
        "id": "57iAOBg3fjuN",
        "outputId": "c76f89d2-51b9-4bfe-bef5-d311d75d5d68"
      },
      "outputs": [
        {
          "output_type": "display_data",
          "data": {
            "text/plain": [
              "<Figure size 1080x432 with 1 Axes>"
            ],
            "image/png": "[encoded data removed]"
          },
          "metadata": {
            "needs_background": "light"
          }
        }
      ],
      "source": [
        "plot_count(x=\"status\", hue=\"gender\",data=df, figsize=(15, 6))\n",
        "plt.legend(loc=\"upper right\")\n",
        "plt.show()"
      ]
    },
    {
      "cell_type": "code",
      "execution_count": null,
      "metadata": {
        "colab": {
          "base_uri": "https://localhost:8080/",
          "height": 226
        },
        "id": "S4GtSqfmk4Qt",
        "outputId": "023296c5-e451-4055-b01f-ca42ec2814d8"
      },
      "outputs": [
        {
          "output_type": "display_data",
          "data": {
            "text/plain": [
              "<Figure size 864x216 with 1 Axes>"
            ],
            "image/png": "[encoded data removed]"
          },
          "metadata": {
            "needs_background": "light"
          }
        }
      ],
      "source": [
        "plot_count(x=\"num_of_item\", data=df)"
      ]
    },
    {
      "cell_type": "code",
      "execution_count": null,
      "metadata": {
        "colab": {
          "base_uri": "https://localhost:8080/",
          "height": 279
        },
        "id": "OlXGa_gjk8LY",
        "outputId": "00aa75c2-dc19-4831-d6a4-1223848243a3"
      },
      "outputs": [
        {
          "output_type": "display_data",
          "data": {
            "text/plain": [
              "<Figure size 720x288 with 1 Axes>"
            ],
            "image/png": "[encoded data removed]"
          },
          "metadata": {
            "needs_background": "light"
          }
        }
      ],
      "source": [
        "plot_count(x=\"status\", hue=\"num_of_item\",data=df, figsize=(10, 4))\n",
        "plt.legend(loc=\"upper right\")\n",
        "plt.show()"
      ]
    },
    {
      "cell_type": "code",
      "execution_count": null,
      "metadata": {
        "colab": {
          "base_uri": "https://localhost:8080/",
          "height": 300
        },
        "id": "fngugBnqqdqF",
        "outputId": "21cea168-56f7-484b-f014-cedd5b999ddf"
      },
      "outputs": [
        {
          "output_type": "execute_result",
          "data": {
            "text/plain": [
              "            order_id          cost    sale_price   num_of_item           age\n",
              "count   49787.000000  49787.000000  49787.000000  49787.000000  49787.000000\n",
              "mean    62364.480186     30.865498     64.262905      1.447446     40.977484\n",
              "std     35952.433711     32.296063     69.191553      0.799148     16.998053\n",
              "min         1.000000      0.008300      0.020000      1.000000     12.000000\n",
              "25%     31339.000000     11.877395     25.000000      1.000000     26.000000\n",
              "50%     62353.000000     21.128000     42.990002      1.000000     41.000000\n",
              "75%     93529.500000     37.769000     78.000000      2.000000     56.000000\n",
              "max    124507.000000    557.151002   1036.000000      4.000000     70.000000"
            ],
            "text/html": [
              "\n",
              "  <div id=\"df-be20d0ab-538b-46bc-96fa-6983f9923bec\">\n",
              "    <div class=\"colab-df-container\">\n",
              "      <div>\n",
              "<style scoped>\n",
              "    .dataframe tbody tr th:only-of-type {\n",
              "        vertical-align: middle;\n",
              "    }\n",
              "\n",
              "    .dataframe tbody tr th {\n",
              "        vertical-align: top;\n",
              "    }\n",
              "\n",
              "    .dataframe thead th {\n",
              "        text-align: right;\n",
              "    }\n",
              "</style>\n",
              "<table border=\"1\" class=\"dataframe\">\n",
              "  <thead>\n",
              "    <tr style=\"text-align: right;\">\n",
              "      <th></th>\n",
              "      <th>order_id</th>\n",
              "      <th>cost</th>\n",
              "      <th>sale_price</th>\n",
              "      <th>num_of_item</th>\n",
              "      <th>age</th>\n",
              "    </tr>\n",
              "  </thead>\n",
              "  <tbody>\n",
              "    <tr>\n",
              "      <th>count</th>\n",
              "      <td>49787.000000</td>\n",
              "      <td>49787.000000</td>\n",
              "      <td>49787.000000</td>\n",
              "      <td>49787.000000</td>\n",
              "      <td>49787.000000</td>\n",
              "    </tr>\n",
              "    <tr>\n",
              "      <th>mean</th>\n",
              "      <td>62364.480186</td>\n",
              "      <td>30.865498</td>\n",
              "      <td>64.262905</td>\n",
              "      <td>1.447446</td>\n",
              "      <td>40.977484</td>\n",
              "    </tr>\n",
              "    <tr>\n",
              "      <th>std</th>\n",
              "      <td>35952.433711</td>\n",
              "      <td>32.296063</td>\n",
              "      <td>69.191553</td>\n",
              "      <td>0.799148</td>\n",
              "      <td>16.998053</td>\n",
              "    </tr>\n",
              "    <tr>\n",
              "      <th>min</th>\n",
              "      <td>1.000000</td>\n",
              "      <td>0.008300</td>\n",
              "      <td>0.020000</td>\n",
              "      <td>1.000000</td>\n",
              "      <td>12.000000</td>\n",
              "    </tr>\n",
              "    <tr>\n",
              "      <th>25%</th>\n",
              "      <td>31339.000000</td>\n",
              "      <td>11.877395</td>\n",
              "      <td>25.000000</td>\n",
              "      <td>1.000000</td>\n",
              "      <td>26.000000</td>\n",
              "    </tr>\n",
              "    <tr>\n",
              "      <th>50%</th>\n",
              "      <td>62353.000000</td>\n",
              "      <td>21.128000</td>\n",
              "      <td>42.990002</td>\n",
              "      <td>1.000000</td>\n",
              "      <td>41.000000</td>\n",
              "    </tr>\n",
              "    <tr>\n",
              "      <th>75%</th>\n",
              "      <td>93529.500000</td>\n",
              "      <td>37.769000</td>\n",
              "      <td>78.000000</td>\n",
              "      <td>2.000000</td>\n",
              "      <td>56.000000</td>\n",
              "    </tr>\n",
              "    <tr>\n",
              "      <th>max</th>\n",
              "      <td>124507.000000</td>\n",
              "      <td>557.151002</td>\n",
              "      <td>1036.000000</td>\n",
              "      <td>4.000000</td>\n",
              "      <td>70.000000</td>\n",
              "    </tr>\n",
              "  </tbody>\n",
              "</table>\n",
              "</div>\n",
              "      <button class=\"colab-df-convert\" onclick=\"convertToInteractive('df-be20d0ab-538b-46bc-96fa-6983f9923bec')\"\n",
              "              title=\"Convert this dataframe to an interactive table.\"\n",
              "              style=\"display:none;\">\n",
              "        \n",
              "  <svg xmlns=\"http://www.w3.org/2000/svg\" height=\"24px\"viewBox=\"0 0 24 24\"\n",
              "       width=\"24px\">\n",
              "    <path d=\"M0 0h24v24H0V0z\" fill=\"none\"/>\n",
              "    <path d=\"M18.56 5.44l.94 2.06.94-2.06 2.06-.94-2.06-.94-.94-2.06-.94 2.06-2.06.94zm-11 1L8.5 8.5l.94-2.06 2.06-.94-2.06-.94L8.5 2.5l-.94 2.06-2.06.94zm10 10l.94 2.06.94-2.06 2.06-.94-2.06-.94-.94-2.06-.94 2.06-2.06.94z\"/><path d=\"M17.41 7.96l-1.37-1.37c-.4-.4-.92-.59-1.43-.59-.52 0-1.04.2-1.43.59L10.3 9.45l-7.72 7.72c-.78.78-.78 2.05 0 2.83L4 21.41c.39.39.9.59 1.41.59.51 0 1.02-.2 1.41-.59l7.78-7.78 2.81-2.81c.8-.78.8-2.07 0-2.86zM5.41 20L4 18.59l7.72-7.72 1.47 1.35L5.41 20z\"/>\n",
              "  </svg>\n",
              "      </button>\n",
              "      \n",
              "  <style>\n",
              "    .colab-df-container {\n",
              "      display:flex;\n",
              "      flex-wrap:wrap;\n",
              "      gap: 12px;\n",
              "    }\n",
              "\n",
              "    .colab-df-convert {\n",
              "      background-color: #E8F0FE;\n",
              "      border: none;\n",
              "      border-radius: 50%;\n",
              "      cursor: pointer;\n",
              "      display: none;\n",
              "      fill: #1967D2;\n",
              "      height: 32px;\n",
              "      padding: 0 0 0 0;\n",
              "      width: 32px;\n",
              "    }\n",
              "\n",
              "    .colab-df-convert:hover {\n",
              "      background-color: #E2EBFA;\n",
              "      box-shadow: 0px 1px 2px rgba(60, 64, 67, 0.3), 0px 1px 3px 1px rgba(60, 64, 67, 0.15);\n",
              "      fill: #174EA6;\n",
              "    }\n",
              "\n",
              "    [theme=dark] .colab-df-convert {\n",
              "      background-color: #3B4455;\n",
              "      fill: #D2E3FC;\n",
              "    }\n",
              "\n",
              "    [theme=dark] .colab-df-convert:hover {\n",
              "      background-color: #434B5C;\n",
              "      box-shadow: 0px 1px 3px 1px rgba(0, 0, 0, 0.15);\n",
              "      filter: drop-shadow(0px 1px 2px rgba(0, 0, 0, 0.3));\n",
              "      fill: #FFFFFF;\n",
              "    }\n",
              "  </style>\n",
              "\n",
              "      <script>\n",
              "        const buttonEl =\n",
              "          document.querySelector('#df-be20d0ab-538b-46bc-96fa-6983f9923bec button.colab-df-convert');\n",
              "        buttonEl.style.display =\n",
              "          google.colab.kernel.accessAllowed ? 'block' : 'none';\n",
              "\n",
              "        async function convertToInteractive(key) {\n",
              "          const element = document.querySelector('#df-be20d0ab-538b-46bc-96fa-6983f9923bec');\n",
              "          const dataTable =\n",
              "            await google.colab.kernel.invokeFunction('convertToInteractive',\n",
              "                                                     [key], {});\n",
              "          if (!dataTable) return;\n",
              "\n",
              "          const docLinkHtml = 'Like what you see? Visit the ' +\n",
              "            '<a target=\"_blank\" href=https://colab.research.google.com/notebooks/data_table.ipynb>data table notebook</a>'\n",
              "            + ' to learn more about interactive tables.';\n",
              "          element.innerHTML = '';\n",
              "          dataTable['output_type'] = 'display_data';\n",
              "          await google.colab.output.renderOutput(dataTable, element);\n",
              "          const docLink = document.createElement('div');\n",
              "          docLink.innerHTML = docLinkHtml;\n",
              "          element.appendChild(docLink);\n",
              "        }\n",
              "      </script>\n",
              "    </div>\n",
              "  </div>\n",
              "  "
            ]
          },
          "metadata": {},
          "execution_count": 30
        }
      ],
      "source": [
        "# Menampilkan deskripsi data\n",
        "df.describe()"
      ]
    },
    {
      "cell_type": "markdown",
      "metadata": {
        "id": "O_T4RvQb0eFj"
      },
      "source": [
        "# 4. Cleaning data"
      ]
    },
    {
      "cell_type": "markdown",
      "metadata": {
        "id": "5fUzRXVCkF9J"
      },
      "source": [
        "## 4.1 Membuat label 1 dan 0 untuk product yang di cancel"
      ]
    },
    {
      "cell_type": "code",
      "execution_count": null,
      "metadata": {
        "id": "ohTutkR01d6A"
      },
      "outputs": [],
      "source": [
        "#baris yang kosong dilabeli dengan 0 dan yang tidak kosong dilabeli dengan 1\n",
        "df[\"status\"] = df[\"status\"].replace('Cancelled', 1)\n",
        "df[\"status\"] = df[\"status\"].replace('Complete', 0)"
      ]
    },
    {
      "cell_type": "code",
      "execution_count": null,
      "metadata": {
        "colab": {
          "base_uri": "https://localhost:8080/",
          "height": 206
        },
        "id": "_QjeiAQMWRSt",
        "outputId": "b0f36e96-ebe7-4022-8219-dfee2e11a318"
      },
      "outputs": [
        {
          "output_type": "execute_result",
          "data": {
            "text/plain": [
              "   order_id  status  created_at       cost  sale_price  num_of_item  age  \\\n",
              "0         1       0  2019-07-19  28.294341   49.990002            4   30   \n",
              "1         4       1  2020-02-10  40.023121   77.040001            2   30   \n",
              "2         5       1  2021-09-07   7.076460   19.990000            1   48   \n",
              "3         7       1  2021-11-08  66.102079  141.789997            2   16   \n",
              "4         8       0  2022-05-15  32.055419   69.989998            4   14   \n",
              "\n",
              "  gender        state            city      country traffic_source  \n",
              "0      M  Gyeonggi-do  Namyangju City  South Korea         Search  \n",
              "1      M  Gyeonggi-do  Namyangju City  South Korea         Search  \n",
              "2      M      Jiangsu       Guangzhou        China         Search  \n",
              "3      M        Jilin        Shenzhen        China         Search  \n",
              "4      M      Jiangsu          Harbin        China         Search  "
            ],
            "text/html": [
              "\n",
              "  <div id=\"df-896f4c34-da8a-48ec-9c42-f8ba2558b2b4\">\n",
              "    <div class=\"colab-df-container\">\n",
              "      <div>\n",
              "<style scoped>\n",
              "    .dataframe tbody tr th:only-of-type {\n",
              "        vertical-align: middle;\n",
              "    }\n",
              "\n",
              "    .dataframe tbody tr th {\n",
              "        vertical-align: top;\n",
              "    }\n",
              "\n",
              "    .dataframe thead th {\n",
              "        text-align: right;\n",
              "    }\n",
              "</style>\n",
              "<table border=\"1\" class=\"dataframe\">\n",
              "  <thead>\n",
              "    <tr style=\"text-align: right;\">\n",
              "      <th></th>\n",
              "      <th>order_id</th>\n",
              "      <th>status</th>\n",
              "      <th>created_at</th>\n",
              "      <th>cost</th>\n",
              "      <th>sale_price</th>\n",
              "      <th>num_of_item</th>\n",
              "      <th>age</th>\n",
              "      <th>gender</th>\n",
              "      <th>state</th>\n",
              "      <th>city</th>\n",
              "      <th>country</th>\n",
              "      <th>traffic_source</th>\n",
              "    </tr>\n",
              "  </thead>\n",
              "  <tbody>\n",
              "    <tr>\n",
              "      <th>0</th>\n",
              "      <td>1</td>\n",
              "      <td>0</td>\n",
              "      <td>2019-07-19</td>\n",
              "      <td>28.294341</td>\n",
              "      <td>49.990002</td>\n",
              "      <td>4</td>\n",
              "      <td>30</td>\n",
              "      <td>M</td>\n",
              "      <td>Gyeonggi-do</td>\n",
              "      <td>Namyangju City</td>\n",
              "      <td>South Korea</td>\n",
              "      <td>Search</td>\n",
              "    </tr>\n",
              "    <tr>\n",
              "      <th>1</th>\n",
              "      <td>4</td>\n",
              "      <td>1</td>\n",
              "      <td>2020-02-10</td>\n",
              "      <td>40.023121</td>\n",
              "      <td>77.040001</td>\n",
              "      <td>2</td>\n",
              "      <td>30</td>\n",
              "      <td>M</td>\n",
              "      <td>Gyeonggi-do</td>\n",
              "      <td>Namyangju City</td>\n",
              "      <td>South Korea</td>\n",
              "      <td>Search</td>\n",
              "    </tr>\n",
              "    <tr>\n",
              "      <th>2</th>\n",
              "      <td>5</td>\n",
              "      <td>1</td>\n",
              "      <td>2021-09-07</td>\n",
              "      <td>7.076460</td>\n",
              "      <td>19.990000</td>\n",
              "      <td>1</td>\n",
              "      <td>48</td>\n",
              "      <td>M</td>\n",
              "      <td>Jiangsu</td>\n",
              "      <td>Guangzhou</td>\n",
              "      <td>China</td>\n",
              "      <td>Search</td>\n",
              "    </tr>\n",
              "    <tr>\n",
              "      <th>3</th>\n",
              "      <td>7</td>\n",
              "      <td>1</td>\n",
              "      <td>2021-11-08</td>\n",
              "      <td>66.102079</td>\n",
              "      <td>141.789997</td>\n",
              "      <td>2</td>\n",
              "      <td>16</td>\n",
              "      <td>M</td>\n",
              "      <td>Jilin</td>\n",
              "      <td>Shenzhen</td>\n",
              "      <td>China</td>\n",
              "      <td>Search</td>\n",
              "    </tr>\n",
              "    <tr>\n",
              "      <th>4</th>\n",
              "      <td>8</td>\n",
              "      <td>0</td>\n",
              "      <td>2022-05-15</td>\n",
              "      <td>32.055419</td>\n",
              "      <td>69.989998</td>\n",
              "      <td>4</td>\n",
              "      <td>14</td>\n",
              "      <td>M</td>\n",
              "      <td>Jiangsu</td>\n",
              "      <td>Harbin</td>\n",
              "      <td>China</td>\n",
              "      <td>Search</td>\n",
              "    </tr>\n",
              "  </tbody>\n",
              "</table>\n",
              "</div>\n",
              "      <button class=\"colab-df-convert\" onclick=\"convertToInteractive('df-896f4c34-da8a-48ec-9c42-f8ba2558b2b4')\"\n",
              "              title=\"Convert this dataframe to an interactive table.\"\n",
              "              style=\"display:none;\">\n",
              "        \n",
              "  <svg xmlns=\"http://www.w3.org/2000/svg\" height=\"24px\"viewBox=\"0 0 24 24\"\n",
              "       width=\"24px\">\n",
              "    <path d=\"M0 0h24v24H0V0z\" fill=\"none\"/>\n",
              "    <path d=\"M18.56 5.44l.94 2.06.94-2.06 2.06-.94-2.06-.94-.94-2.06-.94 2.06-2.06.94zm-11 1L8.5 8.5l.94-2.06 2.06-.94-2.06-.94L8.5 2.5l-.94 2.06-2.06.94zm10 10l.94 2.06.94-2.06 2.06-.94-2.06-.94-.94-2.06-.94 2.06-2.06.94z\"/><path d=\"M17.41 7.96l-1.37-1.37c-.4-.4-.92-.59-1.43-.59-.52 0-1.04.2-1.43.59L10.3 9.45l-7.72 7.72c-.78.78-.78 2.05 0 2.83L4 21.41c.39.39.9.59 1.41.59.51 0 1.02-.2 1.41-.59l7.78-7.78 2.81-2.81c.8-.78.8-2.07 0-2.86zM5.41 20L4 18.59l7.72-7.72 1.47 1.35L5.41 20z\"/>\n",
              "  </svg>\n",
              "      </button>\n",
              "      \n",
              "  <style>\n",
              "    .colab-df-container {\n",
              "      display:flex;\n",
              "      flex-wrap:wrap;\n",
              "      gap: 12px;\n",
              "    }\n",
              "\n",
              "    .colab-df-convert {\n",
              "      background-color: #E8F0FE;\n",
              "      border: none;\n",
              "      border-radius: 50%;\n",
              "      cursor: pointer;\n",
              "      display: none;\n",
              "      fill: #1967D2;\n",
              "      height: 32px;\n",
              "      padding: 0 0 0 0;\n",
              "      width: 32px;\n",
              "    }\n",
              "\n",
              "    .colab-df-convert:hover {\n",
              "      background-color: #E2EBFA;\n",
              "      box-shadow: 0px 1px 2px rgba(60, 64, 67, 0.3), 0px 1px 3px 1px rgba(60, 64, 67, 0.15);\n",
              "      fill: #174EA6;\n",
              "    }\n",
              "\n",
              "    [theme=dark] .colab-df-convert {\n",
              "      background-color: #3B4455;\n",
              "      fill: #D2E3FC;\n",
              "    }\n",
              "\n",
              "    [theme=dark] .colab-df-convert:hover {\n",
              "      background-color: #434B5C;\n",
              "      box-shadow: 0px 1px 3px 1px rgba(0, 0, 0, 0.15);\n",
              "      filter: drop-shadow(0px 1px 2px rgba(0, 0, 0, 0.3));\n",
              "      fill: #FFFFFF;\n",
              "    }\n",
              "  </style>\n",
              "\n",
              "      <script>\n",
              "        const buttonEl =\n",
              "          document.querySelector('#df-896f4c34-da8a-48ec-9c42-f8ba2558b2b4 button.colab-df-convert');\n",
              "        buttonEl.style.display =\n",
              "          google.colab.kernel.accessAllowed ? 'block' : 'none';\n",
              "\n",
              "        async function convertToInteractive(key) {\n",
              "          const element = document.querySelector('#df-896f4c34-da8a-48ec-9c42-f8ba2558b2b4');\n",
              "          const dataTable =\n",
              "            await google.colab.kernel.invokeFunction('convertToInteractive',\n",
              "                                                     [key], {});\n",
              "          if (!dataTable) return;\n",
              "\n",
              "          const docLinkHtml = 'Like what you see? Visit the ' +\n",
              "            '<a target=\"_blank\" href=https://colab.research.google.com/notebooks/data_table.ipynb>data table notebook</a>'\n",
              "            + ' to learn more about interactive tables.';\n",
              "          element.innerHTML = '';\n",
              "          dataTable['output_type'] = 'display_data';\n",
              "          await google.colab.output.renderOutput(dataTable, element);\n",
              "          const docLink = document.createElement('div');\n",
              "          docLink.innerHTML = docLinkHtml;\n",
              "          element.appendChild(docLink);\n",
              "        }\n",
              "      </script>\n",
              "    </div>\n",
              "  </div>\n",
              "  "
            ]
          },
          "metadata": {},
          "execution_count": 6
        }
      ],
      "source": [
        "df.head()"
      ]
    },
    {
      "cell_type": "markdown",
      "metadata": {
        "id": "IFHfqhi-mTMk"
      },
      "source": [
        "## 4.3 Merapihkan data kolom"
      ]
    },
    {
      "cell_type": "code",
      "execution_count": null,
      "metadata": {
        "colab": {
          "base_uri": "https://localhost:8080/"
        },
        "id": "G7OC8Lm1_nWn",
        "outputId": "b6ff819e-2400-43bb-fa2c-e67db73c76a7"
      },
      "outputs": [
        {
          "output_type": "stream",
          "name": "stdout",
          "text": [
            "- jumlah nilai unique pada kolom `order_id`: 49787\n",
            "- jumlah nilai unique pada kolom `status`: 2\n",
            "- jumlah nilai unique pada kolom `created_at`: 1216\n",
            "- jumlah nilai unique pada kolom `cost`: 24809\n",
            "- jumlah nilai unique pada kolom `sale_price`: 6038\n",
            "- jumlah nilai unique pada kolom `num_of_item`: 4\n",
            "- jumlah nilai unique pada kolom `age`: 59\n",
            "- jumlah nilai unique pada kolom `gender`: 2\n",
            "- jumlah nilai unique pada kolom `state`: 224\n",
            "- jumlah nilai unique pada kolom `city`: 6396\n",
            "- jumlah nilai unique pada kolom `country`: 15\n",
            "- jumlah nilai unique pada kolom `traffic_source`: 5\n"
          ]
        }
      ],
      "source": [
        "#melihat nilai unik pada setiap kolom\n",
        "for feature in df.columns:\n",
        "    print(\n",
        "        f\"- jumlah nilai unique pada kolom `{feature}`:\",\n",
        "        df[feature].nunique()\n",
        "    )"
      ]
    },
    {
      "cell_type": "code",
      "execution_count": null,
      "metadata": {
        "id": "x-NoJnWtfXPO"
      },
      "outputs": [],
      "source": [
        "#Merubah isi dari kolom country\n",
        "df[\"country\"] = df[\"country\"].replace('Austria', 'other')\n",
        "df[\"country\"] = df[\"country\"].replace('España', 'other')\n",
        "df[\"country\"] = df[\"country\"].replace('Colombia', 'other')\n",
        "df[\"country\"] = df[\"country\"].replace('Poland', 'other')\n",
        "df[\"country\"] = df[\"country\"].replace('Belgium', 'other')"
      ]
    },
    {
      "cell_type": "code",
      "execution_count": null,
      "metadata": {
        "id": "RejbWAvc8USJ"
      },
      "outputs": [],
      "source": [
        "#merubah isi kolom gender dengan 1, 0\n",
        "df[\"gender\"] = df[\"gender\"].replace('M', 1)\n",
        "df[\"gender\"] = df[\"gender\"].replace('F', 0)"
      ]
    },
    {
      "cell_type": "code",
      "source": [
        "#menghapus kolom yang tidak terpakai\n",
        "df = df.drop(columns=['order_id', 'city', 'state'])"
      ],
      "metadata": {
        "id": "JHPyq1o0vX5I"
      },
      "execution_count": null,
      "outputs": []
    },
    {
      "cell_type": "code",
      "source": [
        "df.head()"
      ],
      "metadata": {
        "colab": {
          "base_uri": "https://localhost:8080/",
          "height": 206
        },
        "id": "Bcb4SPUovnfO",
        "outputId": "8ac8f478-3112-4e4a-8792-1dbbfee98a2d"
      },
      "execution_count": null,
      "outputs": [
        {
          "output_type": "execute_result",
          "data": {
            "text/plain": [
              "   status  created_at       cost  sale_price  num_of_item  age  gender  \\\n",
              "0       0  2019-07-19  28.294341   49.990002            4   30       1   \n",
              "1       1  2020-02-10  40.023121   77.040001            2   30       1   \n",
              "2       1  2021-09-07   7.076460   19.990000            1   48       1   \n",
              "3       1  2021-11-08  66.102079  141.789997            2   16       1   \n",
              "4       0  2022-05-15  32.055419   69.989998            4   14       1   \n",
              "\n",
              "       country traffic_source  \n",
              "0  South Korea         Search  \n",
              "1  South Korea         Search  \n",
              "2        China         Search  \n",
              "3        China         Search  \n",
              "4        China         Search  "
            ],
            "text/html": [
              "\n",
              "  <div id=\"df-5d0551dc-eb01-46e4-90ec-128c85209bd0\">\n",
              "    <div class=\"colab-df-container\">\n",
              "      <div>\n",
              "<style scoped>\n",
              "    .dataframe tbody tr th:only-of-type {\n",
              "        vertical-align: middle;\n",
              "    }\n",
              "\n",
              "    .dataframe tbody tr th {\n",
              "        vertical-align: top;\n",
              "    }\n",
              "\n",
              "    .dataframe thead th {\n",
              "        text-align: right;\n",
              "    }\n",
              "</style>\n",
              "<table border=\"1\" class=\"dataframe\">\n",
              "  <thead>\n",
              "    <tr style=\"text-align: right;\">\n",
              "      <th></th>\n",
              "      <th>status</th>\n",
              "      <th>created_at</th>\n",
              "      <th>cost</th>\n",
              "      <th>sale_price</th>\n",
              "      <th>num_of_item</th>\n",
              "      <th>age</th>\n",
              "      <th>gender</th>\n",
              "      <th>country</th>\n",
              "      <th>traffic_source</th>\n",
              "    </tr>\n",
              "  </thead>\n",
              "  <tbody>\n",
              "    <tr>\n",
              "      <th>0</th>\n",
              "      <td>0</td>\n",
              "      <td>2019-07-19</td>\n",
              "      <td>28.294341</td>\n",
              "      <td>49.990002</td>\n",
              "      <td>4</td>\n",
              "      <td>30</td>\n",
              "      <td>1</td>\n",
              "      <td>South Korea</td>\n",
              "      <td>Search</td>\n",
              "    </tr>\n",
              "    <tr>\n",
              "      <th>1</th>\n",
              "      <td>1</td>\n",
              "      <td>2020-02-10</td>\n",
              "      <td>40.023121</td>\n",
              "      <td>77.040001</td>\n",
              "      <td>2</td>\n",
              "      <td>30</td>\n",
              "      <td>1</td>\n",
              "      <td>South Korea</td>\n",
              "      <td>Search</td>\n",
              "    </tr>\n",
              "    <tr>\n",
              "      <th>2</th>\n",
              "      <td>1</td>\n",
              "      <td>2021-09-07</td>\n",
              "      <td>7.076460</td>\n",
              "      <td>19.990000</td>\n",
              "      <td>1</td>\n",
              "      <td>48</td>\n",
              "      <td>1</td>\n",
              "      <td>China</td>\n",
              "      <td>Search</td>\n",
              "    </tr>\n",
              "    <tr>\n",
              "      <th>3</th>\n",
              "      <td>1</td>\n",
              "      <td>2021-11-08</td>\n",
              "      <td>66.102079</td>\n",
              "      <td>141.789997</td>\n",
              "      <td>2</td>\n",
              "      <td>16</td>\n",
              "      <td>1</td>\n",
              "      <td>China</td>\n",
              "      <td>Search</td>\n",
              "    </tr>\n",
              "    <tr>\n",
              "      <th>4</th>\n",
              "      <td>0</td>\n",
              "      <td>2022-05-15</td>\n",
              "      <td>32.055419</td>\n",
              "      <td>69.989998</td>\n",
              "      <td>4</td>\n",
              "      <td>14</td>\n",
              "      <td>1</td>\n",
              "      <td>China</td>\n",
              "      <td>Search</td>\n",
              "    </tr>\n",
              "  </tbody>\n",
              "</table>\n",
              "</div>\n",
              "      <button class=\"colab-df-convert\" onclick=\"convertToInteractive('df-5d0551dc-eb01-46e4-90ec-128c85209bd0')\"\n",
              "              title=\"Convert this dataframe to an interactive table.\"\n",
              "              style=\"display:none;\">\n",
              "        \n",
              "  <svg xmlns=\"http://www.w3.org/2000/svg\" height=\"24px\"viewBox=\"0 0 24 24\"\n",
              "       width=\"24px\">\n",
              "    <path d=\"M0 0h24v24H0V0z\" fill=\"none\"/>\n",
              "    <path d=\"M18.56 5.44l.94 2.06.94-2.06 2.06-.94-2.06-.94-.94-2.06-.94 2.06-2.06.94zm-11 1L8.5 8.5l.94-2.06 2.06-.94-2.06-.94L8.5 2.5l-.94 2.06-2.06.94zm10 10l.94 2.06.94-2.06 2.06-.94-2.06-.94-.94-2.06-.94 2.06-2.06.94z\"/><path d=\"M17.41 7.96l-1.37-1.37c-.4-.4-.92-.59-1.43-.59-.52 0-1.04.2-1.43.59L10.3 9.45l-7.72 7.72c-.78.78-.78 2.05 0 2.83L4 21.41c.39.39.9.59 1.41.59.51 0 1.02-.2 1.41-.59l7.78-7.78 2.81-2.81c.8-.78.8-2.07 0-2.86zM5.41 20L4 18.59l7.72-7.72 1.47 1.35L5.41 20z\"/>\n",
              "  </svg>\n",
              "      </button>\n",
              "      \n",
              "  <style>\n",
              "    .colab-df-container {\n",
              "      display:flex;\n",
              "      flex-wrap:wrap;\n",
              "      gap: 12px;\n",
              "    }\n",
              "\n",
              "    .colab-df-convert {\n",
              "      background-color: #E8F0FE;\n",
              "      border: none;\n",
              "      border-radius: 50%;\n",
              "      cursor: pointer;\n",
              "      display: none;\n",
              "      fill: #1967D2;\n",
              "      height: 32px;\n",
              "      padding: 0 0 0 0;\n",
              "      width: 32px;\n",
              "    }\n",
              "\n",
              "    .colab-df-convert:hover {\n",
              "      background-color: #E2EBFA;\n",
              "      box-shadow: 0px 1px 2px rgba(60, 64, 67, 0.3), 0px 1px 3px 1px rgba(60, 64, 67, 0.15);\n",
              "      fill: #174EA6;\n",
              "    }\n",
              "\n",
              "    [theme=dark] .colab-df-convert {\n",
              "      background-color: #3B4455;\n",
              "      fill: #D2E3FC;\n",
              "    }\n",
              "\n",
              "    [theme=dark] .colab-df-convert:hover {\n",
              "      background-color: #434B5C;\n",
              "      box-shadow: 0px 1px 3px 1px rgba(0, 0, 0, 0.15);\n",
              "      filter: drop-shadow(0px 1px 2px rgba(0, 0, 0, 0.3));\n",
              "      fill: #FFFFFF;\n",
              "    }\n",
              "  </style>\n",
              "\n",
              "      <script>\n",
              "        const buttonEl =\n",
              "          document.querySelector('#df-5d0551dc-eb01-46e4-90ec-128c85209bd0 button.colab-df-convert');\n",
              "        buttonEl.style.display =\n",
              "          google.colab.kernel.accessAllowed ? 'block' : 'none';\n",
              "\n",
              "        async function convertToInteractive(key) {\n",
              "          const element = document.querySelector('#df-5d0551dc-eb01-46e4-90ec-128c85209bd0');\n",
              "          const dataTable =\n",
              "            await google.colab.kernel.invokeFunction('convertToInteractive',\n",
              "                                                     [key], {});\n",
              "          if (!dataTable) return;\n",
              "\n",
              "          const docLinkHtml = 'Like what you see? Visit the ' +\n",
              "            '<a target=\"_blank\" href=https://colab.research.google.com/notebooks/data_table.ipynb>data table notebook</a>'\n",
              "            + ' to learn more about interactive tables.';\n",
              "          element.innerHTML = '';\n",
              "          dataTable['output_type'] = 'display_data';\n",
              "          await google.colab.output.renderOutput(dataTable, element);\n",
              "          const docLink = document.createElement('div');\n",
              "          docLink.innerHTML = docLinkHtml;\n",
              "          element.appendChild(docLink);\n",
              "        }\n",
              "      </script>\n",
              "    </div>\n",
              "  </div>\n",
              "  "
            ]
          },
          "metadata": {},
          "execution_count": 11
        }
      ]
    },
    {
      "cell_type": "markdown",
      "metadata": {
        "id": "C9FXCrfWkgjx"
      },
      "source": [
        "## 4.4 Korelasi dan outliers\n"
      ]
    },
    {
      "cell_type": "code",
      "execution_count": null,
      "metadata": {
        "colab": {
          "base_uri": "https://localhost:8080/",
          "height": 237
        },
        "id": "E1vSmbKyJvqq",
        "outputId": "34baf70b-0604-48a1-c4fd-15b73d4c0e32"
      },
      "outputs": [
        {
          "output_type": "execute_result",
          "data": {
            "text/plain": [
              "               status      cost  sale_price  num_of_item       age    gender\n",
              "status       1.000000  0.001518    0.001661    -0.001186  0.004520  0.001395\n",
              "cost         0.001518  1.000000    0.982715     0.105121 -0.001863  0.063825\n",
              "sale_price   0.001661  0.982715    1.000000     0.103198 -0.000293  0.060713\n",
              "num_of_item -0.001186  0.105121    0.103198     1.000000 -0.002068  0.006822\n",
              "age          0.004520 -0.001863   -0.000293    -0.002068  1.000000  0.000657\n",
              "gender       0.001395  0.063825    0.060713     0.006822  0.000657  1.000000"
            ],
            "text/html": [
              "\n",
              "  <div id=\"df-a41f7462-e729-4ef6-acac-a0964c9210ef\">\n",
              "    <div class=\"colab-df-container\">\n",
              "      <div>\n",
              "<style scoped>\n",
              "    .dataframe tbody tr th:only-of-type {\n",
              "        vertical-align: middle;\n",
              "    }\n",
              "\n",
              "    .dataframe tbody tr th {\n",
              "        vertical-align: top;\n",
              "    }\n",
              "\n",
              "    .dataframe thead th {\n",
              "        text-align: right;\n",
              "    }\n",
              "</style>\n",
              "<table border=\"1\" class=\"dataframe\">\n",
              "  <thead>\n",
              "    <tr style=\"text-align: right;\">\n",
              "      <th></th>\n",
              "      <th>status</th>\n",
              "      <th>cost</th>\n",
              "      <th>sale_price</th>\n",
              "      <th>num_of_item</th>\n",
              "      <th>age</th>\n",
              "      <th>gender</th>\n",
              "    </tr>\n",
              "  </thead>\n",
              "  <tbody>\n",
              "    <tr>\n",
              "      <th>status</th>\n",
              "      <td>1.000000</td>\n",
              "      <td>0.001518</td>\n",
              "      <td>0.001661</td>\n",
              "      <td>-0.001186</td>\n",
              "      <td>0.004520</td>\n",
              "      <td>0.001395</td>\n",
              "    </tr>\n",
              "    <tr>\n",
              "      <th>cost</th>\n",
              "      <td>0.001518</td>\n",
              "      <td>1.000000</td>\n",
              "      <td>0.982715</td>\n",
              "      <td>0.105121</td>\n",
              "      <td>-0.001863</td>\n",
              "      <td>0.063825</td>\n",
              "    </tr>\n",
              "    <tr>\n",
              "      <th>sale_price</th>\n",
              "      <td>0.001661</td>\n",
              "      <td>0.982715</td>\n",
              "      <td>1.000000</td>\n",
              "      <td>0.103198</td>\n",
              "      <td>-0.000293</td>\n",
              "      <td>0.060713</td>\n",
              "    </tr>\n",
              "    <tr>\n",
              "      <th>num_of_item</th>\n",
              "      <td>-0.001186</td>\n",
              "      <td>0.105121</td>\n",
              "      <td>0.103198</td>\n",
              "      <td>1.000000</td>\n",
              "      <td>-0.002068</td>\n",
              "      <td>0.006822</td>\n",
              "    </tr>\n",
              "    <tr>\n",
              "      <th>age</th>\n",
              "      <td>0.004520</td>\n",
              "      <td>-0.001863</td>\n",
              "      <td>-0.000293</td>\n",
              "      <td>-0.002068</td>\n",
              "      <td>1.000000</td>\n",
              "      <td>0.000657</td>\n",
              "    </tr>\n",
              "    <tr>\n",
              "      <th>gender</th>\n",
              "      <td>0.001395</td>\n",
              "      <td>0.063825</td>\n",
              "      <td>0.060713</td>\n",
              "      <td>0.006822</td>\n",
              "      <td>0.000657</td>\n",
              "      <td>1.000000</td>\n",
              "    </tr>\n",
              "  </tbody>\n",
              "</table>\n",
              "</div>\n",
              "      <button class=\"colab-df-convert\" onclick=\"convertToInteractive('df-a41f7462-e729-4ef6-acac-a0964c9210ef')\"\n",
              "              title=\"Convert this dataframe to an interactive table.\"\n",
              "              style=\"display:none;\">\n",
              "        \n",
              "  <svg xmlns=\"http://www.w3.org/2000/svg\" height=\"24px\"viewBox=\"0 0 24 24\"\n",
              "       width=\"24px\">\n",
              "    <path d=\"M0 0h24v24H0V0z\" fill=\"none\"/>\n",
              "    <path d=\"M18.56 5.44l.94 2.06.94-2.06 2.06-.94-2.06-.94-.94-2.06-.94 2.06-2.06.94zm-11 1L8.5 8.5l.94-2.06 2.06-.94-2.06-.94L8.5 2.5l-.94 2.06-2.06.94zm10 10l.94 2.06.94-2.06 2.06-.94-2.06-.94-.94-2.06-.94 2.06-2.06.94z\"/><path d=\"M17.41 7.96l-1.37-1.37c-.4-.4-.92-.59-1.43-.59-.52 0-1.04.2-1.43.59L10.3 9.45l-7.72 7.72c-.78.78-.78 2.05 0 2.83L4 21.41c.39.39.9.59 1.41.59.51 0 1.02-.2 1.41-.59l7.78-7.78 2.81-2.81c.8-.78.8-2.07 0-2.86zM5.41 20L4 18.59l7.72-7.72 1.47 1.35L5.41 20z\"/>\n",
              "  </svg>\n",
              "      </button>\n",
              "      \n",
              "  <style>\n",
              "    .colab-df-container {\n",
              "      display:flex;\n",
              "      flex-wrap:wrap;\n",
              "      gap: 12px;\n",
              "    }\n",
              "\n",
              "    .colab-df-convert {\n",
              "      background-color: #E8F0FE;\n",
              "      border: none;\n",
              "      border-radius: 50%;\n",
              "      cursor: pointer;\n",
              "      display: none;\n",
              "      fill: #1967D2;\n",
              "      height: 32px;\n",
              "      padding: 0 0 0 0;\n",
              "      width: 32px;\n",
              "    }\n",
              "\n",
              "    .colab-df-convert:hover {\n",
              "      background-color: #E2EBFA;\n",
              "      box-shadow: 0px 1px 2px rgba(60, 64, 67, 0.3), 0px 1px 3px 1px rgba(60, 64, 67, 0.15);\n",
              "      fill: #174EA6;\n",
              "    }\n",
              "\n",
              "    [theme=dark] .colab-df-convert {\n",
              "      background-color: #3B4455;\n",
              "      fill: #D2E3FC;\n",
              "    }\n",
              "\n",
              "    [theme=dark] .colab-df-convert:hover {\n",
              "      background-color: #434B5C;\n",
              "      box-shadow: 0px 1px 3px 1px rgba(0, 0, 0, 0.15);\n",
              "      filter: drop-shadow(0px 1px 2px rgba(0, 0, 0, 0.3));\n",
              "      fill: #FFFFFF;\n",
              "    }\n",
              "  </style>\n",
              "\n",
              "      <script>\n",
              "        const buttonEl =\n",
              "          document.querySelector('#df-a41f7462-e729-4ef6-acac-a0964c9210ef button.colab-df-convert');\n",
              "        buttonEl.style.display =\n",
              "          google.colab.kernel.accessAllowed ? 'block' : 'none';\n",
              "\n",
              "        async function convertToInteractive(key) {\n",
              "          const element = document.querySelector('#df-a41f7462-e729-4ef6-acac-a0964c9210ef');\n",
              "          const dataTable =\n",
              "            await google.colab.kernel.invokeFunction('convertToInteractive',\n",
              "                                                     [key], {});\n",
              "          if (!dataTable) return;\n",
              "\n",
              "          const docLinkHtml = 'Like what you see? Visit the ' +\n",
              "            '<a target=\"_blank\" href=https://colab.research.google.com/notebooks/data_table.ipynb>data table notebook</a>'\n",
              "            + ' to learn more about interactive tables.';\n",
              "          element.innerHTML = '';\n",
              "          dataTable['output_type'] = 'display_data';\n",
              "          await google.colab.output.renderOutput(dataTable, element);\n",
              "          const docLink = document.createElement('div');\n",
              "          docLink.innerHTML = docLinkHtml;\n",
              "          element.appendChild(docLink);\n",
              "        }\n",
              "      </script>\n",
              "    </div>\n",
              "  </div>\n",
              "  "
            ]
          },
          "metadata": {},
          "execution_count": 12
        }
      ],
      "source": [
        "# Menampilkan korelasi antar variabel\n",
        "df.corr()"
      ]
    },
    {
      "cell_type": "code",
      "execution_count": null,
      "metadata": {
        "id": "G4eWtUhD_JFR"
      },
      "outputs": [],
      "source": [
        "#Faktorize dataframe\n",
        "for column in df.columns:\n",
        "     df[column] = pd.factorize(df[column])[0]"
      ]
    },
    {
      "cell_type": "code",
      "execution_count": null,
      "metadata": {
        "colab": {
          "base_uri": "https://localhost:8080/",
          "height": 331
        },
        "id": "QZ5U1-Er__aL",
        "outputId": "126f6b7a-2756-4795-de93-0d9e1ed3bcbb"
      },
      "outputs": [
        {
          "output_type": "execute_result",
          "data": {
            "text/plain": [
              "                  status  created_at      cost  sale_price  num_of_item  \\\n",
              "status          1.000000   -0.000398  0.004071    0.001006    -0.003533   \n",
              "created_at     -0.000398    1.000000  0.025188    0.006308     0.005712   \n",
              "cost            0.004071    0.025188  1.000000    0.341604    -0.055636   \n",
              "sale_price      0.001006    0.006308  0.341604    1.000000    -0.122272   \n",
              "num_of_item    -0.003533    0.005712 -0.055636   -0.122272     1.000000   \n",
              "age             0.000019   -0.007314  0.003969    0.001852    -0.002433   \n",
              "gender         -0.001395    0.005592  0.056922    0.019990     0.003622   \n",
              "country         0.000701   -0.000848 -0.003205   -0.001266     0.002170   \n",
              "traffic_source -0.001075    0.006136 -0.003698    0.002722     0.003881   \n",
              "\n",
              "                     age    gender   country  traffic_source  \n",
              "status          0.000019 -0.001395  0.000701       -0.001075  \n",
              "created_at     -0.007314  0.005592 -0.000848        0.006136  \n",
              "cost            0.003969  0.056922 -0.003205       -0.003698  \n",
              "sale_price      0.001852  0.019990 -0.001266        0.002722  \n",
              "num_of_item    -0.002433  0.003622  0.002170        0.003881  \n",
              "age             1.000000  0.000097 -0.003950       -0.000999  \n",
              "gender          0.000097  1.000000  0.001653       -0.004218  \n",
              "country        -0.003950  0.001653  1.000000        0.001234  \n",
              "traffic_source -0.000999 -0.004218  0.001234        1.000000  "
            ],
            "text/html": [
              "\n",
              "  <div id=\"df-5accb558-3a63-4653-ba25-093151ebdb4e\">\n",
              "    <div class=\"colab-df-container\">\n",
              "      <div>\n",
              "<style scoped>\n",
              "    .dataframe tbody tr th:only-of-type {\n",
              "        vertical-align: middle;\n",
              "    }\n",
              "\n",
              "    .dataframe tbody tr th {\n",
              "        vertical-align: top;\n",
              "    }\n",
              "\n",
              "    .dataframe thead th {\n",
              "        text-align: right;\n",
              "    }\n",
              "</style>\n",
              "<table border=\"1\" class=\"dataframe\">\n",
              "  <thead>\n",
              "    <tr style=\"text-align: right;\">\n",
              "      <th></th>\n",
              "      <th>status</th>\n",
              "      <th>created_at</th>\n",
              "      <th>cost</th>\n",
              "      <th>sale_price</th>\n",
              "      <th>num_of_item</th>\n",
              "      <th>age</th>\n",
              "      <th>gender</th>\n",
              "      <th>country</th>\n",
              "      <th>traffic_source</th>\n",
              "    </tr>\n",
              "  </thead>\n",
              "  <tbody>\n",
              "    <tr>\n",
              "      <th>status</th>\n",
              "      <td>1.000000</td>\n",
              "      <td>-0.000398</td>\n",
              "      <td>0.004071</td>\n",
              "      <td>0.001006</td>\n",
              "      <td>-0.003533</td>\n",
              "      <td>0.000019</td>\n",
              "      <td>-0.001395</td>\n",
              "      <td>0.000701</td>\n",
              "      <td>-0.001075</td>\n",
              "    </tr>\n",
              "    <tr>\n",
              "      <th>created_at</th>\n",
              "      <td>-0.000398</td>\n",
              "      <td>1.000000</td>\n",
              "      <td>0.025188</td>\n",
              "      <td>0.006308</td>\n",
              "      <td>0.005712</td>\n",
              "      <td>-0.007314</td>\n",
              "      <td>0.005592</td>\n",
              "      <td>-0.000848</td>\n",
              "      <td>0.006136</td>\n",
              "    </tr>\n",
              "    <tr>\n",
              "      <th>cost</th>\n",
              "      <td>0.004071</td>\n",
              "      <td>0.025188</td>\n",
              "      <td>1.000000</td>\n",
              "      <td>0.341604</td>\n",
              "      <td>-0.055636</td>\n",
              "      <td>0.003969</td>\n",
              "      <td>0.056922</td>\n",
              "      <td>-0.003205</td>\n",
              "      <td>-0.003698</td>\n",
              "    </tr>\n",
              "    <tr>\n",
              "      <th>sale_price</th>\n",
              "      <td>0.001006</td>\n",
              "      <td>0.006308</td>\n",
              "      <td>0.341604</td>\n",
              "      <td>1.000000</td>\n",
              "      <td>-0.122272</td>\n",
              "      <td>0.001852</td>\n",
              "      <td>0.019990</td>\n",
              "      <td>-0.001266</td>\n",
              "      <td>0.002722</td>\n",
              "    </tr>\n",
              "    <tr>\n",
              "      <th>num_of_item</th>\n",
              "      <td>-0.003533</td>\n",
              "      <td>0.005712</td>\n",
              "      <td>-0.055636</td>\n",
              "      <td>-0.122272</td>\n",
              "      <td>1.000000</td>\n",
              "      <td>-0.002433</td>\n",
              "      <td>0.003622</td>\n",
              "      <td>0.002170</td>\n",
              "      <td>0.003881</td>\n",
              "    </tr>\n",
              "    <tr>\n",
              "      <th>age</th>\n",
              "      <td>0.000019</td>\n",
              "      <td>-0.007314</td>\n",
              "      <td>0.003969</td>\n",
              "      <td>0.001852</td>\n",
              "      <td>-0.002433</td>\n",
              "      <td>1.000000</td>\n",
              "      <td>0.000097</td>\n",
              "      <td>-0.003950</td>\n",
              "      <td>-0.000999</td>\n",
              "    </tr>\n",
              "    <tr>\n",
              "      <th>gender</th>\n",
              "      <td>-0.001395</td>\n",
              "      <td>0.005592</td>\n",
              "      <td>0.056922</td>\n",
              "      <td>0.019990</td>\n",
              "      <td>0.003622</td>\n",
              "      <td>0.000097</td>\n",
              "      <td>1.000000</td>\n",
              "      <td>0.001653</td>\n",
              "      <td>-0.004218</td>\n",
              "    </tr>\n",
              "    <tr>\n",
              "      <th>country</th>\n",
              "      <td>0.000701</td>\n",
              "      <td>-0.000848</td>\n",
              "      <td>-0.003205</td>\n",
              "      <td>-0.001266</td>\n",
              "      <td>0.002170</td>\n",
              "      <td>-0.003950</td>\n",
              "      <td>0.001653</td>\n",
              "      <td>1.000000</td>\n",
              "      <td>0.001234</td>\n",
              "    </tr>\n",
              "    <tr>\n",
              "      <th>traffic_source</th>\n",
              "      <td>-0.001075</td>\n",
              "      <td>0.006136</td>\n",
              "      <td>-0.003698</td>\n",
              "      <td>0.002722</td>\n",
              "      <td>0.003881</td>\n",
              "      <td>-0.000999</td>\n",
              "      <td>-0.004218</td>\n",
              "      <td>0.001234</td>\n",
              "      <td>1.000000</td>\n",
              "    </tr>\n",
              "  </tbody>\n",
              "</table>\n",
              "</div>\n",
              "      <button class=\"colab-df-convert\" onclick=\"convertToInteractive('df-5accb558-3a63-4653-ba25-093151ebdb4e')\"\n",
              "              title=\"Convert this dataframe to an interactive table.\"\n",
              "              style=\"display:none;\">\n",
              "        \n",
              "  <svg xmlns=\"http://www.w3.org/2000/svg\" height=\"24px\"viewBox=\"0 0 24 24\"\n",
              "       width=\"24px\">\n",
              "    <path d=\"M0 0h24v24H0V0z\" fill=\"none\"/>\n",
              "    <path d=\"M18.56 5.44l.94 2.06.94-2.06 2.06-.94-2.06-.94-.94-2.06-.94 2.06-2.06.94zm-11 1L8.5 8.5l.94-2.06 2.06-.94-2.06-.94L8.5 2.5l-.94 2.06-2.06.94zm10 10l.94 2.06.94-2.06 2.06-.94-2.06-.94-.94-2.06-.94 2.06-2.06.94z\"/><path d=\"M17.41 7.96l-1.37-1.37c-.4-.4-.92-.59-1.43-.59-.52 0-1.04.2-1.43.59L10.3 9.45l-7.72 7.72c-.78.78-.78 2.05 0 2.83L4 21.41c.39.39.9.59 1.41.59.51 0 1.02-.2 1.41-.59l7.78-7.78 2.81-2.81c.8-.78.8-2.07 0-2.86zM5.41 20L4 18.59l7.72-7.72 1.47 1.35L5.41 20z\"/>\n",
              "  </svg>\n",
              "      </button>\n",
              "      \n",
              "  <style>\n",
              "    .colab-df-container {\n",
              "      display:flex;\n",
              "      flex-wrap:wrap;\n",
              "      gap: 12px;\n",
              "    }\n",
              "\n",
              "    .colab-df-convert {\n",
              "      background-color: #E8F0FE;\n",
              "      border: none;\n",
              "      border-radius: 50%;\n",
              "      cursor: pointer;\n",
              "      display: none;\n",
              "      fill: #1967D2;\n",
              "      height: 32px;\n",
              "      padding: 0 0 0 0;\n",
              "      width: 32px;\n",
              "    }\n",
              "\n",
              "    .colab-df-convert:hover {\n",
              "      background-color: #E2EBFA;\n",
              "      box-shadow: 0px 1px 2px rgba(60, 64, 67, 0.3), 0px 1px 3px 1px rgba(60, 64, 67, 0.15);\n",
              "      fill: #174EA6;\n",
              "    }\n",
              "\n",
              "    [theme=dark] .colab-df-convert {\n",
              "      background-color: #3B4455;\n",
              "      fill: #D2E3FC;\n",
              "    }\n",
              "\n",
              "    [theme=dark] .colab-df-convert:hover {\n",
              "      background-color: #434B5C;\n",
              "      box-shadow: 0px 1px 3px 1px rgba(0, 0, 0, 0.15);\n",
              "      filter: drop-shadow(0px 1px 2px rgba(0, 0, 0, 0.3));\n",
              "      fill: #FFFFFF;\n",
              "    }\n",
              "  </style>\n",
              "\n",
              "      <script>\n",
              "        const buttonEl =\n",
              "          document.querySelector('#df-5accb558-3a63-4653-ba25-093151ebdb4e button.colab-df-convert');\n",
              "        buttonEl.style.display =\n",
              "          google.colab.kernel.accessAllowed ? 'block' : 'none';\n",
              "\n",
              "        async function convertToInteractive(key) {\n",
              "          const element = document.querySelector('#df-5accb558-3a63-4653-ba25-093151ebdb4e');\n",
              "          const dataTable =\n",
              "            await google.colab.kernel.invokeFunction('convertToInteractive',\n",
              "                                                     [key], {});\n",
              "          if (!dataTable) return;\n",
              "\n",
              "          const docLinkHtml = 'Like what you see? Visit the ' +\n",
              "            '<a target=\"_blank\" href=https://colab.research.google.com/notebooks/data_table.ipynb>data table notebook</a>'\n",
              "            + ' to learn more about interactive tables.';\n",
              "          element.innerHTML = '';\n",
              "          dataTable['output_type'] = 'display_data';\n",
              "          await google.colab.output.renderOutput(dataTable, element);\n",
              "          const docLink = document.createElement('div');\n",
              "          docLink.innerHTML = docLinkHtml;\n",
              "          element.appendChild(docLink);\n",
              "        }\n",
              "      </script>\n",
              "    </div>\n",
              "  </div>\n",
              "  "
            ]
          },
          "metadata": {},
          "execution_count": 14
        }
      ],
      "source": [
        "#korelasi tiap kolom pada dataframe\n",
        "df.corr()"
      ]
    },
    {
      "cell_type": "code",
      "execution_count": null,
      "metadata": {
        "colab": {
          "base_uri": "https://localhost:8080/",
          "height": 327
        },
        "id": "4paXDyptAH7x",
        "outputId": "a031c576-c6fb-45dc-8707-9cab7bec4479"
      },
      "outputs": [
        {
          "output_type": "display_data",
          "data": {
            "text/plain": [
              "<Figure size 432x288 with 2 Axes>"
            ],
            "image/png": "[encoded data removed]"
          },
          "metadata": {
            "needs_background": "light"
          }
        }
      ],
      "source": [
        "# Visualisasikan correlation coefficient di atas dengan bantuan heat map\n",
        "sns.heatmap(df.corr(), annot=True, fmt=\".2f\")\n",
        "plt.show()"
      ]
    },
    {
      "cell_type": "code",
      "execution_count": null,
      "metadata": {
        "colab": {
          "base_uri": "https://localhost:8080/",
          "height": 1000
        },
        "id": "gs22FIgK95Ba",
        "outputId": "aad37195-e6da-4779-980b-b37556ad36dd"
      },
      "outputs": [
        {
          "output_type": "display_data",
          "data": {
            "text/plain": [
              "<Figure size 432x432 with 1 Axes>"
            ],
            "image/png": "[encoded data removed]"
          },
          "metadata": {
            "needs_background": "light"
          }
        },
        {
          "output_type": "display_data",
          "data": {
            "text/plain": [
              "<Figure size 432x432 with 1 Axes>"
            ],
            "image/png": "[encoded data removed]"
          },
          "metadata": {
            "needs_background": "light"
          }
        },
        {
          "output_type": "display_data",
          "data": {
            "text/plain": [
              "<Figure size 432x432 with 1 Axes>"
            ],
            "image/png": "[encoded data removed]"
          },
          "metadata": {
            "needs_background": "light"
          }
        },
        {
          "output_type": "display_data",
          "data": {
            "text/plain": [
              "<Figure size 432x432 with 1 Axes>"
            ],
            "image/png": "[encoded data removed]"
          },
          "metadata": {
            "needs_background": "light"
          }
        },
        {
          "output_type": "display_data",
          "data": {
            "text/plain": [
              "<Figure size 432x432 with 1 Axes>"
            ],
            "image/png": "[encoded data removed]"
          },
          "metadata": {
            "needs_background": "light"
          }
        },
        {
          "output_type": "display_data",
          "data": {
            "text/plain": [
              "<Figure size 432x432 with 1 Axes>"
            ],
            "image/png": "[encoded data removed]"
          },
          "metadata": {
            "needs_background": "light"
          }
        },
        {
          "output_type": "display_data",
          "data": {
            "text/plain": [
              "<Figure size 432x432 with 1 Axes>"
            ],
            "image/png": "[encoded data removed]"
          },
          "metadata": {
            "needs_background": "light"
          }
        },
        {
          "output_type": "display_data",
          "data": {
            "text/plain": [
              "<Figure size 432x432 with 1 Axes>"
            ],
            "image/png": "[encoded data removed]"
          },
          "metadata": {
            "needs_background": "light"
          }
        },
        {
          "output_type": "display_data",
          "data": {
            "text/plain": [
              "<Figure size 432x432 with 1 Axes>"
            ],
            "image/png": "[encoded data removed]"
          },
          "metadata": {
            "needs_background": "light"
          }
        }
      ],
      "source": [
        "# Visualisasikan fitur-fitur numerik ke Boxplot untuk melihat bagaimana data tersebar\n",
        "for feature in df.columns:\n",
        "  df[feature].plot(kind=\"box\", figsize=(6, 6))\n",
        "  plt.grid(False)\n",
        "  plt.show()"
      ]
    },
    {
      "cell_type": "code",
      "execution_count": null,
      "metadata": {
        "colab": {
          "base_uri": "https://localhost:8080/",
          "height": 300
        },
        "id": "UPHO2MbVd8O9",
        "outputId": "f2497d66-7246-4090-d57d-0a2efdc5d7c5"
      },
      "outputs": [
        {
          "output_type": "execute_result",
          "data": {
            "text/plain": [
              "             status    created_at          cost    sale_price   num_of_item  \\\n",
              "count  49787.000000  49787.000000  49787.000000  49787.000000  49787.000000   \n",
              "mean       0.371944    405.212646  10492.287665    903.451363      1.752224   \n",
              "std        0.483329    291.905146   6852.293248   1315.353807      0.619736   \n",
              "min        0.000000      0.000000      0.000000      0.000000      0.000000   \n",
              "25%        0.000000    162.000000   4531.000000     92.000000      2.000000   \n",
              "50%        0.000000    343.000000   9730.000000    283.000000      2.000000   \n",
              "75%        1.000000    614.000000  15909.500000   1093.000000      2.000000   \n",
              "max        1.000000   1215.000000  24808.000000   6037.000000      3.000000   \n",
              "\n",
              "                age       gender       country  traffic_source  \n",
              "count  49787.000000  49787.00000  49787.000000    49787.000000  \n",
              "mean      28.868399      0.49772      2.882680        0.690361  \n",
              "std       17.046088      0.50000      2.580211        1.163376  \n",
              "min        0.000000      0.00000      0.000000        0.000000  \n",
              "25%       14.000000      0.00000      1.000000        0.000000  \n",
              "50%       29.000000      0.00000      2.000000        0.000000  \n",
              "75%       44.000000      1.00000      3.000000        2.000000  \n",
              "max       58.000000      1.00000     10.000000        4.000000  "
            ],
            "text/html": [
              "\n",
              "  <div id=\"df-83cdbf92-378c-4ead-8098-833ca2126d0a\">\n",
              "    <div class=\"colab-df-container\">\n",
              "      <div>\n",
              "<style scoped>\n",
              "    .dataframe tbody tr th:only-of-type {\n",
              "        vertical-align: middle;\n",
              "    }\n",
              "\n",
              "    .dataframe tbody tr th {\n",
              "        vertical-align: top;\n",
              "    }\n",
              "\n",
              "    .dataframe thead th {\n",
              "        text-align: right;\n",
              "    }\n",
              "</style>\n",
              "<table border=\"1\" class=\"dataframe\">\n",
              "  <thead>\n",
              "    <tr style=\"text-align: right;\">\n",
              "      <th></th>\n",
              "      <th>status</th>\n",
              "      <th>created_at</th>\n",
              "      <th>cost</th>\n",
              "      <th>sale_price</th>\n",
              "      <th>num_of_item</th>\n",
              "      <th>age</th>\n",
              "      <th>gender</th>\n",
              "      <th>country</th>\n",
              "      <th>traffic_source</th>\n",
              "    </tr>\n",
              "  </thead>\n",
              "  <tbody>\n",
              "    <tr>\n",
              "      <th>count</th>\n",
              "      <td>49787.000000</td>\n",
              "      <td>49787.000000</td>\n",
              "      <td>49787.000000</td>\n",
              "      <td>49787.000000</td>\n",
              "      <td>49787.000000</td>\n",
              "      <td>49787.000000</td>\n",
              "      <td>49787.00000</td>\n",
              "      <td>49787.000000</td>\n",
              "      <td>49787.000000</td>\n",
              "    </tr>\n",
              "    <tr>\n",
              "      <th>mean</th>\n",
              "      <td>0.371944</td>\n",
              "      <td>405.212646</td>\n",
              "      <td>10492.287665</td>\n",
              "      <td>903.451363</td>\n",
              "      <td>1.752224</td>\n",
              "      <td>28.868399</td>\n",
              "      <td>0.49772</td>\n",
              "      <td>2.882680</td>\n",
              "      <td>0.690361</td>\n",
              "    </tr>\n",
              "    <tr>\n",
              "      <th>std</th>\n",
              "      <td>0.483329</td>\n",
              "      <td>291.905146</td>\n",
              "      <td>6852.293248</td>\n",
              "      <td>1315.353807</td>\n",
              "      <td>0.619736</td>\n",
              "      <td>17.046088</td>\n",
              "      <td>0.50000</td>\n",
              "      <td>2.580211</td>\n",
              "      <td>1.163376</td>\n",
              "    </tr>\n",
              "    <tr>\n",
              "      <th>min</th>\n",
              "      <td>0.000000</td>\n",
              "      <td>0.000000</td>\n",
              "      <td>0.000000</td>\n",
              "      <td>0.000000</td>\n",
              "      <td>0.000000</td>\n",
              "      <td>0.000000</td>\n",
              "      <td>0.00000</td>\n",
              "      <td>0.000000</td>\n",
              "      <td>0.000000</td>\n",
              "    </tr>\n",
              "    <tr>\n",
              "      <th>25%</th>\n",
              "      <td>0.000000</td>\n",
              "      <td>162.000000</td>\n",
              "      <td>4531.000000</td>\n",
              "      <td>92.000000</td>\n",
              "      <td>2.000000</td>\n",
              "      <td>14.000000</td>\n",
              "      <td>0.00000</td>\n",
              "      <td>1.000000</td>\n",
              "      <td>0.000000</td>\n",
              "    </tr>\n",
              "    <tr>\n",
              "      <th>50%</th>\n",
              "      <td>0.000000</td>\n",
              "      <td>343.000000</td>\n",
              "      <td>9730.000000</td>\n",
              "      <td>283.000000</td>\n",
              "      <td>2.000000</td>\n",
              "      <td>29.000000</td>\n",
              "      <td>0.00000</td>\n",
              "      <td>2.000000</td>\n",
              "      <td>0.000000</td>\n",
              "    </tr>\n",
              "    <tr>\n",
              "      <th>75%</th>\n",
              "      <td>1.000000</td>\n",
              "      <td>614.000000</td>\n",
              "      <td>15909.500000</td>\n",
              "      <td>1093.000000</td>\n",
              "      <td>2.000000</td>\n",
              "      <td>44.000000</td>\n",
              "      <td>1.00000</td>\n",
              "      <td>3.000000</td>\n",
              "      <td>2.000000</td>\n",
              "    </tr>\n",
              "    <tr>\n",
              "      <th>max</th>\n",
              "      <td>1.000000</td>\n",
              "      <td>1215.000000</td>\n",
              "      <td>24808.000000</td>\n",
              "      <td>6037.000000</td>\n",
              "      <td>3.000000</td>\n",
              "      <td>58.000000</td>\n",
              "      <td>1.00000</td>\n",
              "      <td>10.000000</td>\n",
              "      <td>4.000000</td>\n",
              "    </tr>\n",
              "  </tbody>\n",
              "</table>\n",
              "</div>\n",
              "      <button class=\"colab-df-convert\" onclick=\"convertToInteractive('df-83cdbf92-378c-4ead-8098-833ca2126d0a')\"\n",
              "              title=\"Convert this dataframe to an interactive table.\"\n",
              "              style=\"display:none;\">\n",
              "        \n",
              "  <svg xmlns=\"http://www.w3.org/2000/svg\" height=\"24px\"viewBox=\"0 0 24 24\"\n",
              "       width=\"24px\">\n",
              "    <path d=\"M0 0h24v24H0V0z\" fill=\"none\"/>\n",
              "    <path d=\"M18.56 5.44l.94 2.06.94-2.06 2.06-.94-2.06-.94-.94-2.06-.94 2.06-2.06.94zm-11 1L8.5 8.5l.94-2.06 2.06-.94-2.06-.94L8.5 2.5l-.94 2.06-2.06.94zm10 10l.94 2.06.94-2.06 2.06-.94-2.06-.94-.94-2.06-.94 2.06-2.06.94z\"/><path d=\"M17.41 7.96l-1.37-1.37c-.4-.4-.92-.59-1.43-.59-.52 0-1.04.2-1.43.59L10.3 9.45l-7.72 7.72c-.78.78-.78 2.05 0 2.83L4 21.41c.39.39.9.59 1.41.59.51 0 1.02-.2 1.41-.59l7.78-7.78 2.81-2.81c.8-.78.8-2.07 0-2.86zM5.41 20L4 18.59l7.72-7.72 1.47 1.35L5.41 20z\"/>\n",
              "  </svg>\n",
              "      </button>\n",
              "      \n",
              "  <style>\n",
              "    .colab-df-container {\n",
              "      display:flex;\n",
              "      flex-wrap:wrap;\n",
              "      gap: 12px;\n",
              "    }\n",
              "\n",
              "    .colab-df-convert {\n",
              "      background-color: #E8F0FE;\n",
              "      border: none;\n",
              "      border-radius: 50%;\n",
              "      cursor: pointer;\n",
              "      display: none;\n",
              "      fill: #1967D2;\n",
              "      height: 32px;\n",
              "      padding: 0 0 0 0;\n",
              "      width: 32px;\n",
              "    }\n",
              "\n",
              "    .colab-df-convert:hover {\n",
              "      background-color: #E2EBFA;\n",
              "      box-shadow: 0px 1px 2px rgba(60, 64, 67, 0.3), 0px 1px 3px 1px rgba(60, 64, 67, 0.15);\n",
              "      fill: #174EA6;\n",
              "    }\n",
              "\n",
              "    [theme=dark] .colab-df-convert {\n",
              "      background-color: #3B4455;\n",
              "      fill: #D2E3FC;\n",
              "    }\n",
              "\n",
              "    [theme=dark] .colab-df-convert:hover {\n",
              "      background-color: #434B5C;\n",
              "      box-shadow: 0px 1px 3px 1px rgba(0, 0, 0, 0.15);\n",
              "      filter: drop-shadow(0px 1px 2px rgba(0, 0, 0, 0.3));\n",
              "      fill: #FFFFFF;\n",
              "    }\n",
              "  </style>\n",
              "\n",
              "      <script>\n",
              "        const buttonEl =\n",
              "          document.querySelector('#df-83cdbf92-378c-4ead-8098-833ca2126d0a button.colab-df-convert');\n",
              "        buttonEl.style.display =\n",
              "          google.colab.kernel.accessAllowed ? 'block' : 'none';\n",
              "\n",
              "        async function convertToInteractive(key) {\n",
              "          const element = document.querySelector('#df-83cdbf92-378c-4ead-8098-833ca2126d0a');\n",
              "          const dataTable =\n",
              "            await google.colab.kernel.invokeFunction('convertToInteractive',\n",
              "                                                     [key], {});\n",
              "          if (!dataTable) return;\n",
              "\n",
              "          const docLinkHtml = 'Like what you see? Visit the ' +\n",
              "            '<a target=\"_blank\" href=https://colab.research.google.com/notebooks/data_table.ipynb>data table notebook</a>'\n",
              "            + ' to learn more about interactive tables.';\n",
              "          element.innerHTML = '';\n",
              "          dataTable['output_type'] = 'display_data';\n",
              "          await google.colab.output.renderOutput(dataTable, element);\n",
              "          const docLink = document.createElement('div');\n",
              "          docLink.innerHTML = docLinkHtml;\n",
              "          element.appendChild(docLink);\n",
              "        }\n",
              "      </script>\n",
              "    </div>\n",
              "  </div>\n",
              "  "
            ]
          },
          "metadata": {},
          "execution_count": 17
        }
      ],
      "source": [
        "#melihat deskripsi pada dataframe\n",
        "df.describe()"
      ]
    },
    {
      "cell_type": "code",
      "execution_count": null,
      "metadata": {
        "colab": {
          "base_uri": "https://localhost:8080/"
        },
        "id": "m2T3eZyOvNQS",
        "outputId": "0d4680f3-a63c-49d1-fef0-e875edf5e826"
      },
      "outputs": [
        {
          "output_type": "stream",
          "name": "stdout",
          "text": [
            "1.0\n",
            "3.0\n",
            "2.0\n",
            "-2.0 6.0\n"
          ]
        }
      ],
      "source": [
        "#menghitung IQR, Lower Whisker dan upper whisker\n",
        "Q1=df['country'].quantile(0.25)\n",
        "Q3=df['country'].quantile(0.75)\n",
        "IQR=Q3-Q1\n",
        "print(Q1)\n",
        "print(Q3)\n",
        "print(IQR)\n",
        "Lower_Whisker = Q1 - 1.5*IQR\n",
        "Upper_Whisker = Q3+1.5*IQR\n",
        "print(Lower_Whisker, Upper_Whisker)"
      ]
    },
    {
      "cell_type": "code",
      "execution_count": null,
      "metadata": {
        "id": "aPM38LNUyIPo"
      },
      "outputs": [],
      "source": [
        "#mengubah nilai pencilan\n",
        "df = df[df['country'] < Upper_Whisker]"
      ]
    },
    {
      "cell_type": "code",
      "execution_count": null,
      "metadata": {
        "colab": {
          "base_uri": "https://localhost:8080/",
          "height": 374
        },
        "id": "smEWlGONyTk7",
        "outputId": "df0abf65-c4e4-4d9d-803b-63edb8d2c81b"
      },
      "outputs": [
        {
          "output_type": "display_data",
          "data": {
            "text/plain": [
              "<Figure size 432x432 with 1 Axes>"
            ],
            "image/png": "[encoded data removed]"
          },
          "metadata": {
            "needs_background": "light"
          }
        }
      ],
      "source": [
        "#visualisasi outlier di kolom country\n",
        "df['country'].plot(kind=\"box\", figsize=(6, 6))\n",
        "plt.grid(False)\n",
        "plt.show()"
      ]
    },
    {
      "cell_type": "code",
      "execution_count": null,
      "metadata": {
        "colab": {
          "base_uri": "https://localhost:8080/"
        },
        "id": "5scxK1VByhBS",
        "outputId": "82e4e8b0-fb36-48de-c5f9-a6ea4b8d8c31"
      },
      "outputs": [
        {
          "output_type": "stream",
          "name": "stdout",
          "text": [
            "1.0\n",
            "2.0\n",
            "1.0\n",
            "-0.5 3.5\n"
          ]
        }
      ],
      "source": [
        "#menghitung IQR, Lower Whisker dan upper whisker\n",
        "Q1=df['num_of_item'].quantile(0.25)\n",
        "Q3=df['num_of_item'].quantile(0.75)\n",
        "IQR=Q3-Q1\n",
        "print(Q1)\n",
        "print(Q3)\n",
        "print(IQR)\n",
        "Lower_Whisker = Q1 - 1.5*IQR\n",
        "Upper_Whisker = Q3+1.5*IQR\n",
        "print(Lower_Whisker, Upper_Whisker)"
      ]
    },
    {
      "cell_type": "code",
      "execution_count": null,
      "metadata": {
        "id": "rybBkdAmyo4j"
      },
      "outputs": [],
      "source": [
        "#mengubah nilai pencilan\n",
        "df = df[df['num_of_item'] < Upper_Whisker]\n",
        "df = df[df['num_of_item'] > Lower_Whisker]"
      ]
    },
    {
      "cell_type": "code",
      "execution_count": null,
      "metadata": {
        "colab": {
          "base_uri": "https://localhost:8080/",
          "height": 375
        },
        "id": "E62KcnYPytmO",
        "outputId": "f669de1b-ee23-4302-be96-04c0345f3b95"
      },
      "outputs": [
        {
          "output_type": "display_data",
          "data": {
            "text/plain": [
              "<Figure size 432x432 with 1 Axes>"
            ],
            "image/png": "[encoded data removed]"
          },
          "metadata": {
            "needs_background": "light"
          }
        }
      ],
      "source": [
        "#visualisasi outlier di kolom brand\n",
        "df['num_of_item'].plot(kind=\"box\", figsize=(6, 6))\n",
        "plt.grid(False)\n",
        "plt.show()"
      ]
    },
    {
      "cell_type": "code",
      "execution_count": null,
      "metadata": {
        "colab": {
          "base_uri": "https://localhost:8080/",
          "height": 206
        },
        "id": "mTAi6uOWZFFm",
        "outputId": "bf823c32-e350-4469-86ce-6e63043139d8"
      },
      "outputs": [
        {
          "output_type": "execute_result",
          "data": {
            "text/plain": [
              "     status  created_at      cost  sale_price  num_of_item       age  \\\n",
              "0 -0.769878   -1.387356 -1.530144   -0.687054    -2.824706 -1.693698   \n",
              "1  1.298907   -1.383934 -1.529999   -0.686294    -1.211694 -1.693698   \n",
              "2  1.298907   -1.380513 -1.529853   -0.685535     0.401318 -1.635018   \n",
              "3  1.298907   -1.377091 -1.529707   -0.684776    -1.211694 -1.576338   \n",
              "4 -0.769878   -1.373670 -1.529561   -0.684016    -2.824706 -1.517658   \n",
              "\n",
              "     gender   country  traffic_source  \n",
              "0 -0.993296 -1.552147       -0.594005  \n",
              "1 -0.993296 -1.552147       -0.594005  \n",
              "2 -0.993296 -0.721750       -0.594005  \n",
              "3 -0.993296 -0.721750       -0.594005  \n",
              "4 -0.993296 -0.721750       -0.594005  "
            ],
            "text/html": [
              "\n",
              "  <div id=\"df-fcd06eb1-1cf2-4260-9b57-6331607e42b7\">\n",
              "    <div class=\"colab-df-container\">\n",
              "      <div>\n",
              "<style scoped>\n",
              "    .dataframe tbody tr th:only-of-type {\n",
              "        vertical-align: middle;\n",
              "    }\n",
              "\n",
              "    .dataframe tbody tr th {\n",
              "        vertical-align: top;\n",
              "    }\n",
              "\n",
              "    .dataframe thead th {\n",
              "        text-align: right;\n",
              "    }\n",
              "</style>\n",
              "<table border=\"1\" class=\"dataframe\">\n",
              "  <thead>\n",
              "    <tr style=\"text-align: right;\">\n",
              "      <th></th>\n",
              "      <th>status</th>\n",
              "      <th>created_at</th>\n",
              "      <th>cost</th>\n",
              "      <th>sale_price</th>\n",
              "      <th>num_of_item</th>\n",
              "      <th>age</th>\n",
              "      <th>gender</th>\n",
              "      <th>country</th>\n",
              "      <th>traffic_source</th>\n",
              "    </tr>\n",
              "  </thead>\n",
              "  <tbody>\n",
              "    <tr>\n",
              "      <th>0</th>\n",
              "      <td>-0.769878</td>\n",
              "      <td>-1.387356</td>\n",
              "      <td>-1.530144</td>\n",
              "      <td>-0.687054</td>\n",
              "      <td>-2.824706</td>\n",
              "      <td>-1.693698</td>\n",
              "      <td>-0.993296</td>\n",
              "      <td>-1.552147</td>\n",
              "      <td>-0.594005</td>\n",
              "    </tr>\n",
              "    <tr>\n",
              "      <th>1</th>\n",
              "      <td>1.298907</td>\n",
              "      <td>-1.383934</td>\n",
              "      <td>-1.529999</td>\n",
              "      <td>-0.686294</td>\n",
              "      <td>-1.211694</td>\n",
              "      <td>-1.693698</td>\n",
              "      <td>-0.993296</td>\n",
              "      <td>-1.552147</td>\n",
              "      <td>-0.594005</td>\n",
              "    </tr>\n",
              "    <tr>\n",
              "      <th>2</th>\n",
              "      <td>1.298907</td>\n",
              "      <td>-1.380513</td>\n",
              "      <td>-1.529853</td>\n",
              "      <td>-0.685535</td>\n",
              "      <td>0.401318</td>\n",
              "      <td>-1.635018</td>\n",
              "      <td>-0.993296</td>\n",
              "      <td>-0.721750</td>\n",
              "      <td>-0.594005</td>\n",
              "    </tr>\n",
              "    <tr>\n",
              "      <th>3</th>\n",
              "      <td>1.298907</td>\n",
              "      <td>-1.377091</td>\n",
              "      <td>-1.529707</td>\n",
              "      <td>-0.684776</td>\n",
              "      <td>-1.211694</td>\n",
              "      <td>-1.576338</td>\n",
              "      <td>-0.993296</td>\n",
              "      <td>-0.721750</td>\n",
              "      <td>-0.594005</td>\n",
              "    </tr>\n",
              "    <tr>\n",
              "      <th>4</th>\n",
              "      <td>-0.769878</td>\n",
              "      <td>-1.373670</td>\n",
              "      <td>-1.529561</td>\n",
              "      <td>-0.684016</td>\n",
              "      <td>-2.824706</td>\n",
              "      <td>-1.517658</td>\n",
              "      <td>-0.993296</td>\n",
              "      <td>-0.721750</td>\n",
              "      <td>-0.594005</td>\n",
              "    </tr>\n",
              "  </tbody>\n",
              "</table>\n",
              "</div>\n",
              "      <button class=\"colab-df-convert\" onclick=\"convertToInteractive('df-fcd06eb1-1cf2-4260-9b57-6331607e42b7')\"\n",
              "              title=\"Convert this dataframe to an interactive table.\"\n",
              "              style=\"display:none;\">\n",
              "        \n",
              "  <svg xmlns=\"http://www.w3.org/2000/svg\" height=\"24px\"viewBox=\"0 0 24 24\"\n",
              "       width=\"24px\">\n",
              "    <path d=\"M0 0h24v24H0V0z\" fill=\"none\"/>\n",
              "    <path d=\"M18.56 5.44l.94 2.06.94-2.06 2.06-.94-2.06-.94-.94-2.06-.94 2.06-2.06.94zm-11 1L8.5 8.5l.94-2.06 2.06-.94-2.06-.94L8.5 2.5l-.94 2.06-2.06.94zm10 10l.94 2.06.94-2.06 2.06-.94-2.06-.94-.94-2.06-.94 2.06-2.06.94z\"/><path d=\"M17.41 7.96l-1.37-1.37c-.4-.4-.92-.59-1.43-.59-.52 0-1.04.2-1.43.59L10.3 9.45l-7.72 7.72c-.78.78-.78 2.05 0 2.83L4 21.41c.39.39.9.59 1.41.59.51 0 1.02-.2 1.41-.59l7.78-7.78 2.81-2.81c.8-.78.8-2.07 0-2.86zM5.41 20L4 18.59l7.72-7.72 1.47 1.35L5.41 20z\"/>\n",
              "  </svg>\n",
              "      </button>\n",
              "      \n",
              "  <style>\n",
              "    .colab-df-container {\n",
              "      display:flex;\n",
              "      flex-wrap:wrap;\n",
              "      gap: 12px;\n",
              "    }\n",
              "\n",
              "    .colab-df-convert {\n",
              "      background-color: #E8F0FE;\n",
              "      border: none;\n",
              "      border-radius: 50%;\n",
              "      cursor: pointer;\n",
              "      display: none;\n",
              "      fill: #1967D2;\n",
              "      height: 32px;\n",
              "      padding: 0 0 0 0;\n",
              "      width: 32px;\n",
              "    }\n",
              "\n",
              "    .colab-df-convert:hover {\n",
              "      background-color: #E2EBFA;\n",
              "      box-shadow: 0px 1px 2px rgba(60, 64, 67, 0.3), 0px 1px 3px 1px rgba(60, 64, 67, 0.15);\n",
              "      fill: #174EA6;\n",
              "    }\n",
              "\n",
              "    [theme=dark] .colab-df-convert {\n",
              "      background-color: #3B4455;\n",
              "      fill: #D2E3FC;\n",
              "    }\n",
              "\n",
              "    [theme=dark] .colab-df-convert:hover {\n",
              "      background-color: #434B5C;\n",
              "      box-shadow: 0px 1px 3px 1px rgba(0, 0, 0, 0.15);\n",
              "      filter: drop-shadow(0px 1px 2px rgba(0, 0, 0, 0.3));\n",
              "      fill: #FFFFFF;\n",
              "    }\n",
              "  </style>\n",
              "\n",
              "      <script>\n",
              "        const buttonEl =\n",
              "          document.querySelector('#df-fcd06eb1-1cf2-4260-9b57-6331607e42b7 button.colab-df-convert');\n",
              "        buttonEl.style.display =\n",
              "          google.colab.kernel.accessAllowed ? 'block' : 'none';\n",
              "\n",
              "        async function convertToInteractive(key) {\n",
              "          const element = document.querySelector('#df-fcd06eb1-1cf2-4260-9b57-6331607e42b7');\n",
              "          const dataTable =\n",
              "            await google.colab.kernel.invokeFunction('convertToInteractive',\n",
              "                                                     [key], {});\n",
              "          if (!dataTable) return;\n",
              "\n",
              "          const docLinkHtml = 'Like what you see? Visit the ' +\n",
              "            '<a target=\"_blank\" href=https://colab.research.google.com/notebooks/data_table.ipynb>data table notebook</a>'\n",
              "            + ' to learn more about interactive tables.';\n",
              "          element.innerHTML = '';\n",
              "          dataTable['output_type'] = 'display_data';\n",
              "          await google.colab.output.renderOutput(dataTable, element);\n",
              "          const docLink = document.createElement('div');\n",
              "          docLink.innerHTML = docLinkHtml;\n",
              "          element.appendChild(docLink);\n",
              "        }\n",
              "      </script>\n",
              "    </div>\n",
              "  </div>\n",
              "  "
            ]
          },
          "metadata": {},
          "execution_count": 24
        }
      ],
      "source": [
        "#melakukan one hot encoder\n",
        "encoder = OneHotEncoder()\n",
        "encoder.fit(df.select_dtypes(include=\"object\"))\n",
        "X_onehot = pd.DataFrame(encoder.transform(df.select_dtypes(include=\"object\")).toarray(),columns=encoder.get_feature_names_out())\n",
        "\n",
        "X_preprocessed = pd.concat([df.select_dtypes(exclude=\"object\"), X_onehot],axis=1)\n",
        "\n",
        "scaler = StandardScaler()\n",
        "scaler.fit(X_preprocessed)\n",
        "X_scaled = pd.DataFrame(scaler.transform(X_preprocessed),columns=X_preprocessed.columns)\n",
        "\n",
        "X_scaled.head()"
      ]
    },
    {
      "cell_type": "markdown",
      "metadata": {
        "id": "0CnZbUuKWNFi"
      },
      "source": [
        "# 5. Modelling"
      ]
    },
    {
      "cell_type": "code",
      "execution_count": null,
      "metadata": {
        "id": "ID4MuUjuXC9w"
      },
      "outputs": [],
      "source": [
        "#Membagi dataset menjadi data testing dan data training dengan perbandingan data 80% : 20%\n",
        "X = df.drop(['status'], axis=1)\n",
        "y = df['status']\n",
        "\n",
        "X_train, X_test, y_train, y_test = train_test_split(X, y,test_size=0.20, random_state=25)"
      ]
    },
    {
      "cell_type": "code",
      "source": [
        "#handle imbalance dataset\n",
        "sm = SMOTE(sampling_strategy='auto')\n",
        "X_r, y_r= sm.fit_resample(X_train, y_train)\n",
        "\n",
        "print('Original dataset shape is ', Counter(y_train))\n",
        "print('Resample dataset shape is ', Counter(y_r))"
      ],
      "metadata": {
        "id": "vFsggGwUejeP",
        "colab": {
          "base_uri": "https://localhost:8080/"
        },
        "outputId": "44cfddfb-6dc4-476e-e4d7-0341a3f6cc8d"
      },
      "execution_count": null,
      "outputs": [
        {
          "output_type": "stream",
          "name": "stdout",
          "text": [
            "Original dataset shape is  Counter({0: 20865, 1: 12318})\n",
            "Resample dataset shape is  Counter({0: 20865, 1: 20865})\n"
          ]
        }
      ]
    },
    {
      "cell_type": "code",
      "execution_count": null,
      "metadata": {
        "id": "MQX8EzLgZl5U"
      },
      "outputs": [],
      "source": [
        "#membuat model machine learning\n",
        "pipeline  = []\n",
        "pipeline.append(SVC())\n",
        "pipeline.append(KNeighborsClassifier())\n",
        "pipeline.append(DecisionTreeClassifier())"
      ]
    },
    {
      "cell_type": "code",
      "execution_count": null,
      "metadata": {
        "id": "Hmr9QTtlayxy"
      },
      "outputs": [],
      "source": [
        "# memasukkan model machine learning yang telah dibuat kedalam sebuah list\n",
        "model_list = ['SVM', 'KNN', 'Decision']\n",
        "acc_list = []\n",
        "auc_list = []\n",
        "cm_list = []\n",
        "report = []"
      ]
    },
    {
      "cell_type": "code",
      "source": [
        "for model in pipeline:\n",
        "  model.fit(X_r, y_r)\n",
        "  y_pred = model.predict(X_test)\n",
        "  acc_list.append(metrics.accuracy_score(y_test, y_pred))\n",
        "  fpr, tpr, _thresholds = metrics.roc_curve(y_test, y_pred)\n",
        "  auc_list.append(round(metrics.auc(fpr,tpr), 2))\n",
        "  cm_list.append(confusion_matrix(y_test, y_pred))"
      ],
      "metadata": {
        "id": "V83DHQmCdsRM"
      },
      "execution_count": null,
      "outputs": []
    },
    {
      "cell_type": "code",
      "execution_count": null,
      "metadata": {
        "id": "0KFGotv-c3Ii"
      },
      "outputs": [],
      "source": [
        "#membuat dataframe terkait informasi model\n",
        "result = pd.DataFrame({'Model' :model_list,\n",
        "                       'Accuracy' : acc_list,\n",
        "                       'AUC' : auc_list})"
      ]
    },
    {
      "cell_type": "code",
      "execution_count": null,
      "metadata": {
        "colab": {
          "base_uri": "https://localhost:8080/",
          "height": 143
        },
        "id": "fBwwhO-IdXnD",
        "outputId": "37a9ab0d-9f7d-4686-99d5-038960f76639"
      },
      "outputs": [
        {
          "output_type": "execute_result",
          "data": {
            "text/plain": [
              "      Model  Accuracy   AUC\n",
              "0       SVM  0.473481  0.50\n",
              "1       KNN  0.513018  0.50\n",
              "2  Decision  0.518322  0.51"
            ],
            "text/html": [
              "\n",
              "  <div id=\"df-2f50e465-211d-4ed1-baa7-02ae4807947e\">\n",
              "    <div class=\"colab-df-container\">\n",
              "      <div>\n",
              "<style scoped>\n",
              "    .dataframe tbody tr th:only-of-type {\n",
              "        vertical-align: middle;\n",
              "    }\n",
              "\n",
              "    .dataframe tbody tr th {\n",
              "        vertical-align: top;\n",
              "    }\n",
              "\n",
              "    .dataframe thead th {\n",
              "        text-align: right;\n",
              "    }\n",
              "</style>\n",
              "<table border=\"1\" class=\"dataframe\">\n",
              "  <thead>\n",
              "    <tr style=\"text-align: right;\">\n",
              "      <th></th>\n",
              "      <th>Model</th>\n",
              "      <th>Accuracy</th>\n",
              "      <th>AUC</th>\n",
              "    </tr>\n",
              "  </thead>\n",
              "  <tbody>\n",
              "    <tr>\n",
              "      <th>0</th>\n",
              "      <td>SVM</td>\n",
              "      <td>0.473481</td>\n",
              "      <td>0.50</td>\n",
              "    </tr>\n",
              "    <tr>\n",
              "      <th>1</th>\n",
              "      <td>KNN</td>\n",
              "      <td>0.513018</td>\n",
              "      <td>0.50</td>\n",
              "    </tr>\n",
              "    <tr>\n",
              "      <th>2</th>\n",
              "      <td>Decision</td>\n",
              "      <td>0.518322</td>\n",
              "      <td>0.51</td>\n",
              "    </tr>\n",
              "  </tbody>\n",
              "</table>\n",
              "</div>\n",
              "      <button class=\"colab-df-convert\" onclick=\"convertToInteractive('df-2f50e465-211d-4ed1-baa7-02ae4807947e')\"\n",
              "              title=\"Convert this dataframe to an interactive table.\"\n",
              "              style=\"display:none;\">\n",
              "        \n",
              "  <svg xmlns=\"http://www.w3.org/2000/svg\" height=\"24px\"viewBox=\"0 0 24 24\"\n",
              "       width=\"24px\">\n",
              "    <path d=\"M0 0h24v24H0V0z\" fill=\"none\"/>\n",
              "    <path d=\"M18.56 5.44l.94 2.06.94-2.06 2.06-.94-2.06-.94-.94-2.06-.94 2.06-2.06.94zm-11 1L8.5 8.5l.94-2.06 2.06-.94-2.06-.94L8.5 2.5l-.94 2.06-2.06.94zm10 10l.94 2.06.94-2.06 2.06-.94-2.06-.94-.94-2.06-.94 2.06-2.06.94z\"/><path d=\"M17.41 7.96l-1.37-1.37c-.4-.4-.92-.59-1.43-.59-.52 0-1.04.2-1.43.59L10.3 9.45l-7.72 7.72c-.78.78-.78 2.05 0 2.83L4 21.41c.39.39.9.59 1.41.59.51 0 1.02-.2 1.41-.59l7.78-7.78 2.81-2.81c.8-.78.8-2.07 0-2.86zM5.41 20L4 18.59l7.72-7.72 1.47 1.35L5.41 20z\"/>\n",
              "  </svg>\n",
              "      </button>\n",
              "      \n",
              "  <style>\n",
              "    .colab-df-container {\n",
              "      display:flex;\n",
              "      flex-wrap:wrap;\n",
              "      gap: 12px;\n",
              "    }\n",
              "\n",
              "    .colab-df-convert {\n",
              "      background-color: #E8F0FE;\n",
              "      border: none;\n",
              "      border-radius: 50%;\n",
              "      cursor: pointer;\n",
              "      display: none;\n",
              "      fill: #1967D2;\n",
              "      height: 32px;\n",
              "      padding: 0 0 0 0;\n",
              "      width: 32px;\n",
              "    }\n",
              "\n",
              "    .colab-df-convert:hover {\n",
              "      background-color: #E2EBFA;\n",
              "      box-shadow: 0px 1px 2px rgba(60, 64, 67, 0.3), 0px 1px 3px 1px rgba(60, 64, 67, 0.15);\n",
              "      fill: #174EA6;\n",
              "    }\n",
              "\n",
              "    [theme=dark] .colab-df-convert {\n",
              "      background-color: #3B4455;\n",
              "      fill: #D2E3FC;\n",
              "    }\n",
              "\n",
              "    [theme=dark] .colab-df-convert:hover {\n",
              "      background-color: #434B5C;\n",
              "      box-shadow: 0px 1px 3px 1px rgba(0, 0, 0, 0.15);\n",
              "      filter: drop-shadow(0px 1px 2px rgba(0, 0, 0, 0.3));\n",
              "      fill: #FFFFFF;\n",
              "    }\n",
              "  </style>\n",
              "\n",
              "      <script>\n",
              "        const buttonEl =\n",
              "          document.querySelector('#df-2f50e465-211d-4ed1-baa7-02ae4807947e button.colab-df-convert');\n",
              "        buttonEl.style.display =\n",
              "          google.colab.kernel.accessAllowed ? 'block' : 'none';\n",
              "\n",
              "        async function convertToInteractive(key) {\n",
              "          const element = document.querySelector('#df-2f50e465-211d-4ed1-baa7-02ae4807947e');\n",
              "          const dataTable =\n",
              "            await google.colab.kernel.invokeFunction('convertToInteractive',\n",
              "                                                     [key], {});\n",
              "          if (!dataTable) return;\n",
              "\n",
              "          const docLinkHtml = 'Like what you see? Visit the ' +\n",
              "            '<a target=\"_blank\" href=https://colab.research.google.com/notebooks/data_table.ipynb>data table notebook</a>'\n",
              "            + ' to learn more about interactive tables.';\n",
              "          element.innerHTML = '';\n",
              "          dataTable['output_type'] = 'display_data';\n",
              "          await google.colab.output.renderOutput(dataTable, element);\n",
              "          const docLink = document.createElement('div');\n",
              "          docLink.innerHTML = docLinkHtml;\n",
              "          element.appendChild(docLink);\n",
              "        }\n",
              "      </script>\n",
              "    </div>\n",
              "  </div>\n",
              "  "
            ]
          },
          "metadata": {},
          "execution_count": 31
        }
      ],
      "source": [
        "#akurasi model\n",
        "result"
      ]
    },
    {
      "cell_type": "code",
      "execution_count": null,
      "metadata": {
        "colab": {
          "base_uri": "https://localhost:8080/",
          "height": 482
        },
        "id": "vZY85r3SrX-V",
        "outputId": "192d2f06-b59b-4c32-cfb2-0fa487d35666"
      },
      "outputs": [
        {
          "output_type": "display_data",
          "data": {
            "text/plain": [
              "<Figure size 216x144 with 2 Axes>"
            ],
            "image/png": "[encoded data removed]"
          },
          "metadata": {
            "needs_background": "light"
          }
        },
        {
          "output_type": "display_data",
          "data": {
            "text/plain": [
              "<Figure size 216x144 with 2 Axes>"
            ],
            "image/png": "[encoded data removed]"
          },
          "metadata": {
            "needs_background": "light"
          }
        },
        {
          "output_type": "display_data",
          "data": {
            "text/plain": [
              "<Figure size 216x144 with 2 Axes>"
            ],
            "image/png": "[encoded data removed]"
          },
          "metadata": {
            "needs_background": "light"
          }
        }
      ],
      "source": [
        "#Visualisasi hasil klasifikasi\n",
        "for model in cm_list:\n",
        "  f, ax = plt.subplots(figsize=(3,2))\n",
        "  sns.heatmap(model, annot=True, fmt=\".0f\", ax=ax)\n",
        "  plt.xlabel(\"y_head\")\n",
        "  plt.ylabel(\"y_true\")\n",
        "  plt.show()"
      ]
    },
    {
      "cell_type": "markdown",
      "source": [
        "** Insight **\n",
        "- dataset yang digunakan untuk pelatihan dan testing menggunakan perbandingan 80:20\n",
        "- Pada modelling machine learining dilakukan handling imbalance dataset menggunakan SMOTE karena label dataset complete jumlahnya 2x lebih banyak daripada label dataset cancel\n",
        "Algoritma yang dipakai adalah SVM, KNN dan decision tree\n",
        "- Algoritma yang paling bagus akurasinya dalam mengklasifikasikan product cancel adalah decision tree"
      ],
      "metadata": {
        "id": "IYSSqhxLdtpE"
      }
    }
  ],
  "metadata": {
    "colab": {
      "collapsed_sections": [],
      "name": "Department Sales - Klasifikasi produk cancel.ipynb",
      "provenance": []
    },
    "kernelspec": {
      "display_name": "Python 3",
      "name": "python3"
    },
    "language_info": {
      "name": "python"
    }
  },
  "nbformat": 4,
  "nbformat_minor": 0
}